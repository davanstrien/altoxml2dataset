{
 "cells": [
  {
   "cell_type": "code",
   "execution_count": null,
   "metadata": {},
   "outputs": [],
   "source": [
    "# | default_exp europena"
   ]
  },
  {
   "cell_type": "markdown",
   "metadata": {},
   "source": [
    "# Europeana newspaper parsers\n",
    "\n",
    "> Parsers for Europena newspapers"
   ]
  },
  {
   "cell_type": "markdown",
   "metadata": {},
   "source": [
    "The goal of this code is to create a pipeline for parsing the [Europeana newspaper bulk downloads](https://pro.europeana.eu/page/iiif#download) and converting the orignal ALTO XML formats + metadata into a format that can be ingested easily into the 🤗 [datasets](https://huggingface.co/docs/datasets/index) library and cons\n",
    "\n",
    " for #BigLAM. This code is mostly colated from other places. We used [nbdev](https://nbdev.fast.ai/) to give our code some:\n",
    "\n",
    "- basic tests\n",
    "- some basic documentation \n",
    "- make it easily instalable as a Python package. \n",
    "\n",
    "**note** some of these parsers are likely to be more generic but we'll develop them for europena newspapers for now. Once they have been tested on other collections they may be moved to a core module. "
   ]
  },
  {
   "cell_type": "code",
   "execution_count": null,
   "metadata": {},
   "outputs": [],
   "source": [
    "# |hide\n",
    "from nbdev.showdoc import *"
   ]
  },
  {
   "cell_type": "code",
   "execution_count": null,
   "metadata": {},
   "outputs": [],
   "source": [
    "# |export\n",
    "import io\n",
    "import os\n",
    "import xml\n",
    "import xml.etree.ElementTree as ET\n",
    "from concurrent.futures import ProcessPoolExecutor, as_completed\n",
    "# from dataclaises import asdict, dataclass, field\n",
    "from functools import lru_cache\n",
    "from pathlib import Path\n",
    "from statistics import mean, stdev\n",
    "from attrs import asdict\n",
    "\n",
    "from typing import Any, Dict, Iterable, List, Optional, Union\n",
    "from attrs import define, field\n",
    "\n",
    "import xmltodict\n",
    "from toolz import partition_all\n",
    "from tqdm.auto import tqdm"
   ]
  },
  {
   "cell_type": "markdown",
   "metadata": {},
   "source": [
    "## ALTO Processing\n",
    "\n",
    "ALTO is an XML format commonly used to store the outout of Opitcal Character Recogniton software. "
   ]
  },
  {
   "cell_type": "markdown",
   "metadata": {},
   "source": [
    "### Create test data\n",
    "\n",
    "A subset of data is included in the GitHub repo for testing "
   ]
  },
  {
   "cell_type": "code",
   "execution_count": null,
   "metadata": {},
   "outputs": [],
   "source": [
    "# # |slow\n",
    "# !mkdir test_data\n",
    "# !aria2c -x 4 -d test_data/ ftp://download.europeana.eu/newspapers/fulltext/alto/9200396.zip\n",
    "# !unzip test_data/*.zip -d test_data/\n",
    "# !rm test_data/*.zip\n",
    "# !mkdir test_data/metadata\n",
    "# !aria2c -x 4 -d test_data/metadata/ ftp://download.europeana.eu/newspapers/metadata/9200396.zip\n",
    "# !unzip test_data/metadata/*.zip -d test_data/metadata/\n",
    "# !rm test_data/metadata/*.zip"
   ]
  },
  {
   "cell_type": "markdown",
   "metadata": {},
   "source": [
    "We'll create a list of ALTO XML files we can use for testing as we go"
   ]
  },
  {
   "cell_type": "code",
   "execution_count": null,
   "metadata": {},
   "outputs": [
    {
     "data": {
      "text/plain": [
       "106562"
      ]
     },
     "execution_count": null,
     "metadata": {},
     "output_type": "execute_result"
    }
   ],
   "source": [
    "alto_xmls = [f for f in Path(\"test_data\").rglob(\"*.xml\") if \"edm\" not in f.name]\n",
    "len(alto_xmls)"
   ]
  },
  {
   "cell_type": "markdown",
   "metadata": {},
   "source": [
    "## Parse ALTO XMLs\n",
    "\n",
    "The first step is to parse the xml file from disk into a elementree that we can use for other takss\n",
    "stolen from; https://github.com/cneud/alto-tools/blob/master/alto_tools.py"
   ]
  },
  {
   "cell_type": "code",
   "execution_count": null,
   "metadata": {},
   "outputs": [],
   "source": [
    "# |export\n",
    "from loguru import logger"
   ]
  },
  {
   "cell_type": "code",
   "execution_count": null,
   "metadata": {},
   "outputs": [],
   "source": [
    "# |export\n",
    "def alto_parse(alto: Union[str, Path], **kwargs):\n",
    "    \"\"\"Convert ALTO xml file to element tree\"\"\"\n",
    "    try:\n",
    "        xml = ET.parse(alto, **kwargs)\n",
    "    except ET.ParseError as e:\n",
    "        logger.error(f\"Parser Error in file '{alto}': {e}\")\n",
    "        return None\n",
    "    # Register ALTO namespaces\n",
    "    # https://www.loc.gov/standards/alto/ | https://github.com/altoxml\n",
    "    # alto-bnf (unoffical) BnF ALTO dialect - for further info see\n",
    "    # http://bibnum.bnf.fr/alto_prod/documentation/alto_prod.html\n",
    "    namespace = {\n",
    "        \"alto-1\": \"http://schema.ccs-gmbh.com/ALTO\",\n",
    "        \"alto-2\": \"http://www.loc.gov/standards/alto/ns-v2#\",\n",
    "        \"alto-3\": \"http://www.loc.gov/standards/alto/ns-v3#\",\n",
    "        \"alto-4\": \"http://www.loc.gov/standards/alto/ns-v4#\",\n",
    "        \"alto-5\": \"http://schema.ccs-gmbh.com/docworks/version20/alto-1-4.xsd\",\n",
    "        \"alto-bnf\": \"http://bibnum.bnf.fr/ns/alto_prod\",\n",
    "    }\n",
    "    # Extract namespace from document root\n",
    "    if \"http://\" in str(xml.getroot().tag.split(\"}\")[0].strip(\"{\")):\n",
    "        xmlns = xml.getroot().tag.split(\"}\")[0].strip(\"{\")\n",
    "    else:\n",
    "        try:\n",
    "            ns = xml.getroot().attrib\n",
    "            xmlns = str(ns).split(\" \")[1].strip(\"}\").strip(\"'\")\n",
    "        except IndexError:\n",
    "            logger.warning(f\"File {alto.name}: no namespace declaration found.\")\n",
    "            xmlns = \"no_namespace_found\"\n",
    "    if xmlns in namespace.values():\n",
    "        return alto, xml, xmlns\n",
    "    else:\n",
    "        logger.warning(f\"File {alto.name}: namespace {xmlns} is not registered.\")"
   ]
  },
  {
   "cell_type": "code",
   "execution_count": null,
   "metadata": {},
   "outputs": [
    {
     "data": {
      "text/plain": [
       "Path('test_data/9200396/BibliographicResource_3000118436002/88.xml')"
      ]
     },
     "execution_count": null,
     "metadata": {},
     "output_type": "execute_result"
    }
   ],
   "source": [
    "alto_xmls[0]"
   ]
  },
  {
   "cell_type": "code",
   "execution_count": null,
   "metadata": {},
   "outputs": [],
   "source": [
    "fname, xml, ns = alto_parse(alto_xmls[0])"
   ]
  },
  {
   "cell_type": "code",
   "execution_count": null,
   "metadata": {},
   "outputs": [
    {
     "name": "stderr",
     "output_type": "stream",
     "text": [
      "2022-09-24 16:39:07.144 | ERROR    | __main__:alto_parse:7 - Parser Error in file 'fake.xml': no element found: line 1, column 0\n"
     ]
    }
   ],
   "source": [
    "assert all([fname, xml, ns])\n",
    "Path(\"fake.xml\").touch(exist_ok=True)\n",
    "bad_xml = alto_parse(Path(\"fake.xml\"))\n",
    "# assert isinstance(bad_xml, None)"
   ]
  },
  {
   "cell_type": "code",
   "execution_count": null,
   "metadata": {},
   "outputs": [],
   "source": [
    "# |export\n",
    "def get_alto_text(xml, xmlns, join_lines=True):\n",
    "    \"\"\"Extract text content from ALTO xml file\"\"\"\n",
    "    all_text = []\n",
    "    all_wc = []\n",
    "    # Find all <TextLine> elements\n",
    "    for lines in xml.iterfind(\".//{%s}TextLine\" % xmlns):\n",
    "        # Find all <String> elements\n",
    "        for line in lines.findall(\"{%s}String\" % xmlns):\n",
    "            wc = line.attrib[\"WC\"]\n",
    "            if wc is not None:\n",
    "                all_wc.append(float(wc))\n",
    "            # Check if there are no hyphenated words\n",
    "            if \"SUBS_CONTENT\" not in line.attrib and \"SUBS_TYPE\" not in line.attrib:\n",
    "                # Get value of attribute @CONTENT from all <String> elements\n",
    "                text = line.attrib.get(\"CONTENT\")  # + ' '\n",
    "            elif \"HypPart1\" in line.attrib.get(\"SUBS_TYPE\"):\n",
    "                text = line.attrib.get(\"SUBS_CONTENT\")  # + ' '\n",
    "                if \"HypPart2\" in line.attrib.get(\"SUBS_TYPE\"):\n",
    "                    pass\n",
    "            all_text.append(text)\n",
    "    if all_wc:\n",
    "        mean_ocr = mean(all_wc)\n",
    "    if len(all_wc) > 2:\n",
    "        std_ocr = stdev(all_wc)\n",
    "    else:\n",
    "        mean_ocr = None\n",
    "        std_ocr = None\n",
    "    return \" \".join(all_text), mean_ocr, std_ocr"
   ]
  },
  {
   "cell_type": "code",
   "execution_count": null,
   "metadata": {},
   "outputs": [],
   "source": [
    "text, wc, std_ocr = get_alto_text(xml, ns)\n",
    "assert all([text, wc, std_ocr])\n",
    "assert isinstance(text, str)\n",
    "assert isinstance(wc, float)\n",
    "assert isinstance(std_ocr, float)"
   ]
  },
  {
   "cell_type": "code",
   "execution_count": null,
   "metadata": {},
   "outputs": [],
   "source": [
    "# |export\n",
    "def alto_illustrations(xml, xmlns):\n",
    "    \"\"\"Extract bounding boxes of illustration from ALTO xml file\"\"\"\n",
    "    # Find all <Illustration> elements\n",
    "    bounding_boxes = []\n",
    "    for illustration in xml.iterfind(\".//{%s}Illustration\" % xmlns):\n",
    "        # Get @ID of <Illustration> element\n",
    "        illustration_id = illustration.attrib.get(\"ID\")\n",
    "        # Get coordinates of <Illustration> element\n",
    "        illustration_coords = list(\n",
    "            map(\n",
    "                float,\n",
    "                (\n",
    "                    illustration.attrib.get(\"HEIGHT\"),\n",
    "                    illustration.attrib.get(\"WIDTH\"),\n",
    "                    illustration.attrib.get(\"VPOS\"),\n",
    "                    illustration.attrib.get(\"HPOS\"),\n",
    "                ),\n",
    "            )\n",
    "        )\n",
    "        bounding_boxes.append(illustration_coords)\n",
    "    return bounding_boxes"
   ]
  },
  {
   "cell_type": "code",
   "execution_count": null,
   "metadata": {},
   "outputs": [
    {
     "data": {
      "text/plain": [
       "[]"
      ]
     },
     "execution_count": null,
     "metadata": {},
     "output_type": "execute_result"
    }
   ],
   "source": [
    "alto_illustrations(xml, ns)"
   ]
  },
  {
   "cell_type": "code",
   "execution_count": null,
   "metadata": {},
   "outputs": [],
   "source": [
    "def get_illustrations(xmls):\n",
    "    for file in xmls:\n",
    "        with open(file, \"r\") as f:\n",
    "            for line in f:\n",
    "                if \"Illustration\" in line:\n",
    "                    yield file\n",
    "                    break"
   ]
  },
  {
   "cell_type": "code",
   "execution_count": null,
   "metadata": {},
   "outputs": [],
   "source": [
    "from toolz import take"
   ]
  },
  {
   "cell_type": "code",
   "execution_count": null,
   "metadata": {},
   "outputs": [],
   "source": [
    "illustration_xmls = list(take(10, get_illustrations(alto_xmls)))"
   ]
  },
  {
   "cell_type": "code",
   "execution_count": null,
   "metadata": {},
   "outputs": [
    {
     "data": {
      "text/plain": [
       "[Path('test_data/9200396/BibliographicResource_3000118436002/1.xml'),\n",
       " Path('test_data/9200396/BibliographicResource_3000118435687/76.xml'),\n",
       " Path('test_data/9200396/BibliographicResource_3000118435687/3.xml'),\n",
       " Path('test_data/9200396/BibliographicResource_3000118435687/1.xml'),\n",
       " Path('test_data/9200396/BibliographicResource_3000118436230/76.xml'),\n",
       " Path('test_data/9200396/BibliographicResource_3000118436230/9.xml'),\n",
       " Path('test_data/9200396/BibliographicResource_3000118436230/20.xml'),\n",
       " Path('test_data/9200396/BibliographicResource_3000118436230/33.xml'),\n",
       " Path('test_data/9200396/BibliographicResource_3000118436230/32.xml'),\n",
       " Path('test_data/9200396/BibliographicResource_3000118436230/1.xml')]"
      ]
     },
     "execution_count": null,
     "metadata": {},
     "output_type": "execute_result"
    }
   ],
   "source": [
    "illustration_xmls"
   ]
  },
  {
   "cell_type": "code",
   "execution_count": null,
   "metadata": {},
   "outputs": [],
   "source": [
    "for file in illustration_xmls:\n",
    "    fname, xml, ns = alto_parse(file)\n",
    "    bounding_boxes = alto_illustrations(xml, ns)\n",
    "    assert bounding_boxes\n",
    "    for box in bounding_boxes:\n",
    "        assert isinstance(box, list)\n",
    "        assert len(box) == 4\n",
    "        assert all(isinstance(x, float) for x in box)\n"
   ]
  },
  {
   "cell_type": "markdown",
   "metadata": {},
   "source": [
    "## Newspaper page container \n",
    "\n"
   ]
  },
  {
   "cell_type": "code",
   "execution_count": null,
   "metadata": {},
   "outputs": [],
   "source": [
    "#|export\n",
    "@define(slots=True)\n",
    "class NewspaperPageAlto:\n",
    "    fname: Union[str, Path]\n",
    "    text: Optional[str]\n",
    "    mean_ocr: Optional[float]\n",
    "    std_ocr: Optional[float]\n",
    "    bounding_boxes: List[Union[float, None]]\n",
    "    item_id: str = field(init=False)\n",
    "    def _get_id(self):\n",
    "        return \"/\".join(Path(self.fname).parts[-3:-1])\n",
    "\n",
    "    def __attrs_post_init__(self):\n",
    "        self.item_id = self._get_id()\n"
   ]
  },
  {
   "cell_type": "code",
   "execution_count": null,
   "metadata": {},
   "outputs": [],
   "source": [
    "# |export\n",
    "def parse_newspaper_page(xml_fname: Union[str, Path]):\n",
    "    fname, xml, ns = alto_parse(xml_fname)\n",
    "    text, wc, std_ocr = get_alto_text(xml, ns)\n",
    "    bounding_boxes = alto_illustrations(xml, ns)\n",
    "    return NewspaperPageAlto(xml_fname, text, wc, std_ocr, bounding_boxes)"
   ]
  },
  {
   "cell_type": "code",
   "execution_count": null,
   "metadata": {},
   "outputs": [],
   "source": [
    "page = parse_newspaper_page(alto_xmls[20])"
   ]
  },
  {
   "cell_type": "code",
   "execution_count": null,
   "metadata": {},
   "outputs": [],
   "source": [
    "assert page\n",
    "assert isinstance(page, NewspaperPageAlto)\n",
    "assert isinstance(page.text, (str, None))\n",
    "assert isinstance(page.mean_ocr, (float, None))\n",
    "assert isinstance(page.std_ocr, (float, None))\n",
    "assert isinstance(page.bounding_boxes, List)\n",
    "assert isinstance(page.item_id, str)"
   ]
  },
  {
   "cell_type": "code",
   "execution_count": null,
   "metadata": {},
   "outputs": [
    {
     "data": {
      "text/plain": [
       "NewspaperPageAlto(fname=Path('test_data/9200396/BibliographicResource_3000118436002/9.xml'), text=\"ïg. Héctmlre . SSS du thrône & de légiflation dans le roïaume, l’extinâion des guerres entre le Souverain & les vaffaux , entre les provinces & les provinces provinces ; qu’ainfi fans entrer dans les motifs à ne juger que par l’événementles croifa- des ont épargné à la nation plus de fang qu’elles n’en ont fait répandre, qu’elles ont pofé la bafe & les fondemens de la tranquillité tranquillité intérieure de l’état. Je ne vous ferai pas remarquer que l’entreprife de Louis n’offroit point d’obftacles capables de ralentir fort ^ .courage & d’alarmer fa fagefl'e; qu’on a voit vû Godefroy de Bouillon , avec les débris d’une armée, amas fortuit de diverfes nations, nations, élever dans Jérufalem un thrône qui, vainqueur des Mufulmans , n’a péri que par Autres les di vidons & les perfidies des chrétiens, je réfl. fur les n’ajouterai point que Chypre, Conftantino- croifadesii pie, fournis à des princes de la communion A Q Q a lÂoûÊ latine, donnoit à Louis des facilités que n’eut , 77 g, p .. point Godefroid de Bouillon „. — 15. Déc, Le parallèle de Bajazet & de St, Louis, P- qu’on lit dans le panégyrique de ce Saint, eft un tableau dont tous les traits concou rent au triomphe de la religion du faint Roi. Les . panégyriftes des héros turcs & Chinois, ( & i! y en a aujourd’hui un bien grand nombre ) font priés d’en faire un qui puiffe lérvir de pendant à celui-ci. “ Que le fe&ateur de Mahomet déploie maintenant fes faites, il nous montrera l’Aile , l’Afrique, l’Afrique, l’Europe englouties par fes conquérons , & le thrône de fes Califes élevé fur les ruines fie l’apivers j il nous piontrera donc ce courage courage\", mean_ocr=0.5861000468510345, std_ocr=0.1977007715324908, bounding_boxes=[], item_id='9200396/BibliographicResource_3000118436002')"
      ]
     },
     "execution_count": null,
     "metadata": {},
     "output_type": "execute_result"
    }
   ],
   "source": [
    "page"
   ]
  },
  {
   "cell_type": "markdown",
   "metadata": {},
   "source": [
    "## Get metadata \n",
    "\n",
    "The next step is to create some functionality to get metadata for the items. There are two possible ways we can do this:\n",
    "- via the metadata download dumps\n",
    "- via the Europena API\n"
   ]
  },
  {
   "cell_type": "code",
   "execution_count": null,
   "metadata": {},
   "outputs": [],
   "source": [
    "metadata_examples = list(take(500, Path(\"test_data\").rglob(\"*edm.xml\")))"
   ]
  },
  {
   "cell_type": "code",
   "execution_count": null,
   "metadata": {},
   "outputs": [],
   "source": [
    "# |export\n",
    "@define(slots=True)\n",
    "class NewspaperPageMetadata:\n",
    "    metadata_xml_fname: Union[str, Path]\n",
    "    title: Optional[str]\n",
    "    date: Optional[str]\n",
    "    languages: Union[List[str], str, None]\n",
    "    item_iiif_url: Optional[str]\n",
    "    all_metadata_dict: Dict[Any, Any]\n",
    "\n",
    "    def __attrs_post_init__(self):\n",
    "        self.languages = (\n",
    "            self.languages.split(\",\")\n",
    "            if isinstance(self.languages, str)\n",
    "            else self.languages\n",
    "        )\n",
    "        self.title = self.title.split(\"-\")[0].strip(\" \")\n",
    "        self.metadata_xml_fname = str(self.metadata_xml_fname)"
   ]
  },
  {
   "cell_type": "code",
   "execution_count": null,
   "metadata": {},
   "outputs": [],
   "source": [
    "# |export\n",
    "def get_metadata_from_xml(xml_file: Union[Path, str]):\n",
    "    with open(xml_file, \"r\") as f:\n",
    "        xml = xmltodict.parse(f.read())\n",
    "    metadata = xml[\"rdf:RDF\"]\n",
    "    ProvidedCHO = metadata[\"edm:ProvidedCHO\"]\n",
    "    title = ProvidedCHO[\"dc:title\"]\n",
    "    data = ProvidedCHO[\"dcterms:issued\"]\n",
    "    languages = ProvidedCHO[\"dc:language\"]\n",
    "    iiif_url = metadata[\"ore:Aggregation\"][\"edm:isShownBy\"][\"@rdf:resource\"]\n",
    "    return NewspaperPageMetadata(xml_file, title, data, languages, iiif_url, metadata)"
   ]
  },
  {
   "cell_type": "code",
   "execution_count": null,
   "metadata": {},
   "outputs": [],
   "source": [
    "for metadata_xml in metadata_examples:\n",
    "    metadata = get_metadata_from_xml(metadata_xml)\n",
    "    assert metadata\n",
    "    assert isinstance(metadata.languages, (list, None))"
   ]
  },
  {
   "cell_type": "markdown",
   "metadata": {},
   "source": [
    "## Linking metadata and XML\n",
    "We need to be able to link from the data we got from the ALTO XML with our metadata and smush them together. We have our `page.item_id` attribute which will hopefully be sufficient to grab the related metadata file. "
   ]
  },
  {
   "cell_type": "code",
   "execution_count": null,
   "metadata": {},
   "outputs": [
    {
     "data": {
      "text/plain": [
       "'9200396/BibliographicResource_3000118436002'"
      ]
     },
     "execution_count": null,
     "metadata": {},
     "output_type": "execute_result"
    }
   ],
   "source": [
    "page.item_id"
   ]
  },
  {
   "cell_type": "code",
   "execution_count": null,
   "metadata": {},
   "outputs": [],
   "source": [
    "# |export\n",
    "def get_metadata_for_page(\n",
    "    page: NewspaperPageAlto, metadata_directory: Optional[str] = None\n",
    "):\n",
    "    short_id = page.item_id.split(\"_\")[-1]\n",
    "    metadata_xml = f\"{metadata_directory}/http%3A%2F%2Fdata.theeuropeanlibrary.org%2FBibliographicResource%2F{short_id}.edm.xml\"\n",
    "    return get_metadata_from_xml(metadata_xml)"
   ]
  },
  {
   "cell_type": "code",
   "execution_count": null,
   "metadata": {},
   "outputs": [],
   "source": [
    "metadata = get_metadata_for_page(page, metadata_directory=\"test_data/metadata\")\n",
    "assert metadata\n",
    "assert isinstance(metadata, NewspaperPageMetadata)\n",
    "assert page.item_id.split(\"_\")[-1] in metadata.metadata_xml_fname"
   ]
  },
  {
   "cell_type": "markdown",
   "metadata": {},
   "source": [
    "## Issue processor"
   ]
  },
  {
   "cell_type": "code",
   "execution_count": null,
   "metadata": {},
   "outputs": [],
   "source": [
    "# |export\n",
    "@define(slots=True)\n",
    "class NewspaperPage:\n",
    "    fname: Union[str, Path]\n",
    "    text: Optional[str]\n",
    "    mean_ocr: Optional[float]\n",
    "    std_ocr: Optional[float]\n",
    "    bounding_boxes: List[Union[float, None]]\n",
    "    item_id: str\n",
    "    metadata_xml_fname: Union[str, Path]\n",
    "    title: Optional[str]\n",
    "    date: Optional[str]\n",
    "    languages: Union[List[str], None]\n",
    "    item_iiif_url: Optional[str]\n",
    "    # all_metadata_dict: Dict[Any, Any]\n",
    "    multi_language: bool = field(init=False)\n",
    "    issue_uri: str = field(init=False)\n",
    "    id: str = field(init=False)\n",
    "    def __attrs_post_init__(self):\n",
    "        self.issue_uri = f\"https://www.europeana.eu/item/{self.item_id}\"\n",
    "        self.metadata_xml_fname = str(self.metadata_xml_fname)\n",
    "        self.languages = (\n",
    "            [lang for lang in self.languages if lang != \"==\"]\n",
    "            if isinstance(self.languages, list)\n",
    "            else self.languages\n",
    "        )\n",
    "        self.multi_language = (\n",
    "            isinstance(self.languages, list) and len(self.languages) > 1\n",
    "        )\n",
    "        self.id = f\"{self.issue_uri}/${self.fname.name.strip('.xml')}\""
   ]
  },
  {
   "cell_type": "code",
   "execution_count": null,
   "metadata": {},
   "outputs": [],
   "source": [
    "# |export\n",
    "def process_newspaper_page(\n",
    "    xml_file: Union[str, Path], metadata_directory: Optional[str] = None\n",
    ") -> Dict[Any, Any]:\n",
    "    page = parse_newspaper_page(xml_file)\n",
    "    metadata = get_metadata_for_page(page, metadata_directory=metadata_directory)\n",
    "    metadata = asdict(metadata)\n",
    "    metadata.pop(\"all_metadata_dict\")\n",
    "    page = asdict(page)\n",
    "    return NewspaperPage(**page, **metadata)"
   ]
  },
  {
   "cell_type": "code",
   "execution_count": null,
   "metadata": {},
   "outputs": [],
   "source": [
    "assert all(\n",
    "    process_newspaper_page(xml, metadata_directory=\"test_data/metadata\")\n",
    "    for xml in alto_xmls[:32]\n",
    ")"
   ]
  },
  {
   "cell_type": "code",
   "execution_count": null,
   "metadata": {},
   "outputs": [
    {
     "data": {
      "text/plain": [
       "NewspaperPage(fname=Path('test_data/9200396/BibliographicResource_3000118436002/88.xml'), text='Idem , par Mr***. en lui prifentent un exemplaire de fes fermons imprimés. 15. Décembre. Décembre. Voix {_ la), du vi ni patriote catholique, oppofée à celle des faux patriotes toltrans. 1. Septembre. 1 1 ■ladre parmi les Ombres, avec cette épigraphe: etgo erruvtmus & errare fecimus. 1. Novembre. . . 332 Voltaire de retour des Ombres , & fur le point d’y retourner pour n’en plus revenir l. Novembre. Page 57o 333 ’On fait favoir que les biens des ci devant Jéfuites de la niétaiîie à Kockellchcur à «ne lieue de cette ville, confftans ea maifocs, terres, prairies , étangs & bois , partagés en dix-neuf lots , font à vendre , chaque lot féparé- ment ; que les amateurs d’un ou plulîeurs lots pourront s’adrefler au Receveur des Domaines Luxembourg Leonardy pendant le mois de Janvier prochain , & faire leurs offres , après lequel mois écoulé l’on ne recevera plus aucune offie i & que le 19e. de ce mois de Décembre, a s heures du matin & jours fuivans, le dit Receveur vendra au dit Kockclfcheur tous les dirvaux foin, paille, &. les meubles de ladite métairie .au plus offrant & dernier enchérilleur, argent comptant. Luxembourg le ; Décembre 1773. CD bêtes à cornes & autres beftianx >', mean_ocr=0.44245891427834905, std_ocr=0.18921927369326655, bounding_boxes=[], item_id='9200396/BibliographicResource_3000118436002', metadata_xml_fname='test_data/metadata/http%3A%2F%2Fdata.theeuropeanlibrary.org%2FBibliographicResource%2F3000118436002.edm.xml', title='Journal historique et littéraire', date='1776-12-15', languages=['fr'], item_iiif_url='https://iiif.europeana.eu/image/2TS6TSUK5ULAT2TQMYN7UGBDCPKQBLHQPTPDD6GGYB4QOZXR72EQ/presentation_images/bc994340-0232-11e6-a696-fa163e2dd531/node-3/image/BNL/Journal_historique_et_littéraire/1776/12/15/00547/full/full/0/default.jpg', multi_language=False, issue_uri='https://www.europeana.eu/item/9200396/BibliographicResource_3000118436002', id='https://www.europeana.eu/item/9200396/BibliographicResource_3000118436002/$88')"
      ]
     },
     "execution_count": null,
     "metadata": {},
     "output_type": "execute_result"
    }
   ],
   "source": [
    "page = process_newspaper_page(alto_xmls[0], metadata_directory=\"test_data/metadata\")\n",
    "page"
   ]
  },
  {
   "cell_type": "markdown",
   "metadata": {},
   "source": [
    "## Load into datasets"
   ]
  },
  {
   "cell_type": "markdown",
   "metadata": {},
   "source": [
    "## Dump to parquet"
   ]
  },
  {
   "cell_type": "code",
   "execution_count": null,
   "metadata": {},
   "outputs": [],
   "source": [
    "# |export\n",
    "from datasets import Dataset\n",
    "from datasets import Value, Sequence, Features"
   ]
  },
  {
   "cell_type": "code",
   "execution_count": null,
   "metadata": {},
   "outputs": [],
   "source": [
    "# |export\n",
    "features=Features({\n",
    "    'fname': Value(dtype='string', id=None),\n",
    "    'text': Value(dtype='string', id=None),\n",
    "    'mean_ocr': Value(dtype='float64', id=None),\n",
    "    'std_ocr': Value(dtype='float64', id=None),\n",
    "    'bounding_boxes': Sequence(\n",
    "        feature=Sequence(feature=Value(dtype='float64', id=None), length=-1, id=None),\n",
    "        length=-1,\n",
    "        id=None\n",
    "    ),\n",
    "    'item_id': Value(dtype='string', id=None),\n",
    "    \"id\": Value(dtype=\"string\",id=None),\n",
    "    \"issue_uri\": Value(dtype=\"string\", id=None),\n",
    "    'metadata_xml_fname': Value(dtype='string', id=None),\n",
    "    'title': Value(dtype='string', id=None),\n",
    "    'date': Value(dtype='string', id=None),\n",
    "    'languages': Sequence(feature=Value(dtype='string', id=None), length=-1, id=None),\n",
    "    'item_iiif_url': Value(dtype='string', id=None),\n",
    "    'multi_language': Value(dtype='bool', id=None)\n",
    "})\n"
   ]
  },
  {
   "cell_type": "markdown",
   "metadata": {},
   "source": [
    "### Processing a batch\n",
    "\n",
    "We create a function that will take a batch of XML files and load it into a dataset. We use `logger.catch` as a super lazy way of catching errors. `logger.catch` will catch exceptions and log so we can more easily debug and errors we run into as we work on this code. "
   ]
  },
  {
   "cell_type": "code",
   "execution_count": null,
   "metadata": {},
   "outputs": [],
   "source": [
    "temp_keys = {\"fname\",'item_id'}"
   ]
  },
  {
   "cell_type": "code",
   "execution_count": null,
   "metadata": {},
   "outputs": [],
   "source": [
    "# |export\n",
    "@logger.catch()\n",
    "def process_batch(xml_batch: Iterable[Union[str, Path]], metadata_directory: Optional[Union[str,Path]]=None)-> Dataset:\n",
    "    \"\"\"Returns a dataset containing parsed newspaper pages.\"\"\"\n",
    "    batch = [\n",
    "        asdict(process_newspaper_page(xml, metadata_directory=metadata_directory))\n",
    "        for xml in xml_batch\n",
    "    ]\n",
    "    batch = {key: [i[key] for i in batch] for key in batch[0]}\n",
    "    dataset = Dataset.from_dict(batch,features=features)\n",
    "    dataset = dataset.remove_columns([\"item_id\",\"metadata_xml_fname\",\"fname\"])\n",
    "    dataset = dataset.rename_columns({\"languages\":\"language\"})\n",
    "    return dataset\n"
   ]
  },
  {
   "cell_type": "code",
   "execution_count": null,
   "metadata": {},
   "outputs": [],
   "source": [
    "ds = process_batch(alto_xmls[:32], metadata_directory=\"test_data/metadata\")"
   ]
  },
  {
   "cell_type": "code",
   "execution_count": null,
   "metadata": {},
   "outputs": [],
   "source": [
    "ds = process_batch(alto_xmls[:32], metadata_directory=\"test_data/metadata\")\n",
    "assert len(ds) == 32\n",
    "assert len(ds.column_names) == 11\n",
    "assert ds.column_names == [\n",
    " 'text',\n",
    " 'mean_ocr',\n",
    " 'std_ocr',\n",
    " 'bounding_boxes',\n",
    " 'title',\n",
    " 'date',\n",
    " 'language',\n",
    " 'item_iiif_url',\n",
    " 'multi_language',\n",
    " 'issue_uri',\n",
    " 'id']"
   ]
  },
  {
   "cell_type": "code",
   "execution_count": null,
   "metadata": {},
   "outputs": [
    {
     "data": {
      "text/plain": [
       "{'text': Value(dtype='string', id=None),\n",
       " 'mean_ocr': Value(dtype='float64', id=None),\n",
       " 'std_ocr': Value(dtype='float64', id=None),\n",
       " 'bounding_boxes': Sequence(feature=Sequence(feature=Value(dtype='float64', id=None), length=-1, id=None), length=-1, id=None),\n",
       " 'title': Value(dtype='string', id=None),\n",
       " 'date': Value(dtype='string', id=None),\n",
       " 'language': Sequence(feature=Value(dtype='string', id=None), length=-1, id=None),\n",
       " 'item_iiif_url': Value(dtype='string', id=None),\n",
       " 'multi_language': Value(dtype='bool', id=None),\n",
       " 'issue_uri': Value(dtype='string', id=None),\n",
       " 'id': Value(dtype='string', id=None)}"
      ]
     },
     "execution_count": null,
     "metadata": {},
     "output_type": "execute_result"
    }
   ],
   "source": [
    "ds.features"
   ]
  },
  {
   "cell_type": "code",
   "execution_count": null,
   "metadata": {},
   "outputs": [],
   "source": [
    "# |export\n",
    "import multiprocessing \n",
    "\n",
    "def process(\n",
    "    xml_files: Iterable[Union[str, Path]],\n",
    "    batch_size: int = 32,\n",
    "    metadata_directory: Optional[Union[str,Path]] = None,\n",
    "    max_workers: Optional[int] = None\n",
    "):\n",
    "    with tqdm(total=len(xml_files) // batch_size) as pbar:\n",
    "        if not max_workers:\n",
    "            max_workers = multiprocessing.cpu_count()\n",
    "        futures = []\n",
    "        with ProcessPoolExecutor(max_workers=max_workers) as executor:\n",
    "            for batch in partition_all(batch_size, xml_files):\n",
    "                batch = list(batch)\n",
    "                future = executor.submit(\n",
    "                    process_batch, batch, metadata_directory=metadata_directory\n",
    "                )\n",
    "                future.add_done_callback(lambda p: pbar.update(1))\n",
    "                futures.append(future)\n",
    "    return [future.result() for future in as_completed(futures)]\n",
    "\n"
   ]
  },
  {
   "cell_type": "code",
   "execution_count": null,
   "metadata": {},
   "outputs": [
    {
     "data": {
      "application/vnd.jupyter.widget-view+json": {
       "model_id": "78523d2414b84747bf661ff99d982f8a",
       "version_major": 2,
       "version_minor": 0
      },
      "text/plain": [
       "  0%|          | 0/3330 [00:00<?, ?it/s]"
      ]
     },
     "metadata": {},
     "output_type": "display_data"
    },
    {
     "name": "stderr",
     "output_type": "stream",
     "text": [
      "2022-09-24 16:40:57.366 | ERROR    | concurrent.futures.process:_process_worker:246 - An error has been caught in function '_process_worker', process 'ForkProcess-27' (79042), thread 'MainThread' (4624107008):\n",
      "Traceback (most recent call last):\n",
      "\n",
      "  File \"/usr/local/Caskroom/miniforge/base/envs/europeana_alto/lib/python3.10/runpy.py\", line 196, in _run_module_as_main\n",
      "    return _run_code(code, main_globals, None,\n",
      "           │         │     └ {'__name__': '__main__', '__doc__': 'Entry point for launching an IPython kernel.\\n\\nThis is separate from the ipykernel pack...\n",
      "           │         └ <code object <module> at 0x10c6d2970, file \"/usr/local/Caskroom/miniforge/base/envs/europeana_alto/lib/python3.10/site-packag...\n",
      "           └ <function _run_code at 0x10c6e3400>\n",
      "  File \"/usr/local/Caskroom/miniforge/base/envs/europeana_alto/lib/python3.10/runpy.py\", line 86, in _run_code\n",
      "    exec(code, run_globals)\n",
      "         │     └ {'__name__': '__main__', '__doc__': 'Entry point for launching an IPython kernel.\\n\\nThis is separate from the ipykernel pack...\n",
      "         └ <code object <module> at 0x10c6d2970, file \"/usr/local/Caskroom/miniforge/base/envs/europeana_alto/lib/python3.10/site-packag...\n",
      "  File \"/usr/local/Caskroom/miniforge/base/envs/europeana_alto/lib/python3.10/site-packages/ipykernel_launcher.py\", line 17, in <module>\n",
      "    app.launch_new_instance()\n",
      "    │   └ <bound method Application.launch_instance of <class 'ipykernel.kernelapp.IPKernelApp'>>\n",
      "    └ <module 'ipykernel.kernelapp' from '/usr/local/Caskroom/miniforge/base/envs/europeana_alto/lib/python3.10/site-packages/ipyke...\n",
      "  File \"/usr/local/Caskroom/miniforge/base/envs/europeana_alto/lib/python3.10/site-packages/traitlets/config/application.py\", line 976, in launch_instance\n",
      "    app.start()\n",
      "    │   └ <function IPKernelApp.start at 0x10f137d00>\n",
      "    └ <ipykernel.kernelapp.IPKernelApp object at 0x10c679300>\n",
      "  File \"/usr/local/Caskroom/miniforge/base/envs/europeana_alto/lib/python3.10/site-packages/ipykernel/kernelapp.py\", line 712, in start\n",
      "    self.io_loop.start()\n",
      "    │    │       └ <function BaseAsyncIOLoop.start at 0x10d7069e0>\n",
      "    │    └ <tornado.platform.asyncio.AsyncIOMainLoop object at 0x10f133940>\n",
      "    └ <ipykernel.kernelapp.IPKernelApp object at 0x10c679300>\n",
      "  File \"/usr/local/Caskroom/miniforge/base/envs/europeana_alto/lib/python3.10/site-packages/tornado/platform/asyncio.py\", line 215, in start\n",
      "    self.asyncio_loop.run_forever()\n",
      "    │    │            └ <function BaseEventLoop.run_forever at 0x10cca32e0>\n",
      "    │    └ <_UnixSelectorEventLoop running=True closed=False debug=False>\n",
      "    └ <tornado.platform.asyncio.AsyncIOMainLoop object at 0x10f133940>\n",
      "  File \"/usr/local/Caskroom/miniforge/base/envs/europeana_alto/lib/python3.10/asyncio/base_events.py\", line 600, in run_forever\n",
      "    self._run_once()\n",
      "    │    └ <function BaseEventLoop._run_once at 0x10cca4e50>\n",
      "    └ <_UnixSelectorEventLoop running=True closed=False debug=False>\n",
      "  File \"/usr/local/Caskroom/miniforge/base/envs/europeana_alto/lib/python3.10/asyncio/base_events.py\", line 1896, in _run_once\n",
      "    handle._run()\n",
      "    │      └ <function Handle._run at 0x10cc501f0>\n",
      "    └ <Handle Task.task_wakeup(<Future finis...4e0>, ...],))>)>\n",
      "  File \"/usr/local/Caskroom/miniforge/base/envs/europeana_alto/lib/python3.10/asyncio/events.py\", line 80, in _run\n",
      "    self._context.run(self._callback, *self._args)\n",
      "    │    │            │    │           │    └ <member '_args' of 'Handle' objects>\n",
      "    │    │            │    │           └ <Handle Task.task_wakeup(<Future finis...4e0>, ...],))>)>\n",
      "    │    │            │    └ <member '_callback' of 'Handle' objects>\n",
      "    │    │            └ <Handle Task.task_wakeup(<Future finis...4e0>, ...],))>)>\n",
      "    │    └ <member '_context' of 'Handle' objects>\n",
      "    └ <Handle Task.task_wakeup(<Future finis...4e0>, ...],))>)>\n",
      "  File \"/usr/local/Caskroom/miniforge/base/envs/europeana_alto/lib/python3.10/site-packages/ipykernel/kernelbase.py\", line 510, in dispatch_queue\n",
      "    await self.process_one()\n",
      "          │    └ <function Kernel.process_one at 0x10e914f70>\n",
      "          └ <ipykernel.ipkernel.IPythonKernel object at 0x10f133430>\n",
      "  File \"/usr/local/Caskroom/miniforge/base/envs/europeana_alto/lib/python3.10/site-packages/ipykernel/kernelbase.py\", line 499, in process_one\n",
      "    await dispatch(*args)\n",
      "          │         └ ([<zmq.sugar.frame.Frame object at 0x10c929b10>, <zmq.sugar.frame.Frame object at 0x10c92a770>, <zmq.sugar.frame.Frame object...\n",
      "          └ <bound method Kernel.dispatch_shell of <ipykernel.ipkernel.IPythonKernel object at 0x10f133430>>\n",
      "  File \"/usr/local/Caskroom/miniforge/base/envs/europeana_alto/lib/python3.10/site-packages/ipykernel/kernelbase.py\", line 406, in dispatch_shell\n",
      "    await result\n",
      "          └ <coroutine object Kernel.execute_request at 0x12ae1f530>\n",
      "  File \"/usr/local/Caskroom/miniforge/base/envs/europeana_alto/lib/python3.10/site-packages/ipykernel/kernelbase.py\", line 730, in execute_request\n",
      "    reply_content = await reply_content\n",
      "                          └ <coroutine object IPythonKernel.do_execute at 0x12ae1f220>\n",
      "  File \"/usr/local/Caskroom/miniforge/base/envs/europeana_alto/lib/python3.10/site-packages/ipykernel/ipkernel.py\", line 383, in do_execute\n",
      "    res = shell.run_cell(\n",
      "          │     └ <function ZMQInteractiveShell.run_cell at 0x10f1356c0>\n",
      "          └ <ipykernel.zmqshell.ZMQInteractiveShell object at 0x10f1330a0>\n",
      "  File \"/usr/local/Caskroom/miniforge/base/envs/europeana_alto/lib/python3.10/site-packages/ipykernel/zmqshell.py\", line 528, in run_cell\n",
      "    return super().run_cell(*args, **kwargs)\n",
      "                             │       └ {'store_history': True, 'silent': False, 'cell_id': 'vscode-notebook-cell:/Users/dvanstrien/Documents/bscience/biglam/altoxml...\n",
      "                             └ ('datasets = process(alto_xmls, metadata_directory=\"test_data/metadata\")',)\n",
      "  File \"/usr/local/Caskroom/miniforge/base/envs/europeana_alto/lib/python3.10/site-packages/IPython/core/interactiveshell.py\", line 2881, in run_cell\n",
      "    result = self._run_cell(\n",
      "             │    └ <function InteractiveShell._run_cell at 0x10dd27d90>\n",
      "             └ <ipykernel.zmqshell.ZMQInteractiveShell object at 0x10f1330a0>\n",
      "  File \"/usr/local/Caskroom/miniforge/base/envs/europeana_alto/lib/python3.10/site-packages/IPython/core/interactiveshell.py\", line 2936, in _run_cell\n",
      "    return runner(coro)\n",
      "           │      └ <coroutine object InteractiveShell.run_cell_async at 0x12ae1dc40>\n",
      "           └ <function _pseudo_sync_runner at 0x10dd03880>\n",
      "  File \"/usr/local/Caskroom/miniforge/base/envs/europeana_alto/lib/python3.10/site-packages/IPython/core/async_helpers.py\", line 129, in _pseudo_sync_runner\n",
      "    coro.send(None)\n",
      "    │    └ <method 'send' of 'coroutine' objects>\n",
      "    └ <coroutine object InteractiveShell.run_cell_async at 0x12ae1dc40>\n",
      "  File \"/usr/local/Caskroom/miniforge/base/envs/europeana_alto/lib/python3.10/site-packages/IPython/core/interactiveshell.py\", line 3135, in run_cell_async\n",
      "    has_raised = await self.run_ast_nodes(code_ast.body, cell_name,\n",
      "                       │    │             │        │     └ '/var/folders/tj/54sfzlyj6_573fn82y996grc0000gr/T/ipykernel_78791/1082066741.py'\n",
      "                       │    │             │        └ [<ast.Assign object at 0x120586d40>]\n",
      "                       │    │             └ <ast.Module object at 0x120586f20>\n",
      "                       │    └ <function InteractiveShell.run_ast_nodes at 0x10dd2c160>\n",
      "                       └ <ipykernel.zmqshell.ZMQInteractiveShell object at 0x10f1330a0>\n",
      "  File \"/usr/local/Caskroom/miniforge/base/envs/europeana_alto/lib/python3.10/site-packages/IPython/core/interactiveshell.py\", line 3338, in run_ast_nodes\n",
      "    if await self.run_code(code, result, async_=asy):\n",
      "             │    │        │     │              └ False\n",
      "             │    │        │     └ <ExecutionResult object at 1204ba1d0, execution_count=52 error_before_exec=None error_in_exec=None info=<ExecutionInfo object...\n",
      "             │    │        └ <code object <cell line: 1> at 0x11fe07470, file \"/var/folders/tj/54sfzlyj6_573fn82y996grc0000gr/T/ipykernel_78791/1082066741...\n",
      "             │    └ <function InteractiveShell.run_code at 0x10dd2c1f0>\n",
      "             └ <ipykernel.zmqshell.ZMQInteractiveShell object at 0x10f1330a0>\n",
      "  File \"/usr/local/Caskroom/miniforge/base/envs/europeana_alto/lib/python3.10/site-packages/IPython/core/interactiveshell.py\", line 3398, in run_code\n",
      "    exec(code_obj, self.user_global_ns, self.user_ns)\n",
      "         │         │    │               │    └ {'__name__': '__main__', '__doc__': 'Automatically created module for IPython interactive environment', '__package__': None, ...\n",
      "         │         │    │               └ <ipykernel.zmqshell.ZMQInteractiveShell object at 0x10f1330a0>\n",
      "         │         │    └ <property object at 0x10dd15a30>\n",
      "         │         └ <ipykernel.zmqshell.ZMQInteractiveShell object at 0x10f1330a0>\n",
      "         └ <code object <cell line: 1> at 0x11fe07470, file \"/var/folders/tj/54sfzlyj6_573fn82y996grc0000gr/T/ipykernel_78791/1082066741...\n",
      "\n",
      "  File \"/var/folders/tj/54sfzlyj6_573fn82y996grc0000gr/T/ipykernel_78791/1082066741.py\", line 1, in <cell line: 1>\n",
      "    datasets = process(alto_xmls, metadata_directory=\"test_data/metadata\")\n",
      "               │       └ [Path('test_data/9200396/BibliographicResource_3000118436002/88.xml'), Path('test_data/9200396/BibliographicResource_30001184...\n",
      "               └ <function process at 0x12aaeeb00>\n",
      "\n",
      "  File \"/var/folders/tj/54sfzlyj6_573fn82y996grc0000gr/T/ipykernel_78791/3476464341.py\", line 17, in process\n",
      "    future = executor.submit(\n",
      "             │        └ <function ProcessPoolExecutor.submit at 0x10f73a4d0>\n",
      "             └ <concurrent.futures.process.ProcessPoolExecutor object at 0x1203700a0>\n",
      "\n",
      "  File \"/usr/local/Caskroom/miniforge/base/envs/europeana_alto/lib/python3.10/concurrent/futures/process.py\", line 733, in submit\n",
      "    self._start_executor_manager_thread()\n",
      "    │    └ <function ProcessPoolExecutor._start_executor_manager_thread at 0x10f73a290>\n",
      "    └ <concurrent.futures.process.ProcessPoolExecutor object at 0x1203700a0>\n",
      "  File \"/usr/local/Caskroom/miniforge/base/envs/europeana_alto/lib/python3.10/concurrent/futures/process.py\", line 673, in _start_executor_manager_thread\n",
      "    self._launch_processes()\n",
      "    │    └ <function ProcessPoolExecutor._launch_processes at 0x10f73a3b0>\n",
      "    └ <concurrent.futures.process.ProcessPoolExecutor object at 0x1203700a0>\n",
      "  File \"/usr/local/Caskroom/miniforge/base/envs/europeana_alto/lib/python3.10/concurrent/futures/process.py\", line 700, in _launch_processes\n",
      "    self._spawn_process()\n",
      "    │    └ <function ProcessPoolExecutor._spawn_process at 0x10f73a440>\n",
      "    └ <concurrent.futures.process.ProcessPoolExecutor object at 0x1203700a0>\n",
      "  File \"/usr/local/Caskroom/miniforge/base/envs/europeana_alto/lib/python3.10/concurrent/futures/process.py\", line 709, in _spawn_process\n",
      "    p.start()\n",
      "    │ └ <function BaseProcess.start at 0x10f6d08b0>\n",
      "    └ <ForkProcess name='ForkProcess-27' parent=78791 started>\n",
      "  File \"/usr/local/Caskroom/miniforge/base/envs/europeana_alto/lib/python3.10/multiprocessing/process.py\", line 121, in start\n",
      "    self._popen = self._Popen(self)\n",
      "    │    │        │    │      └ <ForkProcess name='ForkProcess-27' parent=78791 started>\n",
      "    │    │        │    └ <staticmethod(<function ForkProcess._Popen at 0x10f6d3520>)>\n",
      "    │    │        └ <ForkProcess name='ForkProcess-27' parent=78791 started>\n",
      "    │    └ None\n",
      "    └ <ForkProcess name='ForkProcess-27' parent=78791 started>\n",
      "  File \"/usr/local/Caskroom/miniforge/base/envs/europeana_alto/lib/python3.10/multiprocessing/context.py\", line 277, in _Popen\n",
      "    return Popen(process_obj)\n",
      "           │     └ <ForkProcess name='ForkProcess-27' parent=78791 started>\n",
      "           └ <class 'multiprocessing.popen_fork.Popen'>\n",
      "  File \"/usr/local/Caskroom/miniforge/base/envs/europeana_alto/lib/python3.10/multiprocessing/popen_fork.py\", line 19, in __init__\n",
      "    self._launch(process_obj)\n",
      "    │    │       └ <ForkProcess name='ForkProcess-27' parent=78791 started>\n",
      "    │    └ <function Popen._launch at 0x12ae5a680>\n",
      "    └ <multiprocessing.popen_fork.Popen object at 0x1203715d0>\n",
      "  File \"/usr/local/Caskroom/miniforge/base/envs/europeana_alto/lib/python3.10/multiprocessing/popen_fork.py\", line 71, in _launch\n",
      "    code = process_obj._bootstrap(parent_sentinel=child_r)\n",
      "           │           │                          └ 103\n",
      "           │           └ <function BaseProcess._bootstrap at 0x10f6d11b0>\n",
      "           └ <ForkProcess name='ForkProcess-27' parent=78791 started>\n",
      "  File \"/usr/local/Caskroom/miniforge/base/envs/europeana_alto/lib/python3.10/multiprocessing/process.py\", line 315, in _bootstrap\n",
      "    self.run()\n",
      "    │    └ <function BaseProcess.run at 0x10f6d0820>\n",
      "    └ <ForkProcess name='ForkProcess-27' parent=78791 started>\n",
      "  File \"/usr/local/Caskroom/miniforge/base/envs/europeana_alto/lib/python3.10/multiprocessing/process.py\", line 108, in run\n",
      "    self._target(*self._args, **self._kwargs)\n",
      "    │    │        │    │        │    └ {}\n",
      "    │    │        │    │        └ <ForkProcess name='ForkProcess-27' parent=78791 started>\n",
      "    │    │        │    └ (<concurrent.futures.process._SafeQueue object at 0x120370340>, <multiprocessing.queues.SimpleQueue object at 0x120370580>, N...\n",
      "    │    │        └ <ForkProcess name='ForkProcess-27' parent=78791 started>\n",
      "    │    └ <function _process_worker at 0x10f739990>\n",
      "    └ <ForkProcess name='ForkProcess-27' parent=78791 started>\n",
      "> File \"/usr/local/Caskroom/miniforge/base/envs/europeana_alto/lib/python3.10/concurrent/futures/process.py\", line 246, in _process_worker\n",
      "    r = call_item.fn(*call_item.args, **call_item.kwargs)\n",
      "        │         │   │         │       │         └ {'metadata_directory': 'test_data/metadata'}\n",
      "        │         │   │         │       └ <concurrent.futures.process._CallItem object at 0x11fb11de0>\n",
      "        │         │   │         └ ([Path('test_data/9200396/BibliographicResource_3000118435219/67.xml'), Path('test_data/9200396/BibliographicResource_3000118...\n",
      "        │         │   └ <concurrent.futures.process._CallItem object at 0x11fb11de0>\n",
      "        │         └ <function process_batch at 0x11fd1e560>\n",
      "        └ <concurrent.futures.process._CallItem object at 0x11fb11de0>\n",
      "\n",
      "  File \"/var/folders/tj/54sfzlyj6_573fn82y996grc0000gr/T/ipykernel_78791/4029529654.py\", line 5, in process_batch\n",
      "    batch = [\n",
      "\n",
      "  File \"/var/folders/tj/54sfzlyj6_573fn82y996grc0000gr/T/ipykernel_78791/4029529654.py\", line 6, in <listcomp>\n",
      "    asdict(process_newspaper_page(xml, metadata_directory=metadata_directory))\n",
      "    │      │                      │                       └ 'test_data/metadata'\n",
      "    │      │                      └ Path('test_data/9200396/BibliographicResource_3000118435219/67.xml')\n",
      "    │      └ <function process_newspaper_page at 0x115ec9750>\n",
      "    └ <function asdict at 0x113b6ed40>\n",
      "\n",
      "  File \"/var/folders/tj/54sfzlyj6_573fn82y996grc0000gr/T/ipykernel_78791/2495607774.py\", line 6, in process_newspaper_page\n",
      "    metadata = get_metadata_for_page(page, metadata_directory=metadata_directory)\n",
      "               │                     │                        └ 'test_data/metadata'\n",
      "               │                     └ NewspaperPageAlto(fname=Path('test_data/9200396/BibliographicResource_3000118435219/67.xml'), text=\"AR- P a des Princes £5 c....\n",
      "               └ <function get_metadata_for_page at 0x115ec9480>\n",
      "\n",
      "  File \"/var/folders/tj/54sfzlyj6_573fn82y996grc0000gr/T/ipykernel_78791/1766452236.py\", line 7, in get_metadata_for_page\n",
      "    return get_metadata_from_xml(metadata_xml)\n",
      "           │                     └ 'test_data/metadata/http%3A%2F%2Fdata.theeuropeanlibrary.org%2FBibliographicResource%2F3000118435219.edm.xml'\n",
      "           └ <function get_metadata_from_xml at 0x115ec8e50>\n",
      "\n",
      "  File \"/var/folders/tj/54sfzlyj6_573fn82y996grc0000gr/T/ipykernel_78791/3063984921.py\", line 4, in get_metadata_from_xml\n",
      "    xml = xmltodict.parse(f.read())\n",
      "          │         │     │ └ <method 'read' of '_io.TextIOWrapper' objects>\n",
      "          │         │     └ <_io.TextIOWrapper name='test_data/metadata/http%3A%2F%2Fdata.theeuropeanlibrary.org%2FBibliographicResource%2F3000118435219....\n",
      "          │         └ <function parse at 0x1138e8430>\n",
      "          └ <module 'xmltodict' from '/usr/local/Caskroom/miniforge/base/envs/europeana_alto/lib/python3.10/site-packages/xmltodict.py'>\n",
      "\n",
      "  File \"/usr/local/Caskroom/miniforge/base/envs/europeana_alto/lib/python3.10/site-packages/xmltodict.py\", line 378, in parse\n",
      "    parser.Parse(xml_input, True)\n",
      "    │      │     └ b'\\x00\\x00\\x00\\x00\\x00\\x00\\x00\\x00\\x00\\x00\\x00\\x00\\x00\\x00\\x00\\x00\\x00\\x00\\x00\\x00\\x00\\x00\\x00\\x00\\x00\\x00\\x00\\x00\\x00\\x00\\x0...\n",
      "    │      └ <method 'Parse' of 'pyexpat.xmlparser' objects>\n",
      "    └ <pyexpat.xmlparser object at 0x12ae27580>\n",
      "\n",
      "xml.parsers.expat.ExpatError: not well-formed (invalid token): line 1, column 0\n",
      "2022-09-24 16:40:57.493 | ERROR    | concurrent.futures.process:_process_worker:246 - An error has been caught in function '_process_worker', process 'ForkProcess-25' (79040), thread 'MainThread' (4624107008):\n",
      "Traceback (most recent call last):\n",
      "\n",
      "  File \"/usr/local/Caskroom/miniforge/base/envs/europeana_alto/lib/python3.10/runpy.py\", line 196, in _run_module_as_main\n",
      "    return _run_code(code, main_globals, None,\n",
      "           │         │     └ {'__name__': '__main__', '__doc__': 'Entry point for launching an IPython kernel.\\n\\nThis is separate from the ipykernel pack...\n",
      "           │         └ <code object <module> at 0x10c6d2970, file \"/usr/local/Caskroom/miniforge/base/envs/europeana_alto/lib/python3.10/site-packag...\n",
      "           └ <function _run_code at 0x10c6e3400>\n",
      "  File \"/usr/local/Caskroom/miniforge/base/envs/europeana_alto/lib/python3.10/runpy.py\", line 86, in _run_code\n",
      "    exec(code, run_globals)\n",
      "         │     └ {'__name__': '__main__', '__doc__': 'Entry point for launching an IPython kernel.\\n\\nThis is separate from the ipykernel pack...\n",
      "         └ <code object <module> at 0x10c6d2970, file \"/usr/local/Caskroom/miniforge/base/envs/europeana_alto/lib/python3.10/site-packag...\n",
      "  File \"/usr/local/Caskroom/miniforge/base/envs/europeana_alto/lib/python3.10/site-packages/ipykernel_launcher.py\", line 17, in <module>\n",
      "    app.launch_new_instance()\n",
      "    │   └ <bound method Application.launch_instance of <class 'ipykernel.kernelapp.IPKernelApp'>>\n",
      "    └ <module 'ipykernel.kernelapp' from '/usr/local/Caskroom/miniforge/base/envs/europeana_alto/lib/python3.10/site-packages/ipyke...\n",
      "  File \"/usr/local/Caskroom/miniforge/base/envs/europeana_alto/lib/python3.10/site-packages/traitlets/config/application.py\", line 976, in launch_instance\n",
      "    app.start()\n",
      "    │   └ <function IPKernelApp.start at 0x10f137d00>\n",
      "    └ <ipykernel.kernelapp.IPKernelApp object at 0x10c679300>\n",
      "  File \"/usr/local/Caskroom/miniforge/base/envs/europeana_alto/lib/python3.10/site-packages/ipykernel/kernelapp.py\", line 712, in start\n",
      "    self.io_loop.start()\n",
      "    │    │       └ <function BaseAsyncIOLoop.start at 0x10d7069e0>\n",
      "    │    └ <tornado.platform.asyncio.AsyncIOMainLoop object at 0x10f133940>\n",
      "    └ <ipykernel.kernelapp.IPKernelApp object at 0x10c679300>\n",
      "  File \"/usr/local/Caskroom/miniforge/base/envs/europeana_alto/lib/python3.10/site-packages/tornado/platform/asyncio.py\", line 215, in start\n",
      "    self.asyncio_loop.run_forever()\n",
      "    │    │            └ <function BaseEventLoop.run_forever at 0x10cca32e0>\n",
      "    │    └ <_UnixSelectorEventLoop running=True closed=False debug=False>\n",
      "    └ <tornado.platform.asyncio.AsyncIOMainLoop object at 0x10f133940>\n",
      "  File \"/usr/local/Caskroom/miniforge/base/envs/europeana_alto/lib/python3.10/asyncio/base_events.py\", line 600, in run_forever\n",
      "    self._run_once()\n",
      "    │    └ <function BaseEventLoop._run_once at 0x10cca4e50>\n",
      "    └ <_UnixSelectorEventLoop running=True closed=False debug=False>\n",
      "  File \"/usr/local/Caskroom/miniforge/base/envs/europeana_alto/lib/python3.10/asyncio/base_events.py\", line 1896, in _run_once\n",
      "    handle._run()\n",
      "    │      └ <function Handle._run at 0x10cc501f0>\n",
      "    └ <Handle Task.task_wakeup(<Future finis...4e0>, ...],))>)>\n",
      "  File \"/usr/local/Caskroom/miniforge/base/envs/europeana_alto/lib/python3.10/asyncio/events.py\", line 80, in _run\n",
      "    self._context.run(self._callback, *self._args)\n",
      "    │    │            │    │           │    └ <member '_args' of 'Handle' objects>\n",
      "    │    │            │    │           └ <Handle Task.task_wakeup(<Future finis...4e0>, ...],))>)>\n",
      "    │    │            │    └ <member '_callback' of 'Handle' objects>\n",
      "    │    │            └ <Handle Task.task_wakeup(<Future finis...4e0>, ...],))>)>\n",
      "    │    └ <member '_context' of 'Handle' objects>\n",
      "    └ <Handle Task.task_wakeup(<Future finis...4e0>, ...],))>)>\n",
      "  File \"/usr/local/Caskroom/miniforge/base/envs/europeana_alto/lib/python3.10/site-packages/ipykernel/kernelbase.py\", line 510, in dispatch_queue\n",
      "    await self.process_one()\n",
      "          │    └ <function Kernel.process_one at 0x10e914f70>\n",
      "          └ <ipykernel.ipkernel.IPythonKernel object at 0x10f133430>\n",
      "  File \"/usr/local/Caskroom/miniforge/base/envs/europeana_alto/lib/python3.10/site-packages/ipykernel/kernelbase.py\", line 499, in process_one\n",
      "    await dispatch(*args)\n",
      "          │         └ ([<zmq.sugar.frame.Frame object at 0x10c929b10>, <zmq.sugar.frame.Frame object at 0x10c92a770>, <zmq.sugar.frame.Frame object...\n",
      "          └ <bound method Kernel.dispatch_shell of <ipykernel.ipkernel.IPythonKernel object at 0x10f133430>>\n",
      "  File \"/usr/local/Caskroom/miniforge/base/envs/europeana_alto/lib/python3.10/site-packages/ipykernel/kernelbase.py\", line 406, in dispatch_shell\n",
      "    await result\n",
      "          └ <coroutine object Kernel.execute_request at 0x12ae1f530>\n",
      "  File \"/usr/local/Caskroom/miniforge/base/envs/europeana_alto/lib/python3.10/site-packages/ipykernel/kernelbase.py\", line 730, in execute_request\n",
      "    reply_content = await reply_content\n",
      "                          └ <coroutine object IPythonKernel.do_execute at 0x12ae1f220>\n",
      "  File \"/usr/local/Caskroom/miniforge/base/envs/europeana_alto/lib/python3.10/site-packages/ipykernel/ipkernel.py\", line 383, in do_execute\n",
      "    res = shell.run_cell(\n",
      "          │     └ <function ZMQInteractiveShell.run_cell at 0x10f1356c0>\n",
      "          └ <ipykernel.zmqshell.ZMQInteractiveShell object at 0x10f1330a0>\n",
      "  File \"/usr/local/Caskroom/miniforge/base/envs/europeana_alto/lib/python3.10/site-packages/ipykernel/zmqshell.py\", line 528, in run_cell\n",
      "    return super().run_cell(*args, **kwargs)\n",
      "                             │       └ {'store_history': True, 'silent': False, 'cell_id': 'vscode-notebook-cell:/Users/dvanstrien/Documents/bscience/biglam/altoxml...\n",
      "                             └ ('datasets = process(alto_xmls, metadata_directory=\"test_data/metadata\")',)\n",
      "  File \"/usr/local/Caskroom/miniforge/base/envs/europeana_alto/lib/python3.10/site-packages/IPython/core/interactiveshell.py\", line 2881, in run_cell\n",
      "    result = self._run_cell(\n",
      "             │    └ <function InteractiveShell._run_cell at 0x10dd27d90>\n",
      "             └ <ipykernel.zmqshell.ZMQInteractiveShell object at 0x10f1330a0>\n",
      "  File \"/usr/local/Caskroom/miniforge/base/envs/europeana_alto/lib/python3.10/site-packages/IPython/core/interactiveshell.py\", line 2936, in _run_cell\n",
      "    return runner(coro)\n",
      "           │      └ <coroutine object InteractiveShell.run_cell_async at 0x12ae1dc40>\n",
      "           └ <function _pseudo_sync_runner at 0x10dd03880>\n",
      "  File \"/usr/local/Caskroom/miniforge/base/envs/europeana_alto/lib/python3.10/site-packages/IPython/core/async_helpers.py\", line 129, in _pseudo_sync_runner\n",
      "    coro.send(None)\n",
      "    │    └ <method 'send' of 'coroutine' objects>\n",
      "    └ <coroutine object InteractiveShell.run_cell_async at 0x12ae1dc40>\n",
      "  File \"/usr/local/Caskroom/miniforge/base/envs/europeana_alto/lib/python3.10/site-packages/IPython/core/interactiveshell.py\", line 3135, in run_cell_async\n",
      "    has_raised = await self.run_ast_nodes(code_ast.body, cell_name,\n",
      "                       │    │             │        │     └ '/var/folders/tj/54sfzlyj6_573fn82y996grc0000gr/T/ipykernel_78791/1082066741.py'\n",
      "                       │    │             │        └ [<ast.Assign object at 0x120586d40>]\n",
      "                       │    │             └ <ast.Module object at 0x120586f20>\n",
      "                       │    └ <function InteractiveShell.run_ast_nodes at 0x10dd2c160>\n",
      "                       └ <ipykernel.zmqshell.ZMQInteractiveShell object at 0x10f1330a0>\n",
      "  File \"/usr/local/Caskroom/miniforge/base/envs/europeana_alto/lib/python3.10/site-packages/IPython/core/interactiveshell.py\", line 3338, in run_ast_nodes\n",
      "    if await self.run_code(code, result, async_=asy):\n",
      "             │    │        │     │              └ False\n",
      "             │    │        │     └ <ExecutionResult object at 1204ba1d0, execution_count=52 error_before_exec=None error_in_exec=None info=<ExecutionInfo object...\n",
      "             │    │        └ <code object <cell line: 1> at 0x11fe07470, file \"/var/folders/tj/54sfzlyj6_573fn82y996grc0000gr/T/ipykernel_78791/1082066741...\n",
      "             │    └ <function InteractiveShell.run_code at 0x10dd2c1f0>\n",
      "             └ <ipykernel.zmqshell.ZMQInteractiveShell object at 0x10f1330a0>\n",
      "  File \"/usr/local/Caskroom/miniforge/base/envs/europeana_alto/lib/python3.10/site-packages/IPython/core/interactiveshell.py\", line 3398, in run_code\n",
      "    exec(code_obj, self.user_global_ns, self.user_ns)\n",
      "         │         │    │               │    └ {'__name__': '__main__', '__doc__': 'Automatically created module for IPython interactive environment', '__package__': None, ...\n",
      "         │         │    │               └ <ipykernel.zmqshell.ZMQInteractiveShell object at 0x10f1330a0>\n",
      "         │         │    └ <property object at 0x10dd15a30>\n",
      "         │         └ <ipykernel.zmqshell.ZMQInteractiveShell object at 0x10f1330a0>\n",
      "         └ <code object <cell line: 1> at 0x11fe07470, file \"/var/folders/tj/54sfzlyj6_573fn82y996grc0000gr/T/ipykernel_78791/1082066741...\n",
      "\n",
      "  File \"/var/folders/tj/54sfzlyj6_573fn82y996grc0000gr/T/ipykernel_78791/1082066741.py\", line 1, in <cell line: 1>\n",
      "    datasets = process(alto_xmls, metadata_directory=\"test_data/metadata\")\n",
      "               │       └ [Path('test_data/9200396/BibliographicResource_3000118436002/88.xml'), Path('test_data/9200396/BibliographicResource_30001184...\n",
      "               └ <function process at 0x12aaeeb00>\n",
      "\n",
      "  File \"/var/folders/tj/54sfzlyj6_573fn82y996grc0000gr/T/ipykernel_78791/3476464341.py\", line 17, in process\n",
      "    future = executor.submit(\n",
      "             │        └ <function ProcessPoolExecutor.submit at 0x10f73a4d0>\n",
      "             └ <concurrent.futures.process.ProcessPoolExecutor object at 0x1203700a0>\n",
      "\n",
      "  File \"/usr/local/Caskroom/miniforge/base/envs/europeana_alto/lib/python3.10/concurrent/futures/process.py\", line 733, in submit\n",
      "    self._start_executor_manager_thread()\n",
      "    │    └ <function ProcessPoolExecutor._start_executor_manager_thread at 0x10f73a290>\n",
      "    └ <concurrent.futures.process.ProcessPoolExecutor object at 0x1203700a0>\n",
      "  File \"/usr/local/Caskroom/miniforge/base/envs/europeana_alto/lib/python3.10/concurrent/futures/process.py\", line 673, in _start_executor_manager_thread\n",
      "    self._launch_processes()\n",
      "    │    └ <function ProcessPoolExecutor._launch_processes at 0x10f73a3b0>\n",
      "    └ <concurrent.futures.process.ProcessPoolExecutor object at 0x1203700a0>\n",
      "  File \"/usr/local/Caskroom/miniforge/base/envs/europeana_alto/lib/python3.10/concurrent/futures/process.py\", line 700, in _launch_processes\n",
      "    self._spawn_process()\n",
      "    │    └ <function ProcessPoolExecutor._spawn_process at 0x10f73a440>\n",
      "    └ <concurrent.futures.process.ProcessPoolExecutor object at 0x1203700a0>\n",
      "  File \"/usr/local/Caskroom/miniforge/base/envs/europeana_alto/lib/python3.10/concurrent/futures/process.py\", line 709, in _spawn_process\n",
      "    p.start()\n",
      "    │ └ <function BaseProcess.start at 0x10f6d08b0>\n",
      "    └ <ForkProcess name='ForkProcess-25' parent=78791 started>\n",
      "  File \"/usr/local/Caskroom/miniforge/base/envs/europeana_alto/lib/python3.10/multiprocessing/process.py\", line 121, in start\n",
      "    self._popen = self._Popen(self)\n",
      "    │    │        │    │      └ <ForkProcess name='ForkProcess-25' parent=78791 started>\n",
      "    │    │        │    └ <staticmethod(<function ForkProcess._Popen at 0x10f6d3520>)>\n",
      "    │    │        └ <ForkProcess name='ForkProcess-25' parent=78791 started>\n",
      "    │    └ None\n",
      "    └ <ForkProcess name='ForkProcess-25' parent=78791 started>\n",
      "  File \"/usr/local/Caskroom/miniforge/base/envs/europeana_alto/lib/python3.10/multiprocessing/context.py\", line 277, in _Popen\n",
      "    return Popen(process_obj)\n",
      "           │     └ <ForkProcess name='ForkProcess-25' parent=78791 started>\n",
      "           └ <class 'multiprocessing.popen_fork.Popen'>\n",
      "  File \"/usr/local/Caskroom/miniforge/base/envs/europeana_alto/lib/python3.10/multiprocessing/popen_fork.py\", line 19, in __init__\n",
      "    self._launch(process_obj)\n",
      "    │    │       └ <ForkProcess name='ForkProcess-25' parent=78791 started>\n",
      "    │    └ <function Popen._launch at 0x12ae5a680>\n",
      "    └ <multiprocessing.popen_fork.Popen object at 0x120371600>\n",
      "  File \"/usr/local/Caskroom/miniforge/base/envs/europeana_alto/lib/python3.10/multiprocessing/popen_fork.py\", line 71, in _launch\n",
      "    code = process_obj._bootstrap(parent_sentinel=child_r)\n",
      "           │           │                          └ 99\n",
      "           │           └ <function BaseProcess._bootstrap at 0x10f6d11b0>\n",
      "           └ <ForkProcess name='ForkProcess-25' parent=78791 started>\n",
      "  File \"/usr/local/Caskroom/miniforge/base/envs/europeana_alto/lib/python3.10/multiprocessing/process.py\", line 315, in _bootstrap\n",
      "    self.run()\n",
      "    │    └ <function BaseProcess.run at 0x10f6d0820>\n",
      "    └ <ForkProcess name='ForkProcess-25' parent=78791 started>\n",
      "  File \"/usr/local/Caskroom/miniforge/base/envs/europeana_alto/lib/python3.10/multiprocessing/process.py\", line 108, in run\n",
      "    self._target(*self._args, **self._kwargs)\n",
      "    │    │        │    │        │    └ {}\n",
      "    │    │        │    │        └ <ForkProcess name='ForkProcess-25' parent=78791 started>\n",
      "    │    │        │    └ (<concurrent.futures.process._SafeQueue object at 0x120370340>, <multiprocessing.queues.SimpleQueue object at 0x120370580>, N...\n",
      "    │    │        └ <ForkProcess name='ForkProcess-25' parent=78791 started>\n",
      "    │    └ <function _process_worker at 0x10f739990>\n",
      "    └ <ForkProcess name='ForkProcess-25' parent=78791 started>\n",
      "> File \"/usr/local/Caskroom/miniforge/base/envs/europeana_alto/lib/python3.10/concurrent/futures/process.py\", line 246, in _process_worker\n",
      "    r = call_item.fn(*call_item.args, **call_item.kwargs)\n",
      "        │         │   │         │       │         └ {'metadata_directory': 'test_data/metadata'}\n",
      "        │         │   │         │       └ <concurrent.futures.process._CallItem object at 0x11fc8dd20>\n",
      "        │         │   │         └ ([Path('test_data/9200396/BibliographicResource_3000118435817/44.xml'), Path('test_data/9200396/BibliographicResource_3000118...\n",
      "        │         │   └ <concurrent.futures.process._CallItem object at 0x11fc8dd20>\n",
      "        │         └ <function process_batch at 0x11fd1e560>\n",
      "        └ <concurrent.futures.process._CallItem object at 0x11fc8dd20>\n",
      "\n",
      "  File \"/var/folders/tj/54sfzlyj6_573fn82y996grc0000gr/T/ipykernel_78791/4029529654.py\", line 5, in process_batch\n",
      "    batch = [\n",
      "\n",
      "  File \"/var/folders/tj/54sfzlyj6_573fn82y996grc0000gr/T/ipykernel_78791/4029529654.py\", line 6, in <listcomp>\n",
      "    asdict(process_newspaper_page(xml, metadata_directory=metadata_directory))\n",
      "    │      │                      │                       └ 'test_data/metadata'\n",
      "    │      │                      └ Path('test_data/9200396/BibliographicResource_3000118435219/63.xml')\n",
      "    │      └ <function process_newspaper_page at 0x115ec9750>\n",
      "    └ <function asdict at 0x113b6ed40>\n",
      "\n",
      "  File \"/var/folders/tj/54sfzlyj6_573fn82y996grc0000gr/T/ipykernel_78791/2495607774.py\", line 6, in process_newspaper_page\n",
      "    metadata = get_metadata_for_page(page, metadata_directory=metadata_directory)\n",
      "               │                     │                        └ 'test_data/metadata'\n",
      "               │                     └ NewspaperPageAlto(fname=Path('test_data/9200396/BibliographicResource_3000118435219/63.xml'), text=\"des Prhces Z§c. Septembre...\n",
      "               └ <function get_metadata_for_page at 0x115ec9480>\n",
      "\n",
      "  File \"/var/folders/tj/54sfzlyj6_573fn82y996grc0000gr/T/ipykernel_78791/1766452236.py\", line 7, in get_metadata_for_page\n",
      "    return get_metadata_from_xml(metadata_xml)\n",
      "           │                     └ 'test_data/metadata/http%3A%2F%2Fdata.theeuropeanlibrary.org%2FBibliographicResource%2F3000118435219.edm.xml'\n",
      "           └ <function get_metadata_from_xml at 0x115ec8e50>\n",
      "\n",
      "  File \"/var/folders/tj/54sfzlyj6_573fn82y996grc0000gr/T/ipykernel_78791/3063984921.py\", line 4, in get_metadata_from_xml\n",
      "    xml = xmltodict.parse(f.read())\n",
      "          │         │     │ └ <method 'read' of '_io.TextIOWrapper' objects>\n",
      "          │         │     └ <_io.TextIOWrapper name='test_data/metadata/http%3A%2F%2Fdata.theeuropeanlibrary.org%2FBibliographicResource%2F3000118435219....\n",
      "          │         └ <function parse at 0x1138e8430>\n",
      "          └ <module 'xmltodict' from '/usr/local/Caskroom/miniforge/base/envs/europeana_alto/lib/python3.10/site-packages/xmltodict.py'>\n",
      "\n",
      "  File \"/usr/local/Caskroom/miniforge/base/envs/europeana_alto/lib/python3.10/site-packages/xmltodict.py\", line 378, in parse\n",
      "    parser.Parse(xml_input, True)\n",
      "    │      │     └ b'\\x00\\x00\\x00\\x00\\x00\\x00\\x00\\x00\\x00\\x00\\x00\\x00\\x00\\x00\\x00\\x00\\x00\\x00\\x00\\x00\\x00\\x00\\x00\\x00\\x00\\x00\\x00\\x00\\x00\\x00\\x0...\n",
      "    │      └ <method 'Parse' of 'pyexpat.xmlparser' objects>\n",
      "    └ <pyexpat.xmlparser object at 0x12ae26080>\n",
      "\n",
      "xml.parsers.expat.ExpatError: not well-formed (invalid token): line 1, column 0\n",
      "2022-09-24 16:40:57.753 | ERROR    | concurrent.futures.process:_process_worker:246 - An error has been caught in function '_process_worker', process 'ForkProcess-26' (79041), thread 'MainThread' (4624107008):\n",
      "Traceback (most recent call last):\n",
      "\n",
      "  File \"/usr/local/Caskroom/miniforge/base/envs/europeana_alto/lib/python3.10/runpy.py\", line 196, in _run_module_as_main\n",
      "    return _run_code(code, main_globals, None,\n",
      "           │         │     └ {'__name__': '__main__', '__doc__': 'Entry point for launching an IPython kernel.\\n\\nThis is separate from the ipykernel pack...\n",
      "           │         └ <code object <module> at 0x10c6d2970, file \"/usr/local/Caskroom/miniforge/base/envs/europeana_alto/lib/python3.10/site-packag...\n",
      "           └ <function _run_code at 0x10c6e3400>\n",
      "  File \"/usr/local/Caskroom/miniforge/base/envs/europeana_alto/lib/python3.10/runpy.py\", line 86, in _run_code\n",
      "    exec(code, run_globals)\n",
      "         │     └ {'__name__': '__main__', '__doc__': 'Entry point for launching an IPython kernel.\\n\\nThis is separate from the ipykernel pack...\n",
      "         └ <code object <module> at 0x10c6d2970, file \"/usr/local/Caskroom/miniforge/base/envs/europeana_alto/lib/python3.10/site-packag...\n",
      "  File \"/usr/local/Caskroom/miniforge/base/envs/europeana_alto/lib/python3.10/site-packages/ipykernel_launcher.py\", line 17, in <module>\n",
      "    app.launch_new_instance()\n",
      "    │   └ <bound method Application.launch_instance of <class 'ipykernel.kernelapp.IPKernelApp'>>\n",
      "    └ <module 'ipykernel.kernelapp' from '/usr/local/Caskroom/miniforge/base/envs/europeana_alto/lib/python3.10/site-packages/ipyke...\n",
      "  File \"/usr/local/Caskroom/miniforge/base/envs/europeana_alto/lib/python3.10/site-packages/traitlets/config/application.py\", line 976, in launch_instance\n",
      "    app.start()\n",
      "    │   └ <function IPKernelApp.start at 0x10f137d00>\n",
      "    └ <ipykernel.kernelapp.IPKernelApp object at 0x10c679300>\n",
      "  File \"/usr/local/Caskroom/miniforge/base/envs/europeana_alto/lib/python3.10/site-packages/ipykernel/kernelapp.py\", line 712, in start\n",
      "    self.io_loop.start()\n",
      "    │    │       └ <function BaseAsyncIOLoop.start at 0x10d7069e0>\n",
      "    │    └ <tornado.platform.asyncio.AsyncIOMainLoop object at 0x10f133940>\n",
      "    └ <ipykernel.kernelapp.IPKernelApp object at 0x10c679300>\n",
      "  File \"/usr/local/Caskroom/miniforge/base/envs/europeana_alto/lib/python3.10/site-packages/tornado/platform/asyncio.py\", line 215, in start\n",
      "    self.asyncio_loop.run_forever()\n",
      "    │    │            └ <function BaseEventLoop.run_forever at 0x10cca32e0>\n",
      "    │    └ <_UnixSelectorEventLoop running=True closed=False debug=False>\n",
      "    └ <tornado.platform.asyncio.AsyncIOMainLoop object at 0x10f133940>\n",
      "  File \"/usr/local/Caskroom/miniforge/base/envs/europeana_alto/lib/python3.10/asyncio/base_events.py\", line 600, in run_forever\n",
      "    self._run_once()\n",
      "    │    └ <function BaseEventLoop._run_once at 0x10cca4e50>\n",
      "    └ <_UnixSelectorEventLoop running=True closed=False debug=False>\n",
      "  File \"/usr/local/Caskroom/miniforge/base/envs/europeana_alto/lib/python3.10/asyncio/base_events.py\", line 1896, in _run_once\n",
      "    handle._run()\n",
      "    │      └ <function Handle._run at 0x10cc501f0>\n",
      "    └ <Handle Task.task_wakeup(<Future finis...4e0>, ...],))>)>\n",
      "  File \"/usr/local/Caskroom/miniforge/base/envs/europeana_alto/lib/python3.10/asyncio/events.py\", line 80, in _run\n",
      "    self._context.run(self._callback, *self._args)\n",
      "    │    │            │    │           │    └ <member '_args' of 'Handle' objects>\n",
      "    │    │            │    │           └ <Handle Task.task_wakeup(<Future finis...4e0>, ...],))>)>\n",
      "    │    │            │    └ <member '_callback' of 'Handle' objects>\n",
      "    │    │            └ <Handle Task.task_wakeup(<Future finis...4e0>, ...],))>)>\n",
      "    │    └ <member '_context' of 'Handle' objects>\n",
      "    └ <Handle Task.task_wakeup(<Future finis...4e0>, ...],))>)>\n",
      "  File \"/usr/local/Caskroom/miniforge/base/envs/europeana_alto/lib/python3.10/site-packages/ipykernel/kernelbase.py\", line 510, in dispatch_queue\n",
      "    await self.process_one()\n",
      "          │    └ <function Kernel.process_one at 0x10e914f70>\n",
      "          └ <ipykernel.ipkernel.IPythonKernel object at 0x10f133430>\n",
      "  File \"/usr/local/Caskroom/miniforge/base/envs/europeana_alto/lib/python3.10/site-packages/ipykernel/kernelbase.py\", line 499, in process_one\n",
      "    await dispatch(*args)\n",
      "          │         └ ([<zmq.sugar.frame.Frame object at 0x10c929b10>, <zmq.sugar.frame.Frame object at 0x10c92a770>, <zmq.sugar.frame.Frame object...\n",
      "          └ <bound method Kernel.dispatch_shell of <ipykernel.ipkernel.IPythonKernel object at 0x10f133430>>\n",
      "  File \"/usr/local/Caskroom/miniforge/base/envs/europeana_alto/lib/python3.10/site-packages/ipykernel/kernelbase.py\", line 406, in dispatch_shell\n",
      "    await result\n",
      "          └ <coroutine object Kernel.execute_request at 0x12ae1f530>\n",
      "  File \"/usr/local/Caskroom/miniforge/base/envs/europeana_alto/lib/python3.10/site-packages/ipykernel/kernelbase.py\", line 730, in execute_request\n",
      "    reply_content = await reply_content\n",
      "                          └ <coroutine object IPythonKernel.do_execute at 0x12ae1f220>\n",
      "  File \"/usr/local/Caskroom/miniforge/base/envs/europeana_alto/lib/python3.10/site-packages/ipykernel/ipkernel.py\", line 383, in do_execute\n",
      "    res = shell.run_cell(\n",
      "          │     └ <function ZMQInteractiveShell.run_cell at 0x10f1356c0>\n",
      "          └ <ipykernel.zmqshell.ZMQInteractiveShell object at 0x10f1330a0>\n",
      "  File \"/usr/local/Caskroom/miniforge/base/envs/europeana_alto/lib/python3.10/site-packages/ipykernel/zmqshell.py\", line 528, in run_cell\n",
      "    return super().run_cell(*args, **kwargs)\n",
      "                             │       └ {'store_history': True, 'silent': False, 'cell_id': 'vscode-notebook-cell:/Users/dvanstrien/Documents/bscience/biglam/altoxml...\n",
      "                             └ ('datasets = process(alto_xmls, metadata_directory=\"test_data/metadata\")',)\n",
      "  File \"/usr/local/Caskroom/miniforge/base/envs/europeana_alto/lib/python3.10/site-packages/IPython/core/interactiveshell.py\", line 2881, in run_cell\n",
      "    result = self._run_cell(\n",
      "             │    └ <function InteractiveShell._run_cell at 0x10dd27d90>\n",
      "             └ <ipykernel.zmqshell.ZMQInteractiveShell object at 0x10f1330a0>\n",
      "  File \"/usr/local/Caskroom/miniforge/base/envs/europeana_alto/lib/python3.10/site-packages/IPython/core/interactiveshell.py\", line 2936, in _run_cell\n",
      "    return runner(coro)\n",
      "           │      └ <coroutine object InteractiveShell.run_cell_async at 0x12ae1dc40>\n",
      "           └ <function _pseudo_sync_runner at 0x10dd03880>\n",
      "  File \"/usr/local/Caskroom/miniforge/base/envs/europeana_alto/lib/python3.10/site-packages/IPython/core/async_helpers.py\", line 129, in _pseudo_sync_runner\n",
      "    coro.send(None)\n",
      "    │    └ <method 'send' of 'coroutine' objects>\n",
      "    └ <coroutine object InteractiveShell.run_cell_async at 0x12ae1dc40>\n",
      "  File \"/usr/local/Caskroom/miniforge/base/envs/europeana_alto/lib/python3.10/site-packages/IPython/core/interactiveshell.py\", line 3135, in run_cell_async\n",
      "    has_raised = await self.run_ast_nodes(code_ast.body, cell_name,\n",
      "                       │    │             │        │     └ '/var/folders/tj/54sfzlyj6_573fn82y996grc0000gr/T/ipykernel_78791/1082066741.py'\n",
      "                       │    │             │        └ [<ast.Assign object at 0x120586d40>]\n",
      "                       │    │             └ <ast.Module object at 0x120586f20>\n",
      "                       │    └ <function InteractiveShell.run_ast_nodes at 0x10dd2c160>\n",
      "                       └ <ipykernel.zmqshell.ZMQInteractiveShell object at 0x10f1330a0>\n",
      "  File \"/usr/local/Caskroom/miniforge/base/envs/europeana_alto/lib/python3.10/site-packages/IPython/core/interactiveshell.py\", line 3338, in run_ast_nodes\n",
      "    if await self.run_code(code, result, async_=asy):\n",
      "             │    │        │     │              └ False\n",
      "             │    │        │     └ <ExecutionResult object at 1204ba1d0, execution_count=52 error_before_exec=None error_in_exec=None info=<ExecutionInfo object...\n",
      "             │    │        └ <code object <cell line: 1> at 0x11fe07470, file \"/var/folders/tj/54sfzlyj6_573fn82y996grc0000gr/T/ipykernel_78791/1082066741...\n",
      "             │    └ <function InteractiveShell.run_code at 0x10dd2c1f0>\n",
      "             └ <ipykernel.zmqshell.ZMQInteractiveShell object at 0x10f1330a0>\n",
      "  File \"/usr/local/Caskroom/miniforge/base/envs/europeana_alto/lib/python3.10/site-packages/IPython/core/interactiveshell.py\", line 3398, in run_code\n",
      "    exec(code_obj, self.user_global_ns, self.user_ns)\n",
      "         │         │    │               │    └ {'__name__': '__main__', '__doc__': 'Automatically created module for IPython interactive environment', '__package__': None, ...\n",
      "         │         │    │               └ <ipykernel.zmqshell.ZMQInteractiveShell object at 0x10f1330a0>\n",
      "         │         │    └ <property object at 0x10dd15a30>\n",
      "         │         └ <ipykernel.zmqshell.ZMQInteractiveShell object at 0x10f1330a0>\n",
      "         └ <code object <cell line: 1> at 0x11fe07470, file \"/var/folders/tj/54sfzlyj6_573fn82y996grc0000gr/T/ipykernel_78791/1082066741...\n",
      "\n",
      "  File \"/var/folders/tj/54sfzlyj6_573fn82y996grc0000gr/T/ipykernel_78791/1082066741.py\", line 1, in <cell line: 1>\n",
      "    datasets = process(alto_xmls, metadata_directory=\"test_data/metadata\")\n",
      "               │       └ [Path('test_data/9200396/BibliographicResource_3000118436002/88.xml'), Path('test_data/9200396/BibliographicResource_30001184...\n",
      "               └ <function process at 0x12aaeeb00>\n",
      "\n",
      "  File \"/var/folders/tj/54sfzlyj6_573fn82y996grc0000gr/T/ipykernel_78791/3476464341.py\", line 17, in process\n",
      "    future = executor.submit(\n",
      "             │        └ <function ProcessPoolExecutor.submit at 0x10f73a4d0>\n",
      "             └ <concurrent.futures.process.ProcessPoolExecutor object at 0x1203700a0>\n",
      "\n",
      "  File \"/usr/local/Caskroom/miniforge/base/envs/europeana_alto/lib/python3.10/concurrent/futures/process.py\", line 733, in submit\n",
      "    self._start_executor_manager_thread()\n",
      "    │    └ <function ProcessPoolExecutor._start_executor_manager_thread at 0x10f73a290>\n",
      "    └ <concurrent.futures.process.ProcessPoolExecutor object at 0x1203700a0>\n",
      "  File \"/usr/local/Caskroom/miniforge/base/envs/europeana_alto/lib/python3.10/concurrent/futures/process.py\", line 673, in _start_executor_manager_thread\n",
      "    self._launch_processes()\n",
      "    │    └ <function ProcessPoolExecutor._launch_processes at 0x10f73a3b0>\n",
      "    └ <concurrent.futures.process.ProcessPoolExecutor object at 0x1203700a0>\n",
      "  File \"/usr/local/Caskroom/miniforge/base/envs/europeana_alto/lib/python3.10/concurrent/futures/process.py\", line 700, in _launch_processes\n",
      "    self._spawn_process()\n",
      "    │    └ <function ProcessPoolExecutor._spawn_process at 0x10f73a440>\n",
      "    └ <concurrent.futures.process.ProcessPoolExecutor object at 0x1203700a0>\n",
      "  File \"/usr/local/Caskroom/miniforge/base/envs/europeana_alto/lib/python3.10/concurrent/futures/process.py\", line 709, in _spawn_process\n",
      "    p.start()\n",
      "    │ └ <function BaseProcess.start at 0x10f6d08b0>\n",
      "    └ <ForkProcess name='ForkProcess-26' parent=78791 started>\n",
      "  File \"/usr/local/Caskroom/miniforge/base/envs/europeana_alto/lib/python3.10/multiprocessing/process.py\", line 121, in start\n",
      "    self._popen = self._Popen(self)\n",
      "    │    │        │    │      └ <ForkProcess name='ForkProcess-26' parent=78791 started>\n",
      "    │    │        │    └ <staticmethod(<function ForkProcess._Popen at 0x10f6d3520>)>\n",
      "    │    │        └ <ForkProcess name='ForkProcess-26' parent=78791 started>\n",
      "    │    └ None\n",
      "    └ <ForkProcess name='ForkProcess-26' parent=78791 started>\n",
      "  File \"/usr/local/Caskroom/miniforge/base/envs/europeana_alto/lib/python3.10/multiprocessing/context.py\", line 277, in _Popen\n",
      "    return Popen(process_obj)\n",
      "           │     └ <ForkProcess name='ForkProcess-26' parent=78791 started>\n",
      "           └ <class 'multiprocessing.popen_fork.Popen'>\n",
      "  File \"/usr/local/Caskroom/miniforge/base/envs/europeana_alto/lib/python3.10/multiprocessing/popen_fork.py\", line 19, in __init__\n",
      "    self._launch(process_obj)\n",
      "    │    │       └ <ForkProcess name='ForkProcess-26' parent=78791 started>\n",
      "    │    └ <function Popen._launch at 0x12ae5a680>\n",
      "    └ <multiprocessing.popen_fork.Popen object at 0x1204e8eb0>\n",
      "  File \"/usr/local/Caskroom/miniforge/base/envs/europeana_alto/lib/python3.10/multiprocessing/popen_fork.py\", line 71, in _launch\n",
      "    code = process_obj._bootstrap(parent_sentinel=child_r)\n",
      "           │           │                          └ 101\n",
      "           │           └ <function BaseProcess._bootstrap at 0x10f6d11b0>\n",
      "           └ <ForkProcess name='ForkProcess-26' parent=78791 started>\n",
      "  File \"/usr/local/Caskroom/miniforge/base/envs/europeana_alto/lib/python3.10/multiprocessing/process.py\", line 315, in _bootstrap\n",
      "    self.run()\n",
      "    │    └ <function BaseProcess.run at 0x10f6d0820>\n",
      "    └ <ForkProcess name='ForkProcess-26' parent=78791 started>\n",
      "  File \"/usr/local/Caskroom/miniforge/base/envs/europeana_alto/lib/python3.10/multiprocessing/process.py\", line 108, in run\n",
      "    self._target(*self._args, **self._kwargs)\n",
      "    │    │        │    │        │    └ {}\n",
      "    │    │        │    │        └ <ForkProcess name='ForkProcess-26' parent=78791 started>\n",
      "    │    │        │    └ (<concurrent.futures.process._SafeQueue object at 0x120370340>, <multiprocessing.queues.SimpleQueue object at 0x120370580>, N...\n",
      "    │    │        └ <ForkProcess name='ForkProcess-26' parent=78791 started>\n",
      "    │    └ <function _process_worker at 0x10f739990>\n",
      "    └ <ForkProcess name='ForkProcess-26' parent=78791 started>\n",
      "> File \"/usr/local/Caskroom/miniforge/base/envs/europeana_alto/lib/python3.10/concurrent/futures/process.py\", line 246, in _process_worker\n",
      "    r = call_item.fn(*call_item.args, **call_item.kwargs)\n",
      "        │         │   │         │       │         └ {'metadata_directory': 'test_data/metadata'}\n",
      "        │         │   │         │       └ <concurrent.futures.process._CallItem object at 0x120573e20>\n",
      "        │         │   │         └ ([Path('test_data/9200396/BibliographicResource_3000118435219/56.xml'), Path('test_data/9200396/BibliographicResource_3000118...\n",
      "        │         │   └ <concurrent.futures.process._CallItem object at 0x120573e20>\n",
      "        │         └ <function process_batch at 0x11fd1e560>\n",
      "        └ <concurrent.futures.process._CallItem object at 0x120573e20>\n",
      "\n",
      "  File \"/var/folders/tj/54sfzlyj6_573fn82y996grc0000gr/T/ipykernel_78791/4029529654.py\", line 5, in process_batch\n",
      "    batch = [\n",
      "\n",
      "  File \"/var/folders/tj/54sfzlyj6_573fn82y996grc0000gr/T/ipykernel_78791/4029529654.py\", line 6, in <listcomp>\n",
      "    asdict(process_newspaper_page(xml, metadata_directory=metadata_directory))\n",
      "    │      │                      │                       └ 'test_data/metadata'\n",
      "    │      │                      └ Path('test_data/9200396/BibliographicResource_3000118435219/56.xml')\n",
      "    │      └ <function process_newspaper_page at 0x115ec9750>\n",
      "    └ <function asdict at 0x113b6ed40>\n",
      "\n",
      "  File \"/var/folders/tj/54sfzlyj6_573fn82y996grc0000gr/T/ipykernel_78791/2495607774.py\", line 6, in process_newspaper_page\n",
      "    metadata = get_metadata_for_page(page, metadata_directory=metadata_directory)\n",
      "               │                     │                        └ 'test_data/metadata'\n",
      "               │                     └ NewspaperPageAlto(fname=Path('test_data/9200396/BibliographicResource_3000118435219/56.xml'), text=\"La Clef du Cabinet pofiti...\n",
      "               └ <function get_metadata_for_page at 0x115ec9480>\n",
      "\n",
      "  File \"/var/folders/tj/54sfzlyj6_573fn82y996grc0000gr/T/ipykernel_78791/1766452236.py\", line 7, in get_metadata_for_page\n",
      "    return get_metadata_from_xml(metadata_xml)\n",
      "           │                     └ 'test_data/metadata/http%3A%2F%2Fdata.theeuropeanlibrary.org%2FBibliographicResource%2F3000118435219.edm.xml'\n",
      "           └ <function get_metadata_from_xml at 0x115ec8e50>\n",
      "\n",
      "  File \"/var/folders/tj/54sfzlyj6_573fn82y996grc0000gr/T/ipykernel_78791/3063984921.py\", line 4, in get_metadata_from_xml\n",
      "    xml = xmltodict.parse(f.read())\n",
      "          │         │     │ └ <method 'read' of '_io.TextIOWrapper' objects>\n",
      "          │         │     └ <_io.TextIOWrapper name='test_data/metadata/http%3A%2F%2Fdata.theeuropeanlibrary.org%2FBibliographicResource%2F3000118435219....\n",
      "          │         └ <function parse at 0x1138e8430>\n",
      "          └ <module 'xmltodict' from '/usr/local/Caskroom/miniforge/base/envs/europeana_alto/lib/python3.10/site-packages/xmltodict.py'>\n",
      "\n",
      "  File \"/usr/local/Caskroom/miniforge/base/envs/europeana_alto/lib/python3.10/site-packages/xmltodict.py\", line 378, in parse\n",
      "    parser.Parse(xml_input, True)\n",
      "    │      │     └ b'\\x00\\x00\\x00\\x00\\x00\\x00\\x00\\x00\\x00\\x00\\x00\\x00\\x00\\x00\\x00\\x00\\x00\\x00\\x00\\x00\\x00\\x00\\x00\\x00\\x00\\x00\\x00\\x00\\x00\\x00\\x0...\n",
      "    │      └ <method 'Parse' of 'pyexpat.xmlparser' objects>\n",
      "    └ <pyexpat.xmlparser object at 0x12ae26800>\n",
      "\n",
      "xml.parsers.expat.ExpatError: not well-formed (invalid token): line 1, column 0\n"
     ]
    }
   ],
   "source": [
    "datasets = process(alto_xmls, metadata_directory=\"test_data/metadata\")"
   ]
  },
  {
   "cell_type": "code",
   "execution_count": null,
   "metadata": {},
   "outputs": [],
   "source": [
    "from datasets import concatenate_datasets"
   ]
  },
  {
   "cell_type": "code",
   "execution_count": null,
   "metadata": {},
   "outputs": [
    {
     "data": {
      "text/plain": [
       "{'text': \"15 * Décembre qu’ils avoient fous leurs yeux qu’il falloit s’attacher, puifque le falut de tous en rélul- toit ; auffi-tôt il les guide , prend une échelle, & monte avec eux fur le toit de cette, grange grange , où ils paffent la nuit à y étouffer les étincelles étincelles & à faire tomber les charbons que l’activité l’activité des flammes lançoit continuellement fur cette couverture de chaume. Ainû votant leur patrimoine fe confumer près d’eux, ils fe dévouèrent généreufement à un travail qui devoir conferver au moins deux cents mai- fons, & qui en effet arrêta les progrès de l’incendie. On écrit de St. Euftache qu’un ouragan plus terrible que celui de 1738 a caufé des dommages confidérables à la Guadeloupe & à Grandiere : tous les vaiffeaux ont été jettés fort avant dans les terres, & 011 défef- pere de pouvoir les remettre en mer. Indépendamment Indépendamment de quelques maifons de pierre, toutes celles qui étoient bâties en bois, ont été abattues par la violence du vent. Cet ouragan étoit accompagné d’une pluie conli- dérable, qui en peu de tems forma une efpece de déluge. On vient d’établir, fous la protection du gouvernement, une manufacture de Aparté- rie au fauxbourg St. Antoine; c’eft une fabrication fabrication de cordages avec la plante que les naturalises appellent gramen fpartcnm. On connoit dans la marine le fparion , cordage de genêt d’Efpagne, d’Afrique & de Murcie; Murcie; d’un bon ufage, l'oit à l’eau de mer, foie à l’eau douce. Hé fleur Bcithc, qui dt 651\",\n",
       " 'mean_ocr': 0.5280378429774902,\n",
       " 'std_ocr': 0.18456327090617758,\n",
       " 'bounding_boxes': [],\n",
       " 'title': 'Journal historique et littéraire',\n",
       " 'date': '1776-12-15',\n",
       " 'language': ['fr'],\n",
       " 'item_iiif_url': 'https://iiif.europeana.eu/image/2TS6TSUK5ULAT2TQMYN7UGBDCPKQBLHQPTPDD6GGYB4QOZXR72EQ/presentation_images/bc994340-0232-11e6-a696-fa163e2dd531/node-3/image/BNL/Journal_historique_et_littéraire/1776/12/15/00547/full/full/0/default.jpg',\n",
       " 'multi_language': False,\n",
       " 'issue_uri': 'https://www.europeana.eu/item/9200396/BibliographicResource_3000118436002',\n",
       " 'id': 'https://www.europeana.eu/item/9200396/BibliographicResource_3000118436002/$75'}"
      ]
     },
     "execution_count": null,
     "metadata": {},
     "output_type": "execute_result"
    }
   ],
   "source": [
    "dataset = concatenate_datasets(datasets)\n",
    "dataset[9]"
   ]
  },
  {
   "cell_type": "code",
   "execution_count": null,
   "metadata": {},
   "outputs": [],
   "source": []
  }
 ],
 "metadata": {
  "kernelspec": {
   "display_name": "Python 3.10.5 ('europeana_alto')",
   "language": "python",
   "name": "python3"
  }
 },
 "nbformat": 4,
 "nbformat_minor": 4
}
