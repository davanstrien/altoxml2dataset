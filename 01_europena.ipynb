{
 "cells": [
  {
   "cell_type": "code",
   "execution_count": null,
   "metadata": {},
   "outputs": [],
   "source": [
    "# | default_exp europena"
   ]
  },
  {
   "cell_type": "markdown",
   "metadata": {},
   "source": [
    "# Europeana newspaper parsers\n",
    "\n",
    "> Parsers for Europena newspapers"
   ]
  },
  {
   "cell_type": "markdown",
   "metadata": {},
   "source": [
    "The goal of this code is to create a pipeline for parsing the [Europeana newspaper bulk downloads](https://pro.europeana.eu/page/iiif#download) and converting the orignal ALTO XML formats + metadata into a format that can be ingested easily into the 🤗 [datasets](https://huggingface.co/docs/datasets/index) library and cons\n",
    "\n",
    " for #BigLAM. This code is mostly colated from other places. We used [nbdev](https://nbdev.fast.ai/) to give our code some:\n",
    "\n",
    "- basic tests\n",
    "- some basic documentation \n",
    "- make it easily instalable as a Python package. \n",
    "\n",
    "**note** some of these parsers are likely to be more generic but we'll develop them for europena newspapers for now. Once they have been tested on other collections they may be moved to a core module. "
   ]
  },
  {
   "cell_type": "code",
   "execution_count": null,
   "metadata": {},
   "outputs": [],
   "source": [
    "# %load_ext rich"
   ]
  },
  {
   "cell_type": "code",
   "execution_count": null,
   "metadata": {},
   "outputs": [],
   "source": [
    "# |hide\n",
    "from nbdev.showdoc import *"
   ]
  },
  {
   "cell_type": "code",
   "execution_count": null,
   "metadata": {},
   "outputs": [],
   "source": [
    "# |export\n",
    "import io\n",
    "import os\n",
    "import xml\n",
    "import xml.etree.ElementTree as ET\n",
    "from concurrent.futures import ProcessPoolExecutor, as_completed\n",
    "# from dataclaises import asdict, dataclass, field\n",
    "from functools import lru_cache\n",
    "from pathlib import Path\n",
    "from statistics import mean, stdev\n",
    "from attrs import asdict\n",
    "\n",
    "from typing import Any, Dict, Iterable, List, Optional, Union\n",
    "from attrs import define, field\n",
    "\n",
    "import xmltodict\n",
    "from toolz import partition_all\n",
    "from tqdm.auto import tqdm"
   ]
  },
  {
   "cell_type": "markdown",
   "metadata": {},
   "source": [
    "## ALTO Processing\n",
    "\n",
    "ALTO is an XML format commonly used to store the outout of Opitcal Character Recogniton software. "
   ]
  },
  {
   "cell_type": "markdown",
   "metadata": {},
   "source": [
    "### Create test data\n",
    "\n",
    "A small amount of test data is included in the repository and versioned with Git. To avoid bloating the repository too much the below cell can either be run as part of test (including) slow tests or run locally to give oneself a bigger amount of data to test methods with. "
   ]
  },
  {
   "cell_type": "code",
   "execution_count": null,
   "metadata": {},
   "outputs": [],
   "source": [
    "# |slow\n",
    "# !aria2c -x 4 -d test_data/ --auto-file-renaming=false ftp://download.europeana.eu/newspapers/fulltext/alto/9200357.zip"
   ]
  },
  {
   "cell_type": "code",
   "execution_count": null,
   "metadata": {},
   "outputs": [],
   "source": [
    "# !unzip test_data/9200357.zip -d test_data/"
   ]
  },
  {
   "cell_type": "code",
   "execution_count": null,
   "metadata": {},
   "outputs": [
    {
     "data": {
      "text/html": [
       "<pre style=\"white-space:pre;overflow-x:auto;line-height:normal;font-family:Menlo,'DejaVu Sans Mono',consolas,'Courier New',monospace\"><span style=\"color: #008080; text-decoration-color: #008080; font-weight: bold\">108432</span>\n",
       "</pre>\n"
      ],
      "text/plain": [
       "\u001b[1;36m108432\u001b[0m\n"
      ]
     },
     "metadata": {},
     "output_type": "display_data"
    }
   ],
   "source": [
    "xmls = list(Path(\"test_data\").rglob(\"*.xml\"))\n",
    "len(xmls)"
   ]
  },
  {
   "cell_type": "code",
   "execution_count": null,
   "metadata": {},
   "outputs": [
    {
     "data": {
      "text/html": [
       "<pre style=\"white-space:pre;overflow-x:auto;line-height:normal;font-family:Menlo,'DejaVu Sans Mono',consolas,'Courier New',monospace\">\n",
       "<span style=\"font-weight: bold\">[</span>\n",
       "    <span style=\"color: #800080; text-decoration-color: #800080; font-weight: bold\">Path</span><span style=\"font-weight: bold\">(</span><span style=\"color: #008000; text-decoration-color: #008000\">'test_data/9200357/BibliographicResource_3000095232526/8.xml'</span><span style=\"font-weight: bold\">)</span>,\n",
       "    <span style=\"color: #800080; text-decoration-color: #800080; font-weight: bold\">Path</span><span style=\"font-weight: bold\">(</span><span style=\"color: #008000; text-decoration-color: #008000\">'test_data/9200357/BibliographicResource_3000095232526/9.xml'</span><span style=\"font-weight: bold\">)</span>\n",
       "<span style=\"font-weight: bold\">]</span>\n",
       "</pre>\n"
      ],
      "text/plain": [
       "\n",
       "\u001b[1m[\u001b[0m\n",
       "    \u001b[1;35mPath\u001b[0m\u001b[1m(\u001b[0m\u001b[32m'test_data/9200357/BibliographicResource_3000095232526/8.xml'\u001b[0m\u001b[1m)\u001b[0m,\n",
       "    \u001b[1;35mPath\u001b[0m\u001b[1m(\u001b[0m\u001b[32m'test_data/9200357/BibliographicResource_3000095232526/9.xml'\u001b[0m\u001b[1m)\u001b[0m\n",
       "\u001b[1m]\u001b[0m\n"
      ]
     },
     "metadata": {},
     "output_type": "display_data"
    }
   ],
   "source": [
    "xmls[:2]"
   ]
  },
  {
   "cell_type": "markdown",
   "metadata": {},
   "source": [
    "## Parse ALTO XMLs\n",
    "\n",
    "The first step is to parse the xml file from disk into a elementree that we can use for other takss\n",
    "stolen from; https://github.com/cneud/alto-tools/blob/master/alto_tools.py"
   ]
  },
  {
   "cell_type": "code",
   "execution_count": null,
   "metadata": {},
   "outputs": [],
   "source": [
    "# |export\n",
    "from loguru import logger"
   ]
  },
  {
   "cell_type": "code",
   "execution_count": null,
   "metadata": {},
   "outputs": [],
   "source": [
    "# |export\n",
    "def alto_parse(alto: Union[str, Path], **kwargs):\n",
    "    \"\"\"Convert ALTO xml file to element tree\"\"\"\n",
    "    try:\n",
    "        xml = ET.parse(alto, **kwargs)\n",
    "    except ET.ParseError as e:\n",
    "        logger.error(f\"Parser Error in file '{alto}': {e}\")\n",
    "        return None\n",
    "    # Register ALTO namespaces\n",
    "    # https://www.loc.gov/standards/alto/ | https://github.com/altoxml\n",
    "    # alto-bnf (unoffical) BnF ALTO dialect - for further info see\n",
    "    # http://bibnum.bnf.fr/alto_prod/documentation/alto_prod.html\n",
    "    namespace = {\n",
    "        \"alto-1\": \"http://schema.ccs-gmbh.com/ALTO\",\n",
    "        \"alto-2\": \"http://www.loc.gov/standards/alto/ns-v2#\",\n",
    "        \"alto-3\": \"http://www.loc.gov/standards/alto/ns-v3#\",\n",
    "        \"alto-4\": \"http://www.loc.gov/standards/alto/ns-v4#\",\n",
    "        \"alto-5\": \"http://schema.ccs-gmbh.com/docworks/version20/alto-1-4.xsd\",\n",
    "        \"alto-bnf\": \"http://bibnum.bnf.fr/ns/alto_prod\",\n",
    "    }\n",
    "    # Extract namespace from document root\n",
    "    if \"http://\" in str(xml.getroot().tag.split(\"}\")[0].strip(\"{\")):\n",
    "        xmlns = xml.getroot().tag.split(\"}\")[0].strip(\"{\")\n",
    "    else:\n",
    "        try:\n",
    "            ns = xml.getroot().attrib\n",
    "            xmlns = str(ns).split(\" \")[1].strip(\"}\").strip(\"'\")\n",
    "        except IndexError:\n",
    "            logger.warning(f\"File {alto.name}: no namespace declaration found.\")\n",
    "            xmlns = \"no_namespace_found\"\n",
    "    if xmlns in namespace.values():\n",
    "        return alto, xml, xmlns\n",
    "    else:\n",
    "        logger.warning(f\"File {alto.name}: namespace {xmlns} is not registered.\")"
   ]
  },
  {
   "cell_type": "code",
   "execution_count": null,
   "metadata": {},
   "outputs": [
    {
     "data": {
      "text/html": [
       "<pre style=\"white-space:pre;overflow-x:auto;line-height:normal;font-family:Menlo,'DejaVu Sans Mono',consolas,'Courier New',monospace\"><span style=\"color: #800080; text-decoration-color: #800080; font-weight: bold\">Path</span><span style=\"font-weight: bold\">(</span><span style=\"color: #008000; text-decoration-color: #008000\">'test_data/9200357/BibliographicResource_3000095232526/8.xml'</span><span style=\"font-weight: bold\">)</span>\n",
       "</pre>\n"
      ],
      "text/plain": [
       "\u001b[1;35mPath\u001b[0m\u001b[1m(\u001b[0m\u001b[32m'test_data/9200357/BibliographicResource_3000095232526/8.xml'\u001b[0m\u001b[1m)\u001b[0m\n"
      ]
     },
     "metadata": {},
     "output_type": "display_data"
    }
   ],
   "source": [
    "xmls[0]"
   ]
  },
  {
   "cell_type": "code",
   "execution_count": null,
   "metadata": {},
   "outputs": [
    {
     "name": "stderr",
     "output_type": "stream",
     "text": [
      "2022-08-09 09:50:38.393 | ERROR    | __main__:alto_parse:7 - Parser Error in file 'fake.xml': no element found: line 1, column 0\n"
     ]
    }
   ],
   "source": [
    "fname, xml, ns = alto_parse(xmls[0])\n",
    "assert all([fname, xml, ns])\n",
    "Path(\"fake.xml\").touch(exist_ok=True)\n",
    "bad_xml = alto_parse(Path(\"fake.xml\"))\n",
    "# assert isinstance(bad_xml, None)"
   ]
  },
  {
   "cell_type": "code",
   "execution_count": null,
   "metadata": {},
   "outputs": [],
   "source": [
    "# |export\n",
    "def get_alto_text(xml, xmlns, join_lines=True):\n",
    "    \"\"\"Extract text content from ALTO xml file\"\"\"\n",
    "    all_text = []\n",
    "    all_wc = []\n",
    "    # Find all <TextLine> elements\n",
    "    for lines in xml.iterfind(\".//{%s}TextLine\" % xmlns):\n",
    "        # Find all <String> elements\n",
    "        for line in lines.findall(\"{%s}String\" % xmlns):\n",
    "            wc = line.attrib[\"WC\"]\n",
    "            if wc is not None:\n",
    "                all_wc.append(float(wc))\n",
    "            # Check if there are no hyphenated words\n",
    "            if \"SUBS_CONTENT\" not in line.attrib and \"SUBS_TYPE\" not in line.attrib:\n",
    "                # Get value of attribute @CONTENT from all <String> elements\n",
    "                text = line.attrib.get(\"CONTENT\")  # + ' '\n",
    "            elif \"HypPart1\" in line.attrib.get(\"SUBS_TYPE\"):\n",
    "                text = line.attrib.get(\"SUBS_CONTENT\")  # + ' '\n",
    "                if \"HypPart2\" in line.attrib.get(\"SUBS_TYPE\"):\n",
    "                    pass\n",
    "            all_text.append(text)\n",
    "    if all_wc:\n",
    "        mean_ocr = mean(all_wc)\n",
    "    if len(all_wc) > 2:\n",
    "        std_ocr = stdev(all_wc)\n",
    "    else:\n",
    "        mean_ocr = None\n",
    "        std_ocr = None\n",
    "    return \" \".join(all_text), mean_ocr, std_ocr"
   ]
  },
  {
   "cell_type": "code",
   "execution_count": null,
   "metadata": {},
   "outputs": [],
   "source": [
    "text, wc, std_ocr = get_alto_text(xml, ns)\n",
    "assert all([text, wc, std_ocr])\n",
    "assert isinstance(text, str)\n",
    "assert isinstance(wc, float)\n",
    "assert isinstance(std_ocr, float)"
   ]
  },
  {
   "cell_type": "code",
   "execution_count": null,
   "metadata": {},
   "outputs": [],
   "source": [
    "# |export\n",
    "def alto_illustrations(xml, xmlns):\n",
    "    \"\"\"Extract bounding boxes of illustration from ALTO xml file\"\"\"\n",
    "    # Find all <Illustration> elements\n",
    "    bounding_boxes = []\n",
    "    for illustration in xml.iterfind(\".//{%s}Illustration\" % xmlns):\n",
    "        # Get @ID of <Illustration> element\n",
    "        illustration_id = illustration.attrib.get(\"ID\")\n",
    "        # Get coordinates of <Illustration> element\n",
    "        illustration_coords = list(\n",
    "            map(\n",
    "                float,\n",
    "                (\n",
    "                    illustration.attrib.get(\"HEIGHT\"),\n",
    "                    illustration.attrib.get(\"WIDTH\"),\n",
    "                    illustration.attrib.get(\"VPOS\"),\n",
    "                    illustration.attrib.get(\"HPOS\"),\n",
    "                ),\n",
    "            )\n",
    "        )\n",
    "        bounding_boxes.append(illustration_coords)\n",
    "    return bounding_boxes"
   ]
  },
  {
   "cell_type": "code",
   "execution_count": null,
   "metadata": {},
   "outputs": [
    {
     "data": {
      "text/html": [
       "<pre style=\"white-space:pre;overflow-x:auto;line-height:normal;font-family:Menlo,'DejaVu Sans Mono',consolas,'Courier New',monospace\">\n",
       "<span style=\"font-weight: bold\">[</span>\n",
       "    <span style=\"font-weight: bold\">[</span><span style=\"color: #008080; text-decoration-color: #008080; font-weight: bold\">113.0</span>, <span style=\"color: #008080; text-decoration-color: #008080; font-weight: bold\">563.0</span>, <span style=\"color: #008080; text-decoration-color: #008080; font-weight: bold\">2858.0</span>, <span style=\"color: #008080; text-decoration-color: #008080; font-weight: bold\">512.0</span><span style=\"font-weight: bold\">]</span>,\n",
       "    <span style=\"font-weight: bold\">[</span><span style=\"color: #008080; text-decoration-color: #008080; font-weight: bold\">178.0</span>, <span style=\"color: #008080; text-decoration-color: #008080; font-weight: bold\">774.0</span>, <span style=\"color: #008080; text-decoration-color: #008080; font-weight: bold\">4211.0</span>, <span style=\"color: #008080; text-decoration-color: #008080; font-weight: bold\">363.0</span><span style=\"font-weight: bold\">]</span>,\n",
       "    <span style=\"font-weight: bold\">[</span><span style=\"color: #008080; text-decoration-color: #008080; font-weight: bold\">474.0</span>, <span style=\"color: #008080; text-decoration-color: #008080; font-weight: bold\">1107.0</span>, <span style=\"color: #008080; text-decoration-color: #008080; font-weight: bold\">4519.0</span>, <span style=\"color: #008080; text-decoration-color: #008080; font-weight: bold\">366.0</span><span style=\"font-weight: bold\">]</span>,\n",
       "    <span style=\"font-weight: bold\">[</span><span style=\"color: #008080; text-decoration-color: #008080; font-weight: bold\">147.0</span>, <span style=\"color: #008080; text-decoration-color: #008080; font-weight: bold\">2312.0</span>, <span style=\"color: #008080; text-decoration-color: #008080; font-weight: bold\">466.0</span>, <span style=\"color: #008080; text-decoration-color: #008080; font-weight: bold\">1540.0</span><span style=\"font-weight: bold\">]</span>,\n",
       "    <span style=\"font-weight: bold\">[</span><span style=\"color: #008080; text-decoration-color: #008080; font-weight: bold\">113.0</span>, <span style=\"color: #008080; text-decoration-color: #008080; font-weight: bold\">186.0</span>, <span style=\"color: #008080; text-decoration-color: #008080; font-weight: bold\">732.0</span>, <span style=\"color: #008080; text-decoration-color: #008080; font-weight: bold\">1746.0</span><span style=\"font-weight: bold\">]</span>,\n",
       "    <span style=\"font-weight: bold\">[</span><span style=\"color: #008080; text-decoration-color: #008080; font-weight: bold\">110.0</span>, <span style=\"color: #008080; text-decoration-color: #008080; font-weight: bold\">172.0</span>, <span style=\"color: #008080; text-decoration-color: #008080; font-weight: bold\">734.0</span>, <span style=\"color: #008080; text-decoration-color: #008080; font-weight: bold\">2020.0</span><span style=\"font-weight: bold\">]</span>,\n",
       "    <span style=\"font-weight: bold\">[</span><span style=\"color: #008080; text-decoration-color: #008080; font-weight: bold\">112.0</span>, <span style=\"color: #008080; text-decoration-color: #008080; font-weight: bold\">170.0</span>, <span style=\"color: #008080; text-decoration-color: #008080; font-weight: bold\">738.0</span>, <span style=\"color: #008080; text-decoration-color: #008080; font-weight: bold\">2884.0</span><span style=\"font-weight: bold\">]</span>,\n",
       "    <span style=\"font-weight: bold\">[</span><span style=\"color: #008080; text-decoration-color: #008080; font-weight: bold\">108.0</span>, <span style=\"color: #008080; text-decoration-color: #008080; font-weight: bold\">214.0</span>, <span style=\"color: #008080; text-decoration-color: #008080; font-weight: bold\">737.0</span>, <span style=\"color: #008080; text-decoration-color: #008080; font-weight: bold\">3444.0</span><span style=\"font-weight: bold\">]</span>,\n",
       "    <span style=\"font-weight: bold\">[</span><span style=\"color: #008080; text-decoration-color: #008080; font-weight: bold\">194.0</span>, <span style=\"color: #008080; text-decoration-color: #008080; font-weight: bold\">719.0</span>, <span style=\"color: #008080; text-decoration-color: #008080; font-weight: bold\">1327.0</span>, <span style=\"color: #008080; text-decoration-color: #008080; font-weight: bold\">1743.0</span><span style=\"font-weight: bold\">]</span>,\n",
       "    <span style=\"font-weight: bold\">[</span><span style=\"color: #008080; text-decoration-color: #008080; font-weight: bold\">158.0</span>, <span style=\"color: #008080; text-decoration-color: #008080; font-weight: bold\">254.0</span>, <span style=\"color: #008080; text-decoration-color: #008080; font-weight: bold\">1363.0</span>, <span style=\"color: #008080; text-decoration-color: #008080; font-weight: bold\">3412.0</span><span style=\"font-weight: bold\">]</span>,\n",
       "    <span style=\"font-weight: bold\">[</span><span style=\"color: #008080; text-decoration-color: #008080; font-weight: bold\">102.0</span>, <span style=\"color: #008080; text-decoration-color: #008080; font-weight: bold\">966.0</span>, <span style=\"color: #008080; text-decoration-color: #008080; font-weight: bold\">2766.0</span>, <span style=\"color: #008080; text-decoration-color: #008080; font-weight: bold\">2920.0</span><span style=\"font-weight: bold\">]</span>,\n",
       "    <span style=\"font-weight: bold\">[</span><span style=\"color: #008080; text-decoration-color: #008080; font-weight: bold\">364.0</span>, <span style=\"color: #008080; text-decoration-color: #008080; font-weight: bold\">1679.0</span>, <span style=\"color: #008080; text-decoration-color: #008080; font-weight: bold\">2889.0</span>, <span style=\"color: #008080; text-decoration-color: #008080; font-weight: bold\">1686.0</span><span style=\"font-weight: bold\">]</span>,\n",
       "    <span style=\"font-weight: bold\">[</span><span style=\"color: #008080; text-decoration-color: #008080; font-weight: bold\">560.0</span>, <span style=\"color: #008080; text-decoration-color: #008080; font-weight: bold\">341.0</span>, <span style=\"color: #008080; text-decoration-color: #008080; font-weight: bold\">3670.0</span>, <span style=\"color: #008080; text-decoration-color: #008080; font-weight: bold\">3562.0</span><span style=\"font-weight: bold\">]</span>,\n",
       "    <span style=\"font-weight: bold\">[</span><span style=\"color: #008080; text-decoration-color: #008080; font-weight: bold\">105.0</span>, <span style=\"color: #008080; text-decoration-color: #008080; font-weight: bold\">1020.0</span>, <span style=\"color: #008080; text-decoration-color: #008080; font-weight: bold\">4236.0</span>, <span style=\"color: #008080; text-decoration-color: #008080; font-weight: bold\">2383.0</span><span style=\"font-weight: bold\">]</span>,\n",
       "    <span style=\"font-weight: bold\">[</span><span style=\"color: #008080; text-decoration-color: #008080; font-weight: bold\">129.0</span>, <span style=\"color: #008080; text-decoration-color: #008080; font-weight: bold\">1524.0</span>, <span style=\"color: #008080; text-decoration-color: #008080; font-weight: bold\">4656.0</span>, <span style=\"color: #008080; text-decoration-color: #008080; font-weight: bold\">1574.0</span><span style=\"font-weight: bold\">]</span>,\n",
       "    <span style=\"font-weight: bold\">[</span><span style=\"color: #008080; text-decoration-color: #008080; font-weight: bold\">37.0</span>, <span style=\"color: #008080; text-decoration-color: #008080; font-weight: bold\">387.0</span>, <span style=\"color: #008080; text-decoration-color: #008080; font-weight: bold\">3597.0</span>, <span style=\"color: #008080; text-decoration-color: #008080; font-weight: bold\">2054.0</span><span style=\"font-weight: bold\">]</span>\n",
       "<span style=\"font-weight: bold\">]</span>\n",
       "</pre>\n"
      ],
      "text/plain": [
       "\n",
       "\u001b[1m[\u001b[0m\n",
       "    \u001b[1m[\u001b[0m\u001b[1;36m113.0\u001b[0m, \u001b[1;36m563.0\u001b[0m, \u001b[1;36m2858.0\u001b[0m, \u001b[1;36m512.0\u001b[0m\u001b[1m]\u001b[0m,\n",
       "    \u001b[1m[\u001b[0m\u001b[1;36m178.0\u001b[0m, \u001b[1;36m774.0\u001b[0m, \u001b[1;36m4211.0\u001b[0m, \u001b[1;36m363.0\u001b[0m\u001b[1m]\u001b[0m,\n",
       "    \u001b[1m[\u001b[0m\u001b[1;36m474.0\u001b[0m, \u001b[1;36m1107.0\u001b[0m, \u001b[1;36m4519.0\u001b[0m, \u001b[1;36m366.0\u001b[0m\u001b[1m]\u001b[0m,\n",
       "    \u001b[1m[\u001b[0m\u001b[1;36m147.0\u001b[0m, \u001b[1;36m2312.0\u001b[0m, \u001b[1;36m466.0\u001b[0m, \u001b[1;36m1540.0\u001b[0m\u001b[1m]\u001b[0m,\n",
       "    \u001b[1m[\u001b[0m\u001b[1;36m113.0\u001b[0m, \u001b[1;36m186.0\u001b[0m, \u001b[1;36m732.0\u001b[0m, \u001b[1;36m1746.0\u001b[0m\u001b[1m]\u001b[0m,\n",
       "    \u001b[1m[\u001b[0m\u001b[1;36m110.0\u001b[0m, \u001b[1;36m172.0\u001b[0m, \u001b[1;36m734.0\u001b[0m, \u001b[1;36m2020.0\u001b[0m\u001b[1m]\u001b[0m,\n",
       "    \u001b[1m[\u001b[0m\u001b[1;36m112.0\u001b[0m, \u001b[1;36m170.0\u001b[0m, \u001b[1;36m738.0\u001b[0m, \u001b[1;36m2884.0\u001b[0m\u001b[1m]\u001b[0m,\n",
       "    \u001b[1m[\u001b[0m\u001b[1;36m108.0\u001b[0m, \u001b[1;36m214.0\u001b[0m, \u001b[1;36m737.0\u001b[0m, \u001b[1;36m3444.0\u001b[0m\u001b[1m]\u001b[0m,\n",
       "    \u001b[1m[\u001b[0m\u001b[1;36m194.0\u001b[0m, \u001b[1;36m719.0\u001b[0m, \u001b[1;36m1327.0\u001b[0m, \u001b[1;36m1743.0\u001b[0m\u001b[1m]\u001b[0m,\n",
       "    \u001b[1m[\u001b[0m\u001b[1;36m158.0\u001b[0m, \u001b[1;36m254.0\u001b[0m, \u001b[1;36m1363.0\u001b[0m, \u001b[1;36m3412.0\u001b[0m\u001b[1m]\u001b[0m,\n",
       "    \u001b[1m[\u001b[0m\u001b[1;36m102.0\u001b[0m, \u001b[1;36m966.0\u001b[0m, \u001b[1;36m2766.0\u001b[0m, \u001b[1;36m2920.0\u001b[0m\u001b[1m]\u001b[0m,\n",
       "    \u001b[1m[\u001b[0m\u001b[1;36m364.0\u001b[0m, \u001b[1;36m1679.0\u001b[0m, \u001b[1;36m2889.0\u001b[0m, \u001b[1;36m1686.0\u001b[0m\u001b[1m]\u001b[0m,\n",
       "    \u001b[1m[\u001b[0m\u001b[1;36m560.0\u001b[0m, \u001b[1;36m341.0\u001b[0m, \u001b[1;36m3670.0\u001b[0m, \u001b[1;36m3562.0\u001b[0m\u001b[1m]\u001b[0m,\n",
       "    \u001b[1m[\u001b[0m\u001b[1;36m105.0\u001b[0m, \u001b[1;36m1020.0\u001b[0m, \u001b[1;36m4236.0\u001b[0m, \u001b[1;36m2383.0\u001b[0m\u001b[1m]\u001b[0m,\n",
       "    \u001b[1m[\u001b[0m\u001b[1;36m129.0\u001b[0m, \u001b[1;36m1524.0\u001b[0m, \u001b[1;36m4656.0\u001b[0m, \u001b[1;36m1574.0\u001b[0m\u001b[1m]\u001b[0m,\n",
       "    \u001b[1m[\u001b[0m\u001b[1;36m37.0\u001b[0m, \u001b[1;36m387.0\u001b[0m, \u001b[1;36m3597.0\u001b[0m, \u001b[1;36m2054.0\u001b[0m\u001b[1m]\u001b[0m\n",
       "\u001b[1m]\u001b[0m\n"
      ]
     },
     "metadata": {},
     "output_type": "display_data"
    }
   ],
   "source": [
    "alto_illustrations(xml, ns)"
   ]
  },
  {
   "cell_type": "code",
   "execution_count": null,
   "metadata": {},
   "outputs": [],
   "source": [
    "def get_illustrations(xmls):\n",
    "    for file in xmls:\n",
    "        with open(file, \"r\") as f:\n",
    "            for line in f:\n",
    "                if \"Illustration\" in line:\n",
    "                    yield file\n",
    "                    break"
   ]
  },
  {
   "cell_type": "code",
   "execution_count": null,
   "metadata": {},
   "outputs": [],
   "source": [
    "from toolz import take"
   ]
  },
  {
   "cell_type": "code",
   "execution_count": null,
   "metadata": {},
   "outputs": [],
   "source": [
    "illustration_xmls = list(take(10, get_illustrations(xmls)))"
   ]
  },
  {
   "cell_type": "code",
   "execution_count": null,
   "metadata": {},
   "outputs": [
    {
     "data": {
      "text/html": [
       "<pre style=\"white-space:pre;overflow-x:auto;line-height:normal;font-family:Menlo,'DejaVu Sans Mono',consolas,'Courier New',monospace\">\n",
       "<span style=\"font-weight: bold\">[</span>\n",
       "    <span style=\"color: #800080; text-decoration-color: #800080; font-weight: bold\">Path</span><span style=\"font-weight: bold\">(</span><span style=\"color: #008000; text-decoration-color: #008000\">'test_data/9200357/BibliographicResource_3000095232526/8.xml'</span><span style=\"font-weight: bold\">)</span>,\n",
       "    <span style=\"color: #800080; text-decoration-color: #800080; font-weight: bold\">Path</span><span style=\"font-weight: bold\">(</span><span style=\"color: #008000; text-decoration-color: #008000\">'test_data/9200357/BibliographicResource_3000095232526/9.xml'</span><span style=\"font-weight: bold\">)</span>,\n",
       "    <span style=\"color: #800080; text-decoration-color: #800080; font-weight: bold\">Path</span><span style=\"font-weight: bold\">(</span><span style=\"color: #008000; text-decoration-color: #008000\">'test_data/9200357/BibliographicResource_3000095232526/12.xml'</span><span style=\"font-weight: bold\">)</span>,\n",
       "    <span style=\"color: #800080; text-decoration-color: #800080; font-weight: bold\">Path</span><span style=\"font-weight: bold\">(</span><span style=\"color: #008000; text-decoration-color: #008000\">'test_data/9200357/BibliographicResource_3000095232526/13.xml'</span><span style=\"font-weight: bold\">)</span>,\n",
       "    <span style=\"color: #800080; text-decoration-color: #800080; font-weight: bold\">Path</span><span style=\"font-weight: bold\">(</span><span style=\"color: #008000; text-decoration-color: #008000\">'test_data/9200357/BibliographicResource_3000095232526/11.xml'</span><span style=\"font-weight: bold\">)</span>,\n",
       "    <span style=\"color: #800080; text-decoration-color: #800080; font-weight: bold\">Path</span><span style=\"font-weight: bold\">(</span><span style=\"color: #008000; text-decoration-color: #008000\">'test_data/9200357/BibliographicResource_3000095232526/10.xml'</span><span style=\"font-weight: bold\">)</span>,\n",
       "    <span style=\"color: #800080; text-decoration-color: #800080; font-weight: bold\">Path</span><span style=\"font-weight: bold\">(</span><span style=\"color: #008000; text-decoration-color: #008000\">'test_data/9200357/BibliographicResource_3000095232526/4.xml'</span><span style=\"font-weight: bold\">)</span>,\n",
       "    <span style=\"color: #800080; text-decoration-color: #800080; font-weight: bold\">Path</span><span style=\"font-weight: bold\">(</span><span style=\"color: #008000; text-decoration-color: #008000\">'test_data/9200357/BibliographicResource_3000095232526/5.xml'</span><span style=\"font-weight: bold\">)</span>,\n",
       "    <span style=\"color: #800080; text-decoration-color: #800080; font-weight: bold\">Path</span><span style=\"font-weight: bold\">(</span><span style=\"color: #008000; text-decoration-color: #008000\">'test_data/9200357/BibliographicResource_3000095232526/6.xml'</span><span style=\"font-weight: bold\">)</span>,\n",
       "    <span style=\"color: #800080; text-decoration-color: #800080; font-weight: bold\">Path</span><span style=\"font-weight: bold\">(</span><span style=\"color: #008000; text-decoration-color: #008000\">'test_data/9200357/BibliographicResource_3000095232526/2.xml'</span><span style=\"font-weight: bold\">)</span>\n",
       "<span style=\"font-weight: bold\">]</span>\n",
       "</pre>\n"
      ],
      "text/plain": [
       "\n",
       "\u001b[1m[\u001b[0m\n",
       "    \u001b[1;35mPath\u001b[0m\u001b[1m(\u001b[0m\u001b[32m'test_data/9200357/BibliographicResource_3000095232526/8.xml'\u001b[0m\u001b[1m)\u001b[0m,\n",
       "    \u001b[1;35mPath\u001b[0m\u001b[1m(\u001b[0m\u001b[32m'test_data/9200357/BibliographicResource_3000095232526/9.xml'\u001b[0m\u001b[1m)\u001b[0m,\n",
       "    \u001b[1;35mPath\u001b[0m\u001b[1m(\u001b[0m\u001b[32m'test_data/9200357/BibliographicResource_3000095232526/12.xml'\u001b[0m\u001b[1m)\u001b[0m,\n",
       "    \u001b[1;35mPath\u001b[0m\u001b[1m(\u001b[0m\u001b[32m'test_data/9200357/BibliographicResource_3000095232526/13.xml'\u001b[0m\u001b[1m)\u001b[0m,\n",
       "    \u001b[1;35mPath\u001b[0m\u001b[1m(\u001b[0m\u001b[32m'test_data/9200357/BibliographicResource_3000095232526/11.xml'\u001b[0m\u001b[1m)\u001b[0m,\n",
       "    \u001b[1;35mPath\u001b[0m\u001b[1m(\u001b[0m\u001b[32m'test_data/9200357/BibliographicResource_3000095232526/10.xml'\u001b[0m\u001b[1m)\u001b[0m,\n",
       "    \u001b[1;35mPath\u001b[0m\u001b[1m(\u001b[0m\u001b[32m'test_data/9200357/BibliographicResource_3000095232526/4.xml'\u001b[0m\u001b[1m)\u001b[0m,\n",
       "    \u001b[1;35mPath\u001b[0m\u001b[1m(\u001b[0m\u001b[32m'test_data/9200357/BibliographicResource_3000095232526/5.xml'\u001b[0m\u001b[1m)\u001b[0m,\n",
       "    \u001b[1;35mPath\u001b[0m\u001b[1m(\u001b[0m\u001b[32m'test_data/9200357/BibliographicResource_3000095232526/6.xml'\u001b[0m\u001b[1m)\u001b[0m,\n",
       "    \u001b[1;35mPath\u001b[0m\u001b[1m(\u001b[0m\u001b[32m'test_data/9200357/BibliographicResource_3000095232526/2.xml'\u001b[0m\u001b[1m)\u001b[0m\n",
       "\u001b[1m]\u001b[0m\n"
      ]
     },
     "metadata": {},
     "output_type": "display_data"
    }
   ],
   "source": [
    "illustration_xmls"
   ]
  },
  {
   "cell_type": "code",
   "execution_count": null,
   "metadata": {},
   "outputs": [],
   "source": []
  },
  {
   "cell_type": "markdown",
   "metadata": {},
   "source": [
    "## Newspaper page container \n",
    "\n"
   ]
  },
  {
   "cell_type": "code",
   "execution_count": null,
   "metadata": {},
   "outputs": [],
   "source": [
    "# |export\n",
    "@define(slots=True)\n",
    "class NewspaperPageAlto:\n",
    "    fname: Union[str, Path]\n",
    "    text: Optional[str]\n",
    "    mean_ocr: Optional[float]\n",
    "    std_ocr: Optional[float]\n",
    "    bounding_boxes: List[Union[float, None]]\n",
    "    item_id: str = field(init=False)\n",
    "\n",
    "    def _get_id(self):\n",
    "        return \"/\".join(Path(self.fname).parts[-3:-1])\n",
    "\n",
    "    def __attrs_post_init__(self):\n",
    "        self.item_id = self._get_id()"
   ]
  },
  {
   "cell_type": "code",
   "execution_count": null,
   "metadata": {},
   "outputs": [],
   "source": [
    "# |export\n",
    "def parse_newspaper_page(xml_fname: Union[str, Path]):\n",
    "    fname, xml, ns = alto_parse(xml_fname)\n",
    "    text, wc, std_ocr = get_alto_text(xml, ns)\n",
    "    bounding_boxes = alto_illustrations(xml, ns)\n",
    "    return NewspaperPageAlto(xml_fname, text, wc, std_ocr, bounding_boxes)"
   ]
  },
  {
   "cell_type": "code",
   "execution_count": null,
   "metadata": {},
   "outputs": [],
   "source": [
    "page = parse_newspaper_page(xmls[20])"
   ]
  },
  {
   "cell_type": "code",
   "execution_count": null,
   "metadata": {},
   "outputs": [],
   "source": [
    "assert page\n",
    "assert isinstance(page, NewspaperPageAlto)\n",
    "assert isinstance(page.text, (str, None))\n",
    "assert isinstance(page.mean_ocr, (float, None))\n",
    "assert isinstance(page.std_ocr, (float, None))\n",
    "assert isinstance(page.bounding_boxes, List)\n",
    "assert isinstance(page.item_id, str)"
   ]
  },
  {
   "cell_type": "code",
   "execution_count": null,
   "metadata": {},
   "outputs": [],
   "source": []
  },
  {
   "cell_type": "markdown",
   "metadata": {},
   "source": [
    "## Get metadata \n",
    "\n",
    "The next step is to create some functionality to get metadata for the items. There are two possible ways we can do this:\n",
    "- via the metadata download dumps\n",
    "- via the Europena API\n"
   ]
  },
  {
   "cell_type": "code",
   "execution_count": null,
   "metadata": {},
   "outputs": [],
   "source": [
    "# |slow\n",
    "#!aria2c -x 4 -d test_metadata -o metadata.zip --auto-file-renaming=false ftp://download.europeana.eu/newspapers/metadata/9200357.zip"
   ]
  },
  {
   "cell_type": "code",
   "execution_count": null,
   "metadata": {},
   "outputs": [],
   "source": [
    "# !unzip -d test_data_metadata test_metadata/metadata.zip"
   ]
  },
  {
   "cell_type": "code",
   "execution_count": null,
   "metadata": {},
   "outputs": [],
   "source": [
    "metadata_examples = list(take(500, Path(\"test_data_metadata\").rglob(\"*.xml\")))"
   ]
  },
  {
   "cell_type": "code",
   "execution_count": null,
   "metadata": {},
   "outputs": [],
   "source": [
    "# |export\n",
    "@define(slots=True)\n",
    "class NewspaperPageMetadata:\n",
    "    metadata_xml_fname: Union[str, Path]\n",
    "    title: Optional[str]\n",
    "    date: Optional[str]\n",
    "    languages: Union[List[str], str, None]\n",
    "    item_iiif_url: Optional[str]\n",
    "    all_metadata_dict: Dict[Any, Any]\n",
    "\n",
    "    def __attrs_post_init__(self):\n",
    "        self.languages = (\n",
    "            self.languages.split(\",\")\n",
    "            if isinstance(self.languages, str)\n",
    "            else self.languages\n",
    "        )\n",
    "        self.title = self.title.split(\"-\")[0].strip(\" \")\n",
    "        self.metadata_xml_fname = str(self.metadata_xml_fname)"
   ]
  },
  {
   "cell_type": "code",
   "execution_count": null,
   "metadata": {},
   "outputs": [],
   "source": [
    "# |export\n",
    "def get_metadata_from_xml(xml_file: Union[Path, str]):\n",
    "    with open(xml_file, \"r\") as f:\n",
    "        xml = xmltodict.parse(f.read())\n",
    "    metadata = xml[\"rdf:RDF\"]\n",
    "    ProvidedCHO = metadata[\"edm:ProvidedCHO\"]\n",
    "    title = ProvidedCHO[\"dc:title\"]\n",
    "    data = ProvidedCHO[\"dcterms:issued\"]\n",
    "    languages = ProvidedCHO[\"dc:language\"]\n",
    "    iiif_url = metadata[\"ore:Aggregation\"][\"edm:isShownBy\"][\"@rdf:resource\"]\n",
    "    return NewspaperPageMetadata(xml_file, title, data, languages, iiif_url, metadata)"
   ]
  },
  {
   "cell_type": "code",
   "execution_count": null,
   "metadata": {},
   "outputs": [],
   "source": [
    "for metadata_xml in metadata_examples:\n",
    "    metadata = get_metadata_from_xml(metadata_xml)\n",
    "    assert metadata\n",
    "    assert isinstance(metadata.languages, (list, None))"
   ]
  },
  {
   "cell_type": "code",
   "execution_count": null,
   "metadata": {},
   "outputs": [
    {
     "data": {
      "text/html": [
       "<pre style=\"white-space:pre;overflow-x:auto;line-height:normal;font-family:Menlo,'DejaVu Sans Mono',consolas,'Courier New',monospace\">\n",
       "<span style=\"color: #800080; text-decoration-color: #800080; font-weight: bold\">NewspaperPageMetadata</span><span style=\"font-weight: bold\">(</span>\n",
       "    <span style=\"color: #808000; text-decoration-color: #808000\">metadata_xml_fname</span>=<span style=\"color: #008000; text-decoration-color: #008000\">'test_data_metadata/http%3A%2F%2Fdata.theeuropeanlibrary.org%2FBibliographicResource%2F3000095246027.edm.xml'</span>,\n",
       "    <span style=\"color: #808000; text-decoration-color: #808000\">title</span>=<span style=\"color: #008000; text-decoration-color: #008000\">'Głos Śląski'</span>,\n",
       "    <span style=\"color: #808000; text-decoration-color: #808000\">date</span>=<span style=\"color: #008000; text-decoration-color: #008000\">'1917-10-30'</span>,\n",
       "    <span style=\"color: #808000; text-decoration-color: #808000\">languages</span>=<span style=\"font-weight: bold\">[</span><span style=\"color: #008000; text-decoration-color: #008000\">'pl'</span><span style=\"font-weight: bold\">]</span>,\n",
       "    <span style=\"color: #808000; text-decoration-color: #808000\">item_iiif_url</span>=<span style=\"color: #008000; text-decoration-color: #008000\">'https://iiif.europeana.eu/image/PUXTDGFKG2LLRLBO3B6Y5KYMC62PLD4T2LERZFPAH324CH53ASPQ/presentation_images/87b09e00-0235-11e6-a696-fa163e2dd531/node-1/image/NLP/Głos_Śląski/1917/10/30/00742/full/full/0/default.jpg'</span>,\n",
       "    <span style=\"color: #808000; text-decoration-color: #808000\">all_metadata_dict</span>=<span style=\"font-weight: bold\">{</span>\n",
       "        <span style=\"color: #008000; text-decoration-color: #008000\">'@xmlns:cc'</span>: <span style=\"color: #008000; text-decoration-color: #008000\">'http://creativecommons.org/ns#'</span>,\n",
       "        <span style=\"color: #008000; text-decoration-color: #008000\">'@xmlns:ore'</span>: <span style=\"color: #008000; text-decoration-color: #008000\">'http://www.openarchives.org/ore/terms/'</span>,\n",
       "        <span style=\"color: #008000; text-decoration-color: #008000\">'@xmlns:owl'</span>: <span style=\"color: #008000; text-decoration-color: #008000\">'http://www.w3.org/2002/07/owl#'</span>,\n",
       "        <span style=\"color: #008000; text-decoration-color: #008000\">'@xmlns:svcs'</span>: <span style=\"color: #008000; text-decoration-color: #008000\">'http://rdfs.org/sioc/services#'</span>,\n",
       "        <span style=\"color: #008000; text-decoration-color: #008000\">'@xmlns:skos'</span>: <span style=\"color: #008000; text-decoration-color: #008000\">'http://www.w3.org/2004/02/skos/core#'</span>,\n",
       "        <span style=\"color: #008000; text-decoration-color: #008000\">'@xmlns:rdfs'</span>: <span style=\"color: #008000; text-decoration-color: #008000\">'http://www.w3.org/2000/01/rdf-schema#'</span>,\n",
       "        <span style=\"color: #008000; text-decoration-color: #008000\">'@xmlns:rdaGr2'</span>: <span style=\"color: #008000; text-decoration-color: #008000\">'http://rdvocab.info/ElementsGr2/'</span>,\n",
       "        <span style=\"color: #008000; text-decoration-color: #008000\">'@xmlns:rdagrp2'</span>: <span style=\"color: #008000; text-decoration-color: #008000\">'http://rdvocab.info/ElementsGr2/'</span>,\n",
       "        <span style=\"color: #008000; text-decoration-color: #008000\">'@xmlns:edm'</span>: <span style=\"color: #008000; text-decoration-color: #008000\">'http://www.europeana.eu/schemas/edm/'</span>,\n",
       "        <span style=\"color: #008000; text-decoration-color: #008000\">'@xmlns:xsi'</span>: <span style=\"color: #008000; text-decoration-color: #008000\">'http://www.w3.org/2001/XMLSchema-instance'</span>,\n",
       "        <span style=\"color: #008000; text-decoration-color: #008000\">'@xmlns:rdf'</span>: <span style=\"color: #008000; text-decoration-color: #008000\">'http://www.w3.org/1999/02/22-rdf-syntax-ns#'</span>,\n",
       "        <span style=\"color: #008000; text-decoration-color: #008000\">'@xmlns:doap'</span>: <span style=\"color: #008000; text-decoration-color: #008000\">'http://usefulinc.com/ns/doap#'</span>,\n",
       "        <span style=\"color: #008000; text-decoration-color: #008000\">'@xmlns:oai_dc'</span>: <span style=\"color: #008000; text-decoration-color: #008000\">'http://www.openarchives.org/OAI/2.0/oai_dc/'</span>,\n",
       "        <span style=\"color: #008000; text-decoration-color: #008000\">'@xmlns:dcterms'</span>: <span style=\"color: #008000; text-decoration-color: #008000\">'http://purl.org/dc/terms/'</span>,\n",
       "        <span style=\"color: #008000; text-decoration-color: #008000\">'@xmlns:wgs84_pos'</span>: <span style=\"color: #008000; text-decoration-color: #008000\">'http://www.w3.org/2003/01/geo/wgs84_pos#'</span>,\n",
       "        <span style=\"color: #008000; text-decoration-color: #008000\">'@xmlns:odrl'</span>: <span style=\"color: #008000; text-decoration-color: #008000\">'http://www.w3.org/ns/odrl/2/'</span>,\n",
       "        <span style=\"color: #008000; text-decoration-color: #008000\">'@xmlns:foaf'</span>: <span style=\"color: #008000; text-decoration-color: #008000\">'http://xmlns.com/foaf/0.1/'</span>,\n",
       "        <span style=\"color: #008000; text-decoration-color: #008000\">'@xmlns:dc'</span>: <span style=\"color: #008000; text-decoration-color: #008000\">'http://purl.org/dc/elements/1.1/'</span>,\n",
       "        <span style=\"color: #008000; text-decoration-color: #008000\">'edm:ProvidedCHO'</span>: <span style=\"font-weight: bold\">{</span>\n",
       "            <span style=\"color: #008000; text-decoration-color: #008000\">'@rdf:about'</span>: <span style=\"color: #008000; text-decoration-color: #008000\">'http://data.theeuropeanlibrary.org/BibliographicResource/3000095246027'</span>,\n",
       "            <span style=\"color: #008000; text-decoration-color: #008000\">'dc:identifier'</span>: <span style=\"color: #008000; text-decoration-color: #008000\">'http://data.theeuropeanlibrary.org/BibliographicResource/3000095246027'</span>,\n",
       "            <span style=\"color: #008000; text-decoration-color: #008000\">'dc:language'</span>: <span style=\"color: #008000; text-decoration-color: #008000\">'pl'</span>,\n",
       "            <span style=\"color: #008000; text-decoration-color: #008000\">'dc:title'</span>: <span style=\"color: #008000; text-decoration-color: #008000\">'Głos Śląski - 1917-10-30'</span>,\n",
       "            <span style=\"color: #008000; text-decoration-color: #008000\">'dc:type'</span>: <span style=\"font-weight: bold\">[</span>\n",
       "                <span style=\"font-weight: bold\">{</span><span style=\"color: #008000; text-decoration-color: #008000\">'@rdf:resource'</span>: <span style=\"color: #008000; text-decoration-color: #008000\">'http://schema.org/PublicationIssue'</span><span style=\"font-weight: bold\">}</span>,\n",
       "                <span style=\"font-weight: bold\">{</span><span style=\"color: #008000; text-decoration-color: #008000\">'@xml:lang'</span>: <span style=\"color: #008000; text-decoration-color: #008000\">'en'</span>, <span style=\"color: #008000; text-decoration-color: #008000\">'#text'</span>: <span style=\"color: #008000; text-decoration-color: #008000\">'Analytic serial'</span><span style=\"font-weight: bold\">}</span>,\n",
       "                <span style=\"font-weight: bold\">{</span><span style=\"color: #008000; text-decoration-color: #008000\">'@xml:lang'</span>: <span style=\"color: #008000; text-decoration-color: #008000\">'en'</span>, <span style=\"color: #008000; text-decoration-color: #008000\">'#text'</span>: <span style=\"color: #008000; text-decoration-color: #008000\">'Newspaper'</span><span style=\"font-weight: bold\">}</span>,\n",
       "                <span style=\"font-weight: bold\">{</span><span style=\"color: #008000; text-decoration-color: #008000\">'@xml:lang'</span>: <span style=\"color: #008000; text-decoration-color: #008000\">'en'</span>, <span style=\"color: #008000; text-decoration-color: #008000\">'#text'</span>: <span style=\"color: #008000; text-decoration-color: #008000\">'Newspaper Issue'</span><span style=\"font-weight: bold\">}</span>\n",
       "            <span style=\"font-weight: bold\">]</span>,\n",
       "            <span style=\"color: #008000; text-decoration-color: #008000\">'dcterms:extent'</span>: <span style=\"font-weight: bold\">{</span><span style=\"color: #008000; text-decoration-color: #008000\">'@xml:lang'</span>: <span style=\"color: #008000; text-decoration-color: #008000\">'en'</span>, <span style=\"color: #008000; text-decoration-color: #008000\">'#text'</span>: <span style=\"color: #008000; text-decoration-color: #008000\">'Pages: 4'</span><span style=\"font-weight: bold\">}</span>,\n",
       "            <span style=\"color: #008000; text-decoration-color: #008000\">'dcterms:isPartOf'</span>: <span style=\"font-weight: bold\">[</span>\n",
       "                <span style=\"font-weight: bold\">{</span>\n",
       "                    <span style=\"color: #008000; text-decoration-color: #008000\">'@rdf:resource'</span>: <span style=\"color: #008000; text-decoration-color: #008000\">'http://data.theeuropeanlibrary.org/BibliographicResource/3000095245909'</span>\n",
       "                <span style=\"font-weight: bold\">}</span>,\n",
       "                <span style=\"font-weight: bold\">{</span><span style=\"color: #008000; text-decoration-color: #008000\">'@rdf:resource'</span>: <span style=\"color: #008000; text-decoration-color: #008000\">'http://data.theeuropeanlibrary.org/Collection/a0618'</span><span style=\"font-weight: bold\">}</span>,\n",
       "                <span style=\"font-weight: bold\">{</span><span style=\"color: #008000; text-decoration-color: #008000\">'@xml:lang'</span>: <span style=\"color: #008000; text-decoration-color: #008000\">'en'</span>, <span style=\"color: #008000; text-decoration-color: #008000\">'#text'</span>: <span style=\"color: #008000; text-decoration-color: #008000\">'Europeana Newspapers'</span><span style=\"font-weight: bold\">}</span>\n",
       "            <span style=\"font-weight: bold\">]</span>,\n",
       "            <span style=\"color: #008000; text-decoration-color: #008000\">'dcterms:issued'</span>: <span style=\"color: #008000; text-decoration-color: #008000\">'1917-10-30'</span>,\n",
       "            <span style=\"color: #008000; text-decoration-color: #008000\">'edm:isNextInSequence'</span>: <span style=\"font-weight: bold\">{</span>\n",
       "                <span style=\"color: #008000; text-decoration-color: #008000\">'@rdf:resource'</span>: <span style=\"color: #008000; text-decoration-color: #008000\">'http://data.theeuropeanlibrary.org/BibliographicResource/3000095247386'</span>\n",
       "            <span style=\"font-weight: bold\">}</span>,\n",
       "            <span style=\"color: #008000; text-decoration-color: #008000\">'edm:type'</span>: <span style=\"color: #008000; text-decoration-color: #008000\">'TEXT'</span>\n",
       "        <span style=\"font-weight: bold\">}</span>,\n",
       "        <span style=\"color: #008000; text-decoration-color: #008000\">'edm:WebResource'</span>: <span style=\"font-weight: bold\">[</span>\n",
       "            <span style=\"font-weight: bold\">{</span>\n",
       "                <span style=\"color: #008000; text-decoration-color: #008000\">'@rdf:about'</span>: <span style=\"color: #008000; text-decoration-color: #008000\">'https://iiif.europeana.eu/image/PUXTDGFKG2LLRLBO3B6Y5KYMC62PLD4T2LERZFPAH324CH53ASPQ/presentation_images/87b09e00-0235-11e6-a696-fa163e2dd531/node-1/image/NLP/Głos_Śląski/1917/10/30/00742/full/full/0/default.jpg'</span>,\n",
       "                <span style=\"color: #008000; text-decoration-color: #008000\">'svcs:has_service'</span>: <span style=\"font-weight: bold\">{</span>\n",
       "                    <span style=\"color: #008000; text-decoration-color: #008000\">'@rdf:resource'</span>: <span style=\"color: #008000; text-decoration-color: #008000\">'https://iiif.europeana.eu/image/PUXTDGFKG2LLRLBO3B6Y5KYMC62PLD4T2LERZFPAH324CH53ASPQ/presentation_images/87b09e00-0235-11e6-a696-fa163e2dd531/node-1/image/NLP/Głos_Śląski/1917/10/30/00742'</span>\n",
       "                <span style=\"font-weight: bold\">}</span>\n",
       "            <span style=\"font-weight: bold\">}</span>,\n",
       "            <span style=\"font-weight: bold\">{</span>\n",
       "                <span style=\"color: #008000; text-decoration-color: #008000\">'@rdf:about'</span>: <span style=\"color: #008000; text-decoration-color: #008000\">'https://iiif.europeana.eu/image/PUXTDGFKG2LLRLBO3B6Y5KYMC62PLD4T2LERZFPAH324CH53ASPQ/presentation_images/87b09e00-0235-11e6-a696-fa163e2dd531/node-1/image/NLP/Głos_Śląski/1917/10/30/00743/full/full/0/default.jpg'</span>,\n",
       "                <span style=\"color: #008000; text-decoration-color: #008000\">'edm:isNextInSequence'</span>: <span style=\"font-weight: bold\">{</span>\n",
       "                    <span style=\"color: #008000; text-decoration-color: #008000\">'@rdf:resource'</span>: <span style=\"color: #008000; text-decoration-color: #008000\">'https://iiif.europeana.eu/image/PUXTDGFKG2LLRLBO3B6Y5KYMC62PLD4T2LERZFPAH324CH53ASPQ/presentation_images/87b09e00-0235-11e6-a696-fa163e2dd531/node-1/image/NLP/Głos_Śląski/1917/10/30/00742/full/full/0/default.jpg'</span>\n",
       "                <span style=\"font-weight: bold\">}</span>,\n",
       "                <span style=\"color: #008000; text-decoration-color: #008000\">'svcs:has_service'</span>: <span style=\"font-weight: bold\">{</span>\n",
       "                    <span style=\"color: #008000; text-decoration-color: #008000\">'@rdf:resource'</span>: <span style=\"color: #008000; text-decoration-color: #008000\">'https://iiif.europeana.eu/image/PUXTDGFKG2LLRLBO3B6Y5KYMC62PLD4T2LERZFPAH324CH53ASPQ/presentation_images/87b09e00-0235-11e6-a696-fa163e2dd531/node-1/image/NLP/Głos_Śląski/1917/10/30/00743'</span>\n",
       "                <span style=\"font-weight: bold\">}</span>\n",
       "            <span style=\"font-weight: bold\">}</span>,\n",
       "            <span style=\"font-weight: bold\">{</span>\n",
       "                <span style=\"color: #008000; text-decoration-color: #008000\">'@rdf:about'</span>: <span style=\"color: #008000; text-decoration-color: #008000\">'https://iiif.europeana.eu/image/PUXTDGFKG2LLRLBO3B6Y5KYMC62PLD4T2LERZFPAH324CH53ASPQ/presentation_images/87b09e00-0235-11e6-a696-fa163e2dd531/node-1/image/NLP/Głos_Śląski/1917/10/30/00744/full/full/0/default.jpg'</span>,\n",
       "                <span style=\"color: #008000; text-decoration-color: #008000\">'edm:isNextInSequence'</span>: <span style=\"font-weight: bold\">{</span>\n",
       "                    <span style=\"color: #008000; text-decoration-color: #008000\">'@rdf:resource'</span>: <span style=\"color: #008000; text-decoration-color: #008000\">'https://iiif.europeana.eu/image/PUXTDGFKG2LLRLBO3B6Y5KYMC62PLD4T2LERZFPAH324CH53ASPQ/presentation_images/87b09e00-0235-11e6-a696-fa163e2dd531/node-1/image/NLP/Głos_Śląski/1917/10/30/00743/full/full/0/default.jpg'</span>\n",
       "                <span style=\"font-weight: bold\">}</span>,\n",
       "                <span style=\"color: #008000; text-decoration-color: #008000\">'svcs:has_service'</span>: <span style=\"font-weight: bold\">{</span>\n",
       "                    <span style=\"color: #008000; text-decoration-color: #008000\">'@rdf:resource'</span>: <span style=\"color: #008000; text-decoration-color: #008000\">'https://iiif.europeana.eu/image/PUXTDGFKG2LLRLBO3B6Y5KYMC62PLD4T2LERZFPAH324CH53ASPQ/presentation_images/87b09e00-0235-11e6-a696-fa163e2dd531/node-1/image/NLP/Głos_Śląski/1917/10/30/00744'</span>\n",
       "                <span style=\"font-weight: bold\">}</span>\n",
       "            <span style=\"font-weight: bold\">}</span>,\n",
       "            <span style=\"font-weight: bold\">{</span>\n",
       "                <span style=\"color: #008000; text-decoration-color: #008000\">'@rdf:about'</span>: <span style=\"color: #008000; text-decoration-color: #008000\">'https://iiif.europeana.eu/image/PUXTDGFKG2LLRLBO3B6Y5KYMC62PLD4T2LERZFPAH324CH53ASPQ/presentation_images/87b09e00-0235-11e6-a696-fa163e2dd531/node-1/image/NLP/Głos_Śląski/1917/10/30/00745/full/full/0/default.jpg'</span>,\n",
       "                <span style=\"color: #008000; text-decoration-color: #008000\">'edm:isNextInSequence'</span>: <span style=\"font-weight: bold\">{</span>\n",
       "                    <span style=\"color: #008000; text-decoration-color: #008000\">'@rdf:resource'</span>: <span style=\"color: #008000; text-decoration-color: #008000\">'https://iiif.europeana.eu/image/PUXTDGFKG2LLRLBO3B6Y5KYMC62PLD4T2LERZFPAH324CH53ASPQ/presentation_images/87b09e00-0235-11e6-a696-fa163e2dd531/node-1/image/NLP/Głos_Śląski/1917/10/30/00744/full/full/0/default.jpg'</span>\n",
       "                <span style=\"font-weight: bold\">}</span>,\n",
       "                <span style=\"color: #008000; text-decoration-color: #008000\">'svcs:has_service'</span>: <span style=\"font-weight: bold\">{</span>\n",
       "                    <span style=\"color: #008000; text-decoration-color: #008000\">'@rdf:resource'</span>: <span style=\"color: #008000; text-decoration-color: #008000\">'https://iiif.europeana.eu/image/PUXTDGFKG2LLRLBO3B6Y5KYMC62PLD4T2LERZFPAH324CH53ASPQ/presentation_images/87b09e00-0235-11e6-a696-fa163e2dd531/node-1/image/NLP/Głos_Śląski/1917/10/30/00745'</span>\n",
       "                <span style=\"font-weight: bold\">}</span>\n",
       "            <span style=\"font-weight: bold\">}</span>\n",
       "        <span style=\"font-weight: bold\">]</span>,\n",
       "        <span style=\"color: #008000; text-decoration-color: #008000\">'ore:Aggregation'</span>: <span style=\"font-weight: bold\">{</span>\n",
       "            <span style=\"color: #008000; text-decoration-color: #008000\">'@rdf:about'</span>: <span style=\"color: #008000; text-decoration-color: #008000\">'http://data.theeuropeanlibrary.org/BibliographicResource/3000095246027#aggregation'</span>,\n",
       "            <span style=\"color: #008000; text-decoration-color: #008000\">'edm:aggregatedCHO'</span>: <span style=\"font-weight: bold\">{</span>\n",
       "                <span style=\"color: #008000; text-decoration-color: #008000\">'@rdf:resource'</span>: <span style=\"color: #008000; text-decoration-color: #008000\">'http://data.theeuropeanlibrary.org/BibliographicResource/3000095246027'</span>\n",
       "            <span style=\"font-weight: bold\">}</span>,\n",
       "            <span style=\"color: #008000; text-decoration-color: #008000\">'edm:dataProvider'</span>: <span style=\"color: #008000; text-decoration-color: #008000\">'National Library of Poland'</span>,\n",
       "            <span style=\"color: #008000; text-decoration-color: #008000\">'edm:hasView'</span>: <span style=\"font-weight: bold\">[</span>\n",
       "                <span style=\"font-weight: bold\">{</span>\n",
       "                    <span style=\"color: #008000; text-decoration-color: #008000\">'@rdf:resource'</span>: <span style=\"color: #008000; text-decoration-color: #008000\">'https://iiif.europeana.eu/image/PUXTDGFKG2LLRLBO3B6Y5KYMC62PLD4T2LERZFPAH324CH53ASPQ/presentation_images/87b09e00-0235-11e6-a696-fa163e2dd531/node-1/image/NLP/Głos_Śląski/1917/10/30/00743/full/full/0/default.jpg'</span>\n",
       "                <span style=\"font-weight: bold\">}</span>,\n",
       "                <span style=\"font-weight: bold\">{</span>\n",
       "                    <span style=\"color: #008000; text-decoration-color: #008000\">'@rdf:resource'</span>: <span style=\"color: #008000; text-decoration-color: #008000\">'https://iiif.europeana.eu/image/PUXTDGFKG2LLRLBO3B6Y5KYMC62PLD4T2LERZFPAH324CH53ASPQ/presentation_images/87b09e00-0235-11e6-a696-fa163e2dd531/node-1/image/NLP/Głos_Śląski/1917/10/30/00744/full/full/0/default.jpg'</span>\n",
       "                <span style=\"font-weight: bold\">}</span>,\n",
       "                <span style=\"font-weight: bold\">{</span>\n",
       "                    <span style=\"color: #008000; text-decoration-color: #008000\">'@rdf:resource'</span>: <span style=\"color: #008000; text-decoration-color: #008000\">'https://iiif.europeana.eu/image/PUXTDGFKG2LLRLBO3B6Y5KYMC62PLD4T2LERZFPAH324CH53ASPQ/presentation_images/87b09e00-0235-11e6-a696-fa163e2dd531/node-1/image/NLP/Głos_Śląski/1917/10/30/00745/full/full/0/default.jpg'</span>\n",
       "                <span style=\"font-weight: bold\">}</span>\n",
       "            <span style=\"font-weight: bold\">]</span>,\n",
       "            <span style=\"color: #008000; text-decoration-color: #008000\">'edm:isShownBy'</span>: <span style=\"font-weight: bold\">{</span>\n",
       "                <span style=\"color: #008000; text-decoration-color: #008000\">'@rdf:resource'</span>: <span style=\"color: #008000; text-decoration-color: #008000\">'https://iiif.europeana.eu/image/PUXTDGFKG2LLRLBO3B6Y5KYMC62PLD4T2LERZFPAH324CH53ASPQ/presentation_images/87b09e00-0235-11e6-a696-fa163e2dd531/node-1/image/NLP/Głos_Śląski/1917/10/30/00742/full/full/0/default.jpg'</span>\n",
       "            <span style=\"font-weight: bold\">}</span>,\n",
       "            <span style=\"color: #008000; text-decoration-color: #008000\">'edm:object'</span>: <span style=\"font-weight: bold\">{</span>\n",
       "                <span style=\"color: #008000; text-decoration-color: #008000\">'@rdf:resource'</span>: <span style=\"color: #008000; text-decoration-color: #008000\">'https://iiif.europeana.eu/image/PUXTDGFKG2LLRLBO3B6Y5KYMC62PLD4T2LERZFPAH324CH53ASPQ/presentation_images/87b09e00-0235-11e6-a696-fa163e2dd531/node-1/image/NLP/Głos_Śląski/1917/10/30/00742/full/full/0/default.jpg'</span>\n",
       "            <span style=\"font-weight: bold\">}</span>,\n",
       "            <span style=\"color: #008000; text-decoration-color: #008000\">'edm:provider'</span>: <span style=\"font-weight: bold\">{</span><span style=\"color: #008000; text-decoration-color: #008000\">'@xml:lang'</span>: <span style=\"color: #008000; text-decoration-color: #008000\">'en'</span>, <span style=\"color: #008000; text-decoration-color: #008000\">'#text'</span>: <span style=\"color: #008000; text-decoration-color: #008000\">'The European Library'</span><span style=\"font-weight: bold\">}</span>,\n",
       "            <span style=\"color: #008000; text-decoration-color: #008000\">'edm:rights'</span>: <span style=\"font-weight: bold\">{</span><span style=\"color: #008000; text-decoration-color: #008000\">'@rdf:resource'</span>: <span style=\"color: #008000; text-decoration-color: #008000\">'http://creativecommons.org/publicdomain/mark/1.0/'</span><span style=\"font-weight: bold\">}</span>\n",
       "        <span style=\"font-weight: bold\">}</span>,\n",
       "        <span style=\"color: #008000; text-decoration-color: #008000\">'svcs:Service'</span>: <span style=\"font-weight: bold\">[</span>\n",
       "            <span style=\"font-weight: bold\">{</span>\n",
       "                <span style=\"color: #008000; text-decoration-color: #008000\">'@rdf:about'</span>: <span style=\"color: #008000; text-decoration-color: #008000\">'https://iiif.europeana.eu/image/PUXTDGFKG2LLRLBO3B6Y5KYMC62PLD4T2LERZFPAH324CH53ASPQ/presentation_images/87b09e00-0235-11e6-a696-fa163e2dd531/node-1/image/NLP/Głos_Śląski/1917/10/30/00745'</span>,\n",
       "                <span style=\"color: #008000; text-decoration-color: #008000\">'dcterms:conformsTo'</span>: <span style=\"font-weight: bold\">{</span><span style=\"color: #008000; text-decoration-color: #008000\">'@rdf:resource'</span>: <span style=\"color: #008000; text-decoration-color: #008000\">'http://iiif.io/api/image'</span><span style=\"font-weight: bold\">}</span>,\n",
       "                <span style=\"color: #008000; text-decoration-color: #008000\">'doap:implements'</span>: <span style=\"font-weight: bold\">{</span><span style=\"color: #008000; text-decoration-color: #008000\">'@rdf:resource'</span>: <span style=\"color: #008000; text-decoration-color: #008000\">'http://iiif.io/api/image/2/level1.json'</span><span style=\"font-weight: bold\">}</span>\n",
       "            <span style=\"font-weight: bold\">}</span>,\n",
       "            <span style=\"font-weight: bold\">{</span>\n",
       "                <span style=\"color: #008000; text-decoration-color: #008000\">'@rdf:about'</span>: <span style=\"color: #008000; text-decoration-color: #008000\">'https://iiif.europeana.eu/image/PUXTDGFKG2LLRLBO3B6Y5KYMC62PLD4T2LERZFPAH324CH53ASPQ/presentation_images/87b09e00-0235-11e6-a696-fa163e2dd531/node-1/image/NLP/Głos_Śląski/1917/10/30/00743'</span>,\n",
       "                <span style=\"color: #008000; text-decoration-color: #008000\">'dcterms:conformsTo'</span>: <span style=\"font-weight: bold\">{</span><span style=\"color: #008000; text-decoration-color: #008000\">'@rdf:resource'</span>: <span style=\"color: #008000; text-decoration-color: #008000\">'http://iiif.io/api/image'</span><span style=\"font-weight: bold\">}</span>,\n",
       "                <span style=\"color: #008000; text-decoration-color: #008000\">'doap:implements'</span>: <span style=\"font-weight: bold\">{</span><span style=\"color: #008000; text-decoration-color: #008000\">'@rdf:resource'</span>: <span style=\"color: #008000; text-decoration-color: #008000\">'http://iiif.io/api/image/2/level1.json'</span><span style=\"font-weight: bold\">}</span>\n",
       "            <span style=\"font-weight: bold\">}</span>,\n",
       "            <span style=\"font-weight: bold\">{</span>\n",
       "                <span style=\"color: #008000; text-decoration-color: #008000\">'@rdf:about'</span>: <span style=\"color: #008000; text-decoration-color: #008000\">'https://iiif.europeana.eu/image/PUXTDGFKG2LLRLBO3B6Y5KYMC62PLD4T2LERZFPAH324CH53ASPQ/presentation_images/87b09e00-0235-11e6-a696-fa163e2dd531/node-1/image/NLP/Głos_Śląski/1917/10/30/00744'</span>,\n",
       "                <span style=\"color: #008000; text-decoration-color: #008000\">'dcterms:conformsTo'</span>: <span style=\"font-weight: bold\">{</span><span style=\"color: #008000; text-decoration-color: #008000\">'@rdf:resource'</span>: <span style=\"color: #008000; text-decoration-color: #008000\">'http://iiif.io/api/image'</span><span style=\"font-weight: bold\">}</span>,\n",
       "                <span style=\"color: #008000; text-decoration-color: #008000\">'doap:implements'</span>: <span style=\"font-weight: bold\">{</span><span style=\"color: #008000; text-decoration-color: #008000\">'@rdf:resource'</span>: <span style=\"color: #008000; text-decoration-color: #008000\">'http://iiif.io/api/image/2/level1.json'</span><span style=\"font-weight: bold\">}</span>\n",
       "            <span style=\"font-weight: bold\">}</span>,\n",
       "            <span style=\"font-weight: bold\">{</span>\n",
       "                <span style=\"color: #008000; text-decoration-color: #008000\">'@rdf:about'</span>: <span style=\"color: #008000; text-decoration-color: #008000\">'https://iiif.europeana.eu/image/PUXTDGFKG2LLRLBO3B6Y5KYMC62PLD4T2LERZFPAH324CH53ASPQ/presentation_images/87b09e00-0235-11e6-a696-fa163e2dd531/node-1/image/NLP/Głos_Śląski/1917/10/30/00742'</span>,\n",
       "                <span style=\"color: #008000; text-decoration-color: #008000\">'dcterms:conformsTo'</span>: <span style=\"font-weight: bold\">{</span><span style=\"color: #008000; text-decoration-color: #008000\">'@rdf:resource'</span>: <span style=\"color: #008000; text-decoration-color: #008000\">'http://iiif.io/api/image'</span><span style=\"font-weight: bold\">}</span>,\n",
       "                <span style=\"color: #008000; text-decoration-color: #008000\">'doap:implements'</span>: <span style=\"font-weight: bold\">{</span><span style=\"color: #008000; text-decoration-color: #008000\">'@rdf:resource'</span>: <span style=\"color: #008000; text-decoration-color: #008000\">'http://iiif.io/api/image/2/level1.json'</span><span style=\"font-weight: bold\">}</span>\n",
       "            <span style=\"font-weight: bold\">}</span>\n",
       "        <span style=\"font-weight: bold\">]</span>\n",
       "    <span style=\"font-weight: bold\">}</span>\n",
       "<span style=\"font-weight: bold\">)</span>\n",
       "</pre>\n"
      ],
      "text/plain": [
       "\n",
       "\u001b[1;35mNewspaperPageMetadata\u001b[0m\u001b[1m(\u001b[0m\n",
       "    \u001b[33mmetadata_xml_fname\u001b[0m=\u001b[32m'test_data_metadata/http%3A%2F%2Fdata.theeuropeanlibrary.org%2FBibliographicResource%2F3000095246027.edm.xml'\u001b[0m,\n",
       "    \u001b[33mtitle\u001b[0m=\u001b[32m'Głos Śląski'\u001b[0m,\n",
       "    \u001b[33mdate\u001b[0m=\u001b[32m'1917-10-30'\u001b[0m,\n",
       "    \u001b[33mlanguages\u001b[0m=\u001b[1m[\u001b[0m\u001b[32m'pl'\u001b[0m\u001b[1m]\u001b[0m,\n",
       "    \u001b[33mitem_iiif_url\u001b[0m=\u001b[32m'https://iiif.europeana.eu/image/PUXTDGFKG2LLRLBO3B6Y5KYMC62PLD4T2LERZFPAH324CH53ASPQ/presentation_images/87b09e00-0235-11e6-a696-fa163e2dd531/node-1/image/NLP/Głos_Śląski/1917/10/30/00742/full/full/0/default.jpg'\u001b[0m,\n",
       "    \u001b[33mall_metadata_dict\u001b[0m=\u001b[1m{\u001b[0m\n",
       "        \u001b[32m'@xmlns:cc'\u001b[0m: \u001b[32m'http://creativecommons.org/ns#'\u001b[0m,\n",
       "        \u001b[32m'@xmlns:ore'\u001b[0m: \u001b[32m'http://www.openarchives.org/ore/terms/'\u001b[0m,\n",
       "        \u001b[32m'@xmlns:owl'\u001b[0m: \u001b[32m'http://www.w3.org/2002/07/owl#'\u001b[0m,\n",
       "        \u001b[32m'@xmlns:svcs'\u001b[0m: \u001b[32m'http://rdfs.org/sioc/services#'\u001b[0m,\n",
       "        \u001b[32m'@xmlns:skos'\u001b[0m: \u001b[32m'http://www.w3.org/2004/02/skos/core#'\u001b[0m,\n",
       "        \u001b[32m'@xmlns:rdfs'\u001b[0m: \u001b[32m'http://www.w3.org/2000/01/rdf-schema#'\u001b[0m,\n",
       "        \u001b[32m'@xmlns:rdaGr2'\u001b[0m: \u001b[32m'http://rdvocab.info/ElementsGr2/'\u001b[0m,\n",
       "        \u001b[32m'@xmlns:rdagrp2'\u001b[0m: \u001b[32m'http://rdvocab.info/ElementsGr2/'\u001b[0m,\n",
       "        \u001b[32m'@xmlns:edm'\u001b[0m: \u001b[32m'http://www.europeana.eu/schemas/edm/'\u001b[0m,\n",
       "        \u001b[32m'@xmlns:xsi'\u001b[0m: \u001b[32m'http://www.w3.org/2001/XMLSchema-instance'\u001b[0m,\n",
       "        \u001b[32m'@xmlns:rdf'\u001b[0m: \u001b[32m'http://www.w3.org/1999/02/22-rdf-syntax-ns#'\u001b[0m,\n",
       "        \u001b[32m'@xmlns:doap'\u001b[0m: \u001b[32m'http://usefulinc.com/ns/doap#'\u001b[0m,\n",
       "        \u001b[32m'@xmlns:oai_dc'\u001b[0m: \u001b[32m'http://www.openarchives.org/OAI/2.0/oai_dc/'\u001b[0m,\n",
       "        \u001b[32m'@xmlns:dcterms'\u001b[0m: \u001b[32m'http://purl.org/dc/terms/'\u001b[0m,\n",
       "        \u001b[32m'@xmlns:wgs84_pos'\u001b[0m: \u001b[32m'http://www.w3.org/2003/01/geo/wgs84_pos#'\u001b[0m,\n",
       "        \u001b[32m'@xmlns:odrl'\u001b[0m: \u001b[32m'http://www.w3.org/ns/odrl/2/'\u001b[0m,\n",
       "        \u001b[32m'@xmlns:foaf'\u001b[0m: \u001b[32m'http://xmlns.com/foaf/0.1/'\u001b[0m,\n",
       "        \u001b[32m'@xmlns:dc'\u001b[0m: \u001b[32m'http://purl.org/dc/elements/1.1/'\u001b[0m,\n",
       "        \u001b[32m'edm:ProvidedCHO'\u001b[0m: \u001b[1m{\u001b[0m\n",
       "            \u001b[32m'@rdf:about'\u001b[0m: \u001b[32m'http://data.theeuropeanlibrary.org/BibliographicResource/3000095246027'\u001b[0m,\n",
       "            \u001b[32m'dc:identifier'\u001b[0m: \u001b[32m'http://data.theeuropeanlibrary.org/BibliographicResource/3000095246027'\u001b[0m,\n",
       "            \u001b[32m'dc:language'\u001b[0m: \u001b[32m'pl'\u001b[0m,\n",
       "            \u001b[32m'dc:title'\u001b[0m: \u001b[32m'Głos Śląski - 1917-10-30'\u001b[0m,\n",
       "            \u001b[32m'dc:type'\u001b[0m: \u001b[1m[\u001b[0m\n",
       "                \u001b[1m{\u001b[0m\u001b[32m'@rdf:resource'\u001b[0m: \u001b[32m'http://schema.org/PublicationIssue'\u001b[0m\u001b[1m}\u001b[0m,\n",
       "                \u001b[1m{\u001b[0m\u001b[32m'@xml:lang'\u001b[0m: \u001b[32m'en'\u001b[0m, \u001b[32m'#text'\u001b[0m: \u001b[32m'Analytic serial'\u001b[0m\u001b[1m}\u001b[0m,\n",
       "                \u001b[1m{\u001b[0m\u001b[32m'@xml:lang'\u001b[0m: \u001b[32m'en'\u001b[0m, \u001b[32m'#text'\u001b[0m: \u001b[32m'Newspaper'\u001b[0m\u001b[1m}\u001b[0m,\n",
       "                \u001b[1m{\u001b[0m\u001b[32m'@xml:lang'\u001b[0m: \u001b[32m'en'\u001b[0m, \u001b[32m'#text'\u001b[0m: \u001b[32m'Newspaper Issue'\u001b[0m\u001b[1m}\u001b[0m\n",
       "            \u001b[1m]\u001b[0m,\n",
       "            \u001b[32m'dcterms:extent'\u001b[0m: \u001b[1m{\u001b[0m\u001b[32m'@xml:lang'\u001b[0m: \u001b[32m'en'\u001b[0m, \u001b[32m'#text'\u001b[0m: \u001b[32m'Pages: 4'\u001b[0m\u001b[1m}\u001b[0m,\n",
       "            \u001b[32m'dcterms:isPartOf'\u001b[0m: \u001b[1m[\u001b[0m\n",
       "                \u001b[1m{\u001b[0m\n",
       "                    \u001b[32m'@rdf:resource'\u001b[0m: \u001b[32m'http://data.theeuropeanlibrary.org/BibliographicResource/3000095245909'\u001b[0m\n",
       "                \u001b[1m}\u001b[0m,\n",
       "                \u001b[1m{\u001b[0m\u001b[32m'@rdf:resource'\u001b[0m: \u001b[32m'http://data.theeuropeanlibrary.org/Collection/a0618'\u001b[0m\u001b[1m}\u001b[0m,\n",
       "                \u001b[1m{\u001b[0m\u001b[32m'@xml:lang'\u001b[0m: \u001b[32m'en'\u001b[0m, \u001b[32m'#text'\u001b[0m: \u001b[32m'Europeana Newspapers'\u001b[0m\u001b[1m}\u001b[0m\n",
       "            \u001b[1m]\u001b[0m,\n",
       "            \u001b[32m'dcterms:issued'\u001b[0m: \u001b[32m'1917-10-30'\u001b[0m,\n",
       "            \u001b[32m'edm:isNextInSequence'\u001b[0m: \u001b[1m{\u001b[0m\n",
       "                \u001b[32m'@rdf:resource'\u001b[0m: \u001b[32m'http://data.theeuropeanlibrary.org/BibliographicResource/3000095247386'\u001b[0m\n",
       "            \u001b[1m}\u001b[0m,\n",
       "            \u001b[32m'edm:type'\u001b[0m: \u001b[32m'TEXT'\u001b[0m\n",
       "        \u001b[1m}\u001b[0m,\n",
       "        \u001b[32m'edm:WebResource'\u001b[0m: \u001b[1m[\u001b[0m\n",
       "            \u001b[1m{\u001b[0m\n",
       "                \u001b[32m'@rdf:about'\u001b[0m: \u001b[32m'https://iiif.europeana.eu/image/PUXTDGFKG2LLRLBO3B6Y5KYMC62PLD4T2LERZFPAH324CH53ASPQ/presentation_images/87b09e00-0235-11e6-a696-fa163e2dd531/node-1/image/NLP/Głos_Śląski/1917/10/30/00742/full/full/0/default.jpg'\u001b[0m,\n",
       "                \u001b[32m'svcs:has_service'\u001b[0m: \u001b[1m{\u001b[0m\n",
       "                    \u001b[32m'@rdf:resource'\u001b[0m: \u001b[32m'https://iiif.europeana.eu/image/PUXTDGFKG2LLRLBO3B6Y5KYMC62PLD4T2LERZFPAH324CH53ASPQ/presentation_images/87b09e00-0235-11e6-a696-fa163e2dd531/node-1/image/NLP/Głos_Śląski/1917/10/30/00742'\u001b[0m\n",
       "                \u001b[1m}\u001b[0m\n",
       "            \u001b[1m}\u001b[0m,\n",
       "            \u001b[1m{\u001b[0m\n",
       "                \u001b[32m'@rdf:about'\u001b[0m: \u001b[32m'https://iiif.europeana.eu/image/PUXTDGFKG2LLRLBO3B6Y5KYMC62PLD4T2LERZFPAH324CH53ASPQ/presentation_images/87b09e00-0235-11e6-a696-fa163e2dd531/node-1/image/NLP/Głos_Śląski/1917/10/30/00743/full/full/0/default.jpg'\u001b[0m,\n",
       "                \u001b[32m'edm:isNextInSequence'\u001b[0m: \u001b[1m{\u001b[0m\n",
       "                    \u001b[32m'@rdf:resource'\u001b[0m: \u001b[32m'https://iiif.europeana.eu/image/PUXTDGFKG2LLRLBO3B6Y5KYMC62PLD4T2LERZFPAH324CH53ASPQ/presentation_images/87b09e00-0235-11e6-a696-fa163e2dd531/node-1/image/NLP/Głos_Śląski/1917/10/30/00742/full/full/0/default.jpg'\u001b[0m\n",
       "                \u001b[1m}\u001b[0m,\n",
       "                \u001b[32m'svcs:has_service'\u001b[0m: \u001b[1m{\u001b[0m\n",
       "                    \u001b[32m'@rdf:resource'\u001b[0m: \u001b[32m'https://iiif.europeana.eu/image/PUXTDGFKG2LLRLBO3B6Y5KYMC62PLD4T2LERZFPAH324CH53ASPQ/presentation_images/87b09e00-0235-11e6-a696-fa163e2dd531/node-1/image/NLP/Głos_Śląski/1917/10/30/00743'\u001b[0m\n",
       "                \u001b[1m}\u001b[0m\n",
       "            \u001b[1m}\u001b[0m,\n",
       "            \u001b[1m{\u001b[0m\n",
       "                \u001b[32m'@rdf:about'\u001b[0m: \u001b[32m'https://iiif.europeana.eu/image/PUXTDGFKG2LLRLBO3B6Y5KYMC62PLD4T2LERZFPAH324CH53ASPQ/presentation_images/87b09e00-0235-11e6-a696-fa163e2dd531/node-1/image/NLP/Głos_Śląski/1917/10/30/00744/full/full/0/default.jpg'\u001b[0m,\n",
       "                \u001b[32m'edm:isNextInSequence'\u001b[0m: \u001b[1m{\u001b[0m\n",
       "                    \u001b[32m'@rdf:resource'\u001b[0m: \u001b[32m'https://iiif.europeana.eu/image/PUXTDGFKG2LLRLBO3B6Y5KYMC62PLD4T2LERZFPAH324CH53ASPQ/presentation_images/87b09e00-0235-11e6-a696-fa163e2dd531/node-1/image/NLP/Głos_Śląski/1917/10/30/00743/full/full/0/default.jpg'\u001b[0m\n",
       "                \u001b[1m}\u001b[0m,\n",
       "                \u001b[32m'svcs:has_service'\u001b[0m: \u001b[1m{\u001b[0m\n",
       "                    \u001b[32m'@rdf:resource'\u001b[0m: \u001b[32m'https://iiif.europeana.eu/image/PUXTDGFKG2LLRLBO3B6Y5KYMC62PLD4T2LERZFPAH324CH53ASPQ/presentation_images/87b09e00-0235-11e6-a696-fa163e2dd531/node-1/image/NLP/Głos_Śląski/1917/10/30/00744'\u001b[0m\n",
       "                \u001b[1m}\u001b[0m\n",
       "            \u001b[1m}\u001b[0m,\n",
       "            \u001b[1m{\u001b[0m\n",
       "                \u001b[32m'@rdf:about'\u001b[0m: \u001b[32m'https://iiif.europeana.eu/image/PUXTDGFKG2LLRLBO3B6Y5KYMC62PLD4T2LERZFPAH324CH53ASPQ/presentation_images/87b09e00-0235-11e6-a696-fa163e2dd531/node-1/image/NLP/Głos_Śląski/1917/10/30/00745/full/full/0/default.jpg'\u001b[0m,\n",
       "                \u001b[32m'edm:isNextInSequence'\u001b[0m: \u001b[1m{\u001b[0m\n",
       "                    \u001b[32m'@rdf:resource'\u001b[0m: \u001b[32m'https://iiif.europeana.eu/image/PUXTDGFKG2LLRLBO3B6Y5KYMC62PLD4T2LERZFPAH324CH53ASPQ/presentation_images/87b09e00-0235-11e6-a696-fa163e2dd531/node-1/image/NLP/Głos_Śląski/1917/10/30/00744/full/full/0/default.jpg'\u001b[0m\n",
       "                \u001b[1m}\u001b[0m,\n",
       "                \u001b[32m'svcs:has_service'\u001b[0m: \u001b[1m{\u001b[0m\n",
       "                    \u001b[32m'@rdf:resource'\u001b[0m: \u001b[32m'https://iiif.europeana.eu/image/PUXTDGFKG2LLRLBO3B6Y5KYMC62PLD4T2LERZFPAH324CH53ASPQ/presentation_images/87b09e00-0235-11e6-a696-fa163e2dd531/node-1/image/NLP/Głos_Śląski/1917/10/30/00745'\u001b[0m\n",
       "                \u001b[1m}\u001b[0m\n",
       "            \u001b[1m}\u001b[0m\n",
       "        \u001b[1m]\u001b[0m,\n",
       "        \u001b[32m'ore:Aggregation'\u001b[0m: \u001b[1m{\u001b[0m\n",
       "            \u001b[32m'@rdf:about'\u001b[0m: \u001b[32m'http://data.theeuropeanlibrary.org/BibliographicResource/3000095246027#aggregation'\u001b[0m,\n",
       "            \u001b[32m'edm:aggregatedCHO'\u001b[0m: \u001b[1m{\u001b[0m\n",
       "                \u001b[32m'@rdf:resource'\u001b[0m: \u001b[32m'http://data.theeuropeanlibrary.org/BibliographicResource/3000095246027'\u001b[0m\n",
       "            \u001b[1m}\u001b[0m,\n",
       "            \u001b[32m'edm:dataProvider'\u001b[0m: \u001b[32m'National Library of Poland'\u001b[0m,\n",
       "            \u001b[32m'edm:hasView'\u001b[0m: \u001b[1m[\u001b[0m\n",
       "                \u001b[1m{\u001b[0m\n",
       "                    \u001b[32m'@rdf:resource'\u001b[0m: \u001b[32m'https://iiif.europeana.eu/image/PUXTDGFKG2LLRLBO3B6Y5KYMC62PLD4T2LERZFPAH324CH53ASPQ/presentation_images/87b09e00-0235-11e6-a696-fa163e2dd531/node-1/image/NLP/Głos_Śląski/1917/10/30/00743/full/full/0/default.jpg'\u001b[0m\n",
       "                \u001b[1m}\u001b[0m,\n",
       "                \u001b[1m{\u001b[0m\n",
       "                    \u001b[32m'@rdf:resource'\u001b[0m: \u001b[32m'https://iiif.europeana.eu/image/PUXTDGFKG2LLRLBO3B6Y5KYMC62PLD4T2LERZFPAH324CH53ASPQ/presentation_images/87b09e00-0235-11e6-a696-fa163e2dd531/node-1/image/NLP/Głos_Śląski/1917/10/30/00744/full/full/0/default.jpg'\u001b[0m\n",
       "                \u001b[1m}\u001b[0m,\n",
       "                \u001b[1m{\u001b[0m\n",
       "                    \u001b[32m'@rdf:resource'\u001b[0m: \u001b[32m'https://iiif.europeana.eu/image/PUXTDGFKG2LLRLBO3B6Y5KYMC62PLD4T2LERZFPAH324CH53ASPQ/presentation_images/87b09e00-0235-11e6-a696-fa163e2dd531/node-1/image/NLP/Głos_Śląski/1917/10/30/00745/full/full/0/default.jpg'\u001b[0m\n",
       "                \u001b[1m}\u001b[0m\n",
       "            \u001b[1m]\u001b[0m,\n",
       "            \u001b[32m'edm:isShownBy'\u001b[0m: \u001b[1m{\u001b[0m\n",
       "                \u001b[32m'@rdf:resource'\u001b[0m: \u001b[32m'https://iiif.europeana.eu/image/PUXTDGFKG2LLRLBO3B6Y5KYMC62PLD4T2LERZFPAH324CH53ASPQ/presentation_images/87b09e00-0235-11e6-a696-fa163e2dd531/node-1/image/NLP/Głos_Śląski/1917/10/30/00742/full/full/0/default.jpg'\u001b[0m\n",
       "            \u001b[1m}\u001b[0m,\n",
       "            \u001b[32m'edm:object'\u001b[0m: \u001b[1m{\u001b[0m\n",
       "                \u001b[32m'@rdf:resource'\u001b[0m: \u001b[32m'https://iiif.europeana.eu/image/PUXTDGFKG2LLRLBO3B6Y5KYMC62PLD4T2LERZFPAH324CH53ASPQ/presentation_images/87b09e00-0235-11e6-a696-fa163e2dd531/node-1/image/NLP/Głos_Śląski/1917/10/30/00742/full/full/0/default.jpg'\u001b[0m\n",
       "            \u001b[1m}\u001b[0m,\n",
       "            \u001b[32m'edm:provider'\u001b[0m: \u001b[1m{\u001b[0m\u001b[32m'@xml:lang'\u001b[0m: \u001b[32m'en'\u001b[0m, \u001b[32m'#text'\u001b[0m: \u001b[32m'The European Library'\u001b[0m\u001b[1m}\u001b[0m,\n",
       "            \u001b[32m'edm:rights'\u001b[0m: \u001b[1m{\u001b[0m\u001b[32m'@rdf:resource'\u001b[0m: \u001b[32m'http://creativecommons.org/publicdomain/mark/1.0/'\u001b[0m\u001b[1m}\u001b[0m\n",
       "        \u001b[1m}\u001b[0m,\n",
       "        \u001b[32m'svcs:Service'\u001b[0m: \u001b[1m[\u001b[0m\n",
       "            \u001b[1m{\u001b[0m\n",
       "                \u001b[32m'@rdf:about'\u001b[0m: \u001b[32m'https://iiif.europeana.eu/image/PUXTDGFKG2LLRLBO3B6Y5KYMC62PLD4T2LERZFPAH324CH53ASPQ/presentation_images/87b09e00-0235-11e6-a696-fa163e2dd531/node-1/image/NLP/Głos_Śląski/1917/10/30/00745'\u001b[0m,\n",
       "                \u001b[32m'dcterms:conformsTo'\u001b[0m: \u001b[1m{\u001b[0m\u001b[32m'@rdf:resource'\u001b[0m: \u001b[32m'http://iiif.io/api/image'\u001b[0m\u001b[1m}\u001b[0m,\n",
       "                \u001b[32m'doap:implements'\u001b[0m: \u001b[1m{\u001b[0m\u001b[32m'@rdf:resource'\u001b[0m: \u001b[32m'http://iiif.io/api/image/2/level1.json'\u001b[0m\u001b[1m}\u001b[0m\n",
       "            \u001b[1m}\u001b[0m,\n",
       "            \u001b[1m{\u001b[0m\n",
       "                \u001b[32m'@rdf:about'\u001b[0m: \u001b[32m'https://iiif.europeana.eu/image/PUXTDGFKG2LLRLBO3B6Y5KYMC62PLD4T2LERZFPAH324CH53ASPQ/presentation_images/87b09e00-0235-11e6-a696-fa163e2dd531/node-1/image/NLP/Głos_Śląski/1917/10/30/00743'\u001b[0m,\n",
       "                \u001b[32m'dcterms:conformsTo'\u001b[0m: \u001b[1m{\u001b[0m\u001b[32m'@rdf:resource'\u001b[0m: \u001b[32m'http://iiif.io/api/image'\u001b[0m\u001b[1m}\u001b[0m,\n",
       "                \u001b[32m'doap:implements'\u001b[0m: \u001b[1m{\u001b[0m\u001b[32m'@rdf:resource'\u001b[0m: \u001b[32m'http://iiif.io/api/image/2/level1.json'\u001b[0m\u001b[1m}\u001b[0m\n",
       "            \u001b[1m}\u001b[0m,\n",
       "            \u001b[1m{\u001b[0m\n",
       "                \u001b[32m'@rdf:about'\u001b[0m: \u001b[32m'https://iiif.europeana.eu/image/PUXTDGFKG2LLRLBO3B6Y5KYMC62PLD4T2LERZFPAH324CH53ASPQ/presentation_images/87b09e00-0235-11e6-a696-fa163e2dd531/node-1/image/NLP/Głos_Śląski/1917/10/30/00744'\u001b[0m,\n",
       "                \u001b[32m'dcterms:conformsTo'\u001b[0m: \u001b[1m{\u001b[0m\u001b[32m'@rdf:resource'\u001b[0m: \u001b[32m'http://iiif.io/api/image'\u001b[0m\u001b[1m}\u001b[0m,\n",
       "                \u001b[32m'doap:implements'\u001b[0m: \u001b[1m{\u001b[0m\u001b[32m'@rdf:resource'\u001b[0m: \u001b[32m'http://iiif.io/api/image/2/level1.json'\u001b[0m\u001b[1m}\u001b[0m\n",
       "            \u001b[1m}\u001b[0m,\n",
       "            \u001b[1m{\u001b[0m\n",
       "                \u001b[32m'@rdf:about'\u001b[0m: \u001b[32m'https://iiif.europeana.eu/image/PUXTDGFKG2LLRLBO3B6Y5KYMC62PLD4T2LERZFPAH324CH53ASPQ/presentation_images/87b09e00-0235-11e6-a696-fa163e2dd531/node-1/image/NLP/Głos_Śląski/1917/10/30/00742'\u001b[0m,\n",
       "                \u001b[32m'dcterms:conformsTo'\u001b[0m: \u001b[1m{\u001b[0m\u001b[32m'@rdf:resource'\u001b[0m: \u001b[32m'http://iiif.io/api/image'\u001b[0m\u001b[1m}\u001b[0m,\n",
       "                \u001b[32m'doap:implements'\u001b[0m: \u001b[1m{\u001b[0m\u001b[32m'@rdf:resource'\u001b[0m: \u001b[32m'http://iiif.io/api/image/2/level1.json'\u001b[0m\u001b[1m}\u001b[0m\n",
       "            \u001b[1m}\u001b[0m\n",
       "        \u001b[1m]\u001b[0m\n",
       "    \u001b[1m}\u001b[0m\n",
       "\u001b[1m)\u001b[0m\n"
      ]
     },
     "metadata": {},
     "output_type": "display_data"
    }
   ],
   "source": [
    "metadata"
   ]
  },
  {
   "cell_type": "markdown",
   "metadata": {},
   "source": [
    "## Linking metadata and XML\n",
    "We need to be able to link from the data we got from the ALTO XML with our metadata and smush them together. We have our `page.item_id` attribute which will hopefully be sufficient to grab the related metadata file. "
   ]
  },
  {
   "cell_type": "code",
   "execution_count": null,
   "metadata": {},
   "outputs": [
    {
     "data": {
      "text/html": [
       "<pre style=\"white-space:pre;overflow-x:auto;line-height:normal;font-family:Menlo,'DejaVu Sans Mono',consolas,'Courier New',monospace\"><span style=\"color: #008000; text-decoration-color: #008000\">'9200357/BibliographicResource_3000095237868'</span>\n",
       "</pre>\n"
      ],
      "text/plain": [
       "\u001b[32m'9200357/BibliographicResource_3000095237868'\u001b[0m\n"
      ]
     },
     "metadata": {},
     "output_type": "display_data"
    }
   ],
   "source": [
    "page.item_id"
   ]
  },
  {
   "cell_type": "code",
   "execution_count": null,
   "metadata": {},
   "outputs": [],
   "source": [
    "short_id = page.item_id.split(\"_\")[-1]"
   ]
  },
  {
   "cell_type": "code",
   "execution_count": null,
   "metadata": {},
   "outputs": [
    {
     "data": {
      "text/html": [
       "<pre style=\"white-space:pre;overflow-x:auto;line-height:normal;font-family:Menlo,'DejaVu Sans Mono',consolas,'Courier New',monospace\"><span style=\"color: #008000; text-decoration-color: #008000\">'test_data_metadata/http%3A%2F%2Fdata.theeuropeanlibrary.org%2FBibliographicResource%2F3000095237868.edm.xml'</span>\n",
       "</pre>\n"
      ],
      "text/plain": [
       "\u001b[32m'test_data_metadata/http%3A%2F%2Fdata.theeuropeanlibrary.org%2FBibliographicResource%2F3000095237868.edm.xml'\u001b[0m\n"
      ]
     },
     "metadata": {},
     "output_type": "display_data"
    }
   ],
   "source": [
    "file = f\"test_data_metadata/http%3A%2F%2Fdata.theeuropeanlibrary.org%2FBibliographicResource%2F{short_id}.edm.xml\"\n",
    "file"
   ]
  },
  {
   "cell_type": "code",
   "execution_count": null,
   "metadata": {},
   "outputs": [
    {
     "data": {
      "text/html": [
       "<pre style=\"white-space:pre;overflow-x:auto;line-height:normal;font-family:Menlo,'DejaVu Sans Mono',consolas,'Courier New',monospace\"><span style=\"color: #008000; text-decoration-color: #008000\">'&lt;?xml version=\"1.0\" encoding=\"UTF-8\" standalone=\"yes\"?&gt;\\n&lt;rdf:RDF xmlns:cc=\"http://creativecommons.org/ns#\" xmlns:ore=\"http://www.openarchives.org/ore/terms/\" xmlns:owl=\"http://www.w3.org/2002/07/owl#\" xmlns:svcs=\"http://rdfs.org/sioc/services#\" xmlns:skos=\"http://www.w3.org/2004/02/skos/core#\" xmlns:rdfs=\"http://www.w3.org/2000/01/rdf-schema#\" xmlns:rdaGr2=\"http://rdvocab.info/ElementsGr2/\" xmlns:rdagrp2=\"http://rdvocab.info/ElementsGr2/\" xmlns:edm=\"http://www.europeana.eu/schemas/edm/\" xmlns:xsi=\"http://www.w3.org/2001/XMLSchema-instance\" xmlns:rdf=\"http://www.w3.org/1999/02/22-rdf-syntax-ns#\" xmlns:doap=\"http://usefulinc.com/ns/doap#\" xmlns:oai_dc=\"http://www.openarchives.org/OAI/2.0/oai_dc/\" xmlns:dcterms=\"http://purl.org/dc/terms/\" xmlns:wgs84_pos=\"http://www.w3.org/2003/01/geo/wgs84_pos#\" xmlns:odrl=\"http://www.w3.org/ns/odrl/2/\" xmlns:foaf=\"http://xmlns.com/foaf/0.1/\" xmlns:dc=\"http://purl.org/dc/elements/1.1/\"&gt;\\n  &lt;edm:ProvidedCHO rdf:about=\"http://data.theeuropeanlibrary.org/BibliographicResource/3000095237868\"&gt;\\n    &lt;dc:identifier&gt;http://data.theeuropeanlibrary.org/BibliographicResource/3000095237868&lt;/dc:identifier&gt;\\n    &lt;dc:language&gt;pl&lt;/dc:language&gt;\\n    &lt;dc:title&gt;Monitor Polski - 1921-03-30&lt;/dc:title&gt;\\n    &lt;dc:type rdf:resource=\"http://schema.org/PublicationIssue\"/&gt;\\n    &lt;dc:type xml:lang=\"en\"&gt;Analytic serial&lt;/dc:type&gt;\\n    &lt;dc:type xml:lang=\"en\"&gt;Newspaper&lt;/dc:type&gt;\\n    &lt;dc:type xml:lang=\"en\"&gt;Newspaper Issue&lt;/dc:type&gt;\\n    &lt;dcterms:extent xml:lang=\"en\"&gt;Pages: 8&lt;/dcterms:extent&gt;\\n    &lt;dcterms:isPartOf rdf:resource=\"http://data.theeuropeanlibrary.org/BibliographicResource/3000095237047\"/&gt;\\n    &lt;dcterms:isPartOf rdf:resource=\"http://data.theeuropeanlibrary.org/Collection/a0618\"/&gt;\\n    &lt;dcterms:isPartOf xml:lang=\"en\"&gt;Europeana Newspapers&lt;/dcterms:isPartOf&gt;\\n    &lt;dcterms:issued&gt;1921-03-30&lt;/dcterms:issued&gt;\\n    &lt;edm:isNextInSequence rdf:resource=\"http://data.theeuropeanlibrary.org/BibliographicResource/3000095237108\"/&gt;\\n    &lt;edm:type&gt;TEXT&lt;/edm:type&gt;\\n  &lt;/edm:ProvidedCHO&gt;\\n  &lt;edm:WebResource rdf:about=\"https://iiif.europeana.eu/image/GQSOZW4KS2ASQUMO46UVWBTNLKZKBWGXUNYQXETU2UPMT2QNIY6A/presentation_images/68061020-02db-11e6-a651-fa163e2dd531/node-1/image/NLP/Monitor_Polski/1921/03/30/szzzid90130/0001_jpgid24187254/full/full/0/default.jpg\"&gt;\\n    &lt;svcs:has_service rdf:resource=\"https://iiif.europeana.eu/image/GQSOZW4KS2ASQUMO46UVWBTNLKZKBWGXUNYQXETU2UPMT2QNIY6A/presentation_images/68061020-02db-11e6-a651-fa163e2dd531/node-1/image/NLP/Monitor_Polski/1921/03/30/szzzid90130/0001_jpgid24187254\"/&gt;\\n  &lt;/edm:WebResource&gt;\\n  &lt;edm:WebResource rdf:about=\"https://iiif.europeana.eu/image/GQSOZW4KS2ASQUMO46UVWBTNLKZKBWGXUNYQXETU2UPMT2QNIY6A/presentation_images/68061020-02db-11e6-a651-fa163e2dd531/node-1/image/NLP/Monitor_Polski/1921/03/30/szzzid90130/0002_jpgid24187259/full/full/0/default.jpg\"&gt;\\n    &lt;edm:isNextInSequence rdf:resource=\"https://iiif.europeana.eu/image/GQSOZW4KS2ASQUMO46UVWBTNLKZKBWGXUNYQXETU2UPMT2QNIY6A/presentation_images/68061020-02db-11e6-a651-fa163e2dd531/node-1/image/NLP/Monitor_Polski/1921/03/30/szzzid90130/0001_jpgid24187254/full/full/0/default.jpg\"/&gt;\\n    &lt;svcs:has_service rdf:resource=\"https://iiif.europeana.eu/image/GQSOZW4KS2ASQUMO46UVWBTNLKZKBWGXUNYQXETU2UPMT2QNIY6A/presentation_images/68061020-02db-11e6-a651-fa163e2dd531/node-1/image/NLP/Monitor_Polski/1921/03/30/szzzid90130/0002_jpgid24187259\"/&gt;\\n  &lt;/edm:WebResource&gt;\\n  &lt;edm:WebResource rdf:about=\"https://iiif.europeana.eu/image/GQSOZW4KS2ASQUMO46UVWBTNLKZKBWGXUNYQXETU2UPMT2QNIY6A/presentation_images/68061020-02db-11e6-a651-fa163e2dd531/node-1/image/NLP/Monitor_Polski/1921/03/30/szzzid90130/0003_jpgid24187264/full/full/0/default.jpg\"&gt;\\n    &lt;edm:isNextInSequence rdf:resource=\"https://iiif.europeana.eu/image/GQSOZW4KS2ASQUMO46UVWBTNLKZKBWGXUNYQXETU2UPMT2QNIY6A/presentation_images/68061020-02db-11e6-a651-fa163e2dd531/node-1/image/NLP/Monitor_Polski/1921/03/30/szzzid90130/0002_jpgid24187259/full/full/0/default.jpg\"/&gt;\\n    &lt;svcs:has_service rdf:resource=\"https://iiif.europeana.eu/image/GQSOZW4KS2ASQUMO46UVWBTNLKZKBWGXUNYQXETU2UPMT2QNIY6A/presentation_images/68061020-02db-11e6-a651-fa163e2dd531/node-1/image/NLP/Monitor_Polski/1921/03/30/szzzid90130/0003_jpgid24187264\"/&gt;\\n  &lt;/edm:WebResource&gt;\\n  &lt;edm:WebResource rdf:about=\"https://iiif.europeana.eu/image/GQSOZW4KS2ASQUMO46UVWBTNLKZKBWGXUNYQXETU2UPMT2QNIY6A/presentation_images/68061020-02db-11e6-a651-fa163e2dd531/node-1/image/NLP/Monitor_Polski/1921/03/30/szzzid90130/0004_jpgid24187269/full/full/0/default.jpg\"&gt;\\n    &lt;edm:isNextInSequence rdf:resource=\"https://iiif.europeana.eu/image/GQSOZW4KS2ASQUMO46UVWBTNLKZKBWGXUNYQXETU2UPMT2QNIY6A/presentation_images/68061020-02db-11e6-a651-fa163e2dd531/node-1/image/NLP/Monitor_Polski/1921/03/30/szzzid90130/0003_jpgid24187264/full/full/0/default.jpg\"/&gt;\\n    &lt;svcs:has_service rdf:resource=\"https://iiif.europeana.eu/image/GQSOZW4KS2ASQUMO46UVWBTNLKZKBWGXUNYQXETU2UPMT2QNIY6A/presentation_images/68061020-02db-11e6-a651-fa163e2dd531/node-1/image/NLP/Monitor_Polski/1921/03/30/szzzid90130/0004_jpgid24187269\"/&gt;\\n  &lt;/edm:WebResource&gt;\\n  &lt;edm:WebResource rdf:about=\"https://iiif.europeana.eu/image/GQSOZW4KS2ASQUMO46UVWBTNLKZKBWGXUNYQXETU2UPMT2QNIY6A/presentation_images/68061020-02db-11e6-a651-fa163e2dd531/node-1/image/NLP/Monitor_Polski/1921/03/30/szzzid90130/0005_jpgid24187274/full/full/0/default.jpg\"&gt;\\n    &lt;edm:isNextInSequence rdf:resource=\"https://iiif.europeana.eu/image/GQSOZW4KS2ASQUMO46UVWBTNLKZKBWGXUNYQXETU2UPMT2QNIY6A/presentation_images/68061020-02db-11e6-a651-fa163e2dd531/node-1/image/NLP/Monitor_Polski/1921/03/30/szzzid90130/0004_jpgid24187269/full/full/0/default.jpg\"/&gt;\\n    &lt;svcs:has_service rdf:resource=\"https://iiif.europeana.eu/image/GQSOZW4KS2ASQUMO46UVWBTNLKZKBWGXUNYQXETU2UPMT2QNIY6A/presentation_images/68061020-02db-11e6-a651-fa163e2dd531/node-1/image/NLP/Monitor_Polski/1921/03/30/szzzid90130/0005_jpgid24187274\"/&gt;\\n  &lt;/edm:WebResource&gt;\\n  &lt;edm:WebResource rdf:about=\"https://iiif.europeana.eu/image/GQSOZW4KS2ASQUMO46UVWBTNLKZKBWGXUNYQXETU2UPMT2QNIY6A/presentation_images/68061020-02db-11e6-a651-fa163e2dd531/node-1/image/NLP/Monitor_Polski/1921/03/30/szzzid90130/0006_jpgid24187279/full/full/0/default.jpg\"&gt;\\n    &lt;edm:isNextInSequence rdf:resource=\"https://iiif.europeana.eu/image/GQSOZW4KS2ASQUMO46UVWBTNLKZKBWGXUNYQXETU2UPMT2QNIY6A/presentation_images/68061020-02db-11e6-a651-fa163e2dd531/node-1/image/NLP/Monitor_Polski/1921/03/30/szzzid90130/0005_jpgid24187274/full/full/0/default.jpg\"/&gt;\\n    &lt;svcs:has_service rdf:resource=\"https://iiif.europeana.eu/image/GQSOZW4KS2ASQUMO46UVWBTNLKZKBWGXUNYQXETU2UPMT2QNIY6A/presentation_images/68061020-02db-11e6-a651-fa163e2dd531/node-1/image/NLP/Monitor_Polski/1921/03/30/szzzid90130/0006_jpgid24187279\"/&gt;\\n  &lt;/edm:WebResource&gt;\\n  &lt;edm:WebResource rdf:about=\"https://iiif.europeana.eu/image/GQSOZW4KS2ASQUMO46UVWBTNLKZKBWGXUNYQXETU2UPMT2QNIY6A/presentation_images/68061020-02db-11e6-a651-fa163e2dd531/node-1/image/NLP/Monitor_Polski/1921/03/30/szzzid90130/0007_jpgid24187284/full/full/0/default.jpg\"&gt;\\n    &lt;edm:isNextInSequence rdf:resource=\"https://iiif.europeana.eu/image/GQSOZW4KS2ASQUMO46UVWBTNLKZKBWGXUNYQXETU2UPMT2QNIY6A/presentation_images/68061020-02db-11e6-a651-fa163e2dd531/node-1/image/NLP/Monitor_Polski/1921/03/30/szzzid90130/0006_jpgid24187279/full/full/0/default.jpg\"/&gt;\\n    &lt;svcs:has_service rdf:resource=\"https://iiif.europeana.eu/image/GQSOZW4KS2ASQUMO46UVWBTNLKZKBWGXUNYQXETU2UPMT2QNIY6A/presentation_images/68061020-02db-11e6-a651-fa163e2dd531/node-1/image/NLP/Monitor_Polski/1921/03/30/szzzid90130/0007_jpgid24187284\"/&gt;\\n  &lt;/edm:WebResource&gt;\\n  &lt;edm:WebResource rdf:about=\"https://iiif.europeana.eu/image/GQSOZW4KS2ASQUMO46UVWBTNLKZKBWGXUNYQXETU2UPMT2QNIY6A/presentation_images/68061020-02db-11e6-a651-fa163e2dd531/node-1/image/NLP/Monitor_Polski/1921/03/30/szzzid90130/0008_jpgid24187289/full/full/0/default.jpg\"&gt;\\n    &lt;edm:isNextInSequence rdf:resource=\"https://iiif.europeana.eu/image/GQSOZW4KS2ASQUMO46UVWBTNLKZKBWGXUNYQXETU2UPMT2QNIY6A/presentation_images/68061020-02db-11e6-a651-fa163e2dd531/node-1/image/NLP/Monitor_Polski/1921/03/30/szzzid90130/0007_jpgid24187284/full/full/0/default.jpg\"/&gt;\\n    &lt;svcs:has_service rdf:resource=\"https://iiif.europeana.eu/image/GQSOZW4KS2ASQUMO46UVWBTNLKZKBWGXUNYQXETU2UPMT2QNIY6A/presentation_images/68061020-02db-11e6-a651-fa163e2dd531/node-1/image/NLP/Monitor_Polski/1921/03/30/szzzid90130/0008_jpgid24187289\"/&gt;\\n  &lt;/edm:WebResource&gt;\\n  &lt;ore:Aggregation rdf:about=\"http://data.theeuropeanlibrary.org/BibliographicResource/3000095237868#aggregation\"&gt;\\n    &lt;edm:aggregatedCHO rdf:resource=\"http://data.theeuropeanlibrary.org/BibliographicResource/3000095237868\"/&gt;\\n    &lt;edm:dataProvider&gt;National Library of Poland&lt;/edm:dataProvider&gt;\\n    &lt;edm:hasView rdf:resource=\"https://iiif.europeana.eu/image/GQSOZW4KS2ASQUMO46UVWBTNLKZKBWGXUNYQXETU2UPMT2QNIY6A/presentation_images/68061020-02db-11e6-a651-fa163e2dd531/node-1/image/NLP/Monitor_Polski/1921/03/30/szzzid90130/0002_jpgid24187259/full/full/0/default.jpg\"/&gt;\\n    &lt;edm:hasView rdf:resource=\"https://iiif.europeana.eu/image/GQSOZW4KS2ASQUMO46UVWBTNLKZKBWGXUNYQXETU2UPMT2QNIY6A/presentation_images/68061020-02db-11e6-a651-fa163e2dd531/node-1/image/NLP/Monitor_Polski/1921/03/30/szzzid90130/0003_jpgid24187264/full/full/0/default.jpg\"/&gt;\\n    &lt;edm:hasView rdf:resource=\"https://iiif.europeana.eu/image/GQSOZW4KS2ASQUMO46UVWBTNLKZKBWGXUNYQXETU2UPMT2QNIY6A/presentation_images/68061020-02db-11e6-a651-fa163e2dd531/node-1/image/NLP/Monitor_Polski/1921/03/30/szzzid90130/0004_jpgid24187269/full/full/0/default.jpg\"/&gt;\\n    &lt;edm:hasView rdf:resource=\"https://iiif.europeana.eu/image/GQSOZW4KS2ASQUMO46UVWBTNLKZKBWGXUNYQXETU2UPMT2QNIY6A/presentation_images/68061020-02db-11e6-a651-fa163e2dd531/node-1/image/NLP/Monitor_Polski/1921/03/30/szzzid90130/0005_jpgid24187274/full/full/0/default.jpg\"/&gt;\\n    &lt;edm:hasView rdf:resource=\"https://iiif.europeana.eu/image/GQSOZW4KS2ASQUMO46UVWBTNLKZKBWGXUNYQXETU2UPMT2QNIY6A/presentation_images/68061020-02db-11e6-a651-fa163e2dd531/node-1/image/NLP/Monitor_Polski/1921/03/30/szzzid90130/0006_jpgid24187279/full/full/0/default.jpg\"/&gt;\\n    &lt;edm:hasView rdf:resource=\"https://iiif.europeana.eu/image/GQSOZW4KS2ASQUMO46UVWBTNLKZKBWGXUNYQXETU2UPMT2QNIY6A/presentation_images/68061020-02db-11e6-a651-fa163e2dd531/node-1/image/NLP/Monitor_Polski/1921/03/30/szzzid90130/0007_jpgid24187284/full/full/0/default.jpg\"/&gt;\\n    &lt;edm:hasView rdf:resource=\"https://iiif.europeana.eu/image/GQSOZW4KS2ASQUMO46UVWBTNLKZKBWGXUNYQXETU2UPMT2QNIY6A/presentation_images/68061020-02db-11e6-a651-fa163e2dd531/node-1/image/NLP/Monitor_Polski/1921/03/30/szzzid90130/0008_jpgid24187289/full/full/0/default.jpg\"/&gt;\\n    &lt;edm:isShownBy rdf:resource=\"https://iiif.europeana.eu/image/GQSOZW4KS2ASQUMO46UVWBTNLKZKBWGXUNYQXETU2UPMT2QNIY6A/presentation_images/68061020-02db-11e6-a651-fa163e2dd531/node-1/image/NLP/Monitor_Polski/1921/03/30/szzzid90130/0001_jpgid24187254/full/full/0/default.jpg\"/&gt;\\n    &lt;edm:object rdf:resource=\"https://iiif.europeana.eu/image/GQSOZW4KS2ASQUMO46UVWBTNLKZKBWGXUNYQXETU2UPMT2QNIY6A/presentation_images/68061020-02db-11e6-a651-fa163e2dd531/node-1/image/NLP/Monitor_Polski/1921/03/30/szzzid90130/0001_jpgid24187254/full/full/0/default.jpg\"/&gt;\\n    &lt;edm:provider xml:lang=\"en\"&gt;The European Library&lt;/edm:provider&gt;\\n    &lt;edm:rights rdf:resource=\"http://creativecommons.org/publicdomain/mark/1.0/\"/&gt;\\n  &lt;/ore:Aggregation&gt;\\n  &lt;svcs:Service rdf:about=\"https://iiif.europeana.eu/image/GQSOZW4KS2ASQUMO46UVWBTNLKZKBWGXUNYQXETU2UPMT2QNIY6A/presentation_images/68061020-02db-11e6-a651-fa163e2dd531/node-1/image/NLP/Monitor_Polski/1921/03/30/szzzid90130/0006_jpgid24187279\"&gt;\\n    &lt;dcterms:conformsTo rdf:resource=\"http://iiif.io/api/image\"/&gt;\\n    &lt;doap:implements rdf:resource=\"http://iiif.io/api/image/2/level1.json\"/&gt;\\n  &lt;/svcs:Service&gt;\\n  &lt;svcs:Service rdf:about=\"https://iiif.europeana.eu/image/GQSOZW4KS2ASQUMO46UVWBTNLKZKBWGXUNYQXETU2UPMT2QNIY6A/presentation_images/68061020-02db-11e6-a651-fa163e2dd531/node-1/image/NLP/Monitor_Polski/1921/03/30/szzzid90130/0008_jpgid24187289\"&gt;\\n    &lt;dcterms:conformsTo rdf:resource=\"http://iiif.io/api/image\"/&gt;\\n    &lt;doap:implements rdf:resource=\"http://iiif.io/api/image/2/level1.json\"/&gt;\\n  &lt;/svcs:Service&gt;\\n  &lt;svcs:Service rdf:about=\"https://iiif.europeana.eu/image/GQSOZW4KS2ASQUMO46UVWBTNLKZKBWGXUNYQXETU2UPMT2QNIY6A/presentation_images/68061020-02db-11e6-a651-fa163e2dd531/node-1/image/NLP/Monitor_Polski/1921/03/30/szzzid90130/0003_jpgid24187264\"&gt;\\n    &lt;dcterms:conformsTo rdf:resource=\"http://iiif.io/api/image\"/&gt;\\n    &lt;doap:implements rdf:resource=\"http://iiif.io/api/image/2/level1.json\"/&gt;\\n  &lt;/svcs:Service&gt;\\n  &lt;svcs:Service rdf:about=\"https://iiif.europeana.eu/image/GQSOZW4KS2ASQUMO46UVWBTNLKZKBWGXUNYQXETU2UPMT2QNIY6A/presentation_images/68061020-02db-11e6-a651-fa163e2dd531/node-1/image/NLP/Monitor_Polski/1921/03/30/szzzid90130/0005_jpgid24187274\"&gt;\\n    &lt;dcterms:conformsTo rdf:resource=\"http://iiif.io/api/image\"/&gt;\\n    &lt;doap:implements rdf:resource=\"http://iiif.io/api/image/2/level1.json\"/&gt;\\n  &lt;/svcs:Service&gt;\\n  &lt;svcs:Service rdf:about=\"https://iiif.europeana.eu/image/GQSOZW4KS2ASQUMO46UVWBTNLKZKBWGXUNYQXETU2UPMT2QNIY6A/presentation_images/68061020-02db-11e6-a651-fa163e2dd531/node-1/image/NLP/Monitor_Polski/1921/03/30/szzzid90130/0007_jpgid24187284\"&gt;\\n    &lt;dcterms:conformsTo rdf:resource=\"http://iiif.io/api/image\"/&gt;\\n    &lt;doap:implements rdf:resource=\"http://iiif.io/api/image/2/level1.json\"/&gt;\\n  &lt;/svcs:Service&gt;\\n  &lt;svcs:Service rdf:about=\"https://iiif.europeana.eu/image/GQSOZW4KS2ASQUMO46UVWBTNLKZKBWGXUNYQXETU2UPMT2QNIY6A/presentation_images/68061020-02db-11e6-a651-fa163e2dd531/node-1/image/NLP/Monitor_Polski/1921/03/30/szzzid90130/0001_jpgid24187254\"&gt;\\n    &lt;dcterms:conformsTo rdf:resource=\"http://iiif.io/api/image\"/&gt;\\n    &lt;doap:implements rdf:resource=\"http://iiif.io/api/image/2/level1.json\"/&gt;\\n  &lt;/svcs:Service&gt;\\n  &lt;svcs:Service rdf:about=\"https://iiif.europeana.eu/image/GQSOZW4KS2ASQUMO46UVWBTNLKZKBWGXUNYQXETU2UPMT2QNIY6A/presentation_images/68061020-02db-11e6-a651-fa163e2dd531/node-1/image/NLP/Monitor_Polski/1921/03/30/szzzid90130/0002_jpgid24187259\"&gt;\\n    &lt;dcterms:conformsTo rdf:resource=\"http://iiif.io/api/image\"/&gt;\\n    &lt;doap:implements rdf:resource=\"http://iiif.io/api/image/2/level1.json\"/&gt;\\n  &lt;/svcs:Service&gt;\\n  &lt;svcs:Service rdf:about=\"https://iiif.europeana.eu/image/GQSOZW4KS2ASQUMO46UVWBTNLKZKBWGXUNYQXETU2UPMT2QNIY6A/presentation_images/68061020-02db-11e6-a651-fa163e2dd531/node-1/image/NLP/Monitor_Polski/1921/03/30/szzzid90130/0004_jpgid24187269\"&gt;\\n    &lt;dcterms:conformsTo rdf:resource=\"http://iiif.io/api/image\"/&gt;\\n    &lt;doap:implements rdf:resource=\"http://iiif.io/api/image/2/level1.json\"/&gt;\\n  &lt;/svcs:Service&gt;\\n&lt;/rdf:RDF&gt;\\n'</span>\n",
       "</pre>\n"
      ],
      "text/plain": [
       "\u001b[32m'\u001b[0m\u001b[32m<\u001b[0m\u001b[32m?xml \u001b[0m\u001b[32mversion\u001b[0m\u001b[32m=\u001b[0m\u001b[32m\"1\u001b[0m\u001b[32m.0\" \u001b[0m\u001b[32mencoding\u001b[0m\u001b[32m=\u001b[0m\u001b[32m\"UTF\u001b[0m\u001b[32m-8\" \u001b[0m\u001b[32mstandalone\u001b[0m\u001b[32m=\u001b[0m\u001b[32m\"yes\"\u001b[0m\u001b[32m?\u001b[0m\u001b[32m>\u001b[0m\u001b[32m\\n\u001b[0m\u001b[32m<\u001b[0m\u001b[32mrdf:RDF\u001b[0m\u001b[32m xmlns:\u001b[0m\u001b[32mcc\u001b[0m\u001b[32m=\u001b[0m\u001b[32m\"http\u001b[0m\u001b[32m://creativecommons.org/ns#\" xmlns:\u001b[0m\u001b[32more\u001b[0m\u001b[32m=\u001b[0m\u001b[32m\"http\u001b[0m\u001b[32m://www.openarchives.org/ore/terms/\" xmlns:\u001b[0m\u001b[32mowl\u001b[0m\u001b[32m=\u001b[0m\u001b[32m\"http\u001b[0m\u001b[32m://www.w3.org/2002/07/owl#\" xmlns:\u001b[0m\u001b[32msvcs\u001b[0m\u001b[32m=\u001b[0m\u001b[32m\"http\u001b[0m\u001b[32m://rdfs.org/sioc/services#\" xmlns:\u001b[0m\u001b[32mskos\u001b[0m\u001b[32m=\u001b[0m\u001b[32m\"http\u001b[0m\u001b[32m://www.w3.org/2004/02/skos/core#\" xmlns:\u001b[0m\u001b[32mrdfs\u001b[0m\u001b[32m=\u001b[0m\u001b[32m\"http\u001b[0m\u001b[32m://www.w3.org/2000/01/rdf-schema#\" xmlns:\u001b[0m\u001b[32mrdaGr2\u001b[0m\u001b[32m=\u001b[0m\u001b[32m\"http\u001b[0m\u001b[32m://rdvocab.info/ElementsGr2/\" xmlns:\u001b[0m\u001b[32mrdagrp2\u001b[0m\u001b[32m=\u001b[0m\u001b[32m\"http\u001b[0m\u001b[32m://rdvocab.info/ElementsGr2/\" xmlns:\u001b[0m\u001b[32medm\u001b[0m\u001b[32m=\u001b[0m\u001b[32m\"http\u001b[0m\u001b[32m://www.europeana.eu/schemas/edm/\" xmlns:\u001b[0m\u001b[32mxsi\u001b[0m\u001b[32m=\u001b[0m\u001b[32m\"http\u001b[0m\u001b[32m://www.w3.org/2001/XMLSchema-instance\" xmlns:\u001b[0m\u001b[32mrdf\u001b[0m\u001b[32m=\u001b[0m\u001b[32m\"http\u001b[0m\u001b[32m://www.w3.org/1999/02/22-rdf-syntax-ns#\" xmlns:\u001b[0m\u001b[32mdoap\u001b[0m\u001b[32m=\u001b[0m\u001b[32m\"http\u001b[0m\u001b[32m://usefulinc.com/ns/doap#\" xmlns:\u001b[0m\u001b[32moai_dc\u001b[0m\u001b[32m=\u001b[0m\u001b[32m\"http\u001b[0m\u001b[32m://www.openarchives.org/OAI/2.0/oai_dc/\" xmlns:\u001b[0m\u001b[32mdcterms\u001b[0m\u001b[32m=\u001b[0m\u001b[32m\"http\u001b[0m\u001b[32m://purl.org/dc/terms/\" xmlns:\u001b[0m\u001b[32mwgs84_pos\u001b[0m\u001b[32m=\u001b[0m\u001b[32m\"http\u001b[0m\u001b[32m://www.w3.org/2003/01/geo/wgs84_pos#\" xmlns:\u001b[0m\u001b[32modrl\u001b[0m\u001b[32m=\u001b[0m\u001b[32m\"http\u001b[0m\u001b[32m://www.w3.org/ns/odrl/2/\" xmlns:\u001b[0m\u001b[32mfoaf\u001b[0m\u001b[32m=\u001b[0m\u001b[32m\"http\u001b[0m\u001b[32m://xmlns.com/foaf/0.1/\" xmlns:\u001b[0m\u001b[32mdc\u001b[0m\u001b[32m=\u001b[0m\u001b[32m\"http\u001b[0m\u001b[32m://purl.org/dc/elements/1.1/\"\u001b[0m\u001b[32m>\u001b[0m\u001b[32m\\n  \u001b[0m\u001b[32m<\u001b[0m\u001b[32medm:ProvidedCHO\u001b[0m\u001b[32m rdf:\u001b[0m\u001b[32mabout\u001b[0m\u001b[32m=\u001b[0m\u001b[32m\"http\u001b[0m\u001b[32m://data.theeuropeanlibrary.org/BibliographicResource/3000095237868\"\u001b[0m\u001b[32m>\u001b[0m\u001b[32m\\n    \u001b[0m\u001b[32m<\u001b[0m\u001b[32mdc:identifier\u001b[0m\u001b[32m>\u001b[0m\u001b[32mhttp://data.theeuropeanlibrary.org/BibliographicResource/3000095237868\u001b[0m\u001b[32m<\u001b[0m\u001b[32m/dc:identifier\u001b[0m\u001b[32m>\u001b[0m\u001b[32m\\n    \u001b[0m\u001b[32m<\u001b[0m\u001b[32mdc:language\u001b[0m\u001b[32m>\u001b[0m\u001b[32mpl\u001b[0m\u001b[32m<\u001b[0m\u001b[32m/dc:language\u001b[0m\u001b[32m>\u001b[0m\u001b[32m\\n    \u001b[0m\u001b[32m<\u001b[0m\u001b[32mdc:title\u001b[0m\u001b[32m>\u001b[0m\u001b[32mMonitor Polski - 1921-03-30\u001b[0m\u001b[32m<\u001b[0m\u001b[32m/dc:title\u001b[0m\u001b[32m>\u001b[0m\u001b[32m\\n    \u001b[0m\u001b[32m<\u001b[0m\u001b[32mdc:type\u001b[0m\u001b[32m rdf:\u001b[0m\u001b[32mresource\u001b[0m\u001b[32m=\u001b[0m\u001b[32m\"http\u001b[0m\u001b[32m://schema.org/PublicationIssue\"/\u001b[0m\u001b[32m>\u001b[0m\u001b[32m\\n    \u001b[0m\u001b[32m<\u001b[0m\u001b[32mdc:type\u001b[0m\u001b[32m xml:\u001b[0m\u001b[32mlang\u001b[0m\u001b[32m=\u001b[0m\u001b[32m\"en\"\u001b[0m\u001b[32m>\u001b[0m\u001b[32mAnalytic serial\u001b[0m\u001b[32m<\u001b[0m\u001b[32m/dc:type\u001b[0m\u001b[32m>\u001b[0m\u001b[32m\\n    \u001b[0m\u001b[32m<\u001b[0m\u001b[32mdc:type\u001b[0m\u001b[32m xml:\u001b[0m\u001b[32mlang\u001b[0m\u001b[32m=\u001b[0m\u001b[32m\"en\"\u001b[0m\u001b[32m>\u001b[0m\u001b[32mNewspaper\u001b[0m\u001b[32m<\u001b[0m\u001b[32m/dc:type\u001b[0m\u001b[32m>\u001b[0m\u001b[32m\\n    \u001b[0m\u001b[32m<\u001b[0m\u001b[32mdc:type\u001b[0m\u001b[32m xml:\u001b[0m\u001b[32mlang\u001b[0m\u001b[32m=\u001b[0m\u001b[32m\"en\"\u001b[0m\u001b[32m>\u001b[0m\u001b[32mNewspaper Issue\u001b[0m\u001b[32m<\u001b[0m\u001b[32m/dc:type\u001b[0m\u001b[32m>\u001b[0m\u001b[32m\\n    \u001b[0m\u001b[32m<\u001b[0m\u001b[32mdcterms:extent\u001b[0m\u001b[32m xml:\u001b[0m\u001b[32mlang\u001b[0m\u001b[32m=\u001b[0m\u001b[32m\"en\"\u001b[0m\u001b[32m>\u001b[0m\u001b[32mPages: 8\u001b[0m\u001b[32m<\u001b[0m\u001b[32m/dcterms:extent\u001b[0m\u001b[32m>\u001b[0m\u001b[32m\\n    \u001b[0m\u001b[32m<\u001b[0m\u001b[32mdcterms:isPartOf\u001b[0m\u001b[32m rdf:\u001b[0m\u001b[32mresource\u001b[0m\u001b[32m=\u001b[0m\u001b[32m\"http\u001b[0m\u001b[32m://data.theeuropeanlibrary.org/BibliographicResource/3000095237047\"/\u001b[0m\u001b[32m>\u001b[0m\u001b[32m\\n    \u001b[0m\u001b[32m<\u001b[0m\u001b[32mdcterms:isPartOf\u001b[0m\u001b[32m rdf:\u001b[0m\u001b[32mresource\u001b[0m\u001b[32m=\u001b[0m\u001b[32m\"http\u001b[0m\u001b[32m://data.theeuropeanlibrary.org/Collection/a0618\"/\u001b[0m\u001b[32m>\u001b[0m\u001b[32m\\n    \u001b[0m\u001b[32m<\u001b[0m\u001b[32mdcterms:isPartOf\u001b[0m\u001b[32m xml:\u001b[0m\u001b[32mlang\u001b[0m\u001b[32m=\u001b[0m\u001b[32m\"en\"\u001b[0m\u001b[32m>\u001b[0m\u001b[32mEuropeana Newspapers\u001b[0m\u001b[32m<\u001b[0m\u001b[32m/dcterms:isPartOf\u001b[0m\u001b[32m>\u001b[0m\u001b[32m\\n    \u001b[0m\u001b[32m<\u001b[0m\u001b[32mdcterms:issued\u001b[0m\u001b[32m>\u001b[0m\u001b[32m1921-03-30\u001b[0m\u001b[32m<\u001b[0m\u001b[32m/dcterms:issued\u001b[0m\u001b[32m>\u001b[0m\u001b[32m\\n    \u001b[0m\u001b[32m<\u001b[0m\u001b[32medm:isNextInSequence\u001b[0m\u001b[32m rdf:\u001b[0m\u001b[32mresource\u001b[0m\u001b[32m=\u001b[0m\u001b[32m\"http\u001b[0m\u001b[32m://data.theeuropeanlibrary.org/BibliographicResource/3000095237108\"/\u001b[0m\u001b[32m>\u001b[0m\u001b[32m\\n    \u001b[0m\u001b[32m<\u001b[0m\u001b[32medm:type\u001b[0m\u001b[32m>\u001b[0m\u001b[32mTEXT\u001b[0m\u001b[32m<\u001b[0m\u001b[32m/edm:type\u001b[0m\u001b[32m>\u001b[0m\u001b[32m\\n  \u001b[0m\u001b[32m<\u001b[0m\u001b[32m/edm:ProvidedCHO\u001b[0m\u001b[32m>\u001b[0m\u001b[32m\\n  \u001b[0m\u001b[32m<\u001b[0m\u001b[32medm:WebResource\u001b[0m\u001b[32m rdf:\u001b[0m\u001b[32mabout\u001b[0m\u001b[32m=\u001b[0m\u001b[32m\"https\u001b[0m\u001b[32m://iiif.europeana.eu/image/GQSOZW4KS2ASQUMO46UVWBTNLKZKBWGXUNYQXETU2UPMT2QNIY6A/presentation_images/68061020-02db-11e6-a651-fa163e2dd531/node-1/image/NLP/Monitor_Polski/1921/03/30/szzzid90130/0001_jpgid24187254/full/full/0/default.jpg\"\u001b[0m\u001b[32m>\u001b[0m\u001b[32m\\n    \u001b[0m\u001b[32m<\u001b[0m\u001b[32msvcs:has_service\u001b[0m\u001b[32m rdf:\u001b[0m\u001b[32mresource\u001b[0m\u001b[32m=\u001b[0m\u001b[32m\"https\u001b[0m\u001b[32m://iiif.europeana.eu/image/GQSOZW4KS2ASQUMO46UVWBTNLKZKBWGXUNYQXETU2UPMT2QNIY6A/presentation_images/68061020-02db-11e6-a651-fa163e2dd531/node-1/image/NLP/Monitor_Polski/1921/03/30/szzzid90130/0001_jpgid24187254\"/\u001b[0m\u001b[32m>\u001b[0m\u001b[32m\\n  \u001b[0m\u001b[32m<\u001b[0m\u001b[32m/edm:WebResource\u001b[0m\u001b[32m>\u001b[0m\u001b[32m\\n  \u001b[0m\u001b[32m<\u001b[0m\u001b[32medm:WebResource\u001b[0m\u001b[32m rdf:\u001b[0m\u001b[32mabout\u001b[0m\u001b[32m=\u001b[0m\u001b[32m\"https\u001b[0m\u001b[32m://iiif.europeana.eu/image/GQSOZW4KS2ASQUMO46UVWBTNLKZKBWGXUNYQXETU2UPMT2QNIY6A/presentation_images/68061020-02db-11e6-a651-fa163e2dd531/node-1/image/NLP/Monitor_Polski/1921/03/30/szzzid90130/0002_jpgid24187259/full/full/0/default.jpg\"\u001b[0m\u001b[32m>\u001b[0m\u001b[32m\\n    \u001b[0m\u001b[32m<\u001b[0m\u001b[32medm:isNextInSequence\u001b[0m\u001b[32m rdf:\u001b[0m\u001b[32mresource\u001b[0m\u001b[32m=\u001b[0m\u001b[32m\"https\u001b[0m\u001b[32m://iiif.europeana.eu/image/GQSOZW4KS2ASQUMO46UVWBTNLKZKBWGXUNYQXETU2UPMT2QNIY6A/presentation_images/68061020-02db-11e6-a651-fa163e2dd531/node-1/image/NLP/Monitor_Polski/1921/03/30/szzzid90130/0001_jpgid24187254/full/full/0/default.jpg\"/\u001b[0m\u001b[32m>\u001b[0m\u001b[32m\\n    \u001b[0m\u001b[32m<\u001b[0m\u001b[32msvcs:has_service\u001b[0m\u001b[32m rdf:\u001b[0m\u001b[32mresource\u001b[0m\u001b[32m=\u001b[0m\u001b[32m\"https\u001b[0m\u001b[32m://iiif.europeana.eu/image/GQSOZW4KS2ASQUMO46UVWBTNLKZKBWGXUNYQXETU2UPMT2QNIY6A/presentation_images/68061020-02db-11e6-a651-fa163e2dd531/node-1/image/NLP/Monitor_Polski/1921/03/30/szzzid90130/0002_jpgid24187259\"/\u001b[0m\u001b[32m>\u001b[0m\u001b[32m\\n  \u001b[0m\u001b[32m<\u001b[0m\u001b[32m/edm:WebResource\u001b[0m\u001b[32m>\u001b[0m\u001b[32m\\n  \u001b[0m\u001b[32m<\u001b[0m\u001b[32medm:WebResource\u001b[0m\u001b[32m rdf:\u001b[0m\u001b[32mabout\u001b[0m\u001b[32m=\u001b[0m\u001b[32m\"https\u001b[0m\u001b[32m://iiif.europeana.eu/image/GQSOZW4KS2ASQUMO46UVWBTNLKZKBWGXUNYQXETU2UPMT2QNIY6A/presentation_images/68061020-02db-11e6-a651-fa163e2dd531/node-1/image/NLP/Monitor_Polski/1921/03/30/szzzid90130/0003_jpgid24187264/full/full/0/default.jpg\"\u001b[0m\u001b[32m>\u001b[0m\u001b[32m\\n    \u001b[0m\u001b[32m<\u001b[0m\u001b[32medm:isNextInSequence\u001b[0m\u001b[32m rdf:\u001b[0m\u001b[32mresource\u001b[0m\u001b[32m=\u001b[0m\u001b[32m\"https\u001b[0m\u001b[32m://iiif.europeana.eu/image/GQSOZW4KS2ASQUMO46UVWBTNLKZKBWGXUNYQXETU2UPMT2QNIY6A/presentation_images/68061020-02db-11e6-a651-fa163e2dd531/node-1/image/NLP/Monitor_Polski/1921/03/30/szzzid90130/0002_jpgid24187259/full/full/0/default.jpg\"/\u001b[0m\u001b[32m>\u001b[0m\u001b[32m\\n    \u001b[0m\u001b[32m<\u001b[0m\u001b[32msvcs:has_service\u001b[0m\u001b[32m rdf:\u001b[0m\u001b[32mresource\u001b[0m\u001b[32m=\u001b[0m\u001b[32m\"https\u001b[0m\u001b[32m://iiif.europeana.eu/image/GQSOZW4KS2ASQUMO46UVWBTNLKZKBWGXUNYQXETU2UPMT2QNIY6A/presentation_images/68061020-02db-11e6-a651-fa163e2dd531/node-1/image/NLP/Monitor_Polski/1921/03/30/szzzid90130/0003_jpgid24187264\"/\u001b[0m\u001b[32m>\u001b[0m\u001b[32m\\n  \u001b[0m\u001b[32m<\u001b[0m\u001b[32m/edm:WebResource\u001b[0m\u001b[32m>\u001b[0m\u001b[32m\\n  \u001b[0m\u001b[32m<\u001b[0m\u001b[32medm:WebResource\u001b[0m\u001b[32m rdf:\u001b[0m\u001b[32mabout\u001b[0m\u001b[32m=\u001b[0m\u001b[32m\"https\u001b[0m\u001b[32m://iiif.europeana.eu/image/GQSOZW4KS2ASQUMO46UVWBTNLKZKBWGXUNYQXETU2UPMT2QNIY6A/presentation_images/68061020-02db-11e6-a651-fa163e2dd531/node-1/image/NLP/Monitor_Polski/1921/03/30/szzzid90130/0004_jpgid24187269/full/full/0/default.jpg\"\u001b[0m\u001b[32m>\u001b[0m\u001b[32m\\n    \u001b[0m\u001b[32m<\u001b[0m\u001b[32medm:isNextInSequence\u001b[0m\u001b[32m rdf:\u001b[0m\u001b[32mresource\u001b[0m\u001b[32m=\u001b[0m\u001b[32m\"https\u001b[0m\u001b[32m://iiif.europeana.eu/image/GQSOZW4KS2ASQUMO46UVWBTNLKZKBWGXUNYQXETU2UPMT2QNIY6A/presentation_images/68061020-02db-11e6-a651-fa163e2dd531/node-1/image/NLP/Monitor_Polski/1921/03/30/szzzid90130/0003_jpgid24187264/full/full/0/default.jpg\"/\u001b[0m\u001b[32m>\u001b[0m\u001b[32m\\n    \u001b[0m\u001b[32m<\u001b[0m\u001b[32msvcs:has_service\u001b[0m\u001b[32m rdf:\u001b[0m\u001b[32mresource\u001b[0m\u001b[32m=\u001b[0m\u001b[32m\"https\u001b[0m\u001b[32m://iiif.europeana.eu/image/GQSOZW4KS2ASQUMO46UVWBTNLKZKBWGXUNYQXETU2UPMT2QNIY6A/presentation_images/68061020-02db-11e6-a651-fa163e2dd531/node-1/image/NLP/Monitor_Polski/1921/03/30/szzzid90130/0004_jpgid24187269\"/\u001b[0m\u001b[32m>\u001b[0m\u001b[32m\\n  \u001b[0m\u001b[32m<\u001b[0m\u001b[32m/edm:WebResource\u001b[0m\u001b[32m>\u001b[0m\u001b[32m\\n  \u001b[0m\u001b[32m<\u001b[0m\u001b[32medm:WebResource\u001b[0m\u001b[32m rdf:\u001b[0m\u001b[32mabout\u001b[0m\u001b[32m=\u001b[0m\u001b[32m\"https\u001b[0m\u001b[32m://iiif.europeana.eu/image/GQSOZW4KS2ASQUMO46UVWBTNLKZKBWGXUNYQXETU2UPMT2QNIY6A/presentation_images/68061020-02db-11e6-a651-fa163e2dd531/node-1/image/NLP/Monitor_Polski/1921/03/30/szzzid90130/0005_jpgid24187274/full/full/0/default.jpg\"\u001b[0m\u001b[32m>\u001b[0m\u001b[32m\\n    \u001b[0m\u001b[32m<\u001b[0m\u001b[32medm:isNextInSequence\u001b[0m\u001b[32m rdf:\u001b[0m\u001b[32mresource\u001b[0m\u001b[32m=\u001b[0m\u001b[32m\"https\u001b[0m\u001b[32m://iiif.europeana.eu/image/GQSOZW4KS2ASQUMO46UVWBTNLKZKBWGXUNYQXETU2UPMT2QNIY6A/presentation_images/68061020-02db-11e6-a651-fa163e2dd531/node-1/image/NLP/Monitor_Polski/1921/03/30/szzzid90130/0004_jpgid24187269/full/full/0/default.jpg\"/\u001b[0m\u001b[32m>\u001b[0m\u001b[32m\\n    \u001b[0m\u001b[32m<\u001b[0m\u001b[32msvcs:has_service\u001b[0m\u001b[32m rdf:\u001b[0m\u001b[32mresource\u001b[0m\u001b[32m=\u001b[0m\u001b[32m\"https\u001b[0m\u001b[32m://iiif.europeana.eu/image/GQSOZW4KS2ASQUMO46UVWBTNLKZKBWGXUNYQXETU2UPMT2QNIY6A/presentation_images/68061020-02db-11e6-a651-fa163e2dd531/node-1/image/NLP/Monitor_Polski/1921/03/30/szzzid90130/0005_jpgid24187274\"/\u001b[0m\u001b[32m>\u001b[0m\u001b[32m\\n  \u001b[0m\u001b[32m<\u001b[0m\u001b[32m/edm:WebResource\u001b[0m\u001b[32m>\u001b[0m\u001b[32m\\n  \u001b[0m\u001b[32m<\u001b[0m\u001b[32medm:WebResource\u001b[0m\u001b[32m rdf:\u001b[0m\u001b[32mabout\u001b[0m\u001b[32m=\u001b[0m\u001b[32m\"https\u001b[0m\u001b[32m://iiif.europeana.eu/image/GQSOZW4KS2ASQUMO46UVWBTNLKZKBWGXUNYQXETU2UPMT2QNIY6A/presentation_images/68061020-02db-11e6-a651-fa163e2dd531/node-1/image/NLP/Monitor_Polski/1921/03/30/szzzid90130/0006_jpgid24187279/full/full/0/default.jpg\"\u001b[0m\u001b[32m>\u001b[0m\u001b[32m\\n    \u001b[0m\u001b[32m<\u001b[0m\u001b[32medm:isNextInSequence\u001b[0m\u001b[32m rdf:\u001b[0m\u001b[32mresource\u001b[0m\u001b[32m=\u001b[0m\u001b[32m\"https\u001b[0m\u001b[32m://iiif.europeana.eu/image/GQSOZW4KS2ASQUMO46UVWBTNLKZKBWGXUNYQXETU2UPMT2QNIY6A/presentation_images/68061020-02db-11e6-a651-fa163e2dd531/node-1/image/NLP/Monitor_Polski/1921/03/30/szzzid90130/0005_jpgid24187274/full/full/0/default.jpg\"/\u001b[0m\u001b[32m>\u001b[0m\u001b[32m\\n    \u001b[0m\u001b[32m<\u001b[0m\u001b[32msvcs:has_service\u001b[0m\u001b[32m rdf:\u001b[0m\u001b[32mresource\u001b[0m\u001b[32m=\u001b[0m\u001b[32m\"https\u001b[0m\u001b[32m://iiif.europeana.eu/image/GQSOZW4KS2ASQUMO46UVWBTNLKZKBWGXUNYQXETU2UPMT2QNIY6A/presentation_images/68061020-02db-11e6-a651-fa163e2dd531/node-1/image/NLP/Monitor_Polski/1921/03/30/szzzid90130/0006_jpgid24187279\"/\u001b[0m\u001b[32m>\u001b[0m\u001b[32m\\n  \u001b[0m\u001b[32m<\u001b[0m\u001b[32m/edm:WebResource\u001b[0m\u001b[32m>\u001b[0m\u001b[32m\\n  \u001b[0m\u001b[32m<\u001b[0m\u001b[32medm:WebResource\u001b[0m\u001b[32m rdf:\u001b[0m\u001b[32mabout\u001b[0m\u001b[32m=\u001b[0m\u001b[32m\"https\u001b[0m\u001b[32m://iiif.europeana.eu/image/GQSOZW4KS2ASQUMO46UVWBTNLKZKBWGXUNYQXETU2UPMT2QNIY6A/presentation_images/68061020-02db-11e6-a651-fa163e2dd531/node-1/image/NLP/Monitor_Polski/1921/03/30/szzzid90130/0007_jpgid24187284/full/full/0/default.jpg\"\u001b[0m\u001b[32m>\u001b[0m\u001b[32m\\n    \u001b[0m\u001b[32m<\u001b[0m\u001b[32medm:isNextInSequence\u001b[0m\u001b[32m rdf:\u001b[0m\u001b[32mresource\u001b[0m\u001b[32m=\u001b[0m\u001b[32m\"https\u001b[0m\u001b[32m://iiif.europeana.eu/image/GQSOZW4KS2ASQUMO46UVWBTNLKZKBWGXUNYQXETU2UPMT2QNIY6A/presentation_images/68061020-02db-11e6-a651-fa163e2dd531/node-1/image/NLP/Monitor_Polski/1921/03/30/szzzid90130/0006_jpgid24187279/full/full/0/default.jpg\"/\u001b[0m\u001b[32m>\u001b[0m\u001b[32m\\n    \u001b[0m\u001b[32m<\u001b[0m\u001b[32msvcs:has_service\u001b[0m\u001b[32m rdf:\u001b[0m\u001b[32mresource\u001b[0m\u001b[32m=\u001b[0m\u001b[32m\"https\u001b[0m\u001b[32m://iiif.europeana.eu/image/GQSOZW4KS2ASQUMO46UVWBTNLKZKBWGXUNYQXETU2UPMT2QNIY6A/presentation_images/68061020-02db-11e6-a651-fa163e2dd531/node-1/image/NLP/Monitor_Polski/1921/03/30/szzzid90130/0007_jpgid24187284\"/\u001b[0m\u001b[32m>\u001b[0m\u001b[32m\\n  \u001b[0m\u001b[32m<\u001b[0m\u001b[32m/edm:WebResource\u001b[0m\u001b[32m>\u001b[0m\u001b[32m\\n  \u001b[0m\u001b[32m<\u001b[0m\u001b[32medm:WebResource\u001b[0m\u001b[32m rdf:\u001b[0m\u001b[32mabout\u001b[0m\u001b[32m=\u001b[0m\u001b[32m\"https\u001b[0m\u001b[32m://iiif.europeana.eu/image/GQSOZW4KS2ASQUMO46UVWBTNLKZKBWGXUNYQXETU2UPMT2QNIY6A/presentation_images/68061020-02db-11e6-a651-fa163e2dd531/node-1/image/NLP/Monitor_Polski/1921/03/30/szzzid90130/0008_jpgid24187289/full/full/0/default.jpg\"\u001b[0m\u001b[32m>\u001b[0m\u001b[32m\\n    \u001b[0m\u001b[32m<\u001b[0m\u001b[32medm:isNextInSequence\u001b[0m\u001b[32m rdf:\u001b[0m\u001b[32mresource\u001b[0m\u001b[32m=\u001b[0m\u001b[32m\"https\u001b[0m\u001b[32m://iiif.europeana.eu/image/GQSOZW4KS2ASQUMO46UVWBTNLKZKBWGXUNYQXETU2UPMT2QNIY6A/presentation_images/68061020-02db-11e6-a651-fa163e2dd531/node-1/image/NLP/Monitor_Polski/1921/03/30/szzzid90130/0007_jpgid24187284/full/full/0/default.jpg\"/\u001b[0m\u001b[32m>\u001b[0m\u001b[32m\\n    \u001b[0m\u001b[32m<\u001b[0m\u001b[32msvcs:has_service\u001b[0m\u001b[32m rdf:\u001b[0m\u001b[32mresource\u001b[0m\u001b[32m=\u001b[0m\u001b[32m\"https\u001b[0m\u001b[32m://iiif.europeana.eu/image/GQSOZW4KS2ASQUMO46UVWBTNLKZKBWGXUNYQXETU2UPMT2QNIY6A/presentation_images/68061020-02db-11e6-a651-fa163e2dd531/node-1/image/NLP/Monitor_Polski/1921/03/30/szzzid90130/0008_jpgid24187289\"/\u001b[0m\u001b[32m>\u001b[0m\u001b[32m\\n  \u001b[0m\u001b[32m<\u001b[0m\u001b[32m/edm:WebResource\u001b[0m\u001b[32m>\u001b[0m\u001b[32m\\n  \u001b[0m\u001b[32m<\u001b[0m\u001b[32more:Aggregation\u001b[0m\u001b[32m rdf:\u001b[0m\u001b[32mabout\u001b[0m\u001b[32m=\u001b[0m\u001b[32m\"http\u001b[0m\u001b[32m://data.theeuropeanlibrary.org/BibliographicResource/3000095237868#aggregation\"\u001b[0m\u001b[32m>\u001b[0m\u001b[32m\\n    \u001b[0m\u001b[32m<\u001b[0m\u001b[32medm:aggregatedCHO\u001b[0m\u001b[32m rdf:\u001b[0m\u001b[32mresource\u001b[0m\u001b[32m=\u001b[0m\u001b[32m\"http\u001b[0m\u001b[32m://data.theeuropeanlibrary.org/BibliographicResource/3000095237868\"/\u001b[0m\u001b[32m>\u001b[0m\u001b[32m\\n    \u001b[0m\u001b[32m<\u001b[0m\u001b[32medm:dataProvider\u001b[0m\u001b[32m>\u001b[0m\u001b[32mNational Library of Poland\u001b[0m\u001b[32m<\u001b[0m\u001b[32m/edm:dataProvider\u001b[0m\u001b[32m>\u001b[0m\u001b[32m\\n    \u001b[0m\u001b[32m<\u001b[0m\u001b[32medm:hasView\u001b[0m\u001b[32m rdf:\u001b[0m\u001b[32mresource\u001b[0m\u001b[32m=\u001b[0m\u001b[32m\"https\u001b[0m\u001b[32m://iiif.europeana.eu/image/GQSOZW4KS2ASQUMO46UVWBTNLKZKBWGXUNYQXETU2UPMT2QNIY6A/presentation_images/68061020-02db-11e6-a651-fa163e2dd531/node-1/image/NLP/Monitor_Polski/1921/03/30/szzzid90130/0002_jpgid24187259/full/full/0/default.jpg\"/\u001b[0m\u001b[32m>\u001b[0m\u001b[32m\\n    \u001b[0m\u001b[32m<\u001b[0m\u001b[32medm:hasView\u001b[0m\u001b[32m rdf:\u001b[0m\u001b[32mresource\u001b[0m\u001b[32m=\u001b[0m\u001b[32m\"https\u001b[0m\u001b[32m://iiif.europeana.eu/image/GQSOZW4KS2ASQUMO46UVWBTNLKZKBWGXUNYQXETU2UPMT2QNIY6A/presentation_images/68061020-02db-11e6-a651-fa163e2dd531/node-1/image/NLP/Monitor_Polski/1921/03/30/szzzid90130/0003_jpgid24187264/full/full/0/default.jpg\"/\u001b[0m\u001b[32m>\u001b[0m\u001b[32m\\n    \u001b[0m\u001b[32m<\u001b[0m\u001b[32medm:hasView\u001b[0m\u001b[32m rdf:\u001b[0m\u001b[32mresource\u001b[0m\u001b[32m=\u001b[0m\u001b[32m\"https\u001b[0m\u001b[32m://iiif.europeana.eu/image/GQSOZW4KS2ASQUMO46UVWBTNLKZKBWGXUNYQXETU2UPMT2QNIY6A/presentation_images/68061020-02db-11e6-a651-fa163e2dd531/node-1/image/NLP/Monitor_Polski/1921/03/30/szzzid90130/0004_jpgid24187269/full/full/0/default.jpg\"/\u001b[0m\u001b[32m>\u001b[0m\u001b[32m\\n    \u001b[0m\u001b[32m<\u001b[0m\u001b[32medm:hasView\u001b[0m\u001b[32m rdf:\u001b[0m\u001b[32mresource\u001b[0m\u001b[32m=\u001b[0m\u001b[32m\"https\u001b[0m\u001b[32m://iiif.europeana.eu/image/GQSOZW4KS2ASQUMO46UVWBTNLKZKBWGXUNYQXETU2UPMT2QNIY6A/presentation_images/68061020-02db-11e6-a651-fa163e2dd531/node-1/image/NLP/Monitor_Polski/1921/03/30/szzzid90130/0005_jpgid24187274/full/full/0/default.jpg\"/\u001b[0m\u001b[32m>\u001b[0m\u001b[32m\\n    \u001b[0m\u001b[32m<\u001b[0m\u001b[32medm:hasView\u001b[0m\u001b[32m rdf:\u001b[0m\u001b[32mresource\u001b[0m\u001b[32m=\u001b[0m\u001b[32m\"https\u001b[0m\u001b[32m://iiif.europeana.eu/image/GQSOZW4KS2ASQUMO46UVWBTNLKZKBWGXUNYQXETU2UPMT2QNIY6A/presentation_images/68061020-02db-11e6-a651-fa163e2dd531/node-1/image/NLP/Monitor_Polski/1921/03/30/szzzid90130/0006_jpgid24187279/full/full/0/default.jpg\"/\u001b[0m\u001b[32m>\u001b[0m\u001b[32m\\n    \u001b[0m\u001b[32m<\u001b[0m\u001b[32medm:hasView\u001b[0m\u001b[32m rdf:\u001b[0m\u001b[32mresource\u001b[0m\u001b[32m=\u001b[0m\u001b[32m\"https\u001b[0m\u001b[32m://iiif.europeana.eu/image/GQSOZW4KS2ASQUMO46UVWBTNLKZKBWGXUNYQXETU2UPMT2QNIY6A/presentation_images/68061020-02db-11e6-a651-fa163e2dd531/node-1/image/NLP/Monitor_Polski/1921/03/30/szzzid90130/0007_jpgid24187284/full/full/0/default.jpg\"/\u001b[0m\u001b[32m>\u001b[0m\u001b[32m\\n    \u001b[0m\u001b[32m<\u001b[0m\u001b[32medm:hasView\u001b[0m\u001b[32m rdf:\u001b[0m\u001b[32mresource\u001b[0m\u001b[32m=\u001b[0m\u001b[32m\"https\u001b[0m\u001b[32m://iiif.europeana.eu/image/GQSOZW4KS2ASQUMO46UVWBTNLKZKBWGXUNYQXETU2UPMT2QNIY6A/presentation_images/68061020-02db-11e6-a651-fa163e2dd531/node-1/image/NLP/Monitor_Polski/1921/03/30/szzzid90130/0008_jpgid24187289/full/full/0/default.jpg\"/\u001b[0m\u001b[32m>\u001b[0m\u001b[32m\\n    \u001b[0m\u001b[32m<\u001b[0m\u001b[32medm:isShownBy\u001b[0m\u001b[32m rdf:\u001b[0m\u001b[32mresource\u001b[0m\u001b[32m=\u001b[0m\u001b[32m\"https\u001b[0m\u001b[32m://iiif.europeana.eu/image/GQSOZW4KS2ASQUMO46UVWBTNLKZKBWGXUNYQXETU2UPMT2QNIY6A/presentation_images/68061020-02db-11e6-a651-fa163e2dd531/node-1/image/NLP/Monitor_Polski/1921/03/30/szzzid90130/0001_jpgid24187254/full/full/0/default.jpg\"/\u001b[0m\u001b[32m>\u001b[0m\u001b[32m\\n    \u001b[0m\u001b[32m<\u001b[0m\u001b[32medm:object\u001b[0m\u001b[32m rdf:\u001b[0m\u001b[32mresource\u001b[0m\u001b[32m=\u001b[0m\u001b[32m\"https\u001b[0m\u001b[32m://iiif.europeana.eu/image/GQSOZW4KS2ASQUMO46UVWBTNLKZKBWGXUNYQXETU2UPMT2QNIY6A/presentation_images/68061020-02db-11e6-a651-fa163e2dd531/node-1/image/NLP/Monitor_Polski/1921/03/30/szzzid90130/0001_jpgid24187254/full/full/0/default.jpg\"/\u001b[0m\u001b[32m>\u001b[0m\u001b[32m\\n    \u001b[0m\u001b[32m<\u001b[0m\u001b[32medm:provider\u001b[0m\u001b[32m xml:\u001b[0m\u001b[32mlang\u001b[0m\u001b[32m=\u001b[0m\u001b[32m\"en\"\u001b[0m\u001b[32m>\u001b[0m\u001b[32mThe European Library\u001b[0m\u001b[32m<\u001b[0m\u001b[32m/edm:provider\u001b[0m\u001b[32m>\u001b[0m\u001b[32m\\n    \u001b[0m\u001b[32m<\u001b[0m\u001b[32medm:rights\u001b[0m\u001b[32m rdf:\u001b[0m\u001b[32mresource\u001b[0m\u001b[32m=\u001b[0m\u001b[32m\"http\u001b[0m\u001b[32m://creativecommons.org/publicdomain/mark/1.0/\"/\u001b[0m\u001b[32m>\u001b[0m\u001b[32m\\n  \u001b[0m\u001b[32m<\u001b[0m\u001b[32m/ore:Aggregation\u001b[0m\u001b[32m>\u001b[0m\u001b[32m\\n  \u001b[0m\u001b[32m<\u001b[0m\u001b[32msvcs:Service\u001b[0m\u001b[32m rdf:\u001b[0m\u001b[32mabout\u001b[0m\u001b[32m=\u001b[0m\u001b[32m\"https\u001b[0m\u001b[32m://iiif.europeana.eu/image/GQSOZW4KS2ASQUMO46UVWBTNLKZKBWGXUNYQXETU2UPMT2QNIY6A/presentation_images/68061020-02db-11e6-a651-fa163e2dd531/node-1/image/NLP/Monitor_Polski/1921/03/30/szzzid90130/0006_jpgid24187279\"\u001b[0m\u001b[32m>\u001b[0m\u001b[32m\\n    \u001b[0m\u001b[32m<\u001b[0m\u001b[32mdcterms:conformsTo\u001b[0m\u001b[32m rdf:\u001b[0m\u001b[32mresource\u001b[0m\u001b[32m=\u001b[0m\u001b[32m\"http\u001b[0m\u001b[32m://iiif.io/api/image\"/\u001b[0m\u001b[32m>\u001b[0m\u001b[32m\\n    \u001b[0m\u001b[32m<\u001b[0m\u001b[32mdoap:implements\u001b[0m\u001b[32m rdf:\u001b[0m\u001b[32mresource\u001b[0m\u001b[32m=\u001b[0m\u001b[32m\"http\u001b[0m\u001b[32m://iiif.io/api/image/2/level1.json\"/\u001b[0m\u001b[32m>\u001b[0m\u001b[32m\\n  \u001b[0m\u001b[32m<\u001b[0m\u001b[32m/svcs:Service\u001b[0m\u001b[32m>\u001b[0m\u001b[32m\\n  \u001b[0m\u001b[32m<\u001b[0m\u001b[32msvcs:Service\u001b[0m\u001b[32m rdf:\u001b[0m\u001b[32mabout\u001b[0m\u001b[32m=\u001b[0m\u001b[32m\"https\u001b[0m\u001b[32m://iiif.europeana.eu/image/GQSOZW4KS2ASQUMO46UVWBTNLKZKBWGXUNYQXETU2UPMT2QNIY6A/presentation_images/68061020-02db-11e6-a651-fa163e2dd531/node-1/image/NLP/Monitor_Polski/1921/03/30/szzzid90130/0008_jpgid24187289\"\u001b[0m\u001b[32m>\u001b[0m\u001b[32m\\n    \u001b[0m\u001b[32m<\u001b[0m\u001b[32mdcterms:conformsTo\u001b[0m\u001b[32m rdf:\u001b[0m\u001b[32mresource\u001b[0m\u001b[32m=\u001b[0m\u001b[32m\"http\u001b[0m\u001b[32m://iiif.io/api/image\"/\u001b[0m\u001b[32m>\u001b[0m\u001b[32m\\n    \u001b[0m\u001b[32m<\u001b[0m\u001b[32mdoap:implements\u001b[0m\u001b[32m rdf:\u001b[0m\u001b[32mresource\u001b[0m\u001b[32m=\u001b[0m\u001b[32m\"http\u001b[0m\u001b[32m://iiif.io/api/image/2/level1.json\"/\u001b[0m\u001b[32m>\u001b[0m\u001b[32m\\n  \u001b[0m\u001b[32m<\u001b[0m\u001b[32m/svcs:Service\u001b[0m\u001b[32m>\u001b[0m\u001b[32m\\n  \u001b[0m\u001b[32m<\u001b[0m\u001b[32msvcs:Service\u001b[0m\u001b[32m rdf:\u001b[0m\u001b[32mabout\u001b[0m\u001b[32m=\u001b[0m\u001b[32m\"https\u001b[0m\u001b[32m://iiif.europeana.eu/image/GQSOZW4KS2ASQUMO46UVWBTNLKZKBWGXUNYQXETU2UPMT2QNIY6A/presentation_images/68061020-02db-11e6-a651-fa163e2dd531/node-1/image/NLP/Monitor_Polski/1921/03/30/szzzid90130/0003_jpgid24187264\"\u001b[0m\u001b[32m>\u001b[0m\u001b[32m\\n    \u001b[0m\u001b[32m<\u001b[0m\u001b[32mdcterms:conformsTo\u001b[0m\u001b[32m rdf:\u001b[0m\u001b[32mresource\u001b[0m\u001b[32m=\u001b[0m\u001b[32m\"http\u001b[0m\u001b[32m://iiif.io/api/image\"/\u001b[0m\u001b[32m>\u001b[0m\u001b[32m\\n    \u001b[0m\u001b[32m<\u001b[0m\u001b[32mdoap:implements\u001b[0m\u001b[32m rdf:\u001b[0m\u001b[32mresource\u001b[0m\u001b[32m=\u001b[0m\u001b[32m\"http\u001b[0m\u001b[32m://iiif.io/api/image/2/level1.json\"/\u001b[0m\u001b[32m>\u001b[0m\u001b[32m\\n  \u001b[0m\u001b[32m<\u001b[0m\u001b[32m/svcs:Service\u001b[0m\u001b[32m>\u001b[0m\u001b[32m\\n  \u001b[0m\u001b[32m<\u001b[0m\u001b[32msvcs:Service\u001b[0m\u001b[32m rdf:\u001b[0m\u001b[32mabout\u001b[0m\u001b[32m=\u001b[0m\u001b[32m\"https\u001b[0m\u001b[32m://iiif.europeana.eu/image/GQSOZW4KS2ASQUMO46UVWBTNLKZKBWGXUNYQXETU2UPMT2QNIY6A/presentation_images/68061020-02db-11e6-a651-fa163e2dd531/node-1/image/NLP/Monitor_Polski/1921/03/30/szzzid90130/0005_jpgid24187274\"\u001b[0m\u001b[32m>\u001b[0m\u001b[32m\\n    \u001b[0m\u001b[32m<\u001b[0m\u001b[32mdcterms:conformsTo\u001b[0m\u001b[32m rdf:\u001b[0m\u001b[32mresource\u001b[0m\u001b[32m=\u001b[0m\u001b[32m\"http\u001b[0m\u001b[32m://iiif.io/api/image\"/\u001b[0m\u001b[32m>\u001b[0m\u001b[32m\\n    \u001b[0m\u001b[32m<\u001b[0m\u001b[32mdoap:implements\u001b[0m\u001b[32m rdf:\u001b[0m\u001b[32mresource\u001b[0m\u001b[32m=\u001b[0m\u001b[32m\"http\u001b[0m\u001b[32m://iiif.io/api/image/2/level1.json\"/\u001b[0m\u001b[32m>\u001b[0m\u001b[32m\\n  \u001b[0m\u001b[32m<\u001b[0m\u001b[32m/svcs:Service\u001b[0m\u001b[32m>\u001b[0m\u001b[32m\\n  \u001b[0m\u001b[32m<\u001b[0m\u001b[32msvcs:Service\u001b[0m\u001b[32m rdf:\u001b[0m\u001b[32mabout\u001b[0m\u001b[32m=\u001b[0m\u001b[32m\"https\u001b[0m\u001b[32m://iiif.europeana.eu/image/GQSOZW4KS2ASQUMO46UVWBTNLKZKBWGXUNYQXETU2UPMT2QNIY6A/presentation_images/68061020-02db-11e6-a651-fa163e2dd531/node-1/image/NLP/Monitor_Polski/1921/03/30/szzzid90130/0007_jpgid24187284\"\u001b[0m\u001b[32m>\u001b[0m\u001b[32m\\n    \u001b[0m\u001b[32m<\u001b[0m\u001b[32mdcterms:conformsTo\u001b[0m\u001b[32m rdf:\u001b[0m\u001b[32mresource\u001b[0m\u001b[32m=\u001b[0m\u001b[32m\"http\u001b[0m\u001b[32m://iiif.io/api/image\"/\u001b[0m\u001b[32m>\u001b[0m\u001b[32m\\n    \u001b[0m\u001b[32m<\u001b[0m\u001b[32mdoap:implements\u001b[0m\u001b[32m rdf:\u001b[0m\u001b[32mresource\u001b[0m\u001b[32m=\u001b[0m\u001b[32m\"http\u001b[0m\u001b[32m://iiif.io/api/image/2/level1.json\"/\u001b[0m\u001b[32m>\u001b[0m\u001b[32m\\n  \u001b[0m\u001b[32m<\u001b[0m\u001b[32m/svcs:Service\u001b[0m\u001b[32m>\u001b[0m\u001b[32m\\n  \u001b[0m\u001b[32m<\u001b[0m\u001b[32msvcs:Service\u001b[0m\u001b[32m rdf:\u001b[0m\u001b[32mabout\u001b[0m\u001b[32m=\u001b[0m\u001b[32m\"https\u001b[0m\u001b[32m://iiif.europeana.eu/image/GQSOZW4KS2ASQUMO46UVWBTNLKZKBWGXUNYQXETU2UPMT2QNIY6A/presentation_images/68061020-02db-11e6-a651-fa163e2dd531/node-1/image/NLP/Monitor_Polski/1921/03/30/szzzid90130/0001_jpgid24187254\"\u001b[0m\u001b[32m>\u001b[0m\u001b[32m\\n    \u001b[0m\u001b[32m<\u001b[0m\u001b[32mdcterms:conformsTo\u001b[0m\u001b[32m rdf:\u001b[0m\u001b[32mresource\u001b[0m\u001b[32m=\u001b[0m\u001b[32m\"http\u001b[0m\u001b[32m://iiif.io/api/image\"/\u001b[0m\u001b[32m>\u001b[0m\u001b[32m\\n    \u001b[0m\u001b[32m<\u001b[0m\u001b[32mdoap:implements\u001b[0m\u001b[32m rdf:\u001b[0m\u001b[32mresource\u001b[0m\u001b[32m=\u001b[0m\u001b[32m\"http\u001b[0m\u001b[32m://iiif.io/api/image/2/level1.json\"/\u001b[0m\u001b[32m>\u001b[0m\u001b[32m\\n  \u001b[0m\u001b[32m<\u001b[0m\u001b[32m/svcs:Service\u001b[0m\u001b[32m>\u001b[0m\u001b[32m\\n  \u001b[0m\u001b[32m<\u001b[0m\u001b[32msvcs:Service\u001b[0m\u001b[32m rdf:\u001b[0m\u001b[32mabout\u001b[0m\u001b[32m=\u001b[0m\u001b[32m\"https\u001b[0m\u001b[32m://iiif.europeana.eu/image/GQSOZW4KS2ASQUMO46UVWBTNLKZKBWGXUNYQXETU2UPMT2QNIY6A/presentation_images/68061020-02db-11e6-a651-fa163e2dd531/node-1/image/NLP/Monitor_Polski/1921/03/30/szzzid90130/0002_jpgid24187259\"\u001b[0m\u001b[32m>\u001b[0m\u001b[32m\\n    \u001b[0m\u001b[32m<\u001b[0m\u001b[32mdcterms:conformsTo\u001b[0m\u001b[32m rdf:\u001b[0m\u001b[32mresource\u001b[0m\u001b[32m=\u001b[0m\u001b[32m\"http\u001b[0m\u001b[32m://iiif.io/api/image\"/\u001b[0m\u001b[32m>\u001b[0m\u001b[32m\\n    \u001b[0m\u001b[32m<\u001b[0m\u001b[32mdoap:implements\u001b[0m\u001b[32m rdf:\u001b[0m\u001b[32mresource\u001b[0m\u001b[32m=\u001b[0m\u001b[32m\"http\u001b[0m\u001b[32m://iiif.io/api/image/2/level1.json\"/\u001b[0m\u001b[32m>\u001b[0m\u001b[32m\\n  \u001b[0m\u001b[32m<\u001b[0m\u001b[32m/svcs:Service\u001b[0m\u001b[32m>\u001b[0m\u001b[32m\\n  \u001b[0m\u001b[32m<\u001b[0m\u001b[32msvcs:Service\u001b[0m\u001b[32m rdf:\u001b[0m\u001b[32mabout\u001b[0m\u001b[32m=\u001b[0m\u001b[32m\"https\u001b[0m\u001b[32m://iiif.europeana.eu/image/GQSOZW4KS2ASQUMO46UVWBTNLKZKBWGXUNYQXETU2UPMT2QNIY6A/presentation_images/68061020-02db-11e6-a651-fa163e2dd531/node-1/image/NLP/Monitor_Polski/1921/03/30/szzzid90130/0004_jpgid24187269\"\u001b[0m\u001b[32m>\u001b[0m\u001b[32m\\n    \u001b[0m\u001b[32m<\u001b[0m\u001b[32mdcterms:conformsTo\u001b[0m\u001b[32m rdf:\u001b[0m\u001b[32mresource\u001b[0m\u001b[32m=\u001b[0m\u001b[32m\"http\u001b[0m\u001b[32m://iiif.io/api/image\"/\u001b[0m\u001b[32m>\u001b[0m\u001b[32m\\n    \u001b[0m\u001b[32m<\u001b[0m\u001b[32mdoap:implements\u001b[0m\u001b[32m rdf:\u001b[0m\u001b[32mresource\u001b[0m\u001b[32m=\u001b[0m\u001b[32m\"http\u001b[0m\u001b[32m://iiif.io/api/image/2/level1.json\"/\u001b[0m\u001b[32m>\u001b[0m\u001b[32m\\n  \u001b[0m\u001b[32m<\u001b[0m\u001b[32m/svcs:Service\u001b[0m\u001b[32m>\u001b[0m\u001b[32m\\n\u001b[0m\u001b[32m<\u001b[0m\u001b[32m/rdf:RDF\u001b[0m\u001b[32m>\u001b[0m\u001b[32m\\n'\u001b[0m\n"
      ]
     },
     "metadata": {},
     "output_type": "display_data"
    }
   ],
   "source": [
    "open(file).read()"
   ]
  },
  {
   "cell_type": "code",
   "execution_count": null,
   "metadata": {},
   "outputs": [],
   "source": [
    "# |export\n",
    "def get_metadata_for_page(\n",
    "    page: NewspaperPageAlto, metadata_directory: Optional[str] = None\n",
    "):\n",
    "    short_id = page.item_id.split(\"_\")[-1]\n",
    "    metadata_xml = f\"{metadata_directory}/http%3A%2F%2Fdata.theeuropeanlibrary.org%2FBibliographicResource%2F{short_id}.edm.xml\"\n",
    "    return get_metadata_from_xml(metadata_xml)"
   ]
  },
  {
   "cell_type": "code",
   "execution_count": null,
   "metadata": {},
   "outputs": [],
   "source": [
    "metadata = get_metadata_for_page(page, metadata_directory=\"test_data_metadata\")\n",
    "assert metadata\n",
    "assert isinstance(metadata, NewspaperPageMetadata)\n",
    "assert page.item_id.split(\"_\")[-1] in metadata.metadata_xml_fname"
   ]
  },
  {
   "cell_type": "markdown",
   "metadata": {},
   "source": [
    "## Issue processor"
   ]
  },
  {
   "cell_type": "code",
   "execution_count": null,
   "metadata": {},
   "outputs": [],
   "source": [
    "# |export\n",
    "@define(slots=True)\n",
    "class NewspaperPage:\n",
    "    fname: Union[str, Path]\n",
    "    text: Optional[str]\n",
    "    mean_ocr: Optional[float]\n",
    "    std_ocr: Optional[float]\n",
    "    bounding_boxes: List[Union[float, None]]\n",
    "    item_id: str\n",
    "    metadata_xml_fname: Union[str, Path]\n",
    "    title: Optional[str]\n",
    "    date: Optional[str]\n",
    "    languages: Union[List[str], None]\n",
    "    item_iiif_url: Optional[str]\n",
    "    # all_metadata_dict: Dict[Any, Any]\n",
    "    multi_language: bool = field(init=False)\n",
    "\n",
    "    def __attrs_post_init__(self):\n",
    "        self.fname = str(self.fname)\n",
    "        self.metadata_xml_fname = str(self.metadata_xml_fname)\n",
    "        self.languages = (\n",
    "            [lang for lang in self.languages if lang != \"==\"]\n",
    "            if isinstance(self.languages, list)\n",
    "            else self.languages\n",
    "        )\n",
    "        self.multi_language = (\n",
    "            isinstance(self.languages, list) and len(self.languages) > 1\n",
    "        )"
   ]
  },
  {
   "cell_type": "code",
   "execution_count": null,
   "metadata": {},
   "outputs": [],
   "source": [
    "# |export\n",
    "def process_newspaper_page(\n",
    "    xml_file: Union[str, Path], metadata_directory: Optional[str] = None\n",
    ") -> Dict[Any, Any]:\n",
    "    page = parse_newspaper_page(xml_file)\n",
    "    metadata = get_metadata_for_page(page, metadata_directory=metadata_directory)\n",
    "    metadata = asdict(metadata)\n",
    "    metadata.pop(\"all_metadata_dict\")\n",
    "    page = asdict(page)\n",
    "    return NewspaperPage(**page, **metadata)"
   ]
  },
  {
   "cell_type": "code",
   "execution_count": null,
   "metadata": {},
   "outputs": [
    {
     "data": {
      "text/html": [
       "<pre style=\"white-space:pre;overflow-x:auto;line-height:normal;font-family:Menlo,'DejaVu Sans Mono',consolas,'Courier New',monospace\"><span style=\"color: #800080; text-decoration-color: #800080; font-weight: bold\">Path</span><span style=\"font-weight: bold\">(</span><span style=\"color: #008000; text-decoration-color: #008000\">'test_data/9200357/BibliographicResource_3000095232526/8.xml'</span><span style=\"font-weight: bold\">)</span>\n",
       "</pre>\n"
      ],
      "text/plain": [
       "\u001b[1;35mPath\u001b[0m\u001b[1m(\u001b[0m\u001b[32m'test_data/9200357/BibliographicResource_3000095232526/8.xml'\u001b[0m\u001b[1m)\u001b[0m\n"
      ]
     },
     "metadata": {},
     "output_type": "display_data"
    }
   ],
   "source": [
    "xmls[0]"
   ]
  },
  {
   "cell_type": "code",
   "execution_count": null,
   "metadata": {},
   "outputs": [],
   "source": [
    "assert all(\n",
    "    process_newspaper_page(xml, metadata_directory=\"test_data_metadata\")\n",
    "    for xml in xmls[:32]\n",
    ")"
   ]
  },
  {
   "cell_type": "code",
   "execution_count": null,
   "metadata": {},
   "outputs": [
    {
     "data": {
      "text/html": [
       "<pre style=\"white-space:pre;overflow-x:auto;line-height:normal;font-family:Menlo,'DejaVu Sans Mono',consolas,'Courier New',monospace\">\n",
       "<span style=\"color: #800080; text-decoration-color: #800080; font-weight: bold\">NewspaperPage</span><span style=\"font-weight: bold\">(</span>\n",
       "    <span style=\"color: #808000; text-decoration-color: #808000\">fname</span>=<span style=\"color: #008000; text-decoration-color: #008000\">'test_data/9200357/BibliographicResource_3000095232526/8.xml'</span>,\n",
       "    <span style=\"color: #808000; text-decoration-color: #808000\">text</span>=<span style=\"color: #008000; text-decoration-color: #008000\">'k,- :oło =z * -i : i ; r. . a: k Podziękowanie. \\'ii.\".*.- .*-ó h7 »ka naistn ceezniej**e podzię- ownym Punu&gt;in :-,r\\'ys»ko!n St .k &gt;wski*j i ?.6 nip, fraz Panom .&gt;rt st m: Mis.Tń- •j, ■ rof. l wft!i-jott«k!&lt;?raa, &gt;•••.-.» &gt;■\\' i \"•zk .lv *ł i\\' &lt; ■? r ::i ••I. oraz ch-i- te; oper -wej, Przy Ki -rnu, Pa- vsk.- mu i Rybickiemu. er.\\'.2 firm e „Ri.-g.-rt i Gm- za !&gt;? v :n t(Ti sok ne uJ.yczenie forter -iarti na kon- urzą\\'.zi.myiri z nr eto na doebó. u. 24 !i&lt;?a w s.iU T .w hyejo nie- ; nu żi.ych ucz-Timo. S^ro :U&gt;-vzr.io. W oęł^zi-niu .Podwieczorek* Vi »\\' nfc Criiial na K ło &gt;vi isow .Ni ,.!j, mylnie wy- rru w a n-!*^ .Dnia 8- go grudnia, t. j w piątek, od P&gt;-.z. p-ej do \\'d-ej wie-.-iorem\". winno być: .Duia S-go grudnia, t. j. w sobotę, od g-&lt;dz. 5-oj do\" l-ej u ieczo- re:n\". Przy stoliku 7- z as i,-idą. ojtócz już wymienio nych, r,p. bzy monostwo JdurtelińBcy oraz p. Włodzi mierz harnecki. 12.\\':9r W i-o i ( \\'I I-J i w NI KIK-\\'IKU-;. Sl - 1 &lt; &gt; KI * I &gt; N IA r t&gt; TYLKO 2 PA7Y-M i S T P 2—BAKHA z KAZIMIERZEM KAMIŃSK IM. W p o ; j i e (1 &gt; i n : i- k i dni następnych .POTĘGA C1KMN0\\'i\\'Y\". 883fi \\'•.•.WBggyłijiraa: wmHMawi ..7 .ttu j € &gt; r&gt; ^ CJ\\'T-4\" ęi f T\\'5 i f (fO *a*.©21 SZtU^l Jerozołiiwkis N q 39. eo9 VV .\\'kwiiitne żałoons kapelusze. Duży wvWr. „M -me Nathalio Alino\" Marszałkowska 85. 541 crvf-»*rit; : 5^r polecamy! —■ Wycział ofiar uprasza o *ar fiarowanie ciepłego ubra nia, »\\'.veu&gt;ru i bielizny dla młodej pasiaki z ii;U-itj.\\'*&gt;iicji, cj&lt;f.;k\\'.» chorej na yruźlioc, weroty po lekarzu, zmarłym na poj-teninku swej ofiarnej pracy społecznej. Na wutlyoh • kach sióioty spoczywało ulr/.y nianie R&lt;*łtki, babki i &gt;u\\'.str :r?i-i-/. -\\'\\'U. a krótki?, wolne chwile pu ii- j;odziiin&lt;*j pracy, o &lt;ld ;nvata na usługi i pidccuownuie ubogich i nieszczęśli wych. Katujmy życie młode, godiie uzuaitia. — Wydzinl ofiar „Kuriera Waiszawskiesro\" prosi sr. czytcir.Ików o cieple palta, obuwie i cięt&gt;ły posiłek -ll.-j ucziiii w i uczennic szkół #re-ii.i«th. Wielka bieda miedzy dziećmi i młodzieżą, gruźlica niszczy. Na dzie sięć młodych istnień, ośm zajriożonycii. Prosimy rów nież o nadsyłanie ofert bezpłatnej pomocy naukowej w matematyce i językach obcych. 3 ja. &amp; * P. E3clena r, ^ioezorows ^Ioh GILEWSKA, tona majstra K*wcklego, opatrzona iw. Sakramentami, po długich i ciętkieh Oierpiwniach zaanęła w Boga w dniu 6-yrn grudnia 1017 r., przeżywszy lat 27. Pogrążeni w głębokim smutku: inąż z dziedmi, rodzice, bradro, bratowa i rodzina zaprnszają kie- wnych, j r/yjaciół i znajomych na nabożeństwo żałobne do kajilicy koi»oiola źw. Ba; bary (iia Ko smykach) d. 9-go b. m„ w niedzielę, o gud&gt;;. iO-eJ z ran a, a następnie na wyprowadzenie zwluk, zaiuz po ek\\'-ncxonom nabożeństwie, na cmentarz l&gt;ró- dzic-ńtki. 4J28 t .Dnia 10-eo b. m., w po:.i»»&lt;iziatek, w kościele ś\\\\r. Aleksandra, o godz. 9 i pół, odbędzie się nabo żeństwo za duszę ukochanej żony i matki, ś p. ł&gt; • t 1 i • o czem zawiadamiają mąi I dzieci. 572 Icnstwo za uuszę uKucaanej zouy kmiii i S:tóM Wgzystkimj ktunsy wzięli udział w oddaniu osia- ilei posługi zwłokom ukochanego mgża, ojca | tniej posługi ii i brata naszego Dnia 5 rru^nia ]f)17 r, Nr. 3S9 Le©?5adja z: ISrilgeróif# i ts opatrzona iw. Sakramentami, po długiej \\' bardzo ciężkiej chorobie, zmarła, przeżywszy lat 71. |;1 Nabożeństwo tałobne w kaplicy śvr Barbary na Koszykach jdt&gt;ędz e się iv poniedziałek, o godz. 8-4j r? rano, pc ć&amp;ońc^emu k-.tri e.tro (iub-.eio v y • ruwadzerie 2wł.&gt;k na cusentnrz poivi^..Kow&gt;ki o o grobu rodam- ^ neg-j o czoui iaw ia..;&lt;ii,-ii,i :ą t&lt;oZ\"#;:-iie v \\' oim w simitKu. w nn-o»e&lt; - no. i ci synów corRi. zieciOw i wnuków. . WT 11 . .■«ŁŁv iT.tUtiri.u Sty* maSm lalAJlfca wrfrA mli i fcjiSfau i - ś. y p. Feiilsszta i obywatel miasta stołecznego Warszawy, | adjutant Milicji miejskiej, | po długich cierpieniach zasnął w Bogu dnia 7-go grudnia 1917 r., pnseźywsay lat 44. 1. Pogrążeni w głębokim smutku: żona, córka, ojciec, zięd, wnuk, brat, siostry i rodzina r; eapraszają krewnych, przyjaciół, koie.sów i znajomych na oabożeńsiwo żałobna, odbyć sig E\\'; mające w dolnym kościele Zbawiciela (p rz &gt; ; u ł- Marszałkowskiej) dnia 9-go b. m., L j. \\\\\\\\ w niedzielę, o godz JO i pol zruna, oraz na wyprowadzaniu zwiok tegoż &lt;inia i 2 tegoż ^ L] kościoła, zaraz po ukończeniu nabożeństwa, na cmentarz po a*q zkowski. *■ |ij; Occ.bn« srprcEzenia rozsy:an3 n:a Leli. — i. fn-r?-. • \"/A\\'- t ssss^a^asossEEBEBaaBSi w S. o. SallsiD s iic!i f W; Eustasli0i?ja I). o!iy« atcSUn opatrzona ffw. 3nkramentami. przeżywszy lat 46. sasnęia w Bogu dnia \\'25-go listopada r. b. w Pr7ystnjni t &gt; aieun Kaliskiej: tymczasowo pociioWaiia ioslaia Qa oineniarzu parafjalnyin w Gudziesiach d. 2y listopada Nabożeństwo iałobue za spokój Jej ciusz.i oitbędzie we ozwatt&gt;&gt;k, dnia l3-i.-o b. ni^ o godz. 8 i pół. W kaplicy Schronienia paralityków ^Nowo\\\\\\\\ic.ska 3_), o czem, w nieobecności męża i synów, zawiadamiają 4G1G córka i rodzina. rmliTTiinf\" rTś\\\\ri&amp;\\\\ ST^ ^ cka opatrzona św. Sakramentami, po długich cierpieniach aasnęła w Panu d. 8-go grudnia 1917 r. Nabożeństwo żałobna za spokój duszy odprawione będzie się w Kościele iw. Karola Soromeusza (na Powązkach) w dniu 10-yn b m., w poniddziałak, o godz. ŁO-o } z ana, po akończaniu którego ^ nastąpi wyprowadzenia awłok na oinanlarz miejsc -wy do grobu rodzinnego. f Na te smutne obrzędy zaprasza krewnych i życzliwych pamięoi zmarłej 46-4 MATKA. Basi u ..\\'WMWJ yuwiu.yiJj.i, f B mi j Slf HE3 ISSiESS SsfiC \" 3 adwokat przysęg^, Ouj ^at:. m. s l . Warszawy, po krótkich cierpieniach zasnuł sv Bo^u duia 6-u\\'o grudnia r. b.. przeżywszy lat 60. O dnia pogrzeba oddzielne zawiadomienia nastap^ą. 575 w«»swss?«ę; łMMWBII f W medzieię, dnia W-go grudnia, jako w dzień imietu- a. p k h Ss ■j \\'.i odbędzie się msza święta w kościele Św. Antoniego (po-reformaokim) przy ul. Senatorskiej o godz. IO-aJ ? zr.tr.a, o cz&gt;-m zawiadamiają życzliwych i znai rnyt.i osiiio-.e..i mą^, d^-cci t wnutci. 5&lt;9 ^ Leokadji z Górskich Władysławewyj GĘBKA, i-j-t-rrmnf.y v. , **TwiW\\' ,r, Tif ■) Za duszę ś. p. Walerji z Maszatowskich .Smosarskiej e jako w dzień imienin, odbędzie eię nabożeństwo I w koście\\'e\\'św. Piotra i Pawia ma Koszykach) dnia |1BC li 9-go grudnia, o godzinie 10-ej rano, przed wieł- iona * dziećmi, braterstwo I rodzina. S f kim ołtarzem. 857rn a w szczególności wiełmetnenm panu komisarzowi Czvniowsuien ;u, kolonom i towarzyszom pracy z Mił oii miejskiej, oraz przyjaciołom zmarłego, tudzież\\'tym, którzy na własnych barkacli ponieśli do pro bu drogie nam szczątki—składają serdeczne .Bóg zapiać* 4620 W dniu 1\\'i-ym grudnia, jako w 20 -ią roczińcę .-m:erci, odindzie się w kościele Karmelitów na \" e8-«Ji s. i\" p. in\\'\" Krak.-Przed .i., o godzinie 8-«J rano, nabożeństwo żałobne za duszy hl zraiisoei na która rodzinę i życzliwych zapraszają 8S4 córka, wnuczki i wnuk.'</span>,\n",
       "    <span style=\"color: #808000; text-decoration-color: #808000\">mean_ocr</span>=<span style=\"color: #008080; text-decoration-color: #008080; font-weight: bold\">0.37964268641838544</span>,\n",
       "    <span style=\"color: #808000; text-decoration-color: #808000\">std_ocr</span>=<span style=\"color: #008080; text-decoration-color: #008080; font-weight: bold\">0.1758556636001721</span>,\n",
       "    <span style=\"color: #808000; text-decoration-color: #808000\">bounding_boxes</span>=<span style=\"font-weight: bold\">[</span>\n",
       "        <span style=\"font-weight: bold\">[</span><span style=\"color: #008080; text-decoration-color: #008080; font-weight: bold\">113.0</span>, <span style=\"color: #008080; text-decoration-color: #008080; font-weight: bold\">563.0</span>, <span style=\"color: #008080; text-decoration-color: #008080; font-weight: bold\">2858.0</span>, <span style=\"color: #008080; text-decoration-color: #008080; font-weight: bold\">512.0</span><span style=\"font-weight: bold\">]</span>,\n",
       "        <span style=\"font-weight: bold\">[</span><span style=\"color: #008080; text-decoration-color: #008080; font-weight: bold\">178.0</span>, <span style=\"color: #008080; text-decoration-color: #008080; font-weight: bold\">774.0</span>, <span style=\"color: #008080; text-decoration-color: #008080; font-weight: bold\">4211.0</span>, <span style=\"color: #008080; text-decoration-color: #008080; font-weight: bold\">363.0</span><span style=\"font-weight: bold\">]</span>,\n",
       "        <span style=\"font-weight: bold\">[</span><span style=\"color: #008080; text-decoration-color: #008080; font-weight: bold\">474.0</span>, <span style=\"color: #008080; text-decoration-color: #008080; font-weight: bold\">1107.0</span>, <span style=\"color: #008080; text-decoration-color: #008080; font-weight: bold\">4519.0</span>, <span style=\"color: #008080; text-decoration-color: #008080; font-weight: bold\">366.0</span><span style=\"font-weight: bold\">]</span>,\n",
       "        <span style=\"font-weight: bold\">[</span><span style=\"color: #008080; text-decoration-color: #008080; font-weight: bold\">147.0</span>, <span style=\"color: #008080; text-decoration-color: #008080; font-weight: bold\">2312.0</span>, <span style=\"color: #008080; text-decoration-color: #008080; font-weight: bold\">466.0</span>, <span style=\"color: #008080; text-decoration-color: #008080; font-weight: bold\">1540.0</span><span style=\"font-weight: bold\">]</span>,\n",
       "        <span style=\"font-weight: bold\">[</span><span style=\"color: #008080; text-decoration-color: #008080; font-weight: bold\">113.0</span>, <span style=\"color: #008080; text-decoration-color: #008080; font-weight: bold\">186.0</span>, <span style=\"color: #008080; text-decoration-color: #008080; font-weight: bold\">732.0</span>, <span style=\"color: #008080; text-decoration-color: #008080; font-weight: bold\">1746.0</span><span style=\"font-weight: bold\">]</span>,\n",
       "        <span style=\"font-weight: bold\">[</span><span style=\"color: #008080; text-decoration-color: #008080; font-weight: bold\">110.0</span>, <span style=\"color: #008080; text-decoration-color: #008080; font-weight: bold\">172.0</span>, <span style=\"color: #008080; text-decoration-color: #008080; font-weight: bold\">734.0</span>, <span style=\"color: #008080; text-decoration-color: #008080; font-weight: bold\">2020.0</span><span style=\"font-weight: bold\">]</span>,\n",
       "        <span style=\"font-weight: bold\">[</span><span style=\"color: #008080; text-decoration-color: #008080; font-weight: bold\">112.0</span>, <span style=\"color: #008080; text-decoration-color: #008080; font-weight: bold\">170.0</span>, <span style=\"color: #008080; text-decoration-color: #008080; font-weight: bold\">738.0</span>, <span style=\"color: #008080; text-decoration-color: #008080; font-weight: bold\">2884.0</span><span style=\"font-weight: bold\">]</span>,\n",
       "        <span style=\"font-weight: bold\">[</span><span style=\"color: #008080; text-decoration-color: #008080; font-weight: bold\">108.0</span>, <span style=\"color: #008080; text-decoration-color: #008080; font-weight: bold\">214.0</span>, <span style=\"color: #008080; text-decoration-color: #008080; font-weight: bold\">737.0</span>, <span style=\"color: #008080; text-decoration-color: #008080; font-weight: bold\">3444.0</span><span style=\"font-weight: bold\">]</span>,\n",
       "        <span style=\"font-weight: bold\">[</span><span style=\"color: #008080; text-decoration-color: #008080; font-weight: bold\">194.0</span>, <span style=\"color: #008080; text-decoration-color: #008080; font-weight: bold\">719.0</span>, <span style=\"color: #008080; text-decoration-color: #008080; font-weight: bold\">1327.0</span>, <span style=\"color: #008080; text-decoration-color: #008080; font-weight: bold\">1743.0</span><span style=\"font-weight: bold\">]</span>,\n",
       "        <span style=\"font-weight: bold\">[</span><span style=\"color: #008080; text-decoration-color: #008080; font-weight: bold\">158.0</span>, <span style=\"color: #008080; text-decoration-color: #008080; font-weight: bold\">254.0</span>, <span style=\"color: #008080; text-decoration-color: #008080; font-weight: bold\">1363.0</span>, <span style=\"color: #008080; text-decoration-color: #008080; font-weight: bold\">3412.0</span><span style=\"font-weight: bold\">]</span>,\n",
       "        <span style=\"font-weight: bold\">[</span><span style=\"color: #008080; text-decoration-color: #008080; font-weight: bold\">102.0</span>, <span style=\"color: #008080; text-decoration-color: #008080; font-weight: bold\">966.0</span>, <span style=\"color: #008080; text-decoration-color: #008080; font-weight: bold\">2766.0</span>, <span style=\"color: #008080; text-decoration-color: #008080; font-weight: bold\">2920.0</span><span style=\"font-weight: bold\">]</span>,\n",
       "        <span style=\"font-weight: bold\">[</span><span style=\"color: #008080; text-decoration-color: #008080; font-weight: bold\">364.0</span>, <span style=\"color: #008080; text-decoration-color: #008080; font-weight: bold\">1679.0</span>, <span style=\"color: #008080; text-decoration-color: #008080; font-weight: bold\">2889.0</span>, <span style=\"color: #008080; text-decoration-color: #008080; font-weight: bold\">1686.0</span><span style=\"font-weight: bold\">]</span>,\n",
       "        <span style=\"font-weight: bold\">[</span><span style=\"color: #008080; text-decoration-color: #008080; font-weight: bold\">560.0</span>, <span style=\"color: #008080; text-decoration-color: #008080; font-weight: bold\">341.0</span>, <span style=\"color: #008080; text-decoration-color: #008080; font-weight: bold\">3670.0</span>, <span style=\"color: #008080; text-decoration-color: #008080; font-weight: bold\">3562.0</span><span style=\"font-weight: bold\">]</span>,\n",
       "        <span style=\"font-weight: bold\">[</span><span style=\"color: #008080; text-decoration-color: #008080; font-weight: bold\">105.0</span>, <span style=\"color: #008080; text-decoration-color: #008080; font-weight: bold\">1020.0</span>, <span style=\"color: #008080; text-decoration-color: #008080; font-weight: bold\">4236.0</span>, <span style=\"color: #008080; text-decoration-color: #008080; font-weight: bold\">2383.0</span><span style=\"font-weight: bold\">]</span>,\n",
       "        <span style=\"font-weight: bold\">[</span><span style=\"color: #008080; text-decoration-color: #008080; font-weight: bold\">129.0</span>, <span style=\"color: #008080; text-decoration-color: #008080; font-weight: bold\">1524.0</span>, <span style=\"color: #008080; text-decoration-color: #008080; font-weight: bold\">4656.0</span>, <span style=\"color: #008080; text-decoration-color: #008080; font-weight: bold\">1574.0</span><span style=\"font-weight: bold\">]</span>,\n",
       "        <span style=\"font-weight: bold\">[</span><span style=\"color: #008080; text-decoration-color: #008080; font-weight: bold\">37.0</span>, <span style=\"color: #008080; text-decoration-color: #008080; font-weight: bold\">387.0</span>, <span style=\"color: #008080; text-decoration-color: #008080; font-weight: bold\">3597.0</span>, <span style=\"color: #008080; text-decoration-color: #008080; font-weight: bold\">2054.0</span><span style=\"font-weight: bold\">]</span>\n",
       "    <span style=\"font-weight: bold\">]</span>,\n",
       "    <span style=\"color: #808000; text-decoration-color: #808000\">item_id</span>=<span style=\"color: #008000; text-decoration-color: #008000\">'9200357/BibliographicResource_3000095232526'</span>,\n",
       "    <span style=\"color: #808000; text-decoration-color: #808000\">metadata_xml_fname</span>=<span style=\"color: #008000; text-decoration-color: #008000\">'test_data_metadata/http%3A%2F%2Fdata.theeuropeanlibrary.org%2FBibliographicResource%2F3000095232526.edm.xml'</span>,\n",
       "    <span style=\"color: #808000; text-decoration-color: #808000\">title</span>=<span style=\"color: #008000; text-decoration-color: #008000\">'Kurier Warszawski'</span>,\n",
       "    <span style=\"color: #808000; text-decoration-color: #808000\">date</span>=<span style=\"color: #008000; text-decoration-color: #008000\">'1917-12-08'</span>,\n",
       "    <span style=\"color: #808000; text-decoration-color: #808000\">languages</span>=<span style=\"font-weight: bold\">[</span><span style=\"color: #008000; text-decoration-color: #008000\">'pl'</span><span style=\"font-weight: bold\">]</span>,\n",
       "    <span style=\"color: #808000; text-decoration-color: #808000\">item_iiif_url</span>=<span style=\"color: #008000; text-decoration-color: #008000\">'https://iiif.europeana.eu/image/FC42GS4KJ4WTHO4WFH5KUEYPUYJ4WH5IP3R2TR7XPF6HAU22OCTA/presentation_images/d12286a0-0232-11e6-a696-fa163e2dd531/node-1/image/NLP/Kurier_Warszawski/1917/12/08/szzzid87226/0001_jpgid23648166/full/full/0/default.jpg'</span>,\n",
       "    <span style=\"color: #808000; text-decoration-color: #808000\">multi_language</span>=<span style=\"color: #ff0000; text-decoration-color: #ff0000; font-style: italic\">False</span>\n",
       "<span style=\"font-weight: bold\">)</span>\n",
       "</pre>\n"
      ],
      "text/plain": [
       "\n",
       "\u001b[1;35mNewspaperPage\u001b[0m\u001b[1m(\u001b[0m\n",
       "    \u001b[33mfname\u001b[0m=\u001b[32m'test_data/9200357/BibliographicResource_3000095232526/8.xml'\u001b[0m,\n",
       "    \u001b[33mtext\u001b[0m=\u001b[32m'k,- :oło =z * -i : i ; r. . a: k Podziękowanie. \\'ii.\".*.- .*-ó h7 »ka naistn ceezniej**e podzię- ownym Punu>in :-,r\\'ys»ko!n St .k >wski*j i ?.6 nip, fraz Panom .>rt st m: Mis.Tń- •j, ■ rof. l wft!i-jott«k!\u001b[0m\u001b[32m<\u001b[0m\u001b[32m?raa, \u001b[0m\u001b[32m>\u001b[0m\u001b[32m•••.-.» >■\\' i \"•zk .lv *ł i\\' \u001b[0m\u001b[32m<\u001b[0m\u001b[32m ■? r ::i ••I. oraz ch-i- te; oper -wej, Przy Ki -rnu, Pa- vsk.- mu i Rybickiemu. er.\\'.2 firm e „Ri.-g.-rt i Gm- za !\u001b[0m\u001b[32m>\u001b[0m\u001b[32m? v :n t\u001b[0m\u001b[32m(\u001b[0m\u001b[32mTi sok ne uJ.yczenie forter -iarti na kon- urzą\\'.zi.myiri z nr eto na doebó. u. 24 !i\u001b[0m\u001b[32m<\u001b[0m\u001b[32m?a w s.iU T .w hyejo nie- ; nu żi.ych ucz-Timo. S^ro :U\u001b[0m\u001b[32m>\u001b[0m\u001b[32m-vzr.io. W oęł^zi-niu .Podwieczorek* Vi »\\' nfc Criiial na K ło >vi isow .Ni ,.!j, mylnie wy- rru w a n-!*^ .Dnia 8- go grudnia, t. j w piątek, od P>-.z. p-ej do \\'d-ej wie-.-iorem\". winno być: .Duia S-go grudnia, t. j. w sobotę, od g-\u001b[0m\u001b[32m<\u001b[0m\u001b[32mdz.\u001b[0m\u001b[32m 5-oj do\" l-ej u ieczo- re:n\". Przy stoliku 7- z as i,-idą. ojtócz już wymienio nych, r,p. bzy monostwo JdurtelińBcy oraz p. Włodzi mierz harnecki. 12.\\':9r W i-o i \u001b[0m\u001b[32m(\u001b[0m\u001b[32m \\'I I-J i w NI KIK-\\'IKU-;. Sl - 1 < \u001b[0m\u001b[32m>\u001b[0m\u001b[32m KI * I > N IA r t> TYLKO 2 PA7Y-M i S T P 2—BAKHA z KAZIMIERZEM KAMIŃSK IM. W p o ; j i e \u001b[0m\u001b[32m(\u001b[0m\u001b[32m1 > i n : i- k i dni następnych .POTĘGA C1KMN0\\'i\\'Y\". 883fi \\'•.•.WBggyłijiraa: wmHMawi ..7 .ttu j € > r> ^ CJ\\'T-4\" ęi f T\\'5 i f \u001b[0m\u001b[32m(\u001b[0m\u001b[32mfO *a*.©21 SZtU^l Jerozołiiwkis N q 39. eo9 VV .\\'kwiiitne żałoons kapelusze. Duży wvWr. „M -me Nathalio Alino\" Marszałkowska 85. 541 crvf-»*rit; : 5^r polecamy! —■ Wycział ofiar uprasza o *ar fiarowanie ciepłego ubra nia, »\\'.veu>ru i bielizny dla młodej pasiaki z ii;U-itj.\\'*>iicji, cj\u001b[0m\u001b[32m<\u001b[0m\u001b[32mf.\u001b[0m\u001b[32m;k\\'.» chorej na yruźlioc, weroty po lekarzu, zmarłym na poj-teninku swej ofiarnej pracy społecznej. Na wutlyoh • kach sióioty spoczywało ulr/.y nianie R<*łtki, babki i \u001b[0m\u001b[32m>\u001b[0m\u001b[32mu\\'.str :r?i-i-/. -\\'\\'U. a krótki?, wolne chwile pu ii- j;odziiin\u001b[0m\u001b[32m<\u001b[0m\u001b[32m*j pracy, o <ld ;nvata na usługi i pidccuownuie ubogich i nieszczęśli wych. Katujmy życie młode, godiie uzuaitia. — Wydzinl ofiar „Kuriera Waiszawskiesro\" prosi sr. czytcir.Ików o cieple palta, obuwie i cięt\u001b[0m\u001b[32m>\u001b[0m\u001b[32mły posiłek -ll.-j ucziiii w i uczennic szkół #re-ii.i«th. Wielka bieda miedzy dziećmi i młodzieżą, gruźlica niszczy. Na dzie sięć młodych istnień, ośm zajriożonycii. Prosimy rów nież o nadsyłanie ofert bezpłatnej pomocy naukowej w matematyce i językach obcych. 3 ja. & * P. E3clena r, ^ioezorows ^Ioh GILEWSKA, tona majstra K*wcklego, opatrzona iw. Sakramentami, po długich i ciętkieh Oierpiwniach zaanęła w Boga w dniu 6-yrn grudnia 1017 r., przeżywszy lat 27. Pogrążeni w głębokim smutku: inąż z dziedmi, rodzice, bradro, bratowa i rodzina zaprnszają kie- wnych, j r/yjaciół i znajomych na nabożeństwo żałobne do kajilicy koi»oiola źw. Ba; bary \u001b[0m\u001b[32m(\u001b[0m\u001b[32miia Ko smykach\u001b[0m\u001b[32m)\u001b[0m\u001b[32m d. 9-go b. m„ w niedzielę, o gud>;. iO-eJ z ran a, a następnie na wyprowadzenie zwluk, zaiuz po ek\\'-ncxonom nabożeństwie, na cmentarz l>ró- dzic-ńtki. 4J28 t .Dnia 10-eo b. m., w po:.i»»\u001b[0m\u001b[32m<\u001b[0m\u001b[32miziatek\u001b[0m\u001b[32m, w kościele ś\\\\r. Aleksandra, o godz. 9 i pół, odbędzie się nabo żeństwo za duszę ukochanej żony i matki, ś p. ł\u001b[0m\u001b[32m>\u001b[0m\u001b[32m • t 1 i • o czem zawiadamiają mąi I dzieci. 572 Icnstwo za uuszę uKucaanej zouy kmiii i S:tóM Wgzystkimj ktunsy wzięli udział w oddaniu osia- ilei posługi zwłokom ukochanego mgża, ojca | tniej posługi ii i brata naszego Dnia 5 rru^nia \u001b[0m\u001b[32m]\u001b[0m\u001b[32mf\u001b[0m\u001b[32m)\u001b[0m\u001b[32m17 r, Nr. 3S9 Le©?5adja z: ISrilgeróif# i ts opatrzona iw. Sakramentami, po długiej \\' bardzo ciężkiej chorobie, zmarła, przeżywszy lat 71. |;1 Nabożeństwo tałobne w kaplicy śvr Barbary na Koszykach jdt>ędz e się iv poniedziałek, o godz. 8-4j r? rano, pc ć&ońc^emu k-.tri e.tro \u001b[0m\u001b[32m(\u001b[0m\u001b[32miub-.eio v y • ruwadzerie 2wł.>k na cusentnrz poivi^..Kow>ki o o grobu rodam- ^ neg-j o czoui iaw ia..;\u001b[0m\u001b[32m<\u001b[0m\u001b[32mii\u001b[0m\u001b[32m,-ii,i :ą t<oZ\"#;:-iie v \\' oim w simitKu. w nn-o»e< - no. i ci synów corRi. zieciOw i wnuków. . WT 11 . .■«ŁŁv iT.tUtiri.u Sty* maSm lalAJlfca wrfrA mli i fcjiSfau i - ś. y p. Feiilsszta i obywatel miasta stołecznego Warszawy, | adjutant Milicji miejskiej, | po długich cierpieniach zasnął w Bogu dnia 7-go grudnia 1917 r., pnseźywsay lat 44. 1. Pogrążeni w głębokim smutku: żona, córka, ojciec, zięd, wnuk, brat, siostry i rodzina r; eapraszają krewnych, przyjaciół, koie.sów i znajomych na oabożeńsiwo żałobna, odbyć sig E\\'; mające w dolnym kościele Zbawiciela \u001b[0m\u001b[32m(\u001b[0m\u001b[32mp rz \u001b[0m\u001b[32m>\u001b[0m\u001b[32m ; u ł- Marszałkowskiej\u001b[0m\u001b[32m)\u001b[0m\u001b[32m dnia 9-go b. m., L j. \\\\\\\\ w niedzielę, o godz JO i pol zruna, oraz na wyprowadzaniu zwiok tegoż \u001b[0m\u001b[32m<\u001b[0m\u001b[32minia\u001b[0m\u001b[32m i 2 tegoż ^ L\u001b[0m\u001b[32m]\u001b[0m\u001b[32m kościoła, zaraz po ukończeniu nabożeństwa, na cmentarz po a*q zkowski. *■ |ij; Occ.bn« srprcEzenia rozsy:an3 n:a Leli. — i. fn-r?-. • \"/A\\'- t ssss^a^asossEEBEBaaBSi w S. o. SallsiD s iic!i f W; Eustasli0i?ja I\u001b[0m\u001b[32m)\u001b[0m\u001b[32m. o!iy« atcSUn opatrzona ffw. 3nkramentami. przeżywszy lat 46. sasnęia w Bogu dnia \\'25-go listopada r. b. w Pr7ystnjni t \u001b[0m\u001b[32m>\u001b[0m\u001b[32m aieun Kaliskiej: tymczasowo pociioWaiia ioslaia Qa oineniarzu parafjalnyin w Gudziesiach d. 2y listopada Nabożeństwo iałobue za spokój Jej ciusz.i oitbędzie we ozwatt>>k, dnia l3-i.-o b. ni^ o godz. 8 i pół. W kaplicy Schronienia paralityków ^Nowo\\\\\\\\ic.ska 3_\u001b[0m\u001b[32m)\u001b[0m\u001b[32m, o czem, w nieobecności męża i synów, zawiadamiają 4G1G córka i rodzina. rmliTTiinf\" rTś\\\\ri&\\\\ ST^ ^ cka opatrzona św. Sakramentami, po długich cierpieniach aasnęła w Panu d. 8-go grudnia 1917 r. Nabożeństwo żałobna za spokój duszy odprawione będzie się w Kościele iw. Karola Soromeusza \u001b[0m\u001b[32m(\u001b[0m\u001b[32mna Powązkach\u001b[0m\u001b[32m)\u001b[0m\u001b[32m w dniu 10-yn b m., w poniddziałak, o godz. ŁO-o \u001b[0m\u001b[32m}\u001b[0m\u001b[32m z ana, po akończaniu którego ^ nastąpi wyprowadzenia awłok na oinanlarz miejsc -wy do grobu rodzinnego. f Na te smutne obrzędy zaprasza krewnych i życzliwych pamięoi zmarłej 46-4 MATKA. Basi u ..\\'WMWJ yuwiu.yiJj.i, f B mi j Slf HE3 ISSiESS SsfiC \" 3 adwokat przysęg^, Ouj ^at:. m. s l . Warszawy, po krótkich cierpieniach zasnuł sv Bo^u duia 6-u\\'o grudnia r. b.. przeżywszy lat 60. O dnia pogrzeba oddzielne zawiadomienia nastap^ą. 575 w«»swss?«ę; łMMWBII f W medzieię, dnia W-go grudnia, jako w dzień imietu- a. p k h Ss ■j \\'.i odbędzie się msza święta w kościele Św. Antoniego \u001b[0m\u001b[32m(\u001b[0m\u001b[32mpo-reformaokim\u001b[0m\u001b[32m)\u001b[0m\u001b[32m przy ul. Senatorskiej o godz. IO-aJ ? zr.tr.a, o cz>-m zawiadamiają życzliwych i znai rnyt.i osiiio-.e..i mą^, d^-cci t wnutci. 5<9 ^ Leokadji z Górskich Władysławewyj GĘBKA, i-j-t-rrmnf.y v. , **TwiW\\' ,r, Tif ■\u001b[0m\u001b[32m)\u001b[0m\u001b[32m Za duszę ś. p. Walerji z Maszatowskich .Smosarskiej e jako w dzień imienin, odbędzie eię nabożeństwo I w koście\\'e\\'św. Piotra i Pawia ma Koszykach\u001b[0m\u001b[32m)\u001b[0m\u001b[32m dnia |1BC li 9-go grudnia, o godzinie 10-ej rano, przed wieł- iona * dziećmi, braterstwo I rodzina. S f kim ołtarzem. 857rn a w szczególności wiełmetnenm panu komisarzowi Czvniowsuien ;u, kolonom i towarzyszom pracy z Mił oii miejskiej, oraz przyjaciołom zmarłego, tudzież\\'tym, którzy na własnych barkacli ponieśli do pro bu drogie nam szczątki—składają serdeczne .Bóg zapiać* 4620 W dniu 1\\'i-ym grudnia, jako w 20 -ią roczińcę .-m:erci, odindzie się w kościele Karmelitów na \" e8-«Ji s. i\" p. in\\'\" Krak.-Przed .i., o godzinie 8-«J rano, nabożeństwo żałobne za duszy hl zraiisoei na która rodzinę i życzliwych zapraszają 8S4 córka, wnuczki i wnuk.'\u001b[0m,\n",
       "    \u001b[33mmean_ocr\u001b[0m=\u001b[1;36m0\u001b[0m\u001b[1;36m.37964268641838544\u001b[0m,\n",
       "    \u001b[33mstd_ocr\u001b[0m=\u001b[1;36m0\u001b[0m\u001b[1;36m.1758556636001721\u001b[0m,\n",
       "    \u001b[33mbounding_boxes\u001b[0m=\u001b[1m[\u001b[0m\n",
       "        \u001b[1m[\u001b[0m\u001b[1;36m113.0\u001b[0m, \u001b[1;36m563.0\u001b[0m, \u001b[1;36m2858.0\u001b[0m, \u001b[1;36m512.0\u001b[0m\u001b[1m]\u001b[0m,\n",
       "        \u001b[1m[\u001b[0m\u001b[1;36m178.0\u001b[0m, \u001b[1;36m774.0\u001b[0m, \u001b[1;36m4211.0\u001b[0m, \u001b[1;36m363.0\u001b[0m\u001b[1m]\u001b[0m,\n",
       "        \u001b[1m[\u001b[0m\u001b[1;36m474.0\u001b[0m, \u001b[1;36m1107.0\u001b[0m, \u001b[1;36m4519.0\u001b[0m, \u001b[1;36m366.0\u001b[0m\u001b[1m]\u001b[0m,\n",
       "        \u001b[1m[\u001b[0m\u001b[1;36m147.0\u001b[0m, \u001b[1;36m2312.0\u001b[0m, \u001b[1;36m466.0\u001b[0m, \u001b[1;36m1540.0\u001b[0m\u001b[1m]\u001b[0m,\n",
       "        \u001b[1m[\u001b[0m\u001b[1;36m113.0\u001b[0m, \u001b[1;36m186.0\u001b[0m, \u001b[1;36m732.0\u001b[0m, \u001b[1;36m1746.0\u001b[0m\u001b[1m]\u001b[0m,\n",
       "        \u001b[1m[\u001b[0m\u001b[1;36m110.0\u001b[0m, \u001b[1;36m172.0\u001b[0m, \u001b[1;36m734.0\u001b[0m, \u001b[1;36m2020.0\u001b[0m\u001b[1m]\u001b[0m,\n",
       "        \u001b[1m[\u001b[0m\u001b[1;36m112.0\u001b[0m, \u001b[1;36m170.0\u001b[0m, \u001b[1;36m738.0\u001b[0m, \u001b[1;36m2884.0\u001b[0m\u001b[1m]\u001b[0m,\n",
       "        \u001b[1m[\u001b[0m\u001b[1;36m108.0\u001b[0m, \u001b[1;36m214.0\u001b[0m, \u001b[1;36m737.0\u001b[0m, \u001b[1;36m3444.0\u001b[0m\u001b[1m]\u001b[0m,\n",
       "        \u001b[1m[\u001b[0m\u001b[1;36m194.0\u001b[0m, \u001b[1;36m719.0\u001b[0m, \u001b[1;36m1327.0\u001b[0m, \u001b[1;36m1743.0\u001b[0m\u001b[1m]\u001b[0m,\n",
       "        \u001b[1m[\u001b[0m\u001b[1;36m158.0\u001b[0m, \u001b[1;36m254.0\u001b[0m, \u001b[1;36m1363.0\u001b[0m, \u001b[1;36m3412.0\u001b[0m\u001b[1m]\u001b[0m,\n",
       "        \u001b[1m[\u001b[0m\u001b[1;36m102.0\u001b[0m, \u001b[1;36m966.0\u001b[0m, \u001b[1;36m2766.0\u001b[0m, \u001b[1;36m2920.0\u001b[0m\u001b[1m]\u001b[0m,\n",
       "        \u001b[1m[\u001b[0m\u001b[1;36m364.0\u001b[0m, \u001b[1;36m1679.0\u001b[0m, \u001b[1;36m2889.0\u001b[0m, \u001b[1;36m1686.0\u001b[0m\u001b[1m]\u001b[0m,\n",
       "        \u001b[1m[\u001b[0m\u001b[1;36m560.0\u001b[0m, \u001b[1;36m341.0\u001b[0m, \u001b[1;36m3670.0\u001b[0m, \u001b[1;36m3562.0\u001b[0m\u001b[1m]\u001b[0m,\n",
       "        \u001b[1m[\u001b[0m\u001b[1;36m105.0\u001b[0m, \u001b[1;36m1020.0\u001b[0m, \u001b[1;36m4236.0\u001b[0m, \u001b[1;36m2383.0\u001b[0m\u001b[1m]\u001b[0m,\n",
       "        \u001b[1m[\u001b[0m\u001b[1;36m129.0\u001b[0m, \u001b[1;36m1524.0\u001b[0m, \u001b[1;36m4656.0\u001b[0m, \u001b[1;36m1574.0\u001b[0m\u001b[1m]\u001b[0m,\n",
       "        \u001b[1m[\u001b[0m\u001b[1;36m37.0\u001b[0m, \u001b[1;36m387.0\u001b[0m, \u001b[1;36m3597.0\u001b[0m, \u001b[1;36m2054.0\u001b[0m\u001b[1m]\u001b[0m\n",
       "    \u001b[1m]\u001b[0m,\n",
       "    \u001b[33mitem_id\u001b[0m=\u001b[32m'9200357/BibliographicResource_3000095232526'\u001b[0m,\n",
       "    \u001b[33mmetadata_xml_fname\u001b[0m=\u001b[32m'test_data_metadata/http%3A%2F%2Fdata.theeuropeanlibrary.org%2FBibliographicResource%2F3000095232526.edm.xml'\u001b[0m,\n",
       "    \u001b[33mtitle\u001b[0m=\u001b[32m'Kurier Warszawski'\u001b[0m,\n",
       "    \u001b[33mdate\u001b[0m=\u001b[32m'1917-12-08'\u001b[0m,\n",
       "    \u001b[33mlanguages\u001b[0m=\u001b[1m[\u001b[0m\u001b[32m'pl'\u001b[0m\u001b[1m]\u001b[0m,\n",
       "    \u001b[33mitem_iiif_url\u001b[0m=\u001b[32m'https://iiif.europeana.eu/image/FC42GS4KJ4WTHO4WFH5KUEYPUYJ4WH5IP3R2TR7XPF6HAU22OCTA/presentation_images/d12286a0-0232-11e6-a696-fa163e2dd531/node-1/image/NLP/Kurier_Warszawski/1917/12/08/szzzid87226/0001_jpgid23648166/full/full/0/default.jpg'\u001b[0m,\n",
       "    \u001b[33mmulti_language\u001b[0m=\u001b[3;91mFalse\u001b[0m\n",
       "\u001b[1m)\u001b[0m\n"
      ]
     },
     "metadata": {},
     "output_type": "display_data"
    }
   ],
   "source": [
    "process_newspaper_page(xmls[0], metadata_directory=\"test_data_metadata\")"
   ]
  },
  {
   "cell_type": "markdown",
   "metadata": {},
   "source": []
  },
  {
   "cell_type": "markdown",
   "metadata": {},
   "source": [
    "## Load into datasets"
   ]
  },
  {
   "cell_type": "code",
   "execution_count": null,
   "metadata": {},
   "outputs": [
    {
     "data": {
      "text/html": [
       "<pre style=\"white-space:pre;overflow-x:auto;line-height:normal;font-family:Menlo,'DejaVu Sans Mono',consolas,'Courier New',monospace\">\n",
       "<span style=\"color: #800080; text-decoration-color: #800080; font-weight: bold\">NewspaperPage</span><span style=\"font-weight: bold\">(</span>\n",
       "    <span style=\"color: #808000; text-decoration-color: #808000\">fname</span>=<span style=\"color: #008000; text-decoration-color: #008000\">'test_data/9200357/BibliographicResource_3000095238478/2.xml'</span>,\n",
       "    <span style=\"color: #808000; text-decoration-color: #808000\">text</span>=<span style=\"color: #008000; text-decoration-color: #008000\">'— Zwycłeżenl zwvefęzcy. »Oaz. Robotnlczaa wskazuje pód tym tytu ł em na przeobrażenie, jakie się dokonało w Grecyi Pisze ona: „Wiadomo, że król grecki Konstantyn, szwagier Wilhelma U, ni\\'- chciał pozwolić na wciągnięcie swego ubogiego kraju w wojnę i ze wszystkich sił starał się utrzynać Grecyc w neutralności; ale przeciwdziałał te- wu zagorzały zwolennik ententy Venizelos, który nie epsczął, aż przeprowadził detronizacyę i wygnanie króla i wciągnięcie Grecyi do koalicyi i do wojny. Grecya wyszła z wojny wzbogacona nowymi obszara mi na Bałkanie i nowemi pos ; adłościami w Azyi Mniej szej. ale gospodarczo zrujnowana doszczętnie. Nędza i głód, szerzące się wśród zwycięskich Greków, skie rowały ich umysły przeciw wszechpotężnemu dotąd prezydentowi ministrów, istnemu dyktatorowi Venize- Icsrwi i na je-o g\\'owę zaczęty się sypać przekleństwa ludności za zubożenie kraju, za oszukanie nadziei przy wiązywanych do zwycięstwa. 1 oto upadł potężny „koalicyonista\", ścigany nienawiścią narodu, który mu zawdJc/a tak o&gt;romne zdobycze terytoryaine...\" „Gaz. Rob.\" dodaje do tego następujący znamienną uwagę: -„Ukazuje się, że w innych krajach koalicyjnych sto sunki o imienne niż w Polsce. U nas wciąż jeszcze wykljiy jest każdy, kto przed kilku laty byl „centrali- Btą\". U nas takiego traktuje się jak trędowatego, pięt nuj ni.iy zbrodniarza i nie dopuszcza do żadnego sta nowiska, pcd pozorem, że mogłoby to Polsce zaszko dzić u en;enty, — podczas gdy w koalicyjnych Wło szech stoi na czete rządu „cemralista\" Giolitti, a w ko- ilicy^ej Grecyi został obalony główny mąż zau;ania Ententy, Yenizelos.\" Wiadomości polityczne. Polska. (Konferencya w sprawie skła du rządu.) Dnia 24. b. m. odbyło się w biurze prezydenta ministrów zebranie przedstawicieli tych stronnictw sejmowych, które w swoim czasie wzięły udział w utworzeniu koalicyjnego rządu, oprocz Zwią zku Ludowo-Narodowego, który jak wiadomo, usunął iię z tego rządu. Obecni byli też ministrowie, będący przedstawicielami owych stronnictw w rządzie. Po za gajeniu przez prezydenta ministrów, który przedstawił program rządu w ogólnych zarysach, uzupełniony na stępnie przez wiceprezydenta Daszyńskiego, rozwinęła się dłuższa dyskusya, w której składali oświadczenia przedstawiciele stronnictw. Rezultatem obrad było zgo dne stanowisko wszystkich obecnych, że stronnictwa mają nadal pełne zaufanie do rządu, uważają przesile nie za nieaktualne i przyjmują przedłożony program łącznie z programem dyskusyi. Prezydent ministrów Witos zaznaczył, że stanowiska ministra byłej dzielnicy pruskiej i ministerstw facho wych zostaną obsadzone w porozumieniu z biorącemi udział w rządzie z stronnictwami. — (Ustąpienie ministra Grabskie- g o.) Dnia 24. b. m. w południe pożegnał się ustępu jący minister skarbu Grabski z urzędnikami swego mi- nisteryum. W imieniu urzędników przemawiał wicemi nister skarbu dr. Weinfeld, który przedstawił wyniki blisko jednorocznej działalności ustępującego ministra. W odpowiedzi p. Grabski podziękował wszystkim za koleżeńskie\" współpracownidwo i wskazał na najwa- F. CHAMPOL . j óiA-iUtii.* i SIOSTRA HIEKMI. TLOMACZYLA ZA POZWOLENIEM AUTORA ST. ZAKRZEWSKA. 43) (Ciąg dalszy). Po tych poczciwych słowach pani Bockay miała się już oddalić. Jednakże mimo pewności siebie iiie śmiała powiedzieć czegoś, co jej najwięcej leżało na sercu. Widząc, że się siostra oddala, znużona, biednie odziana, otrząsnęła się z nieśmiałości, pobiegła ku niej i\\'przemówiła serdecznie: — Moja kochana siostro! Wyrzucili was z kla sztoru l teraz jeszcze podobno prześladują. Gdyby sio stra była kiedykolwiek w potrzebie, proszę pamiętać o mnie. Nie zapomnę nigdy, że kiedy wszyscy mnie opuścili, otoczyłyście mnie opieką... Niechaj się siostra uda do mnie bez żr.dnych skrupułów... Siostra Aleksandra odczu\\'a dziwne bicie złamanego serca: — Dziękuję ci, moje dziecko — odrzekła wzruszo na. — Mnie niczego nie potr^ba. Pani Bokay oddaliła się, pozostawiając po rr. sobą woń silnych perfumów. W ręku kołysała niedbale to rebkę z złotej siatki, pewno dobrze napełnioną pie niędzmi. W kieszeni siostry Aleksandry było Już tylko zale dwie kilka groszy. Na razie starczyło! Starczyło na Jazdę w odległy strdnę miasta, by zanieść Reginie dobrą wiadomość. SOdwaga i nadzieja polepszeni! losu cle łatwo powracają ajftaoui. aie§£czś&amp;ivćzcil. Zniejsze momenty w obecnej polityce skarbowej pań stwa polskiego. -r (Oświadczenie ministra spr a w wojskowych w sprawie uszanowania rozejmu z Rosyą.) Sejmowa komisya wojsko wa wysłuchała dnia 24. bm. odpowiedzi na zapytanie w przedmiocie ochotników polskich armii Petlury. Mi nister spraw wojskowych Sosnkcwski odczytał rozkaz, zabraniający werbunku do oddziałów wojsk obcych, szczególnie do oddziałów walczących na terytoryum wojsk sowieckich, jako sprzecznego z postanowieniami przedwstępnych układ w ryskich. Odpowiedź tę komi sya przyjęła do wiacirmcrci. Gdańsk. (Co mówi delegacya gdań ska.) Dnia 22. b. m. powróciła z Genewy gdańska delegacya, która bawiła w Paryżu i Genewie. Członek delegacyi, pcfeł Schrmmer wyraził zupełne zadowole nie z pcljtu ćclcfscji w Taryżu i Genewie, oświad czając, iż delegacya uzyskała to, czego pragnęła. Po seł Śch lmmer ofwiadczył między innenii: Jestem zadcwo\\'cny, że mogę rozproszyć ciężkie obawy, jakie od kilku dni nurtowały w Gdańsku. Gdańska delegacya zajmowała w Genewie następujące stanowisko: Gd?ńsk przez podpisanie polsko-gdańskiej umowy i przez wyrażoną w niej niezłomną wole Ligi Narodów uznany został za samodzielny twór państwowy (?). Wobec tego odrzucić mu simy wszelkie mieszanie się w jego sprawv wewnętrzne. To stanowisko delegacyi gdańskiej znalazło aprobatę Lirri Narodów. Wówczas rozpoczęła się otwarta walka z delegacya polską, która jednakże nie zdołała osięgnąć swych zamiarów. Oświadczam, że po postanowieniach paryskich i genewskich w Gdańsku niema miejsca ani nawet dla jednego obce go żołnierza (?) Delegacya gdańska osiągnęła w zupełności swój cel, którym było to, by Gdańsk był panem u siebie. Litwa. (Oświadczenie dowództwa armii generała Żeligowskiego.) Do wództwo armii I. i\\'wy Środkowej komunikuje: Na żą- darie rzędu prlfkiepo i wobec oświadczenia krmisyi kontrolnej Ligi Narodów, że przeciwko wojskom Li!wy Srędkcwej wojska rządu kcwierskirgo nie będą pro wadziły akcyi zaczeprej, obydwie strony przeszły do działań obronnych. W chwi\\'i zarządzenia natychmia stowego wstrzymania akcyi zaczepnej, nasza dzielna brygada ułanów pod dowództwem pułkownika Bud kiewicza była już na kłach nieprzyjacielskich w rejo nie Wilkomierza. Komisya kontrolna Ligi Narodów nie zgodziła się na zagwarantowanie tej brygadzie wolnego przemarszu na teren Litwy środkowej oraz ułatwienie na nawiązanie z nią łączności celem wyda nia tej odpowiednich rozkazów odwołujących. Rząd kowieński ma możność skoncentrowania więk szych sił dla zlikwidowania tej naszej dzielnej jazdy. Naczelne dowództwo wojsk Litwy Środkowej złożyło całkowitą odpowiedzialność za losy synów naszej zie mi na decyzyę komisyi kontrolnej. Lirra Narodów wstrzymując naszą kontrakcyę, umożliwiła wojskom rządu kowieńskiego wbrew zobowiązaniu wobec ko ; misyi, zdradzieckie zaatakowanie nas w dniu 21. bm. zmuszając nasze oddziały do wycofania się z rejonu Szyrwint i Giedrojca. Ustne i piśmienne protesty w tej sprawie ministra Kossakowskiego nie osiatmęły skutku. Szwnjcarya. (Sprawa rozbrojenia na konferencyi Ligi Narodó w.) Na wtorko- wem posiedzeniu komisyi rozbrojenia oświadczył Leon ...Nora Breclietów przedstawiała oczom siostry Aleksandry niespodziewany widok. Stary ojciec grzał zupę z czerstwego chleba dla dzieci. Jeden z chłopców trzymał na kplanach małą Magdosię i usiłował uśmierzyć jej rozdzierające krzj i.i. Mały Ludwiś siedział na ziemi, z miną głupkowatą wyj mował z starego pudełka nici, igły, nożyc \\'\\' Reginy, tylokrotnie wyrywane mu z ręki przez starszą siostrę. Zewsząd wiała pustka i jakby większe jeszcze r,iż dotąd rozprzężenie. Gdzież się podziała Regina? Stary Brccliet spojrzał wzrokiem osłupiałym: — O! już jej tu siostra nie z \\'-ac .„!... Mi.\\\\!a nas już po same us..y!... Wyniosła się bez pożegnar.ia ... Uciekła... przedwczoraj... nie wiem uawet ani z kim, au, dokąd... Siostra Aleksandra oniemiała z przerażenia. Wi działa coraz dowodniej, jakie skutki sprowadza ua ulicz ną nędzę zamknięcie klasztorów. Brak prr~y, w na stępstwie tego nędza i zepsucie obyczajów, wyrastały jak ogniwa z łańcucha niesprawiedliwości. Powypędzali siostry, pozabierali źródła dochodów, a tern samem okocili biednych z wszelkich środków pomocy. Z chwilą, kiedy ustało źródło miłosierdzia, nieszczęśliwi utracili ufność, utracili cier;:!:v.ą wytrwa łość w pracy i zwracali się w inną stronę upadku! A choćby iu\\\\..t ?.r. !azła się jeszcze przj.adkowa pomoc, to i cóż po niej, jeśli jak dzisiaj przyjdzie rie w por;... zar.óźno! Był to dla siostry Aleksandry cios straszny, kropla przepełniające czarę goryczy. To też kiedy w następnym tygodniu przyszedł do niej ksiądz z parafii, przedstawiając list kolegi, biedne go kapłana z Limonsin, w którym prosi o wyszukanie nauczycielki do wiejskiej szkółki, siostra Aleksandra od powiedziała bez wahania: —• Mam pod reim^nsobę, iaklej tam potrzeba, Bougocla, iż przed przeprowadzeniem powszechnego rozbrojenia muszę być rozbrojone Niemcy. Powszę. chne rozbrojenie miałoby być przeprowadzone na na stępujących zasadach: 1) zupełnego wykonania traktatu pokojowego, 2) zaprowadzenia stałej kontroli nad wszystkicmi zbrojeniami, 3) przedłożenia sprawozda nia specyalnej komisyi wojskowej, 4) wymiany donie, sień odnoszących się do wszystkich zbrojeń wszystkich państw. Delegaci szwajcarski i włoski oświadczyli się za zupełrem rozbrojeniem, dając do zrozumienia, iż rzą. dy ich uginają się pod ciężarami zbrojeń i chętnieby się ich pozbyły, aby mogły poświęcić wszystkie swe siły sprawom gospodarczym 1 socyalnym. Angielski delegat natomiast proponował ograniczenie dvskusyi nad rozbrojeniem, obstając tylko na ograniczeniu pry watnej fabrykacyi broni i amunicyi. — (Zatarg polsko-litewski i polsko- rosyjski przed Ligą Narodów.) Na po. siedzeniu Ligi Narodów w dniu 24. b. m. obradowano nad wnioskiem Roberta Cecila, aby ogłoszono w całej pełni dokumenty dotyczące zatargu polsko-litewskiego. Wnioskowdawca domagał się, aby Liga Narodów przy ogłoszeniu tych aktów wydała wyraźne orzeczenie, aby zarządzenia Ligi Narodów nie zostały przez jedną ze stron naruszone. Delegat polski prof. Askenazy złożył oświadczenie, że Polska zgodzi się na ogłoszenie tvch dokumentów, ponieważ nie ma czego ukrywać. Wnio sek Cecila został jednogłośnie przyjęty. W dalszym ciągu dyskusyi Barnes (Anglia) złożył wniosek, dotyczący zatargu polsko-rosyjskiego, w któ rym domaga się od Rady Ligi Narodów wyjaśnienia, dlaczego Rada nie poinformowała zgromadzenia Ligi Narodów o powodach, które skłoniły ją do zanieAa- nia pośredniczenia w zatargu polsko-rosyjskim. Wnio skodawca domaga się dalej, aby Rada Ligi Narodów podjęła odpowiednie kroki celem przeszkodzenia wzno wieniu działań nieprzyjacielskich między Polską a Ro syą, których wybuch grozi w przyszłym roku. Bames oświadczył następnie, że chce dać Lidze Narodów spo sobność, aby porozumiała się do odpowiedzi w tej sprawie. Uchwalono sprawę te postawić na porządku dziennym jednego z najbliższych posiedzeń. Wiochy. (Krwawe zajścia w Bolonii.) Jak już donosiliśmy, pierwsze posiedzenie nowowybra- nej rady miejskiej w Bolonii dało powód do krwawych wypadków. Podczas posiedzenia zebrały się przed ra tuszem tłumy ludu. Pomiędzy nacyonalistami a socya- listami przyszło do ostrej wymiany słów a nawet do czynnej zniewagi. Czerwona gwardya, znajdująca się w ratuszu, zrzuciła między tłum bomby. W tej chwili oddział rewolucyonistćw wdarł się na salę posiedzeń, odgrażając się radnym prawicowym. Jeden z nich, ad wokat Opilio, wydobywszy bron, odezwał się do na cierających: Zabijajcie nas, jeżeli chcecie. Jakoteż je den z socyalistów zastrzelił jednego radnego, drugiego zaś zranił w płuca. Ogólna liczba ofiar zaburzeń jest wielka; stwierdzono 8 zabitych, 3 umierających i prze szło 70 rannych. Władze aresztowały 60 osób. Francya. (Przesilenie gabinetowe.) W kołach politycznych mówią już. o następcy prezydenta ministrów Leyguesa. Ma nim być Poincare. Niezado wolenie z polityki obecnego prezydenta ministrów ma swoje źródło głćwnie w niepowodzeniu polityki fran cuskiej na południu, odnośnie do Wrangla i Wenize- losa. Krążą pogłoski, że komisya budżetowa parla mentu francuskiego zamierza skreślić w budżecie kre- A zwracając się do siostry Cecylii: — Musisz przyjąć miejsce, moje dziecko. 2adna świecka nauczycielka nie zgodzi się pojechać w gó rzysty kraj, dwie i pól godziny oddalony od najbliższej stacyi kolejowej, za wynagrodzeniem sześciuset fran ków, bez dodatku na mieszkanie. Przecież i tam trze ba dziewczynki wychowywać po chrześcijańsku. — Ależ siostro! Szkolę mają otworzyć przed koń cem roku. Żądają natychmiastowej odpowiedzL Mu siałybyśmy bezzwłocznie wyjechać. Nie Jesteśmy go towe do drogi! Siostra Aleksandra zrozumiała, że towarzyszka tyl ko wraz z nią podejmie się objąć stanowisko nauczy cielki. Nie próbowała uchylić się od spełnienia tej ofia ry. Odpowiedziała z całym spokojem: — Będziemy gotowe. W gruncie serca nie była jeszcze zupełnie przeko nana, że wyjedzie. W czasie kilku dni, gdy układane warunki umowy, walczyła wciąż oporem wewnętrz nym, którego ani wola, ani rozsądek przezwyciężyć nie mogły. Nie zdrwala sobie dokładnie sprawy, czy to resztki samolubstwa, czy uczucie zapoznanego obowią zku, czy też natchnienie z góry, które pozostaje w sprze czności z rozumem. Zawsze dotąd rozpoznawała jasno drogę wytkniętą przed sobą, teraz nie pojmowała, co się w niej działo. Z rana, w czasie mszy świętej modliła się długo I gorąco, prosząc Boga o świr tło; w ciągu dn\\'- powra- ca\\'a do kościoła, zanosząc korno błagania. Umysł trwał dalej w ciemnościach. Namowy, odradzania, wskazów ki udzielane przez Innych, zachęcr.ty 1 zniechęcały ja kolejno, zwi ;!:s~ając niezwykły u niej niepokój umysłu. Iwona Ouentin, dowiedziawszy się tez poprzedniego przygotowania o planach wyjazdu, popadła w r:-pacz. Siostra wyjeżdża? Pozostawia mnie samar Wszrr.cy mnie już opuścili, co pocznę bezradna? — Ja już tek mało znaczę!..• — Siostra?Clae SaSzs.w*\"**'</span>,\n",
       "    <span style=\"color: #808000; text-decoration-color: #808000\">mean_ocr</span>=<span style=\"color: #008080; text-decoration-color: #008080; font-weight: bold\">0.6151103137627549</span>,\n",
       "    <span style=\"color: #808000; text-decoration-color: #808000\">std_ocr</span>=<span style=\"color: #008080; text-decoration-color: #008080; font-weight: bold\">0.19525201299674289</span>,\n",
       "    <span style=\"color: #808000; text-decoration-color: #808000\">bounding_boxes</span>=<span style=\"font-weight: bold\">[]</span>,\n",
       "    <span style=\"color: #808000; text-decoration-color: #808000\">item_id</span>=<span style=\"color: #008000; text-decoration-color: #008000\">'9200357/BibliographicResource_3000095238478'</span>,\n",
       "    <span style=\"color: #808000; text-decoration-color: #808000\">metadata_xml_fname</span>=<span style=\"color: #008000; text-decoration-color: #008000\">'test_data_metadata/http%3A%2F%2Fdata.theeuropeanlibrary.org%2FBibliographicResource%2F3000095238478.edm.xml'</span>,\n",
       "    <span style=\"color: #808000; text-decoration-color: #808000\">title</span>=<span style=\"color: #008000; text-decoration-color: #008000\">'Dziennik Śląski'</span>,\n",
       "    <span style=\"color: #808000; text-decoration-color: #808000\">date</span>=<span style=\"color: #008000; text-decoration-color: #008000\">'1920-11-27'</span>,\n",
       "    <span style=\"color: #808000; text-decoration-color: #808000\">languages</span>=<span style=\"font-weight: bold\">[</span><span style=\"color: #008000; text-decoration-color: #008000\">'pl'</span><span style=\"font-weight: bold\">]</span>,\n",
       "    <span style=\"color: #808000; text-decoration-color: #808000\">item_iiif_url</span>=<span style=\"color: #008000; text-decoration-color: #008000\">'https://iiif.europeana.eu/image/DSWSBA6WLAG4FUEDC3IX5TG7YGTE6M7UVN4H3OD2MBUWH54MUAZA/presentation_images/e5465040-0218-11e6-a696-fa163e2dd531/node-1/image/NLP/Dziennik_Śląski/1920/11/27/szzzid102962/0001_jpgid29404685/full/full/0/default.jpg'</span>,\n",
       "    <span style=\"color: #808000; text-decoration-color: #808000\">multi_language</span>=<span style=\"color: #ff0000; text-decoration-color: #ff0000; font-style: italic\">False</span>\n",
       "<span style=\"font-weight: bold\">)</span>\n",
       "</pre>\n"
      ],
      "text/plain": [
       "\n",
       "\u001b[1;35mNewspaperPage\u001b[0m\u001b[1m(\u001b[0m\n",
       "    \u001b[33mfname\u001b[0m=\u001b[32m'test_data/9200357/BibliographicResource_3000095238478/2.xml'\u001b[0m,\n",
       "    \u001b[33mtext\u001b[0m=\u001b[32m'— Zwycłeżenl zwvefęzcy. »Oaz. Robotnlczaa wskazuje pód tym tytu ł em na przeobrażenie, jakie się dokonało w Grecyi Pisze ona: „Wiadomo, że król grecki Konstantyn, szwagier Wilhelma U, ni\\'- chciał pozwolić na wciągnięcie swego ubogiego kraju w wojnę i ze wszystkich sił starał się utrzynać Grecyc w neutralności; ale przeciwdziałał te- wu zagorzały zwolennik ententy Venizelos, który nie epsczął, aż przeprowadził detronizacyę i wygnanie króla i wciągnięcie Grecyi do koalicyi i do wojny. Grecya wyszła z wojny wzbogacona nowymi obszara mi na Bałkanie i nowemi pos ; adłościami w Azyi Mniej szej. ale gospodarczo zrujnowana doszczętnie. Nędza i głód, szerzące się wśród zwycięskich Greków, skie rowały ich umysły przeciw wszechpotężnemu dotąd prezydentowi ministrów, istnemu dyktatorowi Venize- Icsrwi i na je-o g\\'owę zaczęty się sypać przekleństwa ludności za zubożenie kraju, za oszukanie nadziei przy wiązywanych do zwycięstwa. 1 oto upadł potężny „koalicyonista\", ścigany nienawiścią narodu, który mu zawdJc/a tak o>romne zdobycze terytoryaine...\" „Gaz. Rob.\" dodaje do tego następujący znamienną uwagę: -„Ukazuje się, że w innych krajach koalicyjnych sto sunki o imienne niż w Polsce. U nas wciąż jeszcze wykljiy jest każdy, kto przed kilku laty byl „centrali- Btą\". U nas takiego traktuje się jak trędowatego, pięt nuj ni.iy zbrodniarza i nie dopuszcza do żadnego sta nowiska, pcd pozorem, że mogłoby to Polsce zaszko dzić u en;enty, — podczas gdy w koalicyjnych Wło szech stoi na czete rządu „cemralista\" Giolitti, a w ko- ilicy^ej Grecyi został obalony główny mąż zau;ania Ententy, Yenizelos.\" Wiadomości polityczne. Polska. \u001b[0m\u001b[32m(\u001b[0m\u001b[32mKonferencya w sprawie skła du rządu.\u001b[0m\u001b[32m)\u001b[0m\u001b[32m Dnia 24. b. m. odbyło się w biurze prezydenta ministrów zebranie przedstawicieli tych stronnictw sejmowych, które w swoim czasie wzięły udział w utworzeniu koalicyjnego rządu, oprocz Zwią zku Ludowo-Narodowego, który jak wiadomo, usunął iię z tego rządu. Obecni byli też ministrowie, będący przedstawicielami owych stronnictw w rządzie. Po za gajeniu przez prezydenta ministrów, który przedstawił program rządu w ogólnych zarysach, uzupełniony na stępnie przez wiceprezydenta Daszyńskiego, rozwinęła się dłuższa dyskusya, w której składali oświadczenia przedstawiciele stronnictw. Rezultatem obrad było zgo dne stanowisko wszystkich obecnych, że stronnictwa mają nadal pełne zaufanie do rządu, uważają przesile nie za nieaktualne i przyjmują przedłożony program łącznie z programem dyskusyi. Prezydent ministrów Witos zaznaczył, że stanowiska ministra byłej dzielnicy pruskiej i ministerstw facho wych zostaną obsadzone w porozumieniu z biorącemi udział w rządzie z stronnictwami. — \u001b[0m\u001b[32m(\u001b[0m\u001b[32mUstąpienie ministra Grabskie- g o.\u001b[0m\u001b[32m)\u001b[0m\u001b[32m Dnia 24. b. m. w południe pożegnał się ustępu jący minister skarbu Grabski z urzędnikami swego mi- nisteryum. W imieniu urzędników przemawiał wicemi nister skarbu dr. Weinfeld, który przedstawił wyniki blisko jednorocznej działalności ustępującego ministra. W odpowiedzi p. Grabski podziękował wszystkim za koleżeńskie\" współpracownidwo i wskazał na najwa- F. CHAMPOL . j óiA-iUtii.* i SIOSTRA HIEKMI. TLOMACZYLA ZA POZWOLENIEM AUTORA ST. ZAKRZEWSKA. 43\u001b[0m\u001b[32m)\u001b[0m\u001b[32m \u001b[0m\u001b[32m(\u001b[0m\u001b[32mCiąg dalszy\u001b[0m\u001b[32m)\u001b[0m\u001b[32m. Po tych poczciwych słowach pani Bockay miała się już oddalić. Jednakże mimo pewności siebie iiie śmiała powiedzieć czegoś, co jej najwięcej leżało na sercu. Widząc, że się siostra oddala, znużona, biednie odziana, otrząsnęła się z nieśmiałości, pobiegła ku niej i\\'przemówiła serdecznie: — Moja kochana siostro! Wyrzucili was z kla sztoru l teraz jeszcze podobno prześladują. Gdyby sio stra była kiedykolwiek w potrzebie, proszę pamiętać o mnie. Nie zapomnę nigdy, że kiedy wszyscy mnie opuścili, otoczyłyście mnie opieką... Niechaj się siostra uda do mnie bez żr.dnych skrupułów... Siostra Aleksandra odczu\\'a dziwne bicie złamanego serca: — Dziękuję ci, moje dziecko — odrzekła wzruszo na. — Mnie niczego nie potr^ba. Pani Bokay oddaliła się, pozostawiając po rr. sobą woń silnych perfumów. W ręku kołysała niedbale to rebkę z złotej siatki, pewno dobrze napełnioną pie niędzmi. W kieszeni siostry Aleksandry było Już tylko zale dwie kilka groszy. Na razie starczyło! Starczyło na Jazdę w odległy strdnę miasta, by zanieść Reginie dobrą wiadomość. SOdwaga i nadzieja polepszeni! losu cle łatwo powracają ajftaoui. aie§£czś&ivćzcil. Zniejsze momenty w obecnej polityce skarbowej pań stwa polskiego. -r \u001b[0m\u001b[32m(\u001b[0m\u001b[32mOświadczenie ministra spr a w wojskowych w sprawie uszanowania rozejmu z Rosyą.\u001b[0m\u001b[32m)\u001b[0m\u001b[32m Sejmowa komisya wojsko wa wysłuchała dnia 24. bm. odpowiedzi na zapytanie w przedmiocie ochotników polskich armii Petlury. Mi nister spraw wojskowych Sosnkcwski odczytał rozkaz, zabraniający werbunku do oddziałów wojsk obcych, szczególnie do oddziałów walczących na terytoryum wojsk sowieckich, jako sprzecznego z postanowieniami przedwstępnych układ w ryskich. Odpowiedź tę komi sya przyjęła do wiacirmcrci. Gdańsk. \u001b[0m\u001b[32m(\u001b[0m\u001b[32mCo mówi delegacya gdań ska.\u001b[0m\u001b[32m)\u001b[0m\u001b[32m Dnia 22. b. m. powróciła z Genewy gdańska delegacya, która bawiła w Paryżu i Genewie. Członek delegacyi, pcfeł Schrmmer wyraził zupełne zadowole nie z pcljtu ćclcfscji w Taryżu i Genewie, oświad czając, iż delegacya uzyskała to, czego pragnęła. Po seł Śch lmmer ofwiadczył między innenii: Jestem zadcwo\\'cny, że mogę rozproszyć ciężkie obawy, jakie od kilku dni nurtowały w Gdańsku. Gdańska delegacya zajmowała w Genewie następujące stanowisko: Gd?ńsk przez podpisanie polsko-gdańskiej umowy i przez wyrażoną w niej niezłomną wole Ligi Narodów uznany został za samodzielny twór państwowy \u001b[0m\u001b[32m(\u001b[0m\u001b[32m?\u001b[0m\u001b[32m)\u001b[0m\u001b[32m. Wobec tego odrzucić mu simy wszelkie mieszanie się w jego sprawv wewnętrzne. To stanowisko delegacyi gdańskiej znalazło aprobatę Lirri Narodów. Wówczas rozpoczęła się otwarta walka z delegacya polską, która jednakże nie zdołała osięgnąć swych zamiarów. Oświadczam, że po postanowieniach paryskich i genewskich w Gdańsku niema miejsca ani nawet dla jednego obce go żołnierza \u001b[0m\u001b[32m(\u001b[0m\u001b[32m?\u001b[0m\u001b[32m)\u001b[0m\u001b[32m Delegacya gdańska osiągnęła w zupełności swój cel, którym było to, by Gdańsk był panem u siebie. Litwa. \u001b[0m\u001b[32m(\u001b[0m\u001b[32mOświadczenie dowództwa armii generała Żeligowskiego.\u001b[0m\u001b[32m)\u001b[0m\u001b[32m Do wództwo armii I. i\\'wy Środkowej komunikuje: Na żą- darie rzędu prlfkiepo i wobec oświadczenia krmisyi kontrolnej Ligi Narodów, że przeciwko wojskom Li!wy Srędkcwej wojska rządu kcwierskirgo nie będą pro wadziły akcyi zaczeprej, obydwie strony przeszły do działań obronnych. W chwi\\'i zarządzenia natychmia stowego wstrzymania akcyi zaczepnej, nasza dzielna brygada ułanów pod dowództwem pułkownika Bud kiewicza była już na kłach nieprzyjacielskich w rejo nie Wilkomierza. Komisya kontrolna Ligi Narodów nie zgodziła się na zagwarantowanie tej brygadzie wolnego przemarszu na teren Litwy środkowej oraz ułatwienie na nawiązanie z nią łączności celem wyda nia tej odpowiednich rozkazów odwołujących. Rząd kowieński ma możność skoncentrowania więk szych sił dla zlikwidowania tej naszej dzielnej jazdy. Naczelne dowództwo wojsk Litwy Środkowej złożyło całkowitą odpowiedzialność za losy synów naszej zie mi na decyzyę komisyi kontrolnej. Lirra Narodów wstrzymując naszą kontrakcyę, umożliwiła wojskom rządu kowieńskiego wbrew zobowiązaniu wobec ko ; misyi, zdradzieckie zaatakowanie nas w dniu 21. bm. zmuszając nasze oddziały do wycofania się z rejonu Szyrwint i Giedrojca. Ustne i piśmienne protesty w tej sprawie ministra Kossakowskiego nie osiatmęły skutku. Szwnjcarya. \u001b[0m\u001b[32m(\u001b[0m\u001b[32mSprawa rozbrojenia na konferencyi Ligi Narodó w.\u001b[0m\u001b[32m)\u001b[0m\u001b[32m Na wtorko- wem posiedzeniu komisyi rozbrojenia oświadczył Leon ...Nora Breclietów przedstawiała oczom siostry Aleksandry niespodziewany widok. Stary ojciec grzał zupę z czerstwego chleba dla dzieci. Jeden z chłopców trzymał na kplanach małą Magdosię i usiłował uśmierzyć jej rozdzierające krzj i.i. Mały Ludwiś siedział na ziemi, z miną głupkowatą wyj mował z starego pudełka nici, igły, nożyc \\'\\' Reginy, tylokrotnie wyrywane mu z ręki przez starszą siostrę. Zewsząd wiała pustka i jakby większe jeszcze r,iż dotąd rozprzężenie. Gdzież się podziała Regina? Stary Brccliet spojrzał wzrokiem osłupiałym: — O! już jej tu siostra nie z \\'-ac .„!... Mi.\\\\!a nas już po same us..y!... Wyniosła się bez pożegnar.ia ... Uciekła... przedwczoraj... nie wiem uawet ani z kim, au, dokąd... Siostra Aleksandra oniemiała z przerażenia. Wi działa coraz dowodniej, jakie skutki sprowadza ua ulicz ną nędzę zamknięcie klasztorów. Brak prr~y, w na stępstwie tego nędza i zepsucie obyczajów, wyrastały jak ogniwa z łańcucha niesprawiedliwości. Powypędzali siostry, pozabierali źródła dochodów, a tern samem okocili biednych z wszelkich środków pomocy. Z chwilą, kiedy ustało źródło miłosierdzia, nieszczęśliwi utracili ufność, utracili cier;:!:v.ą wytrwa łość w pracy i zwracali się w inną stronę upadku! A choćby iu\\\\..t ?.r. !azła się jeszcze przj.adkowa pomoc, to i cóż po niej, jeśli jak dzisiaj przyjdzie rie w por;... zar.óźno! Był to dla siostry Aleksandry cios straszny, kropla przepełniające czarę goryczy. To też kiedy w następnym tygodniu przyszedł do niej ksiądz z parafii, przedstawiając list kolegi, biedne go kapłana z Limonsin, w którym prosi o wyszukanie nauczycielki do wiejskiej szkółki, siostra Aleksandra od powiedziała bez wahania: —• Mam pod reim^nsobę, iaklej tam potrzeba, Bougocla, iż przed przeprowadzeniem powszechnego rozbrojenia muszę być rozbrojone Niemcy. Powszę. chne rozbrojenie miałoby być przeprowadzone na na stępujących zasadach: 1\u001b[0m\u001b[32m)\u001b[0m\u001b[32m zupełnego wykonania traktatu pokojowego, 2\u001b[0m\u001b[32m)\u001b[0m\u001b[32m zaprowadzenia stałej kontroli nad wszystkicmi zbrojeniami, 3\u001b[0m\u001b[32m)\u001b[0m\u001b[32m przedłożenia sprawozda nia specyalnej komisyi wojskowej, 4\u001b[0m\u001b[32m)\u001b[0m\u001b[32m wymiany donie, sień odnoszących się do wszystkich zbrojeń wszystkich państw. Delegaci szwajcarski i włoski oświadczyli się za zupełrem rozbrojeniem, dając do zrozumienia, iż rzą. dy ich uginają się pod ciężarami zbrojeń i chętnieby się ich pozbyły, aby mogły poświęcić wszystkie swe siły sprawom gospodarczym 1 socyalnym. Angielski delegat natomiast proponował ograniczenie dvskusyi nad rozbrojeniem, obstając tylko na ograniczeniu pry watnej fabrykacyi broni i amunicyi. — \u001b[0m\u001b[32m(\u001b[0m\u001b[32mZatarg polsko-litewski i polsko- rosyjski przed Ligą Narodów.\u001b[0m\u001b[32m)\u001b[0m\u001b[32m Na po. siedzeniu Ligi Narodów w dniu 24. b. m. obradowano nad wnioskiem Roberta Cecila, aby ogłoszono w całej pełni dokumenty dotyczące zatargu polsko-litewskiego. Wnioskowdawca domagał się, aby Liga Narodów przy ogłoszeniu tych aktów wydała wyraźne orzeczenie, aby zarządzenia Ligi Narodów nie zostały przez jedną ze stron naruszone. Delegat polski prof. Askenazy złożył oświadczenie, że Polska zgodzi się na ogłoszenie tvch dokumentów, ponieważ nie ma czego ukrywać. Wnio sek Cecila został jednogłośnie przyjęty. W dalszym ciągu dyskusyi Barnes \u001b[0m\u001b[32m(\u001b[0m\u001b[32mAnglia\u001b[0m\u001b[32m)\u001b[0m\u001b[32m złożył wniosek, dotyczący zatargu polsko-rosyjskiego, w któ rym domaga się od Rady Ligi Narodów wyjaśnienia, dlaczego Rada nie poinformowała zgromadzenia Ligi Narodów o powodach, które skłoniły ją do zanieAa- nia pośredniczenia w zatargu polsko-rosyjskim. Wnio skodawca domaga się dalej, aby Rada Ligi Narodów podjęła odpowiednie kroki celem przeszkodzenia wzno wieniu działań nieprzyjacielskich między Polską a Ro syą, których wybuch grozi w przyszłym roku. Bames oświadczył następnie, że chce dać Lidze Narodów spo sobność, aby porozumiała się do odpowiedzi w tej sprawie. Uchwalono sprawę te postawić na porządku dziennym jednego z najbliższych posiedzeń. Wiochy. \u001b[0m\u001b[32m(\u001b[0m\u001b[32mKrwawe zajścia w Bolonii.\u001b[0m\u001b[32m)\u001b[0m\u001b[32m Jak już donosiliśmy, pierwsze posiedzenie nowowybra- nej rady miejskiej w Bolonii dało powód do krwawych wypadków. Podczas posiedzenia zebrały się przed ra tuszem tłumy ludu. Pomiędzy nacyonalistami a socya- listami przyszło do ostrej wymiany słów a nawet do czynnej zniewagi. Czerwona gwardya, znajdująca się w ratuszu, zrzuciła między tłum bomby. W tej chwili oddział rewolucyonistćw wdarł się na salę posiedzeń, odgrażając się radnym prawicowym. Jeden z nich, ad wokat Opilio, wydobywszy bron, odezwał się do na cierających: Zabijajcie nas, jeżeli chcecie. Jakoteż je den z socyalistów zastrzelił jednego radnego, drugiego zaś zranił w płuca. Ogólna liczba ofiar zaburzeń jest wielka; stwierdzono 8 zabitych, 3 umierających i prze szło 70 rannych. Władze aresztowały 60 osób. Francya. \u001b[0m\u001b[32m(\u001b[0m\u001b[32mPrzesilenie gabinetowe.\u001b[0m\u001b[32m)\u001b[0m\u001b[32m W kołach politycznych mówią już. o następcy prezydenta ministrów Leyguesa. Ma nim być Poincare. Niezado wolenie z polityki obecnego prezydenta ministrów ma swoje źródło głćwnie w niepowodzeniu polityki fran cuskiej na południu, odnośnie do Wrangla i Wenize- losa. Krążą pogłoski, że komisya budżetowa parla mentu francuskiego zamierza skreślić w budżecie kre- A zwracając się do siostry Cecylii: — Musisz przyjąć miejsce, moje dziecko. 2adna świecka nauczycielka nie zgodzi się pojechać w gó rzysty kraj, dwie i pól godziny oddalony od najbliższej stacyi kolejowej, za wynagrodzeniem sześciuset fran ków, bez dodatku na mieszkanie. Przecież i tam trze ba dziewczynki wychowywać po chrześcijańsku. — Ależ siostro! Szkolę mają otworzyć przed koń cem roku. Żądają natychmiastowej odpowiedzL Mu siałybyśmy bezzwłocznie wyjechać. Nie Jesteśmy go towe do drogi! Siostra Aleksandra zrozumiała, że towarzyszka tyl ko wraz z nią podejmie się objąć stanowisko nauczy cielki. Nie próbowała uchylić się od spełnienia tej ofia ry. Odpowiedziała z całym spokojem: — Będziemy gotowe. W gruncie serca nie była jeszcze zupełnie przeko nana, że wyjedzie. W czasie kilku dni, gdy układane warunki umowy, walczyła wciąż oporem wewnętrz nym, którego ani wola, ani rozsądek przezwyciężyć nie mogły. Nie zdrwala sobie dokładnie sprawy, czy to resztki samolubstwa, czy uczucie zapoznanego obowią zku, czy też natchnienie z góry, które pozostaje w sprze czności z rozumem. Zawsze dotąd rozpoznawała jasno drogę wytkniętą przed sobą, teraz nie pojmowała, co się w niej działo. Z rana, w czasie mszy świętej modliła się długo I gorąco, prosząc Boga o świr tło; w ciągu dn\\'- powra- ca\\'a do kościoła, zanosząc korno błagania. Umysł trwał dalej w ciemnościach. Namowy, odradzania, wskazów ki udzielane przez Innych, zachęcr.ty 1 zniechęcały ja kolejno, zwi ;!:s~ając niezwykły u niej niepokój umysłu. Iwona Ouentin, dowiedziawszy się tez poprzedniego przygotowania o planach wyjazdu, popadła w r:-pacz. Siostra wyjeżdża? Pozostawia mnie samar Wszrr.cy mnie już opuścili, co pocznę bezradna? — Ja już tek mało znaczę!..• — Siostra?Clae SaSzs.w*\"**'\u001b[0m,\n",
       "    \u001b[33mmean_ocr\u001b[0m=\u001b[1;36m0\u001b[0m\u001b[1;36m.6151103137627549\u001b[0m,\n",
       "    \u001b[33mstd_ocr\u001b[0m=\u001b[1;36m0\u001b[0m\u001b[1;36m.19525201299674289\u001b[0m,\n",
       "    \u001b[33mbounding_boxes\u001b[0m=\u001b[1m[\u001b[0m\u001b[1m]\u001b[0m,\n",
       "    \u001b[33mitem_id\u001b[0m=\u001b[32m'9200357/BibliographicResource_3000095238478'\u001b[0m,\n",
       "    \u001b[33mmetadata_xml_fname\u001b[0m=\u001b[32m'test_data_metadata/http%3A%2F%2Fdata.theeuropeanlibrary.org%2FBibliographicResource%2F3000095238478.edm.xml'\u001b[0m,\n",
       "    \u001b[33mtitle\u001b[0m=\u001b[32m'Dziennik Śląski'\u001b[0m,\n",
       "    \u001b[33mdate\u001b[0m=\u001b[32m'1920-11-27'\u001b[0m,\n",
       "    \u001b[33mlanguages\u001b[0m=\u001b[1m[\u001b[0m\u001b[32m'pl'\u001b[0m\u001b[1m]\u001b[0m,\n",
       "    \u001b[33mitem_iiif_url\u001b[0m=\u001b[32m'https://iiif.europeana.eu/image/DSWSBA6WLAG4FUEDC3IX5TG7YGTE6M7UVN4H3OD2MBUWH54MUAZA/presentation_images/e5465040-0218-11e6-a696-fa163e2dd531/node-1/image/NLP/Dziennik_Śląski/1920/11/27/szzzid102962/0001_jpgid29404685/full/full/0/default.jpg'\u001b[0m,\n",
       "    \u001b[33mmulti_language\u001b[0m=\u001b[3;91mFalse\u001b[0m\n",
       "\u001b[1m)\u001b[0m\n"
      ]
     },
     "metadata": {},
     "output_type": "display_data"
    }
   ],
   "source": [
    "page = process_newspaper_page(xmls[200], metadata_directory=\"test_data_metadata\")\n",
    "page"
   ]
  },
  {
   "cell_type": "markdown",
   "metadata": {},
   "source": [
    "## Dump to parquet"
   ]
  },
  {
   "cell_type": "code",
   "execution_count": null,
   "metadata": {},
   "outputs": [],
   "source": [
    "# |export\n",
    "from datasets import Dataset\n",
    "from datasets import Value, Sequence, Features"
   ]
  },
  {
   "cell_type": "code",
   "execution_count": null,
   "metadata": {},
   "outputs": [],
   "source": [
    "# |export\n",
    "features=Features({\n",
    "    'fname': Value(dtype='string', id=None),\n",
    "    'text': Value(dtype='string', id=None),\n",
    "    'mean_ocr': Value(dtype='float64', id=None),\n",
    "    'std_ocr': Value(dtype='float64', id=None),\n",
    "    'bounding_boxes': Sequence(\n",
    "        feature=Sequence(feature=Value(dtype='float64', id=None), length=-1, id=None),\n",
    "        length=-1,\n",
    "        id=None\n",
    "    ),\n",
    "    'item_id': Value(dtype='string', id=None),\n",
    "    'metadata_xml_fname': Value(dtype='string', id=None),\n",
    "    'title': Value(dtype='string', id=None),\n",
    "    'date': Value(dtype='string', id=None),\n",
    "    'languages': Sequence(feature=Value(dtype='string', id=None), length=-1, id=None),\n",
    "    'item_iiif_url': Value(dtype='string', id=None),\n",
    "    'multi_language': Value(dtype='bool', id=None)\n",
    "})\n"
   ]
  },
  {
   "cell_type": "code",
   "execution_count": null,
   "metadata": {},
   "outputs": [],
   "source": [
    "# |export\n",
    "@logger.catch()\n",
    "def process_batch(xml_batch: Iterable[Union[str, Path]], metadata_directory=None):\n",
    "    batch = [\n",
    "        asdict(process_newspaper_page(xml, metadata_directory=metadata_directory))\n",
    "        for xml in xml_batch\n",
    "    ]\n",
    "\n",
    "    batch = {key: [i[key] for i in batch] for key in batch[0]}\n",
    "\n",
    "    return Dataset.from_dict(batch,features=features)"
   ]
  },
  {
   "cell_type": "code",
   "execution_count": null,
   "metadata": {},
   "outputs": [],
   "source": [
    "ds = process_batch(xmls[:32], metadata_directory=\"test_data_metadata\")\n",
    "assert len(ds) == 32\n",
    "assert len(ds.column_names) == 12\n",
    "assert ds.column_names == [\n",
    "    \"fname\",\n",
    "    \"text\",\n",
    "    \"mean_ocr\",\n",
    "    \"std_ocr\",\n",
    "    \"bounding_boxes\",\n",
    "    \"item_id\",\n",
    "    \"metadata_xml_fname\",\n",
    "    \"title\",\n",
    "    \"date\",\n",
    "    \"languages\",\n",
    "    \"item_iiif_url\",\n",
    "    \"multi_language\",\n",
    "]"
   ]
  },
  {
   "cell_type": "code",
   "execution_count": null,
   "metadata": {},
   "outputs": [
    {
     "data": {
      "text/html": [
       "<pre style=\"white-space:pre;overflow-x:auto;line-height:normal;font-family:Menlo,'DejaVu Sans Mono',consolas,'Courier New',monospace\">\n",
       "<span style=\"font-weight: bold\">{</span>\n",
       "    <span style=\"color: #008000; text-decoration-color: #008000\">'fname'</span>: <span style=\"color: #800080; text-decoration-color: #800080; font-weight: bold\">Value</span><span style=\"font-weight: bold\">(</span><span style=\"color: #808000; text-decoration-color: #808000\">dtype</span>=<span style=\"color: #008000; text-decoration-color: #008000\">'string'</span>, <span style=\"color: #808000; text-decoration-color: #808000\">id</span>=<span style=\"color: #800080; text-decoration-color: #800080; font-style: italic\">None</span><span style=\"font-weight: bold\">)</span>,\n",
       "    <span style=\"color: #008000; text-decoration-color: #008000\">'text'</span>: <span style=\"color: #800080; text-decoration-color: #800080; font-weight: bold\">Value</span><span style=\"font-weight: bold\">(</span><span style=\"color: #808000; text-decoration-color: #808000\">dtype</span>=<span style=\"color: #008000; text-decoration-color: #008000\">'string'</span>, <span style=\"color: #808000; text-decoration-color: #808000\">id</span>=<span style=\"color: #800080; text-decoration-color: #800080; font-style: italic\">None</span><span style=\"font-weight: bold\">)</span>,\n",
       "    <span style=\"color: #008000; text-decoration-color: #008000\">'mean_ocr'</span>: <span style=\"color: #800080; text-decoration-color: #800080; font-weight: bold\">Value</span><span style=\"font-weight: bold\">(</span><span style=\"color: #808000; text-decoration-color: #808000\">dtype</span>=<span style=\"color: #008000; text-decoration-color: #008000\">'float64'</span>, <span style=\"color: #808000; text-decoration-color: #808000\">id</span>=<span style=\"color: #800080; text-decoration-color: #800080; font-style: italic\">None</span><span style=\"font-weight: bold\">)</span>,\n",
       "    <span style=\"color: #008000; text-decoration-color: #008000\">'std_ocr'</span>: <span style=\"color: #800080; text-decoration-color: #800080; font-weight: bold\">Value</span><span style=\"font-weight: bold\">(</span><span style=\"color: #808000; text-decoration-color: #808000\">dtype</span>=<span style=\"color: #008000; text-decoration-color: #008000\">'float64'</span>, <span style=\"color: #808000; text-decoration-color: #808000\">id</span>=<span style=\"color: #800080; text-decoration-color: #800080; font-style: italic\">None</span><span style=\"font-weight: bold\">)</span>,\n",
       "    <span style=\"color: #008000; text-decoration-color: #008000\">'bounding_boxes'</span>: <span style=\"color: #800080; text-decoration-color: #800080; font-weight: bold\">Sequence</span><span style=\"font-weight: bold\">(</span>\n",
       "        <span style=\"color: #808000; text-decoration-color: #808000\">feature</span>=<span style=\"color: #800080; text-decoration-color: #800080; font-weight: bold\">Sequence</span><span style=\"font-weight: bold\">(</span><span style=\"color: #808000; text-decoration-color: #808000\">feature</span>=<span style=\"color: #800080; text-decoration-color: #800080; font-weight: bold\">Value</span><span style=\"font-weight: bold\">(</span><span style=\"color: #808000; text-decoration-color: #808000\">dtype</span>=<span style=\"color: #008000; text-decoration-color: #008000\">'float64'</span>, <span style=\"color: #808000; text-decoration-color: #808000\">id</span>=<span style=\"color: #800080; text-decoration-color: #800080; font-style: italic\">None</span><span style=\"font-weight: bold\">)</span>, <span style=\"color: #808000; text-decoration-color: #808000\">length</span>=<span style=\"color: #008080; text-decoration-color: #008080; font-weight: bold\">-1</span>, <span style=\"color: #808000; text-decoration-color: #808000\">id</span>=<span style=\"color: #800080; text-decoration-color: #800080; font-style: italic\">None</span><span style=\"font-weight: bold\">)</span>,\n",
       "        <span style=\"color: #808000; text-decoration-color: #808000\">length</span>=<span style=\"color: #008080; text-decoration-color: #008080; font-weight: bold\">-1</span>,\n",
       "        <span style=\"color: #808000; text-decoration-color: #808000\">id</span>=<span style=\"color: #800080; text-decoration-color: #800080; font-style: italic\">None</span>\n",
       "    <span style=\"font-weight: bold\">)</span>,\n",
       "    <span style=\"color: #008000; text-decoration-color: #008000\">'item_id'</span>: <span style=\"color: #800080; text-decoration-color: #800080; font-weight: bold\">Value</span><span style=\"font-weight: bold\">(</span><span style=\"color: #808000; text-decoration-color: #808000\">dtype</span>=<span style=\"color: #008000; text-decoration-color: #008000\">'string'</span>, <span style=\"color: #808000; text-decoration-color: #808000\">id</span>=<span style=\"color: #800080; text-decoration-color: #800080; font-style: italic\">None</span><span style=\"font-weight: bold\">)</span>,\n",
       "    <span style=\"color: #008000; text-decoration-color: #008000\">'metadata_xml_fname'</span>: <span style=\"color: #800080; text-decoration-color: #800080; font-weight: bold\">Value</span><span style=\"font-weight: bold\">(</span><span style=\"color: #808000; text-decoration-color: #808000\">dtype</span>=<span style=\"color: #008000; text-decoration-color: #008000\">'string'</span>, <span style=\"color: #808000; text-decoration-color: #808000\">id</span>=<span style=\"color: #800080; text-decoration-color: #800080; font-style: italic\">None</span><span style=\"font-weight: bold\">)</span>,\n",
       "    <span style=\"color: #008000; text-decoration-color: #008000\">'title'</span>: <span style=\"color: #800080; text-decoration-color: #800080; font-weight: bold\">Value</span><span style=\"font-weight: bold\">(</span><span style=\"color: #808000; text-decoration-color: #808000\">dtype</span>=<span style=\"color: #008000; text-decoration-color: #008000\">'string'</span>, <span style=\"color: #808000; text-decoration-color: #808000\">id</span>=<span style=\"color: #800080; text-decoration-color: #800080; font-style: italic\">None</span><span style=\"font-weight: bold\">)</span>,\n",
       "    <span style=\"color: #008000; text-decoration-color: #008000\">'date'</span>: <span style=\"color: #800080; text-decoration-color: #800080; font-weight: bold\">Value</span><span style=\"font-weight: bold\">(</span><span style=\"color: #808000; text-decoration-color: #808000\">dtype</span>=<span style=\"color: #008000; text-decoration-color: #008000\">'string'</span>, <span style=\"color: #808000; text-decoration-color: #808000\">id</span>=<span style=\"color: #800080; text-decoration-color: #800080; font-style: italic\">None</span><span style=\"font-weight: bold\">)</span>,\n",
       "    <span style=\"color: #008000; text-decoration-color: #008000\">'languages'</span>: <span style=\"color: #800080; text-decoration-color: #800080; font-weight: bold\">Sequence</span><span style=\"font-weight: bold\">(</span><span style=\"color: #808000; text-decoration-color: #808000\">feature</span>=<span style=\"color: #800080; text-decoration-color: #800080; font-weight: bold\">Value</span><span style=\"font-weight: bold\">(</span><span style=\"color: #808000; text-decoration-color: #808000\">dtype</span>=<span style=\"color: #008000; text-decoration-color: #008000\">'string'</span>, <span style=\"color: #808000; text-decoration-color: #808000\">id</span>=<span style=\"color: #800080; text-decoration-color: #800080; font-style: italic\">None</span><span style=\"font-weight: bold\">)</span>, <span style=\"color: #808000; text-decoration-color: #808000\">length</span>=<span style=\"color: #008080; text-decoration-color: #008080; font-weight: bold\">-1</span>, <span style=\"color: #808000; text-decoration-color: #808000\">id</span>=<span style=\"color: #800080; text-decoration-color: #800080; font-style: italic\">None</span><span style=\"font-weight: bold\">)</span>,\n",
       "    <span style=\"color: #008000; text-decoration-color: #008000\">'item_iiif_url'</span>: <span style=\"color: #800080; text-decoration-color: #800080; font-weight: bold\">Value</span><span style=\"font-weight: bold\">(</span><span style=\"color: #808000; text-decoration-color: #808000\">dtype</span>=<span style=\"color: #008000; text-decoration-color: #008000\">'string'</span>, <span style=\"color: #808000; text-decoration-color: #808000\">id</span>=<span style=\"color: #800080; text-decoration-color: #800080; font-style: italic\">None</span><span style=\"font-weight: bold\">)</span>,\n",
       "    <span style=\"color: #008000; text-decoration-color: #008000\">'multi_language'</span>: <span style=\"color: #800080; text-decoration-color: #800080; font-weight: bold\">Value</span><span style=\"font-weight: bold\">(</span><span style=\"color: #808000; text-decoration-color: #808000\">dtype</span>=<span style=\"color: #008000; text-decoration-color: #008000\">'bool'</span>, <span style=\"color: #808000; text-decoration-color: #808000\">id</span>=<span style=\"color: #800080; text-decoration-color: #800080; font-style: italic\">None</span><span style=\"font-weight: bold\">)</span>\n",
       "<span style=\"font-weight: bold\">}</span>\n",
       "</pre>\n"
      ],
      "text/plain": [
       "\n",
       "\u001b[1m{\u001b[0m\n",
       "    \u001b[32m'fname'\u001b[0m: \u001b[1;35mValue\u001b[0m\u001b[1m(\u001b[0m\u001b[33mdtype\u001b[0m=\u001b[32m'string'\u001b[0m, \u001b[33mid\u001b[0m=\u001b[3;35mNone\u001b[0m\u001b[1m)\u001b[0m,\n",
       "    \u001b[32m'text'\u001b[0m: \u001b[1;35mValue\u001b[0m\u001b[1m(\u001b[0m\u001b[33mdtype\u001b[0m=\u001b[32m'string'\u001b[0m, \u001b[33mid\u001b[0m=\u001b[3;35mNone\u001b[0m\u001b[1m)\u001b[0m,\n",
       "    \u001b[32m'mean_ocr'\u001b[0m: \u001b[1;35mValue\u001b[0m\u001b[1m(\u001b[0m\u001b[33mdtype\u001b[0m=\u001b[32m'float64'\u001b[0m, \u001b[33mid\u001b[0m=\u001b[3;35mNone\u001b[0m\u001b[1m)\u001b[0m,\n",
       "    \u001b[32m'std_ocr'\u001b[0m: \u001b[1;35mValue\u001b[0m\u001b[1m(\u001b[0m\u001b[33mdtype\u001b[0m=\u001b[32m'float64'\u001b[0m, \u001b[33mid\u001b[0m=\u001b[3;35mNone\u001b[0m\u001b[1m)\u001b[0m,\n",
       "    \u001b[32m'bounding_boxes'\u001b[0m: \u001b[1;35mSequence\u001b[0m\u001b[1m(\u001b[0m\n",
       "        \u001b[33mfeature\u001b[0m=\u001b[1;35mSequence\u001b[0m\u001b[1m(\u001b[0m\u001b[33mfeature\u001b[0m=\u001b[1;35mValue\u001b[0m\u001b[1m(\u001b[0m\u001b[33mdtype\u001b[0m=\u001b[32m'float64'\u001b[0m, \u001b[33mid\u001b[0m=\u001b[3;35mNone\u001b[0m\u001b[1m)\u001b[0m, \u001b[33mlength\u001b[0m=\u001b[1;36m-1\u001b[0m, \u001b[33mid\u001b[0m=\u001b[3;35mNone\u001b[0m\u001b[1m)\u001b[0m,\n",
       "        \u001b[33mlength\u001b[0m=\u001b[1;36m-1\u001b[0m,\n",
       "        \u001b[33mid\u001b[0m=\u001b[3;35mNone\u001b[0m\n",
       "    \u001b[1m)\u001b[0m,\n",
       "    \u001b[32m'item_id'\u001b[0m: \u001b[1;35mValue\u001b[0m\u001b[1m(\u001b[0m\u001b[33mdtype\u001b[0m=\u001b[32m'string'\u001b[0m, \u001b[33mid\u001b[0m=\u001b[3;35mNone\u001b[0m\u001b[1m)\u001b[0m,\n",
       "    \u001b[32m'metadata_xml_fname'\u001b[0m: \u001b[1;35mValue\u001b[0m\u001b[1m(\u001b[0m\u001b[33mdtype\u001b[0m=\u001b[32m'string'\u001b[0m, \u001b[33mid\u001b[0m=\u001b[3;35mNone\u001b[0m\u001b[1m)\u001b[0m,\n",
       "    \u001b[32m'title'\u001b[0m: \u001b[1;35mValue\u001b[0m\u001b[1m(\u001b[0m\u001b[33mdtype\u001b[0m=\u001b[32m'string'\u001b[0m, \u001b[33mid\u001b[0m=\u001b[3;35mNone\u001b[0m\u001b[1m)\u001b[0m,\n",
       "    \u001b[32m'date'\u001b[0m: \u001b[1;35mValue\u001b[0m\u001b[1m(\u001b[0m\u001b[33mdtype\u001b[0m=\u001b[32m'string'\u001b[0m, \u001b[33mid\u001b[0m=\u001b[3;35mNone\u001b[0m\u001b[1m)\u001b[0m,\n",
       "    \u001b[32m'languages'\u001b[0m: \u001b[1;35mSequence\u001b[0m\u001b[1m(\u001b[0m\u001b[33mfeature\u001b[0m=\u001b[1;35mValue\u001b[0m\u001b[1m(\u001b[0m\u001b[33mdtype\u001b[0m=\u001b[32m'string'\u001b[0m, \u001b[33mid\u001b[0m=\u001b[3;35mNone\u001b[0m\u001b[1m)\u001b[0m, \u001b[33mlength\u001b[0m=\u001b[1;36m-1\u001b[0m, \u001b[33mid\u001b[0m=\u001b[3;35mNone\u001b[0m\u001b[1m)\u001b[0m,\n",
       "    \u001b[32m'item_iiif_url'\u001b[0m: \u001b[1;35mValue\u001b[0m\u001b[1m(\u001b[0m\u001b[33mdtype\u001b[0m=\u001b[32m'string'\u001b[0m, \u001b[33mid\u001b[0m=\u001b[3;35mNone\u001b[0m\u001b[1m)\u001b[0m,\n",
       "    \u001b[32m'multi_language'\u001b[0m: \u001b[1;35mValue\u001b[0m\u001b[1m(\u001b[0m\u001b[33mdtype\u001b[0m=\u001b[32m'bool'\u001b[0m, \u001b[33mid\u001b[0m=\u001b[3;35mNone\u001b[0m\u001b[1m)\u001b[0m\n",
       "\u001b[1m}\u001b[0m\n"
      ]
     },
     "metadata": {},
     "output_type": "display_data"
    }
   ],
   "source": [
    "ds.features"
   ]
  },
  {
   "cell_type": "code",
   "execution_count": null,
   "metadata": {},
   "outputs": [],
   "source": [
    "# |export\n",
    "import multiprocessing \n",
    "\n",
    "def process(\n",
    "    xml_files: Iterable[Union[str, Path]],\n",
    "    batch_size: int = 32,\n",
    "    metadata_directory: Optional[str] = None,\n",
    "    max_workers: int = None\n",
    "):\n",
    "    with tqdm(total=len(xml_files) // batch_size) as pbar:\n",
    "        if not max_workers:\n",
    "            max_workers = multiprocessing.cpu_count()\n",
    "        futures = []\n",
    "        with ProcessPoolExecutor(max_workers=max_workers) as executor:\n",
    "            for batch in partition_all(batch_size, xml_files):\n",
    "                batch = list(batch)\n",
    "                future = executor.submit(\n",
    "                    process_batch, batch, metadata_directory=metadata_directory\n",
    "                )\n",
    "                future.add_done_callback(lambda p: pbar.update(1))\n",
    "                futures.append(future)\n",
    "    return [future.result() for future in as_completed(futures)]\n",
    "\n"
   ]
  },
  {
   "cell_type": "code",
   "execution_count": null,
   "metadata": {},
   "outputs": [
    {
     "data": {
      "application/vnd.jupyter.widget-view+json": {
       "model_id": "893b0c39c1b943719a553f1d74acf1ca",
       "version_major": 2,
       "version_minor": 0
      },
      "text/plain": [
       "0it [00:00, ?it/s]"
      ]
     },
     "metadata": {},
     "output_type": "display_data"
    }
   ],
   "source": [
    "datasets = process(xmls[:10], metadata_directory=\"test_data_metadata\")"
   ]
  },
  {
   "cell_type": "code",
   "execution_count": null,
   "metadata": {},
   "outputs": [],
   "source": [
    "from datasets import concatenate_datasets"
   ]
  },
  {
   "cell_type": "code",
   "execution_count": null,
   "metadata": {},
   "outputs": [
    {
     "data": {
      "text/html": [
       "<pre style=\"white-space:pre;overflow-x:auto;line-height:normal;font-family:Menlo,'DejaVu Sans Mono',consolas,'Courier New',monospace\"><span style=\"color: #008080; text-decoration-color: #008080; font-weight: bold\">108432</span>\n",
       "</pre>\n"
      ],
      "text/plain": [
       "\u001b[1;36m108432\u001b[0m\n"
      ]
     },
     "metadata": {},
     "output_type": "display_data"
    }
   ],
   "source": [
    "len(xmls)"
   ]
  },
  {
   "cell_type": "code",
   "execution_count": null,
   "metadata": {},
   "outputs": [
    {
     "data": {
      "text/html": [
       "<pre style=\"white-space:pre;overflow-x:auto;line-height:normal;font-family:Menlo,'DejaVu Sans Mono',consolas,'Courier New',monospace\">\n",
       "<span style=\"color: #800080; text-decoration-color: #800080; font-weight: bold\">Dataset</span><span style=\"font-weight: bold\">({</span>\n",
       "    features: <span style=\"font-weight: bold\">[</span><span style=\"color: #008000; text-decoration-color: #008000\">'fname'</span>, <span style=\"color: #008000; text-decoration-color: #008000\">'text'</span>, <span style=\"color: #008000; text-decoration-color: #008000\">'mean_ocr'</span>, <span style=\"color: #008000; text-decoration-color: #008000\">'std_ocr'</span>, <span style=\"color: #008000; text-decoration-color: #008000\">'bounding_boxes'</span>, <span style=\"color: #008000; text-decoration-color: #008000\">'item_id'</span>, <span style=\"color: #008000; text-decoration-color: #008000\">'metadata_xml_fname'</span>, <span style=\"color: #008000; text-decoration-color: #008000\">'title'</span>, <span style=\"color: #008000; text-decoration-color: #008000\">'date'</span>, <span style=\"color: #008000; text-decoration-color: #008000\">'languages'</span>, <span style=\"color: #008000; text-decoration-color: #008000\">'item_iiif_url'</span>, <span style=\"color: #008000; text-decoration-color: #008000\">'multi_language'</span><span style=\"font-weight: bold\">]</span>,\n",
       "    num_rows: <span style=\"color: #008080; text-decoration-color: #008080; font-weight: bold\">10</span>\n",
       "<span style=\"font-weight: bold\">})</span>\n",
       "</pre>\n"
      ],
      "text/plain": [
       "\n",
       "\u001b[1;35mDataset\u001b[0m\u001b[1m(\u001b[0m\u001b[1m{\u001b[0m\n",
       "    features: \u001b[1m[\u001b[0m\u001b[32m'fname'\u001b[0m, \u001b[32m'text'\u001b[0m, \u001b[32m'mean_ocr'\u001b[0m, \u001b[32m'std_ocr'\u001b[0m, \u001b[32m'bounding_boxes'\u001b[0m, \u001b[32m'item_id'\u001b[0m, \u001b[32m'metadata_xml_fname'\u001b[0m, \u001b[32m'title'\u001b[0m, \u001b[32m'date'\u001b[0m, \u001b[32m'languages'\u001b[0m, \u001b[32m'item_iiif_url'\u001b[0m, \u001b[32m'multi_language'\u001b[0m\u001b[1m]\u001b[0m,\n",
       "    num_rows: \u001b[1;36m10\u001b[0m\n",
       "\u001b[1m}\u001b[0m\u001b[1m)\u001b[0m\n"
      ]
     },
     "metadata": {},
     "output_type": "display_data"
    }
   ],
   "source": [
    "dataset = concatenate_datasets(datasets)\n",
    "dataset"
   ]
  },
  {
   "cell_type": "code",
   "execution_count": null,
   "metadata": {},
   "outputs": [],
   "source": []
  }
 ],
 "metadata": {
  "kernelspec": {
   "display_name": "Python 3.10.5 ('europeana_alto')",
   "language": "python",
   "name": "python3"
  }
 },
 "nbformat": 4,
 "nbformat_minor": 4
}
