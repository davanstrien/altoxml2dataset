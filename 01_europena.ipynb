{
 "cells": [
  {
   "cell_type": "code",
   "execution_count": null,
   "metadata": {},
   "outputs": [],
   "source": [
    "# | default_exp europena"
   ]
  },
  {
   "cell_type": "markdown",
   "metadata": {},
   "source": [
    "# Europeana newspaper parsers\n",
    "\n",
    "> Parsers for Europena newspapers"
   ]
  },
  {
   "cell_type": "markdown",
   "metadata": {},
   "source": [
    "The goal of this code is to create a pipeline for parsing the [Europeana newspaper bulk downloads](https://pro.europeana.eu/page/iiif#download) and converting the orignal ALTO XML formats + metadata into a format that can be ingested easily into the 🤗 [datasets](https://huggingface.co/docs/datasets/index) library and cons\n",
    "\n",
    " for #BigLAM. This code is mostly colated from other places. We used [nbdev](https://nbdev.fast.ai/) to give our code some:\n",
    "\n",
    "- basic tests\n",
    "- some basic documentation \n",
    "- make it easily instalable as a Python package. \n",
    "\n",
    "**note** some of these parsers are likely to be more generic but we'll develop them for europena newspapers for now. Once they have been tested on other collections they may be moved to a core module. "
   ]
  },
  {
   "cell_type": "code",
   "execution_count": null,
   "metadata": {},
   "outputs": [],
   "source": [
    "# %load_ext rich"
   ]
  },
  {
   "cell_type": "code",
   "execution_count": null,
   "metadata": {},
   "outputs": [],
   "source": [
    "# |hide\n",
    "from nbdev.showdoc import *"
   ]
  },
  {
   "cell_type": "code",
   "execution_count": null,
   "metadata": {},
   "outputs": [],
   "source": [
    "# |export\n",
    "import io\n",
    "import os\n",
    "import xml\n",
    "import xml.etree.ElementTree as ET\n",
    "from concurrent.futures import ProcessPoolExecutor, as_completed\n",
    "# from dataclaises import asdict, dataclass, field\n",
    "from functools import lru_cache\n",
    "from pathlib import Path\n",
    "from statistics import mean, stdev\n",
    "from attrs import asdict\n",
    "\n",
    "from typing import Any, Dict, Iterable, List, Optional, Union\n",
    "from attrs import define, field\n",
    "\n",
    "import xmltodict\n",
    "from toolz import partition_all\n",
    "from tqdm.auto import tqdm"
   ]
  },
  {
   "cell_type": "markdown",
   "metadata": {},
   "source": [
    "## ALTO Processing\n",
    "\n",
    "ALTO is an XML format commonly used to store the outout of Opitcal Character Recogniton software. "
   ]
  },
  {
   "cell_type": "markdown",
   "metadata": {},
   "source": [
    "### Create test data\n",
    "\n",
    "A small amount of test data is included in the repository and versioned with Git. To avoid bloating the repository too much the below cell can either be run as part of test (including) slow tests or run locally to give oneself a bigger amount of data to test methods with. "
   ]
  },
  {
   "cell_type": "code",
   "execution_count": null,
   "metadata": {},
   "outputs": [],
   "source": [
    "# |slow\n",
    "# !aria2c -x 4 -d test_data/ --auto-file-renaming=false ftp://download.europeana.eu/newspapers/fulltext/alto/9200357.zip"
   ]
  },
  {
   "cell_type": "code",
   "execution_count": null,
   "metadata": {},
   "outputs": [],
   "source": [
    "# !unzip test_data/9200357.zip -d test_data/"
   ]
  },
  {
   "cell_type": "code",
   "execution_count": null,
   "metadata": {},
   "outputs": [
    {
     "data": {
      "text/plain": [
       "108432"
      ]
     },
     "execution_count": null,
     "metadata": {},
     "output_type": "execute_result"
    }
   ],
   "source": [
    "xmls = list(Path(\"test_data\").rglob(\"*.xml\"))\n",
    "len(xmls)"
   ]
  },
  {
   "cell_type": "code",
   "execution_count": null,
   "metadata": {},
   "outputs": [
    {
     "data": {
      "text/plain": [
       "[Path('test_data/9200357/BibliographicResource_3000095232526/8.xml'),\n",
       " Path('test_data/9200357/BibliographicResource_3000095232526/9.xml')]"
      ]
     },
     "execution_count": null,
     "metadata": {},
     "output_type": "execute_result"
    }
   ],
   "source": [
    "xmls[:2]"
   ]
  },
  {
   "cell_type": "markdown",
   "metadata": {},
   "source": [
    "## Parse ALTO XMLs\n",
    "\n",
    "The first step is to parse the xml file from disk into a elementree that we can use for other takss\n",
    "stolen from; https://github.com/cneud/alto-tools/blob/master/alto_tools.py"
   ]
  },
  {
   "cell_type": "code",
   "execution_count": null,
   "metadata": {},
   "outputs": [],
   "source": [
    "# |export\n",
    "from loguru import logger"
   ]
  },
  {
   "cell_type": "code",
   "execution_count": null,
   "metadata": {},
   "outputs": [],
   "source": [
    "# |export\n",
    "def alto_parse(alto: Union[str, Path], **kwargs):\n",
    "    \"\"\"Convert ALTO xml file to element tree\"\"\"\n",
    "    try:\n",
    "        xml = ET.parse(alto, **kwargs)\n",
    "    except ET.ParseError as e:\n",
    "        logger.error(f\"Parser Error in file '{alto}': {e}\")\n",
    "        return None\n",
    "    # Register ALTO namespaces\n",
    "    # https://www.loc.gov/standards/alto/ | https://github.com/altoxml\n",
    "    # alto-bnf (unoffical) BnF ALTO dialect - for further info see\n",
    "    # http://bibnum.bnf.fr/alto_prod/documentation/alto_prod.html\n",
    "    namespace = {\n",
    "        \"alto-1\": \"http://schema.ccs-gmbh.com/ALTO\",\n",
    "        \"alto-2\": \"http://www.loc.gov/standards/alto/ns-v2#\",\n",
    "        \"alto-3\": \"http://www.loc.gov/standards/alto/ns-v3#\",\n",
    "        \"alto-4\": \"http://www.loc.gov/standards/alto/ns-v4#\",\n",
    "        \"alto-5\": \"http://schema.ccs-gmbh.com/docworks/version20/alto-1-4.xsd\",\n",
    "        \"alto-bnf\": \"http://bibnum.bnf.fr/ns/alto_prod\",\n",
    "    }\n",
    "    # Extract namespace from document root\n",
    "    if \"http://\" in str(xml.getroot().tag.split(\"}\")[0].strip(\"{\")):\n",
    "        xmlns = xml.getroot().tag.split(\"}\")[0].strip(\"{\")\n",
    "    else:\n",
    "        try:\n",
    "            ns = xml.getroot().attrib\n",
    "            xmlns = str(ns).split(\" \")[1].strip(\"}\").strip(\"'\")\n",
    "        except IndexError:\n",
    "            logger.warning(f\"File {alto.name}: no namespace declaration found.\")\n",
    "            xmlns = \"no_namespace_found\"\n",
    "    if xmlns in namespace.values():\n",
    "        return alto, xml, xmlns\n",
    "    else:\n",
    "        logger.warning(f\"File {alto.name}: namespace {xmlns} is not registered.\")"
   ]
  },
  {
   "cell_type": "code",
   "execution_count": null,
   "metadata": {},
   "outputs": [
    {
     "data": {
      "text/plain": [
       "Path('test_data/9200357/BibliographicResource_3000095232526/8.xml')"
      ]
     },
     "execution_count": null,
     "metadata": {},
     "output_type": "execute_result"
    }
   ],
   "source": [
    "xmls[0]"
   ]
  },
  {
   "cell_type": "code",
   "execution_count": null,
   "metadata": {},
   "outputs": [
    {
     "name": "stderr",
     "output_type": "stream",
     "text": [
      "2022-08-09 09:51:26.547 | ERROR    | __main__:alto_parse:7 - Parser Error in file 'fake.xml': no element found: line 1, column 0\n"
     ]
    }
   ],
   "source": [
    "fname, xml, ns = alto_parse(xmls[0])\n",
    "assert all([fname, xml, ns])\n",
    "Path(\"fake.xml\").touch(exist_ok=True)\n",
    "bad_xml = alto_parse(Path(\"fake.xml\"))\n",
    "# assert isinstance(bad_xml, None)"
   ]
  },
  {
   "cell_type": "code",
   "execution_count": null,
   "metadata": {},
   "outputs": [],
   "source": [
    "# |export\n",
    "def get_alto_text(xml, xmlns, join_lines=True):\n",
    "    \"\"\"Extract text content from ALTO xml file\"\"\"\n",
    "    all_text = []\n",
    "    all_wc = []\n",
    "    # Find all <TextLine> elements\n",
    "    for lines in xml.iterfind(\".//{%s}TextLine\" % xmlns):\n",
    "        # Find all <String> elements\n",
    "        for line in lines.findall(\"{%s}String\" % xmlns):\n",
    "            wc = line.attrib[\"WC\"]\n",
    "            if wc is not None:\n",
    "                all_wc.append(float(wc))\n",
    "            # Check if there are no hyphenated words\n",
    "            if \"SUBS_CONTENT\" not in line.attrib and \"SUBS_TYPE\" not in line.attrib:\n",
    "                # Get value of attribute @CONTENT from all <String> elements\n",
    "                text = line.attrib.get(\"CONTENT\")  # + ' '\n",
    "            elif \"HypPart1\" in line.attrib.get(\"SUBS_TYPE\"):\n",
    "                text = line.attrib.get(\"SUBS_CONTENT\")  # + ' '\n",
    "                if \"HypPart2\" in line.attrib.get(\"SUBS_TYPE\"):\n",
    "                    pass\n",
    "            all_text.append(text)\n",
    "    if all_wc:\n",
    "        mean_ocr = mean(all_wc)\n",
    "    if len(all_wc) > 2:\n",
    "        std_ocr = stdev(all_wc)\n",
    "    else:\n",
    "        mean_ocr = None\n",
    "        std_ocr = None\n",
    "    return \" \".join(all_text), mean_ocr, std_ocr"
   ]
  },
  {
   "cell_type": "code",
   "execution_count": null,
   "metadata": {},
   "outputs": [],
   "source": [
    "text, wc, std_ocr = get_alto_text(xml, ns)\n",
    "assert all([text, wc, std_ocr])\n",
    "assert isinstance(text, str)\n",
    "assert isinstance(wc, float)\n",
    "assert isinstance(std_ocr, float)"
   ]
  },
  {
   "cell_type": "code",
   "execution_count": null,
   "metadata": {},
   "outputs": [],
   "source": [
    "# |export\n",
    "def alto_illustrations(xml, xmlns):\n",
    "    \"\"\"Extract bounding boxes of illustration from ALTO xml file\"\"\"\n",
    "    # Find all <Illustration> elements\n",
    "    bounding_boxes = []\n",
    "    for illustration in xml.iterfind(\".//{%s}Illustration\" % xmlns):\n",
    "        # Get @ID of <Illustration> element\n",
    "        illustration_id = illustration.attrib.get(\"ID\")\n",
    "        # Get coordinates of <Illustration> element\n",
    "        illustration_coords = list(\n",
    "            map(\n",
    "                float,\n",
    "                (\n",
    "                    illustration.attrib.get(\"HEIGHT\"),\n",
    "                    illustration.attrib.get(\"WIDTH\"),\n",
    "                    illustration.attrib.get(\"VPOS\"),\n",
    "                    illustration.attrib.get(\"HPOS\"),\n",
    "                ),\n",
    "            )\n",
    "        )\n",
    "        bounding_boxes.append(illustration_coords)\n",
    "    return bounding_boxes"
   ]
  },
  {
   "cell_type": "code",
   "execution_count": null,
   "metadata": {},
   "outputs": [
    {
     "data": {
      "text/plain": [
       "[[113.0, 563.0, 2858.0, 512.0],\n",
       " [178.0, 774.0, 4211.0, 363.0],\n",
       " [474.0, 1107.0, 4519.0, 366.0],\n",
       " [147.0, 2312.0, 466.0, 1540.0],\n",
       " [113.0, 186.0, 732.0, 1746.0],\n",
       " [110.0, 172.0, 734.0, 2020.0],\n",
       " [112.0, 170.0, 738.0, 2884.0],\n",
       " [108.0, 214.0, 737.0, 3444.0],\n",
       " [194.0, 719.0, 1327.0, 1743.0],\n",
       " [158.0, 254.0, 1363.0, 3412.0],\n",
       " [102.0, 966.0, 2766.0, 2920.0],\n",
       " [364.0, 1679.0, 2889.0, 1686.0],\n",
       " [560.0, 341.0, 3670.0, 3562.0],\n",
       " [105.0, 1020.0, 4236.0, 2383.0],\n",
       " [129.0, 1524.0, 4656.0, 1574.0],\n",
       " [37.0, 387.0, 3597.0, 2054.0]]"
      ]
     },
     "execution_count": null,
     "metadata": {},
     "output_type": "execute_result"
    }
   ],
   "source": [
    "alto_illustrations(xml, ns)"
   ]
  },
  {
   "cell_type": "code",
   "execution_count": null,
   "metadata": {},
   "outputs": [],
   "source": [
    "def get_illustrations(xmls):\n",
    "    for file in xmls:\n",
    "        with open(file, \"r\") as f:\n",
    "            for line in f:\n",
    "                if \"Illustration\" in line:\n",
    "                    yield file\n",
    "                    break"
   ]
  },
  {
   "cell_type": "code",
   "execution_count": null,
   "metadata": {},
   "outputs": [],
   "source": [
    "from toolz import take"
   ]
  },
  {
   "cell_type": "code",
   "execution_count": null,
   "metadata": {},
   "outputs": [],
   "source": [
    "illustration_xmls = list(take(10, get_illustrations(xmls)))"
   ]
  },
  {
   "cell_type": "code",
   "execution_count": null,
   "metadata": {},
   "outputs": [
    {
     "data": {
      "text/plain": [
       "[Path('test_data/9200357/BibliographicResource_3000095232526/8.xml'),\n",
       " Path('test_data/9200357/BibliographicResource_3000095232526/9.xml'),\n",
       " Path('test_data/9200357/BibliographicResource_3000095232526/12.xml'),\n",
       " Path('test_data/9200357/BibliographicResource_3000095232526/13.xml'),\n",
       " Path('test_data/9200357/BibliographicResource_3000095232526/11.xml'),\n",
       " Path('test_data/9200357/BibliographicResource_3000095232526/10.xml'),\n",
       " Path('test_data/9200357/BibliographicResource_3000095232526/4.xml'),\n",
       " Path('test_data/9200357/BibliographicResource_3000095232526/5.xml'),\n",
       " Path('test_data/9200357/BibliographicResource_3000095232526/6.xml'),\n",
       " Path('test_data/9200357/BibliographicResource_3000095232526/2.xml')]"
      ]
     },
     "execution_count": null,
     "metadata": {},
     "output_type": "execute_result"
    }
   ],
   "source": [
    "illustration_xmls"
   ]
  },
  {
   "cell_type": "code",
   "execution_count": null,
   "metadata": {},
   "outputs": [],
   "source": []
  },
  {
   "cell_type": "markdown",
   "metadata": {},
   "source": [
    "## Newspaper page container \n",
    "\n"
   ]
  },
  {
   "cell_type": "code",
   "execution_count": null,
   "metadata": {},
   "outputs": [],
   "source": [
    "#|export\n",
    "@define(slots=True)\n",
    "class NewspaperPageAlto:\n",
    "    fname: Union[str, Path]\n",
    "    text: Optional[str]\n",
    "    mean_ocr: Optional[float]\n",
    "    std_ocr: Optional[float]\n",
    "    bounding_boxes: List[Union[float, None]]\n",
    "    item_id: str = field(init=False)\n",
    "\n",
    "    def _get_id(self):\n",
    "        return \"/\".join(Path(self.fname).parts[-3:-1])\n",
    "\n",
    "    def __attrs_post_init__(self):\n",
    "        self.item_id = self._get_id()"
   ]
  },
  {
   "cell_type": "code",
   "execution_count": null,
   "metadata": {},
   "outputs": [],
   "source": [
    "# |export\n",
    "def parse_newspaper_page(xml_fname: Union[str, Path]):\n",
    "    fname, xml, ns = alto_parse(xml_fname)\n",
    "    text, wc, std_ocr = get_alto_text(xml, ns)\n",
    "    bounding_boxes = alto_illustrations(xml, ns)\n",
    "    return NewspaperPageAlto(xml_fname, text, wc, std_ocr, bounding_boxes)"
   ]
  },
  {
   "cell_type": "code",
   "execution_count": null,
   "metadata": {},
   "outputs": [],
   "source": [
    "page = parse_newspaper_page(xmls[20])"
   ]
  },
  {
   "cell_type": "code",
   "execution_count": null,
   "metadata": {},
   "outputs": [],
   "source": [
    "assert page\n",
    "assert isinstance(page, NewspaperPageAlto)\n",
    "assert isinstance(page.text, (str, None))\n",
    "assert isinstance(page.mean_ocr, (float, None))\n",
    "assert isinstance(page.std_ocr, (float, None))\n",
    "assert isinstance(page.bounding_boxes, List)\n",
    "assert isinstance(page.item_id, str)"
   ]
  },
  {
   "cell_type": "code",
   "execution_count": null,
   "metadata": {},
   "outputs": [
    {
     "data": {
      "text/plain": [
       "NewspaperPageAlto(fname=Path('test_data/9200357/BibliographicResource_3000095237868/3.xml'), text='KŁ7Z< MONITOR POLSKI — Dnia 30! fi- 11 -1 i HiliMiiiiia MiaiHiai Hmma i IM bb aafti t hu Mubhmi aa; ia MmjTawa M in IS2. POSTANOWIENIE Ministrów Przemyśla i Haidło «az Skarb* w ftied- minie zatwierdzenia statets spółki akeyjstj f. f. „Gaiti- niS\", Spółka Akcyjna w Krakowie\".. Na zasadzie art. 1 Ustawy z d». 29-go kwietnia I&I9 roku o zatwierdzaniu i zmianie stetotów spófek akcyjnych, zatwierdzamy dołączony do niniejszego sta tut spółki akc. pod firmą: „Garbnik\", Spółka Akcyjna w Krakowie\". Minister Skarbu: (—) Steczkowski. Minister Przemysł* i i Handlu: (—) S. Pmanowski. Warszawa, dnia 16 marca 1921 roku. STATUT Spółki Akcyjnej pod Erm§: „GARBNIK\" SPÓŁKA AKCYJNA W KRAKOWIE. \\\\ Przedmiot, firma, siedziba oraz czas trwania Spółki § 1. W celu: 1) wykonania na własny rachunek lub na zlecenie osób trzecich\\', interesów handlowych i komisowych ar tykułami pomocniczymi garbarskimi z dziedziny parć duktów chemicznych, roślinnych i tłuszczowych, służą- \\'tych do garbowania skór sposobem chemicznym, wega- i tabiłnym j kombinowanym, następnie narzędziami i ma szynami garbarskiemi — wreszcie skórami krajowymi i zagranicznymi; 2) dla eksportu za granicę powyżej wymienionych .towarów i wyrobów przemysłu krajowego i importu do Polski zagranicznych, dla handlu polskimi i zagraniczny mi towarami w Polsce i zagranicą; 3) dla przyjmowania przedstawicielstw fabryk i do- jnow .handlowych krajowych i zagranicznych odnośnie do powyższych produktów, wreszcie dia nabywania i prowadzenia wszelkich przemysłów, zmierzających do popierania po-wyższej działalności — powstaje spółka akcyjna pod firmą: „Garbnik\" Spółka Akcyjna w Kra kowie, po angielsku: „Tanain\" Co Limited — Cracov, po francusku: „Le taa\" Seeietć anonymiei—Craoovie, po niemiecku: Actien-Geselłschaft „Gerbstofi\" in Krakau. Przy wykonaniu tych czynności podlega Spółka ak cyjna wszelkim w tej mierze wydanym przepisom praw nym. Dlatego jest Spółka zobowiązaną — o ile zamie rza prowadzić przedsiębiorstwa, które albo specjalnego uprawnienia, albo zezwolenia państwowego wymagają, postarać się o takie uprawnienie względhie o zezwole nie w myśl każdocześaie obowiązujących przepisów. § 2. Firma Spółki podpisywaną będzie w ten sposób, że pod wydrukowana!! pieczęcią wyciśnionem, albo przez kogokolwiek wypisanem brzmieniem firmy umieszczą swe podpisy obydwaj dyrektorowie, lub jeden z nich i prokurent. § 3. W celu prowadzenia swych interesów, Spółka ma prawo zakładać oddziały i składy w Państwie Polakiem oraz poza jego granicami. § 4. • Siedziba Spółki jest w Krakowie. Czas trwania Spółki nie zostaje określony. §5. Statut niniejszy, wraz z dołączonymi do niego wzo rami akcji, kujonów i talonów, winien być ogłoszony drukiem w „Monitorze Polskim\". § 6. Spółka poczytuje się za ukonstytuowaną z chwilą, gdy po potwierdzeniu statutu odbędzie s.ię Walne Zgro madzenie Organizacyjne i gdy kapitał określony w § 7, zostanie wpłacony a firma Spółki zostanie wpisaną do rejestru handlowego w Sądzie Okręgowym, jako han dlowym Vf Krakowie. Kapitał zakładowy i a&cjff. §7. , Kapitał zakładowy Spółki Wynosi mk, p. 10.000.000 (dziesięć miljonów marek polskich-),, podzielonych na 20.000 sztuk akcji po mk. p. 500 (pięćset marek polskich) każda. we, opiewające na 5, 10 i 25 sztuk w jednym dokumen cie wedle wzorów B. C. D. dołączonych <k> aimejszega statutu. Do akcji dołącza się kupony na 20 lat, sporzą dzone według wzoru E. F. C. H., oraz talonów, sporzą dzonych według wzoru LK. §9. Kapitał akcyjny, określony w § T może być na mocy uchwały Walnego Zgromadzenia i po upraedniem uzy skaniu zezwolenia właściwych Władz rządowych pod wyższonym przez wydanie nowych na okaziciela opie wających w gotowiźnie wpłaconych akcji po mk. p. 500; Walne Zgromadzenie winno uchwalić warunki emi sji nowych akcji, a w szczególności zaś ich kurs emi syjny. Zgromadzenie: Walne może przenieść powzięcie uchwały tej na Radę Zawiadowczą. Emisja akcji poniżej al pan nie jest dopuszczalną. Kurs akcji nowej emisji, przy którego określeniu nar leży uwzględnić wszelkie stosunki, mające w danej chwili wpływ na ich wartość, winien być orzeczony w ten sposói), by kwota, mająca być uzyskaną za akcje no wej emisji, wpłynęła na rzecz Spółki możliwie całkowi cie. Uzyskana przy sprzedaży nowo emitowanych akcji nadwyżka ponad wartość nominalną tychże ma być przelaną do funduszu zapasowego § 46 po potrąceniu kosztów, spowodowanych wydaniem akcji, § 10. Pierwszeństwo do nabywania akcji nowych enusjj służy przedewszystkiem właścicielom akcji emiaji po- przedttjełt w stosunku, który przez Walne Zgromadzenie uchwalonym zostanie. «l i \\'« ■ H *-! Każdorazowe powiększenie kapitału akcyjnego win no być wpisane do rejestru handlowego w Sądzie Okrę gowym, jako handlowym w Krakowie. Jeżeli dawniejsi akcjonariusze nk zapiszą się na wszystkie akcje emisji nowej, to m pozostałą: ilość afacjji ogłasza się zapisy publiczne pod warunkami uchwalo nymi poprzednio przez Wake Zgranadzeaie akejonarjur szow. § 12. §8. Wszystkie akcje opiewają na okaziciela i sa niepo- dzielne. Na wpłacone sumy będą wydane akcje pojedyncze, sporządzone według wzoru A., względnie akcje zbioro Każdy akcjonariusz odpowiada jedynie za nominal ną wartość swych akcji w prawach i zobowiązaniach Spółki. § 13. Za zgubione, zniszczone lub uszkodzone akcje lub kupony wydawać się będzie duplikaty za zwrotem\\' po niesionych kosztów po przeprowadzeniu amortyzacji, której; dowód należy przedłożyć Spółce. Walne Zgromadzenie Organizacyjne. § 14.\\' WaJne Zgromadzenie Organizacyjne zwołują konce sjonariusze natychmiast po uzyskaniu państwowego za twierdzenia niniejszego statutu, a przed sądowem zare jestrowaniem Spółki za pomocą jednorazowego ogło szenia (§ 50) bez względu na oznaczony w § 20 termin zwołania. O tem należy donieść Ministerstwu Przemy ślu i Handlu conajmniej na 8 dni wcześniej. Do tego Walnego Zgromadzenia mają zastosowa nie postanowienia § 17 niniejszego statutu. Organizacyjne Zgromadzenie Walne wybiera prze wodniczącego i dwóch skrutatorów. Walne Zgromadzenie Organizacyjne władnem jest do powzięcia uchwał, jieżełi ooaajumiej połowa wszyst kich subskrybentów akcji, wyobrażających przynajmniej czwartą część kapitału zakładowego, jest osobiście obec ną lub zaprezentowaną przez swych pełnomocników. .. Na Walnem Zgromadzeniu Organizacyjnem należy powziąć uchwały w przedmiocie założenia Spółki ak cyjnej, w przedmiocie ostatecznego uchwalenia treści statutu Spółki, w brzmieniu zatwierdzenem przez wła ściwe władze, dalej należy przedłożyć podpisane przez akcjonarjuszy potwierdzenie, że kapitał akcyjny został wpłacony stosownie do § 8 w gotówce do Spółki oraz, że gotówka jest dó dyspozycji Spółki, stosownie do § 8. Jeżeli wpłaty nastąpiły eto rąk osoby trzeciej w za kładzie bankowym lub innem miejscu, należy dostarczyć odnośnego potwierdzenia w oryginale, lub wierzytelnjrai odpisie. Walne Zgromadzenie Organizacyjne uchwała pro stą większością głosów. Większość potrzebna do zało żenia Spółki akcyjnej saiusi obejmować przynajmniej je dną czwartą część wszystkich: subskrybentów, oraz. je dną czwarta część wszystkich akeji, mających się wydać. Organizacyjne Zgromadzenie Walne wybiera człon ków Rady Zawiadowczej, mających być wybranymi z grona akcjonar juszów, w mysi § 27,, na pierwsze pięć lat operacyjnych, tudzież rewizorów rachunkowych i ich zastępców na czas do zamknięcia. Walnego Zgromadze nia, które ma powziąć ocbwalę » bilansie rocznym na pierwszy rok operacyjny Spółki. Z obrad tego Zgroma dzenia spisuje się protokół aotarjalny, który winien pod pisać przewodniczący oraz dwaj wybrani członkowie Organizacyjnego Zgromadzenia. Walnego. W razie aieukensty tu &wsm\\'a się Spółki w terminie sześciomiesięcznym od dnia ogłoszenia statutu w „Mo nitorze Połskim\" uważać się będzie Spółkę za niedoszły do skutku, a pieniądze wpłacone na poczet akcji winiij być zwrócone płatnikom. Władze (organy) Spółki. § 15. Organami niniejszej Spółki akcyjnej są: 1) Zgromadzenie Walne aktjonarjuszów, 2) Rada Zawiadowcza, 3) Dyrekcja, 4) Komisja Rewizyjna (rewizorowie). I. Zgromadzenie Walne akcjonarjuszów. < § 16. Zgromadzenie Walne zastępuje ogół akcjooaiftf* szów. Jego uchwały powzięte w sposób statutem prz&< pisany obowiązują wszystkich akcjonarjsuszów. ji § 17. Posiadanie 10 akcji nadaje prawo do jednego glostf na Zgromadzeniu Walnemu Wszelako jieden aktjonarjusas nie może posiadać większej liczby głosów, niż .ta dk> ja* Mej uprawnia go posiadanie 1/3 części kapitału zakla* dowego.- ift/ Prawo głosowania na Zgromadzniu Walnem moSse być wykonane przez każdego akcjonariusza bądź osobi ście, bądź przez pełnomocnika bez względu na to, ay i ten jest akcjonarjuszem, lub nie. Legitymacja pełnomoiCK nika winna nastąpić w przepisanej przez Radę Zawias dowczą formie. . ■ t> Kobiety głosują albo osobiście, albo przez swych małżonków, jako ustawowych zarządfców icłr bez osobnego pełnomocnictwa, albo przez innych pełajOH mc esików. Osoby, będące pod kuratelą M> opieką i osoby p#a* wne głosują przez ustawowych, względnie statutowych\\' zastępców bez osobnego pełnomocnictwa. Każdemu akcjonarjuszowi wolno dla wszystktcS przysługujących mu głosów ustanowi® tylko jednego pełnomocnika. \\'■% § 18. Celem wykonania prawa glosowania należy akcja uzasadniające prawo głosowania, wraz z odnośnymi niepłatnymi kuponami, złożyć najpóźniej na osiem dni przed Zgromadzeniem Walnem w kasie Spółki lub ifli nem miejscu, wskazanem przez Radę Zawiadowcza. $ Zamiast akcji mogą być przedstawiane dowody ztf< stawowe lub depozytowe instytucji kredytowych, stwier* dzająoe przechowywanie akcji (z wyszczególnieniem nu merów). Akcjonarjusze, którzy w ten sposób wykazali swoje prawo glosowania, otrzymują karty legitymacyjne, opiewające na ich nazwisko, z wymienieniem ilości zło żonych akcji i spadających na nie głosów. Legitymacja służyć może wyłącznie osobie w niej wymienionej, łub też należycie wykazanemu pełnomocnikowi. Z zamknięciem spisu akcjonarjuszów, którzy złożyli swe akcje przed Zgromadzeniem Walnem, akcjonarjusze, mający prawo głosu, zyskują prawo przeglądania spisu tego w biurze Spółki. \\'> Na każdem Zgromadzeniu Walnem należy wywiesić spis obecnych akcjonarjuszów lub ich zastępców, z wy mienieniem ich nazwiska i miejsca zamieszkania, tudzież ilości przysługujących każdemu głosów, każdemu akcjo narjuszowi lub zastępcy akcjonarjuszów obecnemu na Walnem Zgromadzeniu służy prawo przeglądania tego. spisu. l! Wykaz złożonych akcji oraz akcjonarjuszów, upraw nionych do głosowania, należy dołączyć do protokółu Zgromadzenia Walnego. iL § 19. ; Wałne Zgromadzenie jest albo zwyczajne, albo nad zwyczajne i z reguły zostaje zwołane przez Radę Zawją- dowczą. \\' • !\\' Z W pierwszej połowie każdego roku kalendarzowi go musi się odbyć zwyczajne Zgronrasfeenie Walnei w siedzibie Śpólki. 1 ■ ■ : Zwołanie Zgromadzenia Walnego następuje oprócfc .przypadków* ©kreślonych w ustawie: 1).wskutek uchwały Rady Zawiadtowczej, 2) wslcukk uchwały Zgromadzenia Walnego, 3) na żądanie Dyrekcji lub rewizorów, \\' 4) na żądanie jednego lub więcej akcjonarjuszów, jeżeli ci przez równoczesne złożenie swych akeji w kasie Spółki wykażą się posiadaniem conajmniej dziesiątej części całego kapitału zakładowego i zawiadomią piś miennie Radę Zawiadowcza o powodach i celu zwo* łania, 5) w wypadku przewidzianym w § 42. W wypadkach, wymienionych pod 2) i 4) ifeiasi zwo łanie nadzwyczajnego Zgromadzenia Walnego nastąpić najdalej przed opływem trzydziestu dni\\', licząc od dnia powzięcia uchwały Zgromadzenia Walnego, wzglfdniaf wniesienia podania akcjonarjuszów. ® § 20. f „ Zgromadzenie Walne zostaje zwoŁanem przez jedno razowe ogłoszenie g 50 wymieniające miejsce, czas f przedmioty obrad. Zamieszczenie tego ogłoszenia ma nastąpić przynaj mniej na .14 dni przed dniem, wyznaczonym na odbycia j', mean_ocr=0.45530570236884105, std_ocr=0.19463376181859995, bounding_boxes=[], item_id='9200357/BibliographicResource_3000095237868')"
      ]
     },
     "execution_count": null,
     "metadata": {},
     "output_type": "execute_result"
    }
   ],
   "source": [
    "page"
   ]
  },
  {
   "cell_type": "markdown",
   "metadata": {},
   "source": [
    "## Get metadata \n",
    "\n",
    "The next step is to create some functionality to get metadata for the items. There are two possible ways we can do this:\n",
    "- via the metadata download dumps\n",
    "- via the Europena API\n"
   ]
  },
  {
   "cell_type": "code",
   "execution_count": null,
   "metadata": {},
   "outputs": [],
   "source": [
    "# |slow\n",
    "#!aria2c -x 4 -d test_metadata -o metadata.zip --auto-file-renaming=false ftp://download.europeana.eu/newspapers/metadata/9200357.zip"
   ]
  },
  {
   "cell_type": "code",
   "execution_count": null,
   "metadata": {},
   "outputs": [],
   "source": [
    "# !unzip -d test_data_metadata test_metadata/metadata.zip"
   ]
  },
  {
   "cell_type": "code",
   "execution_count": null,
   "metadata": {},
   "outputs": [],
   "source": [
    "metadata_examples = list(take(500, Path(\"test_data_metadata\").rglob(\"*.xml\")))"
   ]
  },
  {
   "cell_type": "code",
   "execution_count": null,
   "metadata": {},
   "outputs": [],
   "source": [
    "# |export\n",
    "@define(slots=True)\n",
    "class NewspaperPageMetadata:\n",
    "    metadata_xml_fname: Union[str, Path]\n",
    "    title: Optional[str]\n",
    "    date: Optional[str]\n",
    "    languages: Union[List[str], str, None]\n",
    "    item_iiif_url: Optional[str]\n",
    "    all_metadata_dict: Dict[Any, Any]\n",
    "\n",
    "    def __attrs_post_init__(self):\n",
    "        self.languages = (\n",
    "            self.languages.split(\",\")\n",
    "            if isinstance(self.languages, str)\n",
    "            else self.languages\n",
    "        )\n",
    "        self.title = self.title.split(\"-\")[0].strip(\" \")\n",
    "        self.metadata_xml_fname = str(self.metadata_xml_fname)"
   ]
  },
  {
   "cell_type": "code",
   "execution_count": null,
   "metadata": {},
   "outputs": [],
   "source": [
    "# |export\n",
    "def get_metadata_from_xml(xml_file: Union[Path, str]):\n",
    "    with open(xml_file, \"r\") as f:\n",
    "        xml = xmltodict.parse(f.read())\n",
    "    metadata = xml[\"rdf:RDF\"]\n",
    "    ProvidedCHO = metadata[\"edm:ProvidedCHO\"]\n",
    "    title = ProvidedCHO[\"dc:title\"]\n",
    "    data = ProvidedCHO[\"dcterms:issued\"]\n",
    "    languages = ProvidedCHO[\"dc:language\"]\n",
    "    iiif_url = metadata[\"ore:Aggregation\"][\"edm:isShownBy\"][\"@rdf:resource\"]\n",
    "    return NewspaperPageMetadata(xml_file, title, data, languages, iiif_url, metadata)"
   ]
  },
  {
   "cell_type": "code",
   "execution_count": null,
   "metadata": {},
   "outputs": [],
   "source": [
    "for metadata_xml in metadata_examples:\n",
    "    metadata = get_metadata_from_xml(metadata_xml)\n",
    "    assert metadata\n",
    "    assert isinstance(metadata.languages, (list, None))"
   ]
  },
  {
   "cell_type": "code",
   "execution_count": null,
   "metadata": {},
   "outputs": [
    {
     "data": {
      "text/plain": [
       "NewspaperPageMetadata(metadata_xml_fname='test_data_metadata/http%3A%2F%2Fdata.theeuropeanlibrary.org%2FBibliographicResource%2F3000095246027.edm.xml', title='Głos Śląski', date='1917-10-30', languages=['pl'], item_iiif_url='https://iiif.europeana.eu/image/PUXTDGFKG2LLRLBO3B6Y5KYMC62PLD4T2LERZFPAH324CH53ASPQ/presentation_images/87b09e00-0235-11e6-a696-fa163e2dd531/node-1/image/NLP/Głos_Śląski/1917/10/30/00742/full/full/0/default.jpg', all_metadata_dict={'@xmlns:cc': 'http://creativecommons.org/ns#', '@xmlns:ore': 'http://www.openarchives.org/ore/terms/', '@xmlns:owl': 'http://www.w3.org/2002/07/owl#', '@xmlns:svcs': 'http://rdfs.org/sioc/services#', '@xmlns:skos': 'http://www.w3.org/2004/02/skos/core#', '@xmlns:rdfs': 'http://www.w3.org/2000/01/rdf-schema#', '@xmlns:rdaGr2': 'http://rdvocab.info/ElementsGr2/', '@xmlns:rdagrp2': 'http://rdvocab.info/ElementsGr2/', '@xmlns:edm': 'http://www.europeana.eu/schemas/edm/', '@xmlns:xsi': 'http://www.w3.org/2001/XMLSchema-instance', '@xmlns:rdf': 'http://www.w3.org/1999/02/22-rdf-syntax-ns#', '@xmlns:doap': 'http://usefulinc.com/ns/doap#', '@xmlns:oai_dc': 'http://www.openarchives.org/OAI/2.0/oai_dc/', '@xmlns:dcterms': 'http://purl.org/dc/terms/', '@xmlns:wgs84_pos': 'http://www.w3.org/2003/01/geo/wgs84_pos#', '@xmlns:odrl': 'http://www.w3.org/ns/odrl/2/', '@xmlns:foaf': 'http://xmlns.com/foaf/0.1/', '@xmlns:dc': 'http://purl.org/dc/elements/1.1/', 'edm:ProvidedCHO': {'@rdf:about': 'http://data.theeuropeanlibrary.org/BibliographicResource/3000095246027', 'dc:identifier': 'http://data.theeuropeanlibrary.org/BibliographicResource/3000095246027', 'dc:language': 'pl', 'dc:title': 'Głos Śląski - 1917-10-30', 'dc:type': [{'@rdf:resource': 'http://schema.org/PublicationIssue'}, {'@xml:lang': 'en', '#text': 'Analytic serial'}, {'@xml:lang': 'en', '#text': 'Newspaper'}, {'@xml:lang': 'en', '#text': 'Newspaper Issue'}], 'dcterms:extent': {'@xml:lang': 'en', '#text': 'Pages: 4'}, 'dcterms:isPartOf': [{'@rdf:resource': 'http://data.theeuropeanlibrary.org/BibliographicResource/3000095245909'}, {'@rdf:resource': 'http://data.theeuropeanlibrary.org/Collection/a0618'}, {'@xml:lang': 'en', '#text': 'Europeana Newspapers'}], 'dcterms:issued': '1917-10-30', 'edm:isNextInSequence': {'@rdf:resource': 'http://data.theeuropeanlibrary.org/BibliographicResource/3000095247386'}, 'edm:type': 'TEXT'}, 'edm:WebResource': [{'@rdf:about': 'https://iiif.europeana.eu/image/PUXTDGFKG2LLRLBO3B6Y5KYMC62PLD4T2LERZFPAH324CH53ASPQ/presentation_images/87b09e00-0235-11e6-a696-fa163e2dd531/node-1/image/NLP/Głos_Śląski/1917/10/30/00742/full/full/0/default.jpg', 'svcs:has_service': {'@rdf:resource': 'https://iiif.europeana.eu/image/PUXTDGFKG2LLRLBO3B6Y5KYMC62PLD4T2LERZFPAH324CH53ASPQ/presentation_images/87b09e00-0235-11e6-a696-fa163e2dd531/node-1/image/NLP/Głos_Śląski/1917/10/30/00742'}}, {'@rdf:about': 'https://iiif.europeana.eu/image/PUXTDGFKG2LLRLBO3B6Y5KYMC62PLD4T2LERZFPAH324CH53ASPQ/presentation_images/87b09e00-0235-11e6-a696-fa163e2dd531/node-1/image/NLP/Głos_Śląski/1917/10/30/00743/full/full/0/default.jpg', 'edm:isNextInSequence': {'@rdf:resource': 'https://iiif.europeana.eu/image/PUXTDGFKG2LLRLBO3B6Y5KYMC62PLD4T2LERZFPAH324CH53ASPQ/presentation_images/87b09e00-0235-11e6-a696-fa163e2dd531/node-1/image/NLP/Głos_Śląski/1917/10/30/00742/full/full/0/default.jpg'}, 'svcs:has_service': {'@rdf:resource': 'https://iiif.europeana.eu/image/PUXTDGFKG2LLRLBO3B6Y5KYMC62PLD4T2LERZFPAH324CH53ASPQ/presentation_images/87b09e00-0235-11e6-a696-fa163e2dd531/node-1/image/NLP/Głos_Śląski/1917/10/30/00743'}}, {'@rdf:about': 'https://iiif.europeana.eu/image/PUXTDGFKG2LLRLBO3B6Y5KYMC62PLD4T2LERZFPAH324CH53ASPQ/presentation_images/87b09e00-0235-11e6-a696-fa163e2dd531/node-1/image/NLP/Głos_Śląski/1917/10/30/00744/full/full/0/default.jpg', 'edm:isNextInSequence': {'@rdf:resource': 'https://iiif.europeana.eu/image/PUXTDGFKG2LLRLBO3B6Y5KYMC62PLD4T2LERZFPAH324CH53ASPQ/presentation_images/87b09e00-0235-11e6-a696-fa163e2dd531/node-1/image/NLP/Głos_Śląski/1917/10/30/00743/full/full/0/default.jpg'}, 'svcs:has_service': {'@rdf:resource': 'https://iiif.europeana.eu/image/PUXTDGFKG2LLRLBO3B6Y5KYMC62PLD4T2LERZFPAH324CH53ASPQ/presentation_images/87b09e00-0235-11e6-a696-fa163e2dd531/node-1/image/NLP/Głos_Śląski/1917/10/30/00744'}}, {'@rdf:about': 'https://iiif.europeana.eu/image/PUXTDGFKG2LLRLBO3B6Y5KYMC62PLD4T2LERZFPAH324CH53ASPQ/presentation_images/87b09e00-0235-11e6-a696-fa163e2dd531/node-1/image/NLP/Głos_Śląski/1917/10/30/00745/full/full/0/default.jpg', 'edm:isNextInSequence': {'@rdf:resource': 'https://iiif.europeana.eu/image/PUXTDGFKG2LLRLBO3B6Y5KYMC62PLD4T2LERZFPAH324CH53ASPQ/presentation_images/87b09e00-0235-11e6-a696-fa163e2dd531/node-1/image/NLP/Głos_Śląski/1917/10/30/00744/full/full/0/default.jpg'}, 'svcs:has_service': {'@rdf:resource': 'https://iiif.europeana.eu/image/PUXTDGFKG2LLRLBO3B6Y5KYMC62PLD4T2LERZFPAH324CH53ASPQ/presentation_images/87b09e00-0235-11e6-a696-fa163e2dd531/node-1/image/NLP/Głos_Śląski/1917/10/30/00745'}}], 'ore:Aggregation': {'@rdf:about': 'http://data.theeuropeanlibrary.org/BibliographicResource/3000095246027#aggregation', 'edm:aggregatedCHO': {'@rdf:resource': 'http://data.theeuropeanlibrary.org/BibliographicResource/3000095246027'}, 'edm:dataProvider': 'National Library of Poland', 'edm:hasView': [{'@rdf:resource': 'https://iiif.europeana.eu/image/PUXTDGFKG2LLRLBO3B6Y5KYMC62PLD4T2LERZFPAH324CH53ASPQ/presentation_images/87b09e00-0235-11e6-a696-fa163e2dd531/node-1/image/NLP/Głos_Śląski/1917/10/30/00743/full/full/0/default.jpg'}, {'@rdf:resource': 'https://iiif.europeana.eu/image/PUXTDGFKG2LLRLBO3B6Y5KYMC62PLD4T2LERZFPAH324CH53ASPQ/presentation_images/87b09e00-0235-11e6-a696-fa163e2dd531/node-1/image/NLP/Głos_Śląski/1917/10/30/00744/full/full/0/default.jpg'}, {'@rdf:resource': 'https://iiif.europeana.eu/image/PUXTDGFKG2LLRLBO3B6Y5KYMC62PLD4T2LERZFPAH324CH53ASPQ/presentation_images/87b09e00-0235-11e6-a696-fa163e2dd531/node-1/image/NLP/Głos_Śląski/1917/10/30/00745/full/full/0/default.jpg'}], 'edm:isShownBy': {'@rdf:resource': 'https://iiif.europeana.eu/image/PUXTDGFKG2LLRLBO3B6Y5KYMC62PLD4T2LERZFPAH324CH53ASPQ/presentation_images/87b09e00-0235-11e6-a696-fa163e2dd531/node-1/image/NLP/Głos_Śląski/1917/10/30/00742/full/full/0/default.jpg'}, 'edm:object': {'@rdf:resource': 'https://iiif.europeana.eu/image/PUXTDGFKG2LLRLBO3B6Y5KYMC62PLD4T2LERZFPAH324CH53ASPQ/presentation_images/87b09e00-0235-11e6-a696-fa163e2dd531/node-1/image/NLP/Głos_Śląski/1917/10/30/00742/full/full/0/default.jpg'}, 'edm:provider': {'@xml:lang': 'en', '#text': 'The European Library'}, 'edm:rights': {'@rdf:resource': 'http://creativecommons.org/publicdomain/mark/1.0/'}}, 'svcs:Service': [{'@rdf:about': 'https://iiif.europeana.eu/image/PUXTDGFKG2LLRLBO3B6Y5KYMC62PLD4T2LERZFPAH324CH53ASPQ/presentation_images/87b09e00-0235-11e6-a696-fa163e2dd531/node-1/image/NLP/Głos_Śląski/1917/10/30/00745', 'dcterms:conformsTo': {'@rdf:resource': 'http://iiif.io/api/image'}, 'doap:implements': {'@rdf:resource': 'http://iiif.io/api/image/2/level1.json'}}, {'@rdf:about': 'https://iiif.europeana.eu/image/PUXTDGFKG2LLRLBO3B6Y5KYMC62PLD4T2LERZFPAH324CH53ASPQ/presentation_images/87b09e00-0235-11e6-a696-fa163e2dd531/node-1/image/NLP/Głos_Śląski/1917/10/30/00743', 'dcterms:conformsTo': {'@rdf:resource': 'http://iiif.io/api/image'}, 'doap:implements': {'@rdf:resource': 'http://iiif.io/api/image/2/level1.json'}}, {'@rdf:about': 'https://iiif.europeana.eu/image/PUXTDGFKG2LLRLBO3B6Y5KYMC62PLD4T2LERZFPAH324CH53ASPQ/presentation_images/87b09e00-0235-11e6-a696-fa163e2dd531/node-1/image/NLP/Głos_Śląski/1917/10/30/00744', 'dcterms:conformsTo': {'@rdf:resource': 'http://iiif.io/api/image'}, 'doap:implements': {'@rdf:resource': 'http://iiif.io/api/image/2/level1.json'}}, {'@rdf:about': 'https://iiif.europeana.eu/image/PUXTDGFKG2LLRLBO3B6Y5KYMC62PLD4T2LERZFPAH324CH53ASPQ/presentation_images/87b09e00-0235-11e6-a696-fa163e2dd531/node-1/image/NLP/Głos_Śląski/1917/10/30/00742', 'dcterms:conformsTo': {'@rdf:resource': 'http://iiif.io/api/image'}, 'doap:implements': {'@rdf:resource': 'http://iiif.io/api/image/2/level1.json'}}]})"
      ]
     },
     "execution_count": null,
     "metadata": {},
     "output_type": "execute_result"
    }
   ],
   "source": [
    "metadata"
   ]
  },
  {
   "cell_type": "markdown",
   "metadata": {},
   "source": [
    "## Linking metadata and XML\n",
    "We need to be able to link from the data we got from the ALTO XML with our metadata and smush them together. We have our `page.item_id` attribute which will hopefully be sufficient to grab the related metadata file. "
   ]
  },
  {
   "cell_type": "code",
   "execution_count": null,
   "metadata": {},
   "outputs": [
    {
     "data": {
      "text/plain": [
       "'9200357/BibliographicResource_3000095237868'"
      ]
     },
     "execution_count": null,
     "metadata": {},
     "output_type": "execute_result"
    }
   ],
   "source": [
    "page.item_id"
   ]
  },
  {
   "cell_type": "code",
   "execution_count": null,
   "metadata": {},
   "outputs": [],
   "source": [
    "# |export\n",
    "def get_metadata_for_page(\n",
    "    page: NewspaperPageAlto, metadata_directory: Optional[str] = None\n",
    "):\n",
    "    short_id = page.item_id.split(\"_\")[-1]\n",
    "    metadata_xml = f\"{metadata_directory}/http%3A%2F%2Fdata.theeuropeanlibrary.org%2FBibliographicResource%2F{short_id}.edm.xml\"\n",
    "    return get_metadata_from_xml(metadata_xml)"
   ]
  },
  {
   "cell_type": "code",
   "execution_count": null,
   "metadata": {},
   "outputs": [],
   "source": [
    "metadata = get_metadata_for_page(page, metadata_directory=\"test_data_metadata\")\n",
    "assert metadata\n",
    "assert isinstance(metadata, NewspaperPageMetadata)\n",
    "assert page.item_id.split(\"_\")[-1] in metadata.metadata_xml_fname"
   ]
  },
  {
   "cell_type": "markdown",
   "metadata": {},
   "source": [
    "## Issue processor"
   ]
  },
  {
   "cell_type": "code",
   "execution_count": null,
   "metadata": {},
   "outputs": [],
   "source": [
    "# |export\n",
    "@define(slots=True)\n",
    "class NewspaperPage:\n",
    "    fname: Union[str, Path]\n",
    "    text: Optional[str]\n",
    "    mean_ocr: Optional[float]\n",
    "    std_ocr: Optional[float]\n",
    "    bounding_boxes: List[Union[float, None]]\n",
    "    item_id: str\n",
    "    metadata_xml_fname: Union[str, Path]\n",
    "    title: Optional[str]\n",
    "    date: Optional[str]\n",
    "    languages: Union[List[str], None]\n",
    "    item_iiif_url: Optional[str]\n",
    "    # all_metadata_dict: Dict[Any, Any]\n",
    "    multi_language: bool = field(init=False)\n",
    "\n",
    "    def __attrs_post_init__(self):\n",
    "        self.fname = str(self.fname)\n",
    "        self.metadata_xml_fname = str(self.metadata_xml_fname)\n",
    "        self.languages = (\n",
    "            [lang for lang in self.languages if lang != \"==\"]\n",
    "            if isinstance(self.languages, list)\n",
    "            else self.languages\n",
    "        )\n",
    "        self.multi_language = (\n",
    "            isinstance(self.languages, list) and len(self.languages) > 1\n",
    "        )"
   ]
  },
  {
   "cell_type": "code",
   "execution_count": null,
   "metadata": {},
   "outputs": [],
   "source": [
    "# |export\n",
    "def process_newspaper_page(\n",
    "    xml_file: Union[str, Path], metadata_directory: Optional[str] = None\n",
    ") -> Dict[Any, Any]:\n",
    "    page = parse_newspaper_page(xml_file)\n",
    "    metadata = get_metadata_for_page(page, metadata_directory=metadata_directory)\n",
    "    metadata = asdict(metadata)\n",
    "    metadata.pop(\"all_metadata_dict\")\n",
    "    page = asdict(page)\n",
    "    return NewspaperPage(**page, **metadata)"
   ]
  },
  {
   "cell_type": "code",
   "execution_count": null,
   "metadata": {},
   "outputs": [
    {
     "data": {
      "text/plain": [
       "Path('test_data/9200357/BibliographicResource_3000095232526/8.xml')"
      ]
     },
     "execution_count": null,
     "metadata": {},
     "output_type": "execute_result"
    }
   ],
   "source": [
    "xmls[0]"
   ]
  },
  {
   "cell_type": "code",
   "execution_count": null,
   "metadata": {},
   "outputs": [],
   "source": [
    "assert all(\n",
    "    process_newspaper_page(xml, metadata_directory=\"test_data_metadata\")\n",
    "    for xml in xmls[:32]\n",
    ")"
   ]
  },
  {
   "cell_type": "code",
   "execution_count": null,
   "metadata": {},
   "outputs": [
    {
     "data": {
      "text/plain": [
       "NewspaperPage(fname='test_data/9200357/BibliographicResource_3000095232526/8.xml', text='k,- :oło =z * -i : i ; r. . a: k Podziękowanie. \\'ii.\".*.- .*-ó h7 »ka naistn ceezniej**e podzię- ownym Punu>in :-,r\\'ys»ko!n St .k >wski*j i ?.6 nip, fraz Panom .>rt st m: Mis.Tń- •j, ■ rof. l wft!i-jott«k!<?raa, >•••.-.» >■\\' i \"•zk .lv *ł i\\' < ■? r ::i ••I. oraz ch-i- te; oper -wej, Przy Ki -rnu, Pa- vsk.- mu i Rybickiemu. er.\\'.2 firm e „Ri.-g.-rt i Gm- za !>? v :n t(Ti sok ne uJ.yczenie forter -iarti na kon- urzą\\'.zi.myiri z nr eto na doebó. u. 24 !i<?a w s.iU T .w hyejo nie- ; nu żi.ych ucz-Timo. S^ro :U>-vzr.io. W oęł^zi-niu .Podwieczorek* Vi »\\' nfc Criiial na K ło >vi isow .Ni ,.!j, mylnie wy- rru w a n-!*^ .Dnia 8- go grudnia, t. j w piątek, od P>-.z. p-ej do \\'d-ej wie-.-iorem\". winno być: .Duia S-go grudnia, t. j. w sobotę, od g-<dz. 5-oj do\" l-ej u ieczo- re:n\". Przy stoliku 7- z as i,-idą. ojtócz już wymienio nych, r,p. bzy monostwo JdurtelińBcy oraz p. Włodzi mierz harnecki. 12.\\':9r W i-o i ( \\'I I-J i w NI KIK-\\'IKU-;. Sl - 1 < > KI * I > N IA r t> TYLKO 2 PA7Y-M i S T P 2—BAKHA z KAZIMIERZEM KAMIŃSK IM. W p o ; j i e (1 > i n : i- k i dni następnych .POTĘGA C1KMN0\\'i\\'Y\". 883fi \\'•.•.WBggyłijiraa: wmHMawi ..7 .ttu j € > r> ^ CJ\\'T-4\" ęi f T\\'5 i f (fO *a*.©21 SZtU^l Jerozołiiwkis N q 39. eo9 VV .\\'kwiiitne żałoons kapelusze. Duży wvWr. „M -me Nathalio Alino\" Marszałkowska 85. 541 crvf-»*rit; : 5^r polecamy! —■ Wycział ofiar uprasza o *ar fiarowanie ciepłego ubra nia, »\\'.veu>ru i bielizny dla młodej pasiaki z ii;U-itj.\\'*>iicji, cj<f.;k\\'.» chorej na yruźlioc, weroty po lekarzu, zmarłym na poj-teninku swej ofiarnej pracy społecznej. Na wutlyoh • kach sióioty spoczywało ulr/.y nianie R<*łtki, babki i >u\\'.str :r?i-i-/. -\\'\\'U. a krótki?, wolne chwile pu ii- j;odziiin<*j pracy, o <ld ;nvata na usługi i pidccuownuie ubogich i nieszczęśli wych. Katujmy życie młode, godiie uzuaitia. — Wydzinl ofiar „Kuriera Waiszawskiesro\" prosi sr. czytcir.Ików o cieple palta, obuwie i cięt>ły posiłek -ll.-j ucziiii w i uczennic szkół #re-ii.i«th. Wielka bieda miedzy dziećmi i młodzieżą, gruźlica niszczy. Na dzie sięć młodych istnień, ośm zajriożonycii. Prosimy rów nież o nadsyłanie ofert bezpłatnej pomocy naukowej w matematyce i językach obcych. 3 ja. & * P. E3clena r, ^ioezorows ^Ioh GILEWSKA, tona majstra K*wcklego, opatrzona iw. Sakramentami, po długich i ciętkieh Oierpiwniach zaanęła w Boga w dniu 6-yrn grudnia 1017 r., przeżywszy lat 27. Pogrążeni w głębokim smutku: inąż z dziedmi, rodzice, bradro, bratowa i rodzina zaprnszają kie- wnych, j r/yjaciół i znajomych na nabożeństwo żałobne do kajilicy koi»oiola źw. Ba; bary (iia Ko smykach) d. 9-go b. m„ w niedzielę, o gud>;. iO-eJ z ran a, a następnie na wyprowadzenie zwluk, zaiuz po ek\\'-ncxonom nabożeństwie, na cmentarz l>ró- dzic-ńtki. 4J28 t .Dnia 10-eo b. m., w po:.i»»<iziatek, w kościele ś\\\\r. Aleksandra, o godz. 9 i pół, odbędzie się nabo żeństwo za duszę ukochanej żony i matki, ś p. ł> • t 1 i • o czem zawiadamiają mąi I dzieci. 572 Icnstwo za uuszę uKucaanej zouy kmiii i S:tóM Wgzystkimj ktunsy wzięli udział w oddaniu osia- ilei posługi zwłokom ukochanego mgża, ojca | tniej posługi ii i brata naszego Dnia 5 rru^nia ]f)17 r, Nr. 3S9 Le©?5adja z: ISrilgeróif# i ts opatrzona iw. Sakramentami, po długiej \\' bardzo ciężkiej chorobie, zmarła, przeżywszy lat 71. |;1 Nabożeństwo tałobne w kaplicy śvr Barbary na Koszykach jdt>ędz e się iv poniedziałek, o godz. 8-4j r? rano, pc ć&ońc^emu k-.tri e.tro (iub-.eio v y • ruwadzerie 2wł.>k na cusentnrz poivi^..Kow>ki o o grobu rodam- ^ neg-j o czoui iaw ia..;<ii,-ii,i :ą t<oZ\"#;:-iie v \\' oim w simitKu. w nn-o»e< - no. i ci synów corRi. zieciOw i wnuków. . WT 11 . .■«ŁŁv iT.tUtiri.u Sty* maSm lalAJlfca wrfrA mli i fcjiSfau i - ś. y p. Feiilsszta i obywatel miasta stołecznego Warszawy, | adjutant Milicji miejskiej, | po długich cierpieniach zasnął w Bogu dnia 7-go grudnia 1917 r., pnseźywsay lat 44. 1. Pogrążeni w głębokim smutku: żona, córka, ojciec, zięd, wnuk, brat, siostry i rodzina r; eapraszają krewnych, przyjaciół, koie.sów i znajomych na oabożeńsiwo żałobna, odbyć sig E\\'; mające w dolnym kościele Zbawiciela (p rz > ; u ł- Marszałkowskiej) dnia 9-go b. m., L j. \\\\\\\\ w niedzielę, o godz JO i pol zruna, oraz na wyprowadzaniu zwiok tegoż <inia i 2 tegoż ^ L] kościoła, zaraz po ukończeniu nabożeństwa, na cmentarz po a*q zkowski. *■ |ij; Occ.bn« srprcEzenia rozsy:an3 n:a Leli. — i. fn-r?-. • \"/A\\'- t ssss^a^asossEEBEBaaBSi w S. o. SallsiD s iic!i f W; Eustasli0i?ja I). o!iy« atcSUn opatrzona ffw. 3nkramentami. przeżywszy lat 46. sasnęia w Bogu dnia \\'25-go listopada r. b. w Pr7ystnjni t > aieun Kaliskiej: tymczasowo pociioWaiia ioslaia Qa oineniarzu parafjalnyin w Gudziesiach d. 2y listopada Nabożeństwo iałobue za spokój Jej ciusz.i oitbędzie we ozwatt>>k, dnia l3-i.-o b. ni^ o godz. 8 i pół. W kaplicy Schronienia paralityków ^Nowo\\\\\\\\ic.ska 3_), o czem, w nieobecności męża i synów, zawiadamiają 4G1G córka i rodzina. rmliTTiinf\" rTś\\\\ri&\\\\ ST^ ^ cka opatrzona św. Sakramentami, po długich cierpieniach aasnęła w Panu d. 8-go grudnia 1917 r. Nabożeństwo żałobna za spokój duszy odprawione będzie się w Kościele iw. Karola Soromeusza (na Powązkach) w dniu 10-yn b m., w poniddziałak, o godz. ŁO-o } z ana, po akończaniu którego ^ nastąpi wyprowadzenia awłok na oinanlarz miejsc -wy do grobu rodzinnego. f Na te smutne obrzędy zaprasza krewnych i życzliwych pamięoi zmarłej 46-4 MATKA. Basi u ..\\'WMWJ yuwiu.yiJj.i, f B mi j Slf HE3 ISSiESS SsfiC \" 3 adwokat przysęg^, Ouj ^at:. m. s l . Warszawy, po krótkich cierpieniach zasnuł sv Bo^u duia 6-u\\'o grudnia r. b.. przeżywszy lat 60. O dnia pogrzeba oddzielne zawiadomienia nastap^ą. 575 w«»swss?«ę; łMMWBII f W medzieię, dnia W-go grudnia, jako w dzień imietu- a. p k h Ss ■j \\'.i odbędzie się msza święta w kościele Św. Antoniego (po-reformaokim) przy ul. Senatorskiej o godz. IO-aJ ? zr.tr.a, o cz>-m zawiadamiają życzliwych i znai rnyt.i osiiio-.e..i mą^, d^-cci t wnutci. 5<9 ^ Leokadji z Górskich Władysławewyj GĘBKA, i-j-t-rrmnf.y v. , **TwiW\\' ,r, Tif ■) Za duszę ś. p. Walerji z Maszatowskich .Smosarskiej e jako w dzień imienin, odbędzie eię nabożeństwo I w koście\\'e\\'św. Piotra i Pawia ma Koszykach) dnia |1BC li 9-go grudnia, o godzinie 10-ej rano, przed wieł- iona * dziećmi, braterstwo I rodzina. S f kim ołtarzem. 857rn a w szczególności wiełmetnenm panu komisarzowi Czvniowsuien ;u, kolonom i towarzyszom pracy z Mił oii miejskiej, oraz przyjaciołom zmarłego, tudzież\\'tym, którzy na własnych barkacli ponieśli do pro bu drogie nam szczątki—składają serdeczne .Bóg zapiać* 4620 W dniu 1\\'i-ym grudnia, jako w 20 -ią roczińcę .-m:erci, odindzie się w kościele Karmelitów na \" e8-«Ji s. i\" p. in\\'\" Krak.-Przed .i., o godzinie 8-«J rano, nabożeństwo żałobne za duszy hl zraiisoei na która rodzinę i życzliwych zapraszają 8S4 córka, wnuczki i wnuk.', mean_ocr=0.37964268641838544, std_ocr=0.1758556636001721, bounding_boxes=[[113.0, 563.0, 2858.0, 512.0], [178.0, 774.0, 4211.0, 363.0], [474.0, 1107.0, 4519.0, 366.0], [147.0, 2312.0, 466.0, 1540.0], [113.0, 186.0, 732.0, 1746.0], [110.0, 172.0, 734.0, 2020.0], [112.0, 170.0, 738.0, 2884.0], [108.0, 214.0, 737.0, 3444.0], [194.0, 719.0, 1327.0, 1743.0], [158.0, 254.0, 1363.0, 3412.0], [102.0, 966.0, 2766.0, 2920.0], [364.0, 1679.0, 2889.0, 1686.0], [560.0, 341.0, 3670.0, 3562.0], [105.0, 1020.0, 4236.0, 2383.0], [129.0, 1524.0, 4656.0, 1574.0], [37.0, 387.0, 3597.0, 2054.0]], item_id='9200357/BibliographicResource_3000095232526', metadata_xml_fname='test_data_metadata/http%3A%2F%2Fdata.theeuropeanlibrary.org%2FBibliographicResource%2F3000095232526.edm.xml', title='Kurier Warszawski', date='1917-12-08', languages=['pl'], item_iiif_url='https://iiif.europeana.eu/image/FC42GS4KJ4WTHO4WFH5KUEYPUYJ4WH5IP3R2TR7XPF6HAU22OCTA/presentation_images/d12286a0-0232-11e6-a696-fa163e2dd531/node-1/image/NLP/Kurier_Warszawski/1917/12/08/szzzid87226/0001_jpgid23648166/full/full/0/default.jpg', multi_language=False)"
      ]
     },
     "execution_count": null,
     "metadata": {},
     "output_type": "execute_result"
    }
   ],
   "source": [
    "process_newspaper_page(xmls[0], metadata_directory=\"test_data_metadata\")"
   ]
  },
  {
   "cell_type": "markdown",
   "metadata": {},
   "source": []
  },
  {
   "cell_type": "markdown",
   "metadata": {},
   "source": [
    "## Load into datasets"
   ]
  },
  {
   "cell_type": "code",
   "execution_count": null,
   "metadata": {},
   "outputs": [
    {
     "data": {
      "text/plain": [
       "NewspaperPage(fname='test_data/9200357/BibliographicResource_3000095238478/2.xml', text='— Zwycłeżenl zwvefęzcy. »Oaz. Robotnlczaa wskazuje pód tym tytu ł em na przeobrażenie, jakie się dokonało w Grecyi Pisze ona: „Wiadomo, że król grecki Konstantyn, szwagier Wilhelma U, ni\\'- chciał pozwolić na wciągnięcie swego ubogiego kraju w wojnę i ze wszystkich sił starał się utrzynać Grecyc w neutralności; ale przeciwdziałał te- wu zagorzały zwolennik ententy Venizelos, który nie epsczął, aż przeprowadził detronizacyę i wygnanie króla i wciągnięcie Grecyi do koalicyi i do wojny. Grecya wyszła z wojny wzbogacona nowymi obszara mi na Bałkanie i nowemi pos ; adłościami w Azyi Mniej szej. ale gospodarczo zrujnowana doszczętnie. Nędza i głód, szerzące się wśród zwycięskich Greków, skie rowały ich umysły przeciw wszechpotężnemu dotąd prezydentowi ministrów, istnemu dyktatorowi Venize- Icsrwi i na je-o g\\'owę zaczęty się sypać przekleństwa ludności za zubożenie kraju, za oszukanie nadziei przy wiązywanych do zwycięstwa. 1 oto upadł potężny „koalicyonista\", ścigany nienawiścią narodu, który mu zawdJc/a tak o>romne zdobycze terytoryaine...\" „Gaz. Rob.\" dodaje do tego następujący znamienną uwagę: -„Ukazuje się, że w innych krajach koalicyjnych sto sunki o imienne niż w Polsce. U nas wciąż jeszcze wykljiy jest każdy, kto przed kilku laty byl „centrali- Btą\". U nas takiego traktuje się jak trędowatego, pięt nuj ni.iy zbrodniarza i nie dopuszcza do żadnego sta nowiska, pcd pozorem, że mogłoby to Polsce zaszko dzić u en;enty, — podczas gdy w koalicyjnych Wło szech stoi na czete rządu „cemralista\" Giolitti, a w ko- ilicy^ej Grecyi został obalony główny mąż zau;ania Ententy, Yenizelos.\" Wiadomości polityczne. Polska. (Konferencya w sprawie skła du rządu.) Dnia 24. b. m. odbyło się w biurze prezydenta ministrów zebranie przedstawicieli tych stronnictw sejmowych, które w swoim czasie wzięły udział w utworzeniu koalicyjnego rządu, oprocz Zwią zku Ludowo-Narodowego, który jak wiadomo, usunął iię z tego rządu. Obecni byli też ministrowie, będący przedstawicielami owych stronnictw w rządzie. Po za gajeniu przez prezydenta ministrów, który przedstawił program rządu w ogólnych zarysach, uzupełniony na stępnie przez wiceprezydenta Daszyńskiego, rozwinęła się dłuższa dyskusya, w której składali oświadczenia przedstawiciele stronnictw. Rezultatem obrad było zgo dne stanowisko wszystkich obecnych, że stronnictwa mają nadal pełne zaufanie do rządu, uważają przesile nie za nieaktualne i przyjmują przedłożony program łącznie z programem dyskusyi. Prezydent ministrów Witos zaznaczył, że stanowiska ministra byłej dzielnicy pruskiej i ministerstw facho wych zostaną obsadzone w porozumieniu z biorącemi udział w rządzie z stronnictwami. — (Ustąpienie ministra Grabskie- g o.) Dnia 24. b. m. w południe pożegnał się ustępu jący minister skarbu Grabski z urzędnikami swego mi- nisteryum. W imieniu urzędników przemawiał wicemi nister skarbu dr. Weinfeld, który przedstawił wyniki blisko jednorocznej działalności ustępującego ministra. W odpowiedzi p. Grabski podziękował wszystkim za koleżeńskie\" współpracownidwo i wskazał na najwa- F. CHAMPOL . j óiA-iUtii.* i SIOSTRA HIEKMI. TLOMACZYLA ZA POZWOLENIEM AUTORA ST. ZAKRZEWSKA. 43) (Ciąg dalszy). Po tych poczciwych słowach pani Bockay miała się już oddalić. Jednakże mimo pewności siebie iiie śmiała powiedzieć czegoś, co jej najwięcej leżało na sercu. Widząc, że się siostra oddala, znużona, biednie odziana, otrząsnęła się z nieśmiałości, pobiegła ku niej i\\'przemówiła serdecznie: — Moja kochana siostro! Wyrzucili was z kla sztoru l teraz jeszcze podobno prześladują. Gdyby sio stra była kiedykolwiek w potrzebie, proszę pamiętać o mnie. Nie zapomnę nigdy, że kiedy wszyscy mnie opuścili, otoczyłyście mnie opieką... Niechaj się siostra uda do mnie bez żr.dnych skrupułów... Siostra Aleksandra odczu\\'a dziwne bicie złamanego serca: — Dziękuję ci, moje dziecko — odrzekła wzruszo na. — Mnie niczego nie potr^ba. Pani Bokay oddaliła się, pozostawiając po rr. sobą woń silnych perfumów. W ręku kołysała niedbale to rebkę z złotej siatki, pewno dobrze napełnioną pie niędzmi. W kieszeni siostry Aleksandry było Już tylko zale dwie kilka groszy. Na razie starczyło! Starczyło na Jazdę w odległy strdnę miasta, by zanieść Reginie dobrą wiadomość. SOdwaga i nadzieja polepszeni! losu cle łatwo powracają ajftaoui. aie§£czś&ivćzcil. Zniejsze momenty w obecnej polityce skarbowej pań stwa polskiego. -r (Oświadczenie ministra spr a w wojskowych w sprawie uszanowania rozejmu z Rosyą.) Sejmowa komisya wojsko wa wysłuchała dnia 24. bm. odpowiedzi na zapytanie w przedmiocie ochotników polskich armii Petlury. Mi nister spraw wojskowych Sosnkcwski odczytał rozkaz, zabraniający werbunku do oddziałów wojsk obcych, szczególnie do oddziałów walczących na terytoryum wojsk sowieckich, jako sprzecznego z postanowieniami przedwstępnych układ w ryskich. Odpowiedź tę komi sya przyjęła do wiacirmcrci. Gdańsk. (Co mówi delegacya gdań ska.) Dnia 22. b. m. powróciła z Genewy gdańska delegacya, która bawiła w Paryżu i Genewie. Członek delegacyi, pcfeł Schrmmer wyraził zupełne zadowole nie z pcljtu ćclcfscji w Taryżu i Genewie, oświad czając, iż delegacya uzyskała to, czego pragnęła. Po seł Śch lmmer ofwiadczył między innenii: Jestem zadcwo\\'cny, że mogę rozproszyć ciężkie obawy, jakie od kilku dni nurtowały w Gdańsku. Gdańska delegacya zajmowała w Genewie następujące stanowisko: Gd?ńsk przez podpisanie polsko-gdańskiej umowy i przez wyrażoną w niej niezłomną wole Ligi Narodów uznany został za samodzielny twór państwowy (?). Wobec tego odrzucić mu simy wszelkie mieszanie się w jego sprawv wewnętrzne. To stanowisko delegacyi gdańskiej znalazło aprobatę Lirri Narodów. Wówczas rozpoczęła się otwarta walka z delegacya polską, która jednakże nie zdołała osięgnąć swych zamiarów. Oświadczam, że po postanowieniach paryskich i genewskich w Gdańsku niema miejsca ani nawet dla jednego obce go żołnierza (?) Delegacya gdańska osiągnęła w zupełności swój cel, którym było to, by Gdańsk był panem u siebie. Litwa. (Oświadczenie dowództwa armii generała Żeligowskiego.) Do wództwo armii I. i\\'wy Środkowej komunikuje: Na żą- darie rzędu prlfkiepo i wobec oświadczenia krmisyi kontrolnej Ligi Narodów, że przeciwko wojskom Li!wy Srędkcwej wojska rządu kcwierskirgo nie będą pro wadziły akcyi zaczeprej, obydwie strony przeszły do działań obronnych. W chwi\\'i zarządzenia natychmia stowego wstrzymania akcyi zaczepnej, nasza dzielna brygada ułanów pod dowództwem pułkownika Bud kiewicza była już na kłach nieprzyjacielskich w rejo nie Wilkomierza. Komisya kontrolna Ligi Narodów nie zgodziła się na zagwarantowanie tej brygadzie wolnego przemarszu na teren Litwy środkowej oraz ułatwienie na nawiązanie z nią łączności celem wyda nia tej odpowiednich rozkazów odwołujących. Rząd kowieński ma możność skoncentrowania więk szych sił dla zlikwidowania tej naszej dzielnej jazdy. Naczelne dowództwo wojsk Litwy Środkowej złożyło całkowitą odpowiedzialność za losy synów naszej zie mi na decyzyę komisyi kontrolnej. Lirra Narodów wstrzymując naszą kontrakcyę, umożliwiła wojskom rządu kowieńskiego wbrew zobowiązaniu wobec ko ; misyi, zdradzieckie zaatakowanie nas w dniu 21. bm. zmuszając nasze oddziały do wycofania się z rejonu Szyrwint i Giedrojca. Ustne i piśmienne protesty w tej sprawie ministra Kossakowskiego nie osiatmęły skutku. Szwnjcarya. (Sprawa rozbrojenia na konferencyi Ligi Narodó w.) Na wtorko- wem posiedzeniu komisyi rozbrojenia oświadczył Leon ...Nora Breclietów przedstawiała oczom siostry Aleksandry niespodziewany widok. Stary ojciec grzał zupę z czerstwego chleba dla dzieci. Jeden z chłopców trzymał na kplanach małą Magdosię i usiłował uśmierzyć jej rozdzierające krzj i.i. Mały Ludwiś siedział na ziemi, z miną głupkowatą wyj mował z starego pudełka nici, igły, nożyc \\'\\' Reginy, tylokrotnie wyrywane mu z ręki przez starszą siostrę. Zewsząd wiała pustka i jakby większe jeszcze r,iż dotąd rozprzężenie. Gdzież się podziała Regina? Stary Brccliet spojrzał wzrokiem osłupiałym: — O! już jej tu siostra nie z \\'-ac .„!... Mi.\\\\!a nas już po same us..y!... Wyniosła się bez pożegnar.ia ... Uciekła... przedwczoraj... nie wiem uawet ani z kim, au, dokąd... Siostra Aleksandra oniemiała z przerażenia. Wi działa coraz dowodniej, jakie skutki sprowadza ua ulicz ną nędzę zamknięcie klasztorów. Brak prr~y, w na stępstwie tego nędza i zepsucie obyczajów, wyrastały jak ogniwa z łańcucha niesprawiedliwości. Powypędzali siostry, pozabierali źródła dochodów, a tern samem okocili biednych z wszelkich środków pomocy. Z chwilą, kiedy ustało źródło miłosierdzia, nieszczęśliwi utracili ufność, utracili cier;:!:v.ą wytrwa łość w pracy i zwracali się w inną stronę upadku! A choćby iu\\\\..t ?.r. !azła się jeszcze przj.adkowa pomoc, to i cóż po niej, jeśli jak dzisiaj przyjdzie rie w por;... zar.óźno! Był to dla siostry Aleksandry cios straszny, kropla przepełniające czarę goryczy. To też kiedy w następnym tygodniu przyszedł do niej ksiądz z parafii, przedstawiając list kolegi, biedne go kapłana z Limonsin, w którym prosi o wyszukanie nauczycielki do wiejskiej szkółki, siostra Aleksandra od powiedziała bez wahania: —• Mam pod reim^nsobę, iaklej tam potrzeba, Bougocla, iż przed przeprowadzeniem powszechnego rozbrojenia muszę być rozbrojone Niemcy. Powszę. chne rozbrojenie miałoby być przeprowadzone na na stępujących zasadach: 1) zupełnego wykonania traktatu pokojowego, 2) zaprowadzenia stałej kontroli nad wszystkicmi zbrojeniami, 3) przedłożenia sprawozda nia specyalnej komisyi wojskowej, 4) wymiany donie, sień odnoszących się do wszystkich zbrojeń wszystkich państw. Delegaci szwajcarski i włoski oświadczyli się za zupełrem rozbrojeniem, dając do zrozumienia, iż rzą. dy ich uginają się pod ciężarami zbrojeń i chętnieby się ich pozbyły, aby mogły poświęcić wszystkie swe siły sprawom gospodarczym 1 socyalnym. Angielski delegat natomiast proponował ograniczenie dvskusyi nad rozbrojeniem, obstając tylko na ograniczeniu pry watnej fabrykacyi broni i amunicyi. — (Zatarg polsko-litewski i polsko- rosyjski przed Ligą Narodów.) Na po. siedzeniu Ligi Narodów w dniu 24. b. m. obradowano nad wnioskiem Roberta Cecila, aby ogłoszono w całej pełni dokumenty dotyczące zatargu polsko-litewskiego. Wnioskowdawca domagał się, aby Liga Narodów przy ogłoszeniu tych aktów wydała wyraźne orzeczenie, aby zarządzenia Ligi Narodów nie zostały przez jedną ze stron naruszone. Delegat polski prof. Askenazy złożył oświadczenie, że Polska zgodzi się na ogłoszenie tvch dokumentów, ponieważ nie ma czego ukrywać. Wnio sek Cecila został jednogłośnie przyjęty. W dalszym ciągu dyskusyi Barnes (Anglia) złożył wniosek, dotyczący zatargu polsko-rosyjskiego, w któ rym domaga się od Rady Ligi Narodów wyjaśnienia, dlaczego Rada nie poinformowała zgromadzenia Ligi Narodów o powodach, które skłoniły ją do zanieAa- nia pośredniczenia w zatargu polsko-rosyjskim. Wnio skodawca domaga się dalej, aby Rada Ligi Narodów podjęła odpowiednie kroki celem przeszkodzenia wzno wieniu działań nieprzyjacielskich między Polską a Ro syą, których wybuch grozi w przyszłym roku. Bames oświadczył następnie, że chce dać Lidze Narodów spo sobność, aby porozumiała się do odpowiedzi w tej sprawie. Uchwalono sprawę te postawić na porządku dziennym jednego z najbliższych posiedzeń. Wiochy. (Krwawe zajścia w Bolonii.) Jak już donosiliśmy, pierwsze posiedzenie nowowybra- nej rady miejskiej w Bolonii dało powód do krwawych wypadków. Podczas posiedzenia zebrały się przed ra tuszem tłumy ludu. Pomiędzy nacyonalistami a socya- listami przyszło do ostrej wymiany słów a nawet do czynnej zniewagi. Czerwona gwardya, znajdująca się w ratuszu, zrzuciła między tłum bomby. W tej chwili oddział rewolucyonistćw wdarł się na salę posiedzeń, odgrażając się radnym prawicowym. Jeden z nich, ad wokat Opilio, wydobywszy bron, odezwał się do na cierających: Zabijajcie nas, jeżeli chcecie. Jakoteż je den z socyalistów zastrzelił jednego radnego, drugiego zaś zranił w płuca. Ogólna liczba ofiar zaburzeń jest wielka; stwierdzono 8 zabitych, 3 umierających i prze szło 70 rannych. Władze aresztowały 60 osób. Francya. (Przesilenie gabinetowe.) W kołach politycznych mówią już. o następcy prezydenta ministrów Leyguesa. Ma nim być Poincare. Niezado wolenie z polityki obecnego prezydenta ministrów ma swoje źródło głćwnie w niepowodzeniu polityki fran cuskiej na południu, odnośnie do Wrangla i Wenize- losa. Krążą pogłoski, że komisya budżetowa parla mentu francuskiego zamierza skreślić w budżecie kre- A zwracając się do siostry Cecylii: — Musisz przyjąć miejsce, moje dziecko. 2adna świecka nauczycielka nie zgodzi się pojechać w gó rzysty kraj, dwie i pól godziny oddalony od najbliższej stacyi kolejowej, za wynagrodzeniem sześciuset fran ków, bez dodatku na mieszkanie. Przecież i tam trze ba dziewczynki wychowywać po chrześcijańsku. — Ależ siostro! Szkolę mają otworzyć przed koń cem roku. Żądają natychmiastowej odpowiedzL Mu siałybyśmy bezzwłocznie wyjechać. Nie Jesteśmy go towe do drogi! Siostra Aleksandra zrozumiała, że towarzyszka tyl ko wraz z nią podejmie się objąć stanowisko nauczy cielki. Nie próbowała uchylić się od spełnienia tej ofia ry. Odpowiedziała z całym spokojem: — Będziemy gotowe. W gruncie serca nie była jeszcze zupełnie przeko nana, że wyjedzie. W czasie kilku dni, gdy układane warunki umowy, walczyła wciąż oporem wewnętrz nym, którego ani wola, ani rozsądek przezwyciężyć nie mogły. Nie zdrwala sobie dokładnie sprawy, czy to resztki samolubstwa, czy uczucie zapoznanego obowią zku, czy też natchnienie z góry, które pozostaje w sprze czności z rozumem. Zawsze dotąd rozpoznawała jasno drogę wytkniętą przed sobą, teraz nie pojmowała, co się w niej działo. Z rana, w czasie mszy świętej modliła się długo I gorąco, prosząc Boga o świr tło; w ciągu dn\\'- powra- ca\\'a do kościoła, zanosząc korno błagania. Umysł trwał dalej w ciemnościach. Namowy, odradzania, wskazów ki udzielane przez Innych, zachęcr.ty 1 zniechęcały ja kolejno, zwi ;!:s~ając niezwykły u niej niepokój umysłu. Iwona Ouentin, dowiedziawszy się tez poprzedniego przygotowania o planach wyjazdu, popadła w r:-pacz. Siostra wyjeżdża? Pozostawia mnie samar Wszrr.cy mnie już opuścili, co pocznę bezradna? — Ja już tek mało znaczę!..• — Siostra?Clae SaSzs.w*\"**', mean_ocr=0.6151103137627549, std_ocr=0.19525201299674289, bounding_boxes=[], item_id='9200357/BibliographicResource_3000095238478', metadata_xml_fname='test_data_metadata/http%3A%2F%2Fdata.theeuropeanlibrary.org%2FBibliographicResource%2F3000095238478.edm.xml', title='Dziennik Śląski', date='1920-11-27', languages=['pl'], item_iiif_url='https://iiif.europeana.eu/image/DSWSBA6WLAG4FUEDC3IX5TG7YGTE6M7UVN4H3OD2MBUWH54MUAZA/presentation_images/e5465040-0218-11e6-a696-fa163e2dd531/node-1/image/NLP/Dziennik_Śląski/1920/11/27/szzzid102962/0001_jpgid29404685/full/full/0/default.jpg', multi_language=False)"
      ]
     },
     "execution_count": null,
     "metadata": {},
     "output_type": "execute_result"
    }
   ],
   "source": [
    "page = process_newspaper_page(xmls[200], metadata_directory=\"test_data_metadata\")\n",
    "page"
   ]
  },
  {
   "cell_type": "markdown",
   "metadata": {},
   "source": [
    "## Dump to parquet"
   ]
  },
  {
   "cell_type": "code",
   "execution_count": null,
   "metadata": {},
   "outputs": [],
   "source": [
    "# |export\n",
    "from datasets import Dataset\n",
    "from datasets import Value, Sequence, Features"
   ]
  },
  {
   "cell_type": "code",
   "execution_count": null,
   "metadata": {},
   "outputs": [],
   "source": [
    "# |export\n",
    "features=Features({\n",
    "    'fname': Value(dtype='string', id=None),\n",
    "    'text': Value(dtype='string', id=None),\n",
    "    'mean_ocr': Value(dtype='float64', id=None),\n",
    "    'std_ocr': Value(dtype='float64', id=None),\n",
    "    'bounding_boxes': Sequence(\n",
    "        feature=Sequence(feature=Value(dtype='float64', id=None), length=-1, id=None),\n",
    "        length=-1,\n",
    "        id=None\n",
    "    ),\n",
    "    'item_id': Value(dtype='string', id=None),\n",
    "    'metadata_xml_fname': Value(dtype='string', id=None),\n",
    "    'title': Value(dtype='string', id=None),\n",
    "    'date': Value(dtype='string', id=None),\n",
    "    'languages': Sequence(feature=Value(dtype='string', id=None), length=-1, id=None),\n",
    "    'item_iiif_url': Value(dtype='string', id=None),\n",
    "    'multi_language': Value(dtype='bool', id=None)\n",
    "})\n"
   ]
  },
  {
   "cell_type": "code",
   "execution_count": null,
   "metadata": {},
   "outputs": [],
   "source": [
    "# |export\n",
    "@logger.catch()\n",
    "def process_batch(xml_batch: Iterable[Union[str, Path]], metadata_directory=None):\n",
    "    batch = [\n",
    "        asdict(process_newspaper_page(xml, metadata_directory=metadata_directory))\n",
    "        for xml in xml_batch\n",
    "    ]\n",
    "\n",
    "    batch = {key: [i[key] for i in batch] for key in batch[0]}\n",
    "\n",
    "    return Dataset.from_dict(batch,features=features)"
   ]
  },
  {
   "cell_type": "code",
   "execution_count": null,
   "metadata": {},
   "outputs": [],
   "source": [
    "ds = process_batch(xmls[:32], metadata_directory=\"test_data_metadata\")\n",
    "assert len(ds) == 32\n",
    "assert len(ds.column_names) == 12\n",
    "assert ds.column_names == [\n",
    "    \"fname\",\n",
    "    \"text\",\n",
    "    \"mean_ocr\",\n",
    "    \"std_ocr\",\n",
    "    \"bounding_boxes\",\n",
    "    \"item_id\",\n",
    "    \"metadata_xml_fname\",\n",
    "    \"title\",\n",
    "    \"date\",\n",
    "    \"languages\",\n",
    "    \"item_iiif_url\",\n",
    "    \"multi_language\",\n",
    "]"
   ]
  },
  {
   "cell_type": "code",
   "execution_count": null,
   "metadata": {},
   "outputs": [
    {
     "data": {
      "text/plain": [
       "{'fname': Value(dtype='string', id=None),\n",
       " 'text': Value(dtype='string', id=None),\n",
       " 'mean_ocr': Value(dtype='float64', id=None),\n",
       " 'std_ocr': Value(dtype='float64', id=None),\n",
       " 'bounding_boxes': Sequence(feature=Sequence(feature=Value(dtype='float64', id=None), length=-1, id=None), length=-1, id=None),\n",
       " 'item_id': Value(dtype='string', id=None),\n",
       " 'metadata_xml_fname': Value(dtype='string', id=None),\n",
       " 'title': Value(dtype='string', id=None),\n",
       " 'date': Value(dtype='string', id=None),\n",
       " 'languages': Sequence(feature=Value(dtype='string', id=None), length=-1, id=None),\n",
       " 'item_iiif_url': Value(dtype='string', id=None),\n",
       " 'multi_language': Value(dtype='bool', id=None)}"
      ]
     },
     "execution_count": null,
     "metadata": {},
     "output_type": "execute_result"
    }
   ],
   "source": [
    "ds.features"
   ]
  },
  {
   "cell_type": "code",
   "execution_count": null,
   "metadata": {},
   "outputs": [],
   "source": [
    "# |export\n",
    "import multiprocessing \n",
    "\n",
    "def process(\n",
    "    xml_files: Iterable[Union[str, Path]],\n",
    "    batch_size: int = 32,\n",
    "    metadata_directory: Optional[str] = None,\n",
    "    max_workers: int = None\n",
    "):\n",
    "    with tqdm(total=len(xml_files) // batch_size) as pbar:\n",
    "        if not max_workers:\n",
    "            max_workers = multiprocessing.cpu_count()\n",
    "        futures = []\n",
    "        with ProcessPoolExecutor(max_workers=max_workers) as executor:\n",
    "            for batch in partition_all(batch_size, xml_files):\n",
    "                batch = list(batch)\n",
    "                future = executor.submit(\n",
    "                    process_batch, batch, metadata_directory=metadata_directory\n",
    "                )\n",
    "                future.add_done_callback(lambda p: pbar.update(1))\n",
    "                futures.append(future)\n",
    "    return [future.result() for future in as_completed(futures)]\n",
    "\n"
   ]
  },
  {
   "cell_type": "code",
   "execution_count": null,
   "metadata": {},
   "outputs": [
    {
     "data": {
      "application/vnd.jupyter.widget-view+json": {
       "model_id": "ebdc8e9083254a89a8b01e702ae36285",
       "version_major": 2,
       "version_minor": 0
      },
      "text/plain": [
       "0it [00:00, ?it/s]"
      ]
     },
     "metadata": {},
     "output_type": "display_data"
    }
   ],
   "source": [
    "datasets = process(xmls[:10], metadata_directory=\"test_data_metadata\")"
   ]
  },
  {
   "cell_type": "code",
   "execution_count": null,
   "metadata": {},
   "outputs": [],
   "source": [
    "from datasets import concatenate_datasets"
   ]
  },
  {
   "cell_type": "code",
   "execution_count": null,
   "metadata": {},
   "outputs": [
    {
     "data": {
      "text/plain": [
       "108432"
      ]
     },
     "execution_count": null,
     "metadata": {},
     "output_type": "execute_result"
    }
   ],
   "source": [
    "len(xmls)"
   ]
  },
  {
   "cell_type": "code",
   "execution_count": null,
   "metadata": {},
   "outputs": [
    {
     "data": {
      "text/plain": [
       "Dataset({\n",
       "    features: ['fname', 'text', 'mean_ocr', 'std_ocr', 'bounding_boxes', 'item_id', 'metadata_xml_fname', 'title', 'date', 'languages', 'item_iiif_url', 'multi_language'],\n",
       "    num_rows: 10\n",
       "})"
      ]
     },
     "execution_count": null,
     "metadata": {},
     "output_type": "execute_result"
    }
   ],
   "source": [
    "dataset = concatenate_datasets(datasets)\n",
    "dataset"
   ]
  },
  {
   "cell_type": "code",
   "execution_count": null,
   "metadata": {},
   "outputs": [],
   "source": []
  }
 ],
 "metadata": {
  "kernelspec": {
   "display_name": "Python 3.10.5 ('europeana_alto')",
   "language": "python",
   "name": "python3"
  }
 },
 "nbformat": 4,
 "nbformat_minor": 4
}
