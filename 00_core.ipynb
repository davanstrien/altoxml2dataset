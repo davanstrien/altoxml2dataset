{
 "cells": [
  {
   "cell_type": "code",
   "execution_count": null,
   "metadata": {},
   "outputs": [],
   "source": [
    "#| default_exp core"
   ]
  },
  {
   "cell_type": "markdown",
   "metadata": {},
   "source": [
    "# core\n",
    "\n",
    "> API details."
   ]
  },
  {
   "cell_type": "code",
   "execution_count": null,
   "metadata": {},
   "outputs": [],
   "source": [
    "#|hide\n",
    "from nbdev.showdoc import *"
   ]
  },
  {
   "cell_type": "code",
   "execution_count": null,
   "metadata": {},
   "outputs": [],
   "source": [
    "#|export\n",
    "from typing import Any, Dict, List, Tuple, Union"
   ]
  },
  {
   "cell_type": "code",
   "execution_count": null,
   "metadata": {},
   "outputs": [],
   "source": []
  },
  {
   "cell_type": "code",
   "execution_count": null,
   "metadata": {},
   "outputs": [],
   "source": [
    "# # record_id = '9200300/BibliographicResource_3000095610170'\n",
    "# # record_id = page.item_id\n",
    "# record_id = '9200338/BibliographicResource_3000119016538'\n",
    "# url = f'https://api.europeana.eu/record/v2/{record_id}.json?wskey={API_KEY}'\n",
    "# r = httpx.get(url)\n",
    "# data = r.json()\n"
   ]
  },
  {
   "cell_type": "markdown",
   "metadata": {},
   "source": [
    "We don't want to leak our API key here so we need to filter this out... "
   ]
  },
  {
   "cell_type": "code",
   "execution_count": null,
   "metadata": {},
   "outputs": [],
   "source": [
    "# data = keyfilter(lambda x: x !=\"apikey\",  data)\n",
    "# data['object']['aggregations']"
   ]
  },
  {
   "cell_type": "code",
   "execution_count": null,
   "metadata": {},
   "outputs": [],
   "source": [
    "# page.item_id\n",
    "\n",
    "# r = httpx.get(f\"https://iiif.europeana.eu/presentation/{page.item_id}/manifest\")"
   ]
  },
  {
   "cell_type": "code",
   "execution_count": null,
   "metadata": {},
   "outputs": [],
   "source": []
  },
  {
   "cell_type": "code",
   "execution_count": null,
   "metadata": {},
   "outputs": [],
   "source": [
    "# page.text"
   ]
  },
  {
   "cell_type": "code",
   "execution_count": null,
   "metadata": {},
   "outputs": [],
   "source": []
  },
  {
   "cell_type": "code",
   "execution_count": null,
   "metadata": {},
   "outputs": [],
   "source": [
    "# data.keys()"
   ]
  },
  {
   "cell_type": "code",
   "execution_count": null,
   "metadata": {},
   "outputs": [],
   "source": [
    "# def flatten(d, parent_key='', sep='_'):\n",
    "#     items = []\n",
    "#     for k, v in d.items():\n",
    "#         new_key = parent_key + sep + k if parent_key else k\n",
    "#         if isinstance(v, MutableMapping):\n",
    "#             items.extend(flatten(v, new_key, sep=sep).items())\n",
    "#         else:\n",
    "#             items.append((new_key, v))\n",
    "#     return dict(items)"
   ]
  },
  {
   "cell_type": "code",
   "execution_count": null,
   "metadata": {},
   "outputs": [],
   "source": [
    "# flatten(data).keys()"
   ]
  },
  {
   "cell_type": "code",
   "execution_count": null,
   "metadata": {},
   "outputs": [],
   "source": [
    "# flatten(data)"
   ]
  },
  {
   "cell_type": "code",
   "execution_count": null,
   "metadata": {},
   "outputs": [],
   "source": [
    "# #| export \n",
    "# def simplify(obj: Any, key:Optional[str]=None):\n",
    "#     if type(obj) != dict:\n",
    "#         return obj\n",
    "#     r = {}\n",
    "#     for k, v in obj.items():\n",
    "#         if k == \"def\":\n",
    "#             r[key] = simplify(obj[k], k)\n",
    "#         else:\n",
    "#             r[f\"{key}-{k}\"] = simplify(obj[k], k)\n",
    "#     return r"
   ]
  },
  {
   "cell_type": "code",
   "execution_count": null,
   "metadata": {},
   "outputs": [],
   "source": []
  },
  {
   "cell_type": "code",
   "execution_count": null,
   "metadata": {},
   "outputs": [],
   "source": [
    "# @lru_cache(maxsize=512)\n",
    "# def metadata_for(id):\n",
    "#     r = f'https://api.europeana.eu/record/v2/{id}.json?wskey={API_KEY}'\n",
    "#     if not (r := requests.get(r)):\n",
    "#         return None\n",
    "#     try:\n",
    "#         data = r.json()['object']['proxies'][1]\n",
    "#         output = {}\n",
    "#         for k, v in data.items():\n",
    "#             item = simplify(v, k)\n",
    "#             if type(item) == dict:\n",
    "#                 for k2, v2 in item.items():\n",
    "#                     output[k2] = v2\n",
    "#             else:\n",
    "#                 output[k] = item\n",
    "#         return output\n",
    "#     except Exception as e:\n",
    "#         print(e)\n",
    "#         return None"
   ]
  },
  {
   "cell_type": "code",
   "execution_count": null,
   "metadata": {},
   "outputs": [],
   "source": [
    "# from typing import Dict\n",
    "# from toolz import memoize"
   ]
  },
  {
   "cell_type": "code",
   "execution_count": null,
   "metadata": {},
   "outputs": [],
   "source": [
    "# @dataclass(frozen=True)\n",
    "# class EuropeanaRecordAPI:\n",
    "#     API_KEY: str = field(repr=False)\n",
    "#     @lru_cache(maxsize=512)\n",
    "#     def __call__(self, id) -> Any:\n",
    "#         r = f'https://api.europeana.eu/record/v2/{id}.json?wskey={self.API_KEY}'\n",
    "#         if not (r := requests.get(r)):\n",
    "#             return None\n",
    "#         try:\n",
    "#             data = r.json()['object']['proxies'][1]\n",
    "#             output = {}\n",
    "#             for k, v in data.items():\n",
    "#                 item = simplify(v, k)\n",
    "#                 if type(item) == dict:\n",
    "#                     for k2, v2 in item.items():\n",
    "#                         output[k2] = v2\n",
    "#                 else:\n",
    "#                     output[k] = item\n",
    "#             return output\n",
    "#         except Exception as e:\n",
    "#             return None"
   ]
  },
  {
   "cell_type": "code",
   "execution_count": null,
   "metadata": {},
   "outputs": [],
   "source": [
    "# api = EuropeanaRecordAPI(API_KEY)"
   ]
  }
 ],
 "metadata": {
  "kernelspec": {
   "display_name": "Python 3.10.5 ('europeana_alto')",
   "language": "python",
   "name": "python3"
  }
 },
 "nbformat": 4,
 "nbformat_minor": 4
}
